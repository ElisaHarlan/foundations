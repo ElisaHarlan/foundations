{
 "cells": [
  {
   "cell_type": "markdown",
   "metadata": {},
   "source": [
    "# Mine Safety\n",
    "\n",
    "We're interested in [US mine safety](https://arlweb.msha.gov/drs/drshome.htm#MID), thank goodness we can search for these things."
   ]
  },
  {
   "cell_type": "markdown",
   "metadata": {},
   "source": [
    "## Preparation: Knowing your tags\n",
    "\n",
    "These questions are the same for every data set, and might not work exactly for yours.\n",
    "\n",
    "**Search for every operator with 'dirt' in their name, including abandoned mines.**"
   ]
  },
  {
   "cell_type": "code",
   "execution_count": 37,
   "metadata": {
    "collapsed": true
   },
   "outputs": [],
   "source": [
    "import requests\n",
    "from bs4 import BeautifulSoup"
   ]
  },
  {
   "cell_type": "code",
   "execution_count": 38,
   "metadata": {
    "collapsed": true
   },
   "outputs": [],
   "source": [
    "response = requests.post('https://arlweb.msha.gov/drs/ASP/OprNameStatesearch.asp', data=data)\n",
    "doc = BeautifulSoup(response.text, 'html.parser')"
   ]
  },
  {
   "cell_type": "code",
   "execution_count": 39,
   "metadata": {
    "collapsed": true
   },
   "outputs": [],
   "source": [
    "data = {\n",
    "    'OperSearch': 'dirt',\n",
    "    'Abandoned': 'No',\n",
    "    'MineName': '',\n",
    "    'StateSearch': 'None',\n",
    "    'CM': 'All',\n",
    "    'x':'0',\n",
    "    'y':'0',\n",
    "    'MC':'Opersearch'\n",
    "}"
   ]
  },
  {
   "cell_type": "markdown",
   "metadata": {},
   "source": [
    "### What is the tag and class name for every row of data?"
   ]
  },
  {
   "cell_type": "code",
   "execution_count": 74,
   "metadata": {
    "collapsed": true
   },
   "outputs": [],
   "source": [
    "#Every row of data is in the 'tr'-tag"
   ]
  },
  {
   "cell_type": "markdown",
   "metadata": {},
   "source": [
    "### What is the tag and class name for every mine operator's name?"
   ]
  },
  {
   "cell_type": "code",
   "execution_count": 76,
   "metadata": {
    "collapsed": true
   },
   "outputs": [],
   "source": [
    "#Every mine operators name is in the second 'td'-tag"
   ]
  },
  {
   "cell_type": "markdown",
   "metadata": {},
   "source": [
    "### What is the tag and class name for every mine's name?"
   ]
  },
  {
   "cell_type": "code",
   "execution_count": 78,
   "metadata": {
    "collapsed": true
   },
   "outputs": [],
   "source": [
    "#Every mine's name is in the third 'td'-tag"
   ]
  },
  {
   "cell_type": "markdown",
   "metadata": {},
   "source": [
    "## Being lazy\n",
    "\n",
    "If you only needed these results, what would you do instead of scraping them?"
   ]
  },
  {
   "cell_type": "code",
   "execution_count": null,
   "metadata": {
    "collapsed": true
   },
   "outputs": [],
   "source": [
    "# export it to excel and be happy ever after "
   ]
  },
  {
   "cell_type": "markdown",
   "metadata": {},
   "source": [
    "## Setup: Import what you'll need to scrape the page\n",
    "\n",
    "Use `requests`, not `urllib`."
   ]
  },
  {
   "cell_type": "code",
   "execution_count": 79,
   "metadata": {
    "collapsed": true
   },
   "outputs": [],
   "source": [
    "import requests\n",
    "from bs4 import BeautifulSoup"
   ]
  },
  {
   "cell_type": "markdown",
   "metadata": {},
   "source": [
    "## Try to scrape the page\n",
    "\n",
    "To test if you requested the page correctly, save the BeautifulSoup document as `doc` and run the code `doc.find_all('tr')[-1].text` to get the text of the last `<tr>` element.\n",
    "\n",
    "- If the result starts with **Total Number of Mines Found**, you were successful."
   ]
  },
  {
   "cell_type": "code",
   "execution_count": 80,
   "metadata": {},
   "outputs": [
    {
     "data": {
      "text/plain": [
       "'\\nTotal Number of Mines Found:\\xa0\\xa019'"
      ]
     },
     "execution_count": 80,
     "metadata": {},
     "output_type": "execute_result"
    }
   ],
   "source": [
    "doc.find_all('tr')[-1].text"
   ]
  },
  {
   "cell_type": "markdown",
   "metadata": {},
   "source": [
    "## Actually scraping"
   ]
  },
  {
   "cell_type": "markdown",
   "metadata": {},
   "source": [
    "### Hopefully you know that each `tr` is supposed to be your data. What is the index of the first row element that is actually a result?\n",
    "\n",
    "`.text` will help you here."
   ]
  },
  {
   "cell_type": "code",
   "execution_count": 111,
   "metadata": {},
   "outputs": [
    {
     "data": {
      "text/plain": [
       "'3503598'"
      ]
     },
     "execution_count": 111,
     "metadata": {},
     "output_type": "execute_result"
    }
   ],
   "source": [
    "doc.find_all('tr')[7].find_all('td')[0].text.strip()"
   ]
  },
  {
   "cell_type": "markdown",
   "metadata": {},
   "source": [
    "### Loop through each operator result, printing its name\n",
    "\n",
    "Use LIST SLICING to skip the non-data row(s)."
   ]
  },
  {
   "cell_type": "code",
   "execution_count": 145,
   "metadata": {},
   "outputs": [
    {
     "name": "stdout",
     "output_type": "stream",
     "text": [
      "Newberg Rock & Dirt\n",
      "------\n",
      "AM Dirtworks & Aggregate Sales\n",
      "------\n",
      "Bush Pilot\n",
      "------\n",
      "Hog Lick Quarry\n",
      "------\n",
      "Rock Lake Plant\n",
      "------\n",
      "Portable #1\n",
      "------\n",
      "River Road Pit\n",
      "------\n",
      "PORTABLE SCREENER\n",
      "------\n",
      "Forbes Pit\n",
      "------\n",
      "Camptown Quarry\n",
      "------\n",
      "Fedscreek Surface\n",
      "------\n",
      "Mine No. 6\n",
      "------\n",
      "Surface Mine No. 1\n",
      "------\n",
      "Sandretto Drive\n",
      "------\n",
      "R D BLANKENSHIP DIRT WORK\n",
      "------\n",
      "Pettibone Jaw Crusher\n",
      "------\n",
      "Chieftan 1400\n",
      "------\n",
      "Mike's Money Pit\n",
      "------\n",
      "Crusher\n",
      "------\n"
     ]
    }
   ],
   "source": [
    "operators = doc.find_all('tr')\n",
    "\n",
    "for operator in operators[7:26]:\n",
    "    name = operator.find_all('td')[3]\n",
    "    print(name.text)\n",
    "    print('------')"
   ]
  },
  {
   "cell_type": "markdown",
   "metadata": {},
   "source": [
    "### Loop through each operator result, printing its ID\n",
    "\n",
    "There should be ONE code per row, and NO empty rows between them."
   ]
  },
  {
   "cell_type": "code",
   "execution_count": 142,
   "metadata": {},
   "outputs": [
    {
     "name": "stdout",
     "output_type": "stream",
     "text": [
      "\n",
      "\n",
      "3503598\n",
      "\n",
      "------\n",
      "\n",
      "\n",
      "4801789\n",
      "\n",
      "------\n",
      "\n",
      "\n",
      "5001797\n",
      "\n",
      "------\n",
      "\n",
      "\n",
      "4608254\n",
      "\n",
      "------\n",
      "\n",
      "\n",
      "2103723\n",
      "\n",
      "------\n",
      "\n",
      "\n",
      "4104757\n",
      "\n",
      "------\n",
      "\n",
      "\n",
      "0801306\n",
      "\n",
      "------\n",
      "\n",
      "\n",
      "3901432\n",
      "\n",
      "------\n",
      "\n",
      "\n",
      "3609624\n",
      "\n",
      "------\n",
      "\n",
      "\n",
      "3609931\n",
      "\n",
      "------\n",
      "\n",
      "\n",
      "1519799\n",
      "\n",
      "------\n",
      "\n",
      "\n",
      "4407296\n",
      "\n",
      "------\n",
      "\n",
      "\n",
      "4407270\n",
      "\n",
      "------\n",
      "\n",
      "\n",
      "0203332\n",
      "\n",
      "------\n",
      "\n",
      "\n",
      "2901986\n",
      "\n",
      "------\n",
      "\n",
      "\n",
      "4300768\n",
      "\n",
      "------\n",
      "\n",
      "\n",
      "4300776\n",
      "\n",
      "------\n",
      "\n",
      "\n",
      "2302283\n",
      "\n",
      "------\n",
      "\n",
      "\n",
      "2103518\n",
      "\n",
      "------\n",
      "Total Number of Mines Found:  19\n",
      "------\n"
     ]
    }
   ],
   "source": [
    "operators = doc.find_all('tr')\n",
    "\n",
    "for operator in operators[7:]:\n",
    "    name = operator.find_all('td')[0]\n",
    "    print(name.text)\n",
    "    print('------')"
   ]
  },
  {
   "cell_type": "markdown",
   "metadata": {},
   "source": [
    "## Saving the results\n",
    "\n",
    "### Loop through each `tr` to create a list of dictionaries\n",
    "\n",
    "Each dictionary must contain\n",
    "\n",
    "- Operator ID\n",
    "- Operator name\n",
    "- Mine name\n",
    "- State\n",
    "- Mine type\n",
    "- Coal or metal\n",
    "- Status\n",
    "- Commodity\n",
    "\n",
    "Create a new dictionary for each row."
   ]
  },
  {
   "cell_type": "code",
   "execution_count": 155,
   "metadata": {},
   "outputs": [
    {
     "name": "stdout",
     "output_type": "stream",
     "text": [
      "[{'ID': '3503598', 'Name': 'Crusher', 'State': 'Newberg Rock & Dirt', 'Mine_type': 'Newberg Rock & Dirt', 'Coal_or_metal': 'Surface', 'Status': 'M', 'Commodity': 'Active'}, {'ID': '4801789', 'Name': 'Crusher', 'State': 'AM Dirtworks & Aggregate Sales', 'Mine_type': 'AM Dirtworks & Aggregate Sales', 'Coal_or_metal': 'Surface', 'Status': 'M', 'Commodity': 'Intermittent'}, {'ID': '5001797', 'Name': 'Crusher', 'State': 'Dirt Company', 'Mine_type': 'Bush Pilot', 'Coal_or_metal': 'Surface', 'Status': 'M', 'Commodity': 'Intermittent'}, {'ID': '4608254', 'Name': 'Crusher', 'State': 'Dirt Con', 'Mine_type': 'Hog Lick Quarry', 'Coal_or_metal': 'Surface', 'Status': 'M', 'Commodity': 'Temporarily Idled'}, {'ID': '2103723', 'Name': 'Crusher', 'State': 'Dirt Doctor Inc', 'Mine_type': 'Rock Lake Plant', 'Coal_or_metal': 'Surface', 'Status': 'M', 'Commodity': 'Intermittent'}, {'ID': '4104757', 'Name': 'Crusher', 'State': 'Dirt Works', 'Mine_type': 'Portable #1', 'Coal_or_metal': 'Surface', 'Status': 'M', 'Commodity': 'Intermittent'}, {'ID': '0801306', 'Name': 'Crusher', 'State': 'Holley Dirt Company, Inc', 'Mine_type': 'River Road Pit', 'Coal_or_metal': 'Surface', 'Status': 'M', 'Commodity': 'Active'}, {'ID': '3901432', 'Name': 'Crusher', 'State': 'Krueger Brothers Gravel & Dirt', 'Mine_type': 'PORTABLE SCREENER', 'Coal_or_metal': 'Surface', 'Status': 'M', 'Commodity': 'Intermittent'}, {'ID': '3609624', 'Name': 'Crusher', 'State': 'M R Dirt', 'Mine_type': 'Forbes Pit', 'Coal_or_metal': 'Surface', 'Status': 'M', 'Commodity': 'Intermittent'}, {'ID': '3609931', 'Name': 'Crusher', 'State': 'M.R. Dirt Inc.', 'Mine_type': 'Camptown Quarry', 'Coal_or_metal': 'Surface', 'Status': 'M', 'Commodity': 'Intermittent'}, {'ID': '1519799', 'Name': 'Crusher', 'State': 'P B Dirt Movers, Inc', 'Mine_type': 'Fedscreek Surface', 'Coal_or_metal': 'Surface', 'Status': 'C', 'Commodity': 'Active'}, {'ID': '4407296', 'Name': 'Crusher', 'State': 'PB Dirt Movers', 'Mine_type': 'Mine No. 6', 'Coal_or_metal': 'Underground', 'Status': 'C', 'Commodity': 'Temporarily Idled'}, {'ID': '4407270', 'Name': 'Crusher', 'State': 'PB Dirt Movers, Inc', 'Mine_type': 'Surface Mine No. 1', 'Coal_or_metal': 'Surface', 'Status': 'C', 'Commodity': 'NonProducing'}, {'ID': '0203332', 'Name': 'Crusher', 'State': 'Prescott Dirt, LLC', 'Mine_type': 'Sandretto Drive', 'Coal_or_metal': 'Surface', 'Status': 'M', 'Commodity': 'Intermittent'}, {'ID': '2901986', 'Name': 'Crusher', 'State': 'R D Blankenship Dirt Work LLC', 'Mine_type': 'R D BLANKENSHIP DIRT WORK', 'Coal_or_metal': 'Surface', 'Status': 'M', 'Commodity': 'Active'}, {'ID': '4300768', 'Name': 'Crusher', 'State': 'SIMPSON DIRTWORX LLC', 'Mine_type': 'Pettibone Jaw Crusher', 'Coal_or_metal': 'Surface', 'Status': 'M', 'Commodity': 'Intermittent'}, {'ID': '4300776', 'Name': 'Crusher', 'State': 'SIMPSON DIRTWORX LLC', 'Mine_type': 'Chieftan 1400', 'Coal_or_metal': 'Surface', 'Status': 'M', 'Commodity': 'Intermittent'}, {'ID': '2302283', 'Name': 'Crusher', 'State': \"Spry's Dirt & Gravel, Inc.\", 'Mine_type': \"Mike's Money Pit\", 'Coal_or_metal': 'Surface', 'Status': 'M', 'Commodity': 'Intermittent'}, {'ID': '2103518', 'Name': 'Crusher', 'State': 'Vogt Dirt Service', 'Mine_type': 'Crusher', 'Coal_or_metal': 'Surface', 'Status': 'M', 'Commodity': 'Intermittent'}]\n"
     ]
    }
   ],
   "source": [
    "mine_information = []\n",
    "\n",
    "for operator in operators[7:26]:\n",
    "    current = {}\n",
    "    ID = operator.find_all('td')[0]\n",
    "    Name = operator.find_all('td')[1]\n",
    "    State = operator.find_all('td')[2]\n",
    "    Mine_type = operator.find_all('td')[3]\n",
    "    Coal_or_metal = operator.find_all('td')[4]\n",
    "    Status = operator.find_all('td')[5]\n",
    "    Commodity = operator.find_all('td')[6]\n",
    "    current['ID'] = ID.text.strip()\n",
    "    current['Name'] = name.text.strip()\n",
    "    current['State'] = State.text.strip()\n",
    "    current['Mine_type'] = Mine_type.text.strip()\n",
    "    current['Coal_or_metal'] = Coal_or_metal.text.strip()\n",
    "    current['Status'] = Status.text.strip()\n",
    "    current['Commodity'] = Commodity.text.strip()\n",
    "    \n",
    "    mine_information.append(current)   \n",
    "print(mine_information)"
   ]
  },
  {
   "cell_type": "markdown",
   "metadata": {},
   "source": [
    "### Save that to a CSV"
   ]
  },
  {
   "cell_type": "code",
   "execution_count": 160,
   "metadata": {
    "collapsed": true
   },
   "outputs": [],
   "source": [
    "import pandas as pd\n",
    "df = pd.DataFrame(mine_information)\n",
    "df.to_csv('mine_information.csv')"
   ]
  },
  {
   "cell_type": "markdown",
   "metadata": {},
   "source": [
    "### Open the CSV file and examine the first few. Make sure you didn't save an extra weird unnamed column."
   ]
  },
  {
   "cell_type": "code",
   "execution_count": 159,
   "metadata": {},
   "outputs": [
    {
     "data": {
      "text/html": [
       "<div>\n",
       "<style>\n",
       "    .dataframe thead tr:only-child th {\n",
       "        text-align: right;\n",
       "    }\n",
       "\n",
       "    .dataframe thead th {\n",
       "        text-align: left;\n",
       "    }\n",
       "\n",
       "    .dataframe tbody tr th {\n",
       "        vertical-align: top;\n",
       "    }\n",
       "</style>\n",
       "<table border=\"1\" class=\"dataframe\">\n",
       "  <thead>\n",
       "    <tr style=\"text-align: right;\">\n",
       "      <th></th>\n",
       "      <th>Coal_or_metal</th>\n",
       "      <th>Commodity</th>\n",
       "      <th>ID</th>\n",
       "      <th>Mine_type</th>\n",
       "      <th>Name</th>\n",
       "      <th>State</th>\n",
       "      <th>Status</th>\n",
       "    </tr>\n",
       "  </thead>\n",
       "  <tbody>\n",
       "    <tr>\n",
       "      <th>0</th>\n",
       "      <td>Surface</td>\n",
       "      <td>Active</td>\n",
       "      <td>3503598</td>\n",
       "      <td>Newberg Rock &amp; Dirt</td>\n",
       "      <td>Crusher</td>\n",
       "      <td>Newberg Rock &amp; Dirt</td>\n",
       "      <td>M</td>\n",
       "    </tr>\n",
       "    <tr>\n",
       "      <th>1</th>\n",
       "      <td>Surface</td>\n",
       "      <td>Intermittent</td>\n",
       "      <td>4801789</td>\n",
       "      <td>AM Dirtworks &amp; Aggregate Sales</td>\n",
       "      <td>Crusher</td>\n",
       "      <td>AM Dirtworks &amp; Aggregate Sales</td>\n",
       "      <td>M</td>\n",
       "    </tr>\n",
       "    <tr>\n",
       "      <th>2</th>\n",
       "      <td>Surface</td>\n",
       "      <td>Intermittent</td>\n",
       "      <td>5001797</td>\n",
       "      <td>Bush Pilot</td>\n",
       "      <td>Crusher</td>\n",
       "      <td>Dirt Company</td>\n",
       "      <td>M</td>\n",
       "    </tr>\n",
       "    <tr>\n",
       "      <th>3</th>\n",
       "      <td>Surface</td>\n",
       "      <td>Temporarily Idled</td>\n",
       "      <td>4608254</td>\n",
       "      <td>Hog Lick Quarry</td>\n",
       "      <td>Crusher</td>\n",
       "      <td>Dirt Con</td>\n",
       "      <td>M</td>\n",
       "    </tr>\n",
       "    <tr>\n",
       "      <th>4</th>\n",
       "      <td>Surface</td>\n",
       "      <td>Intermittent</td>\n",
       "      <td>2103723</td>\n",
       "      <td>Rock Lake Plant</td>\n",
       "      <td>Crusher</td>\n",
       "      <td>Dirt Doctor Inc</td>\n",
       "      <td>M</td>\n",
       "    </tr>\n",
       "  </tbody>\n",
       "</table>\n",
       "</div>"
      ],
      "text/plain": [
       "  Coal_or_metal          Commodity       ID                       Mine_type  \\\n",
       "0       Surface             Active  3503598             Newberg Rock & Dirt   \n",
       "1       Surface       Intermittent  4801789  AM Dirtworks & Aggregate Sales   \n",
       "2       Surface       Intermittent  5001797                      Bush Pilot   \n",
       "3       Surface  Temporarily Idled  4608254                 Hog Lick Quarry   \n",
       "4       Surface       Intermittent  2103723                 Rock Lake Plant   \n",
       "\n",
       "      Name                           State Status  \n",
       "0  Crusher             Newberg Rock & Dirt      M  \n",
       "1  Crusher  AM Dirtworks & Aggregate Sales      M  \n",
       "2  Crusher                    Dirt Company      M  \n",
       "3  Crusher                        Dirt Con      M  \n",
       "4  Crusher                 Dirt Doctor Inc      M  "
      ]
     },
     "execution_count": 159,
     "metadata": {},
     "output_type": "execute_result"
    }
   ],
   "source": [
    "df.head()"
   ]
  }
 ],
 "metadata": {
  "kernelspec": {
   "display_name": "Python 3",
   "language": "python",
   "name": "python3"
  },
  "language_info": {
   "codemirror_mode": {
    "name": "ipython",
    "version": 3
   },
   "file_extension": ".py",
   "mimetype": "text/x-python",
   "name": "python",
   "nbconvert_exporter": "python",
   "pygments_lexer": "ipython3",
   "version": "3.6.1"
  }
 },
 "nbformat": 4,
 "nbformat_minor": 2
}
