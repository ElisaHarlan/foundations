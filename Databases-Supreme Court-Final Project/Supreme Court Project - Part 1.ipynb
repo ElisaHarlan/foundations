{
 "cells": [
  {
   "cell_type": "markdown",
   "metadata": {},
   "source": [
    "# Supreme Court Project\n",
    "\n"
   ]
  },
  {
   "cell_type": "markdown",
   "metadata": {},
   "source": [
    "# Step 1 - Scraping and creating a dictionary"
   ]
  },
  {
   "cell_type": "code",
   "execution_count": 2,
   "metadata": {
    "collapsed": true
   },
   "outputs": [],
   "source": [
    "from urllib.request import urlopen\n",
    "from bs4 import BeautifulSoup"
   ]
  },
  {
   "cell_type": "code",
   "execution_count": 3,
   "metadata": {
    "collapsed": true
   },
   "outputs": [],
   "source": [
    "my_url = ('https://www.supremecourt.gov/oral_arguments/argument_transcript.aspx')\n",
    "raw_html = urlopen(my_url).read()\n",
    "soup_doc = BeautifulSoup(raw_html, \"html.parser\")"
   ]
  },
  {
   "cell_type": "code",
   "execution_count": 17,
   "metadata": {},
   "outputs": [],
   "source": [
    "#scraping for cases in 2016\n",
    "my_table = soup_doc.find(\"table\", attrs={\"border\": \"1\"})\n",
    "cases = my_table.find_all('tr')\n",
    "\n",
    "all_info = []\n",
    "for case in cases:\n",
    "    current = {}\n",
    "    link = case.find_all('td')[0].find('a')\n",
    "    case_name = case.find('span')\n",
    "    case_date = case.find_all('td')[1].string\n",
    "    docket_number = case.find_all('td')[0].find(target=\"_blank\")\n",
    "    if case_name:\n",
    "        current['Script'] = link['href']\n",
    "        current['Case Name'] = case_name.string\n",
    "        current['Date Argued'] = case_date\n",
    "        current['Docket Number'] = docket_number.string.strip()\n",
    "        \n",
    "        all_info.append(current)\n",
    "        #print(current)\n",
    "        #print(\"-----\")\n",
    "#all_info"
   ]
  },
  {
   "cell_type": "markdown",
   "metadata": {},
   "source": [
    "# Step 2: Cleaning up the data"
   ]
  },
  {
   "cell_type": "code",
   "execution_count": 5,
   "metadata": {},
   "outputs": [
    {
     "name": "stderr",
     "output_type": "stream",
     "text": [
      "/usr/local/lib/python3.6/site-packages/ipykernel_launcher.py:3: FutureWarning: currently extract(expand=None) means expand=False (return Index/Series/DataFrame) but in a future version of pandas this will be changed to expand=True (return DataFrame)\n",
      "  This is separate from the ipykernel package so we can avoid doing imports until\n"
     ]
    },
    {
     "data": {
      "text/html": [
       "<div>\n",
       "<style>\n",
       "    .dataframe thead tr:only-child th {\n",
       "        text-align: right;\n",
       "    }\n",
       "\n",
       "    .dataframe thead th {\n",
       "        text-align: left;\n",
       "    }\n",
       "\n",
       "    .dataframe tbody tr th {\n",
       "        vertical-align: top;\n",
       "    }\n",
       "</style>\n",
       "<table border=\"1\" class=\"dataframe\">\n",
       "  <thead>\n",
       "    <tr style=\"text-align: right;\">\n",
       "      <th></th>\n",
       "      <th>Case Name</th>\n",
       "      <th>Date Argued</th>\n",
       "      <th>Docket Number</th>\n",
       "      <th>Script</th>\n",
       "      <th>PDF Filename</th>\n",
       "    </tr>\n",
       "  </thead>\n",
       "  <tbody>\n",
       "    <tr>\n",
       "      <th>0</th>\n",
       "      <td>Perry v. Merit Systems Protection Bd.</td>\n",
       "      <td>04/17/17</td>\n",
       "      <td>16-399</td>\n",
       "      <td>argument_transcripts/2016/16-399_3f14.pdf</td>\n",
       "      <td>16-399_3f14</td>\n",
       "    </tr>\n",
       "    <tr>\n",
       "      <th>1</th>\n",
       "      <td>Town of Chester v. Laroe Estates, Inc.</td>\n",
       "      <td>04/17/17</td>\n",
       "      <td>16-605</td>\n",
       "      <td>argument_transcripts/2016/16-605_2dp3.pdf</td>\n",
       "      <td>16-605_2dp3</td>\n",
       "    </tr>\n",
       "    <tr>\n",
       "      <th>2</th>\n",
       "      <td>California Public Employees' Retirement System...</td>\n",
       "      <td>04/17/17</td>\n",
       "      <td>16-373</td>\n",
       "      <td>argument_transcripts/2016/16-373_4e46.pdf</td>\n",
       "      <td>16-373_4e46</td>\n",
       "    </tr>\n",
       "    <tr>\n",
       "      <th>3</th>\n",
       "      <td>Kokesh v. SEC</td>\n",
       "      <td>04/18/17</td>\n",
       "      <td>16-529</td>\n",
       "      <td>argument_transcripts/2016/16-529_21p3.pdf</td>\n",
       "      <td>16-529_21p3</td>\n",
       "    </tr>\n",
       "    <tr>\n",
       "      <th>4</th>\n",
       "      <td>Henson v. Santander Consumer USA Inc.</td>\n",
       "      <td>04/18/17</td>\n",
       "      <td>16-349</td>\n",
       "      <td>argument_transcripts/2016/16-349_e29g.pdf</td>\n",
       "      <td>16-349_e29g</td>\n",
       "    </tr>\n",
       "  </tbody>\n",
       "</table>\n",
       "</div>"
      ],
      "text/plain": [
       "                                           Case Name Date Argued  \\\n",
       "0              Perry v. Merit Systems Protection Bd.    04/17/17   \n",
       "1             Town of Chester v. Laroe Estates, Inc.    04/17/17   \n",
       "2  California Public Employees' Retirement System...    04/17/17   \n",
       "3                                      Kokesh v. SEC    04/18/17   \n",
       "4              Henson v. Santander Consumer USA Inc.    04/18/17   \n",
       "\n",
       "  Docket Number                                     Script PDF Filename  \n",
       "0        16-399  argument_transcripts/2016/16-399_3f14.pdf  16-399_3f14  \n",
       "1        16-605  argument_transcripts/2016/16-605_2dp3.pdf  16-605_2dp3  \n",
       "2        16-373  argument_transcripts/2016/16-373_4e46.pdf  16-373_4e46  \n",
       "3        16-529  argument_transcripts/2016/16-529_21p3.pdf  16-529_21p3  \n",
       "4        16-349  argument_transcripts/2016/16-349_e29g.pdf  16-349_e29g  "
      ]
     },
     "execution_count": 5,
     "metadata": {},
     "output_type": "execute_result"
    }
   ],
   "source": [
    "import pandas as pd\n",
    "df = pd.DataFrame(all_info)\n",
    "df['PDF Filename'] = df['Script'].str.extract(r\"(\\d{2}-\\d+_.{4})\")\n",
    "df['Docket Number'] = df['Docket Number'].str.replace(\".\",\"\")\n",
    "df.head()"
   ]
  },
  {
   "cell_type": "code",
   "execution_count": 6,
   "metadata": {
    "collapsed": true
   },
   "outputs": [],
   "source": [
    "array = df['PDF Filename'].unique()\n",
    "array.sort()"
   ]
  },
  {
   "cell_type": "code",
   "execution_count": 9,
   "metadata": {
    "collapsed": true
   },
   "outputs": [],
   "source": [
    "import re\n",
    "f = open('/Volumes/Macintosh HD/Users/Elisa/Desktop/Supreme Court/pdfs/14-1055_h3dj.txt', 'r') #looping through replacing the numbers in 14-1055\n",
    "sample_transcript = f.read()"
   ]
  },
  {
   "cell_type": "code",
   "execution_count": 18,
   "metadata": {},
   "outputs": [],
   "source": [
    "#sample_transcript"
   ]
  },
  {
   "cell_type": "code",
   "execution_count": 11,
   "metadata": {
    "collapsed": true
   },
   "outputs": [],
   "source": [
    "clean_up = sample_transcript"
   ]
  },
  {
   "cell_type": "code",
   "execution_count": 12,
   "metadata": {
    "collapsed": true
   },
   "outputs": [],
   "source": [
    "def my_function(sample_transcript):\n",
    "    clean_up = sample_transcript\n",
    "    clean_up_1 = re.sub(\"Alderson Reporting Company\", \"\", clean_up, flags=re.IGNORECASE)\n",
    "    clean_up_2 = re.sub(\"Official - Subject to Final Review\", \"\", clean_up_1, flags=re.IGNORECASE)\n",
    "    clean_up_3 = re.sub(\"([0-9]|1[0-9]|2[0-5])\", \"\", clean_up_2)\n",
    "    clean_up_n = re.sub(\"(\\n\\n\\x0c\\n)\", \"\", clean_up_3)\n",
    "    clean_up_n = re.sub(\"(\\n\\n.n)\", \"\", clean_up_n)\n",
    "    clean_up_n = re.sub(\"(\\n\\n\\n\\n)\", \"\", clean_up_n)\n",
    "    clean_up_n = re.sub(\"(\\n\\n)\", \"\", clean_up_n)\n",
    "    clean_up_n = re.sub(\"(\\n)\", \"\", clean_up_n)\n",
    "    clean_up_n = re.sub(\"\\\\'\", \"'\", clean_up_n)\n",
    "    clean_up_time = re.sub(\".: a.m..\", \"\", clean_up_n)\n",
    "    clean_up_uppercase = re.sub(\"\\w+ ARGUMENT[^a-z]+THE PETITIONERS\", \"\", clean_up_time)\n",
    "    clean_up_uppercase_1 = re.sub(\"\\w+ ARGUMENT[^a-z]+THE PETITIONER\", \"\", clean_up_uppercase)\n",
    "    clean_up_uppercase_2 = re.sub(\"\\w+ ARGUMENT[^a-z]+THE RESPONDENTS\", \"\", clean_up_uppercase_1)\n",
    "    clean_up_uppercase_3 = re.sub(\"\\w+ ARGUMENT [^a-z]+ (PETITIONER|RESPONDENT)S?\", \"\", clean_up_uppercase_2)\n",
    "    clean_up = re.split(\"(PROCEEDINGS)\", clean_up_uppercase_3)\n",
    "    clean_up = clean_up[2]  \n",
    "    clean_up = re.split(\"above-entitled\", clean_up) \n",
    "    clean_up = clean_up[0] \n",
    "    final = re.split(r\"([A-Z][A-Z.\\s]+):\", clean_up)\n",
    "    final.pop(0) #removing first element of the array\n",
    "    married = list(zip(final[0::2], final[1::2])) #marrying every element and joining \n",
    "    return married"
   ]
  },
  {
   "cell_type": "markdown",
   "metadata": {},
   "source": [
    "# Step 3: Including all cases"
   ]
  },
  {
   "cell_type": "code",
   "execution_count": 13,
   "metadata": {
    "collapsed": true
   },
   "outputs": [],
   "source": [
    "list_of_cases = []\n",
    "path = '/Volumes/Macintosh HD/Users/Elisa/Desktop/Supreme Court/pdfs/'\n",
    "for file_name in array:\n",
    "    #print(file_name)\n",
    "    if file_name != '15-1358_7648' and file_name != '15-577_l64n' and file_name != '15-866_j426' and file_name != '16-32_mlho' and file_name!= '16-466_4g15' and file_name !='16-529_21p3':\n",
    "        f = open(path + file_name + '.txt', 'r')\n",
    "        sample_transcript = f.read()\n",
    "        this_list = my_function(sample_transcript)   \n",
    "        better_list = []\n",
    "        for each in this_list:\n",
    "            entry = list(each)\n",
    "            entry.append(file_name)\n",
    "            better_list.append(entry)\n",
    "        this_list.append(file_name)\n",
    "        list_of_cases.extend(better_list)  "
   ]
  },
  {
   "cell_type": "code",
   "execution_count": 15,
   "metadata": {},
   "outputs": [
    {
     "data": {
      "text/html": [
       "<div>\n",
       "<style>\n",
       "    .dataframe thead tr:only-child th {\n",
       "        text-align: right;\n",
       "    }\n",
       "\n",
       "    .dataframe thead th {\n",
       "        text-align: left;\n",
       "    }\n",
       "\n",
       "    .dataframe tbody tr th {\n",
       "        vertical-align: top;\n",
       "    }\n",
       "</style>\n",
       "<table border=\"1\" class=\"dataframe\">\n",
       "  <thead>\n",
       "    <tr style=\"text-align: right;\">\n",
       "      <th></th>\n",
       "      <th>Speaker</th>\n",
       "      <th>Speech</th>\n",
       "      <th>PDF</th>\n",
       "    </tr>\n",
       "  </thead>\n",
       "  <tbody>\n",
       "    <tr>\n",
       "      <th>0</th>\n",
       "      <td>CHIEF JUSTICE ROBERTS</td>\n",
       "      <td>We will hear  argument next in Case No. -, Li...</td>\n",
       "      <td>14-1055_h3dj</td>\n",
       "    </tr>\n",
       "    <tr>\n",
       "      <th>1</th>\n",
       "      <td>MR. ROSENKRANZ</td>\n",
       "      <td>Thank you, Mr. Chief  Justice, and may it ple...</td>\n",
       "      <td>14-1055_h3dj</td>\n",
       "    </tr>\n",
       "    <tr>\n",
       "      <th>2</th>\n",
       "      <td>JUSTICE GINSBURG</td>\n",
       "      <td>Does that include - you -- you said subject-m...</td>\n",
       "      <td>14-1055_h3dj</td>\n",
       "    </tr>\n",
       "    <tr>\n",
       "      <th>3</th>\n",
       "      <td>MR. ROSENKRANZ</td>\n",
       "      <td>I -- I am not limiting it  to subject-matter ...</td>\n",
       "      <td>14-1055_h3dj</td>\n",
       "    </tr>\n",
       "    <tr>\n",
       "      <th>4</th>\n",
       "      <td>JUSTICE GINSBURG</td>\n",
       "      <td>What did you do -- what does Justice Souter's...</td>\n",
       "      <td>14-1055_h3dj</td>\n",
       "    </tr>\n",
       "  </tbody>\n",
       "</table>\n",
       "</div>"
      ],
      "text/plain": [
       "                 Speaker                                             Speech  \\\n",
       "0  CHIEF JUSTICE ROBERTS   We will hear  argument next in Case No. -, Li...   \n",
       "1         MR. ROSENKRANZ   Thank you, Mr. Chief  Justice, and may it ple...   \n",
       "2       JUSTICE GINSBURG   Does that include - you -- you said subject-m...   \n",
       "3         MR. ROSENKRANZ   I -- I am not limiting it  to subject-matter ...   \n",
       "4       JUSTICE GINSBURG   What did you do -- what does Justice Souter's...   \n",
       "\n",
       "            PDF  \n",
       "0  14-1055_h3dj  \n",
       "1  14-1055_h3dj  \n",
       "2  14-1055_h3dj  \n",
       "3  14-1055_h3dj  \n",
       "4  14-1055_h3dj  "
      ]
     },
     "execution_count": 15,
     "metadata": {},
     "output_type": "execute_result"
    }
   ],
   "source": [
    "import numpy as np\n",
    "col_names = ['Speaker', 'Speech', 'PDF']\n",
    "df_final = pd.DataFrame(list_of_cases, columns=col_names)\n",
    "df_final.head()"
   ]
  },
  {
   "cell_type": "markdown",
   "metadata": {},
   "source": [
    "# Step 4: Merging the two dataframes"
   ]
  },
  {
   "cell_type": "code",
   "execution_count": 16,
   "metadata": {},
   "outputs": [
    {
     "data": {
      "text/html": [
       "<div>\n",
       "<style>\n",
       "    .dataframe thead tr:only-child th {\n",
       "        text-align: right;\n",
       "    }\n",
       "\n",
       "    .dataframe thead th {\n",
       "        text-align: left;\n",
       "    }\n",
       "\n",
       "    .dataframe tbody tr th {\n",
       "        vertical-align: top;\n",
       "    }\n",
       "</style>\n",
       "<table border=\"1\" class=\"dataframe\">\n",
       "  <thead>\n",
       "    <tr style=\"text-align: right;\">\n",
       "      <th></th>\n",
       "      <th>Speaker</th>\n",
       "      <th>Speech</th>\n",
       "      <th>PDF</th>\n",
       "      <th>Case Name</th>\n",
       "      <th>Date Argued</th>\n",
       "      <th>Docket Number</th>\n",
       "      <th>Script</th>\n",
       "      <th>PDF Filename</th>\n",
       "    </tr>\n",
       "  </thead>\n",
       "  <tbody>\n",
       "    <tr>\n",
       "      <th>0</th>\n",
       "      <td>CHIEF JUSTICE ROBERTS</td>\n",
       "      <td>We will hear  argument next in Case No. -, Li...</td>\n",
       "      <td>14-1055_h3dj</td>\n",
       "      <td>Lightfoot v. Cendant Mortgage</td>\n",
       "      <td>11/08/16</td>\n",
       "      <td>14-1055</td>\n",
       "      <td>argument_transcripts/2016/14-1055_h3dj.pdf</td>\n",
       "      <td>14-1055_h3dj</td>\n",
       "    </tr>\n",
       "    <tr>\n",
       "      <th>1</th>\n",
       "      <td>MR. ROSENKRANZ</td>\n",
       "      <td>Thank you, Mr. Chief  Justice, and may it ple...</td>\n",
       "      <td>14-1055_h3dj</td>\n",
       "      <td>Lightfoot v. Cendant Mortgage</td>\n",
       "      <td>11/08/16</td>\n",
       "      <td>14-1055</td>\n",
       "      <td>argument_transcripts/2016/14-1055_h3dj.pdf</td>\n",
       "      <td>14-1055_h3dj</td>\n",
       "    </tr>\n",
       "    <tr>\n",
       "      <th>2</th>\n",
       "      <td>JUSTICE GINSBURG</td>\n",
       "      <td>Does that include - you -- you said subject-m...</td>\n",
       "      <td>14-1055_h3dj</td>\n",
       "      <td>Lightfoot v. Cendant Mortgage</td>\n",
       "      <td>11/08/16</td>\n",
       "      <td>14-1055</td>\n",
       "      <td>argument_transcripts/2016/14-1055_h3dj.pdf</td>\n",
       "      <td>14-1055_h3dj</td>\n",
       "    </tr>\n",
       "    <tr>\n",
       "      <th>3</th>\n",
       "      <td>MR. ROSENKRANZ</td>\n",
       "      <td>I -- I am not limiting it  to subject-matter ...</td>\n",
       "      <td>14-1055_h3dj</td>\n",
       "      <td>Lightfoot v. Cendant Mortgage</td>\n",
       "      <td>11/08/16</td>\n",
       "      <td>14-1055</td>\n",
       "      <td>argument_transcripts/2016/14-1055_h3dj.pdf</td>\n",
       "      <td>14-1055_h3dj</td>\n",
       "    </tr>\n",
       "    <tr>\n",
       "      <th>4</th>\n",
       "      <td>JUSTICE GINSBURG</td>\n",
       "      <td>What did you do -- what does Justice Souter's...</td>\n",
       "      <td>14-1055_h3dj</td>\n",
       "      <td>Lightfoot v. Cendant Mortgage</td>\n",
       "      <td>11/08/16</td>\n",
       "      <td>14-1055</td>\n",
       "      <td>argument_transcripts/2016/14-1055_h3dj.pdf</td>\n",
       "      <td>14-1055_h3dj</td>\n",
       "    </tr>\n",
       "  </tbody>\n",
       "</table>\n",
       "</div>"
      ],
      "text/plain": [
       "                 Speaker                                             Speech  \\\n",
       "0  CHIEF JUSTICE ROBERTS   We will hear  argument next in Case No. -, Li...   \n",
       "1         MR. ROSENKRANZ   Thank you, Mr. Chief  Justice, and may it ple...   \n",
       "2       JUSTICE GINSBURG   Does that include - you -- you said subject-m...   \n",
       "3         MR. ROSENKRANZ   I -- I am not limiting it  to subject-matter ...   \n",
       "4       JUSTICE GINSBURG   What did you do -- what does Justice Souter's...   \n",
       "\n",
       "            PDF                      Case Name Date Argued Docket Number  \\\n",
       "0  14-1055_h3dj  Lightfoot v. Cendant Mortgage    11/08/16       14-1055   \n",
       "1  14-1055_h3dj  Lightfoot v. Cendant Mortgage    11/08/16       14-1055   \n",
       "2  14-1055_h3dj  Lightfoot v. Cendant Mortgage    11/08/16       14-1055   \n",
       "3  14-1055_h3dj  Lightfoot v. Cendant Mortgage    11/08/16       14-1055   \n",
       "4  14-1055_h3dj  Lightfoot v. Cendant Mortgage    11/08/16       14-1055   \n",
       "\n",
       "                                       Script  PDF Filename  \n",
       "0  argument_transcripts/2016/14-1055_h3dj.pdf  14-1055_h3dj  \n",
       "1  argument_transcripts/2016/14-1055_h3dj.pdf  14-1055_h3dj  \n",
       "2  argument_transcripts/2016/14-1055_h3dj.pdf  14-1055_h3dj  \n",
       "3  argument_transcripts/2016/14-1055_h3dj.pdf  14-1055_h3dj  \n",
       "4  argument_transcripts/2016/14-1055_h3dj.pdf  14-1055_h3dj  "
      ]
     },
     "execution_count": 16,
     "metadata": {},
     "output_type": "execute_result"
    }
   ],
   "source": [
    "combined_df = df_final.merge(df, left_on='PDF', right_on='PDF Filename')\n",
    "combined_df.head()"
   ]
  }
 ],
 "metadata": {
  "kernelspec": {
   "display_name": "Python 3",
   "language": "python",
   "name": "python3"
  },
  "language_info": {
   "codemirror_mode": {
    "name": "ipython",
    "version": 3
   },
   "file_extension": ".py",
   "mimetype": "text/x-python",
   "name": "python",
   "nbconvert_exporter": "python",
   "pygments_lexer": "ipython3",
   "version": "3.6.1"
  }
 },
 "nbformat": 4,
 "nbformat_minor": 2
}
