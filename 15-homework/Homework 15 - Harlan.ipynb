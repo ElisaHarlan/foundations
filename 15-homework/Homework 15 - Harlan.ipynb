{
 "cells": [
  {
   "cell_type": "code",
   "execution_count": 35,
   "metadata": {
    "collapsed": true
   },
   "outputs": [],
   "source": [
    "import pandas as pd\n",
    "%matplotlib inline"
   ]
  },
  {
   "cell_type": "markdown",
   "metadata": {},
   "source": [
    "# First Dataset  - Trends in Imprisonement in Texas"
   ]
  },
  {
   "cell_type": "code",
   "execution_count": 74,
   "metadata": {
    "collapsed": true
   },
   "outputs": [],
   "source": [
    "##All monthly reports submitted by the Safe Prisons/PREA Management Office staff to the Correctional \n",
    "##Institutions Division directors since Jan. 1, 2016. \n",
    "##These reports analyze and evaluate trends in sexual abuse, sexual harassment"
   ]
  },
  {
   "cell_type": "code",
   "execution_count": 75,
   "metadata": {},
   "outputs": [],
   "source": [
    "Imprisonement = pd.read_excel('tabula-Safe Prisons Program Management Office.xls', skiprows=1)"
   ]
  },
  {
   "cell_type": "markdown",
   "metadata": {},
   "source": [
    "### Region I - Alleged Sexual Assault Criminal Cases Opened by OIG\""
   ]
  },
  {
   "cell_type": "code",
   "execution_count": 76,
   "metadata": {},
   "outputs": [
    {
     "data": {
      "text/html": [
       "<div>\n",
       "<style>\n",
       "    .dataframe thead tr:only-child th {\n",
       "        text-align: right;\n",
       "    }\n",
       "\n",
       "    .dataframe thead th {\n",
       "        text-align: left;\n",
       "    }\n",
       "\n",
       "    .dataframe tbody tr th {\n",
       "        vertical-align: top;\n",
       "    }\n",
       "</style>\n",
       "<table border=\"1\" class=\"dataframe\">\n",
       "  <thead>\n",
       "    <tr style=\"text-align: right;\">\n",
       "      <th></th>\n",
       "      <th>Unnamed: 0</th>\n",
       "      <th>Unnamed: 1</th>\n",
       "      <th>Sep</th>\n",
       "      <th>Oct</th>\n",
       "      <th>Nov</th>\n",
       "      <th>Dec</th>\n",
       "      <th>Jan</th>\n",
       "      <th>Feb</th>\n",
       "      <th>Mar</th>\n",
       "      <th>Apr</th>\n",
       "      <th>May</th>\n",
       "      <th>Jun</th>\n",
       "      <th>July</th>\n",
       "      <th>Aug</th>\n",
       "      <th>FY Total</th>\n",
       "    </tr>\n",
       "  </thead>\n",
       "  <tbody>\n",
       "    <tr>\n",
       "      <th>0</th>\n",
       "      <td>NaN</td>\n",
       "      <td>Byrd</td>\n",
       "      <td>0</td>\n",
       "      <td>0</td>\n",
       "      <td>0</td>\n",
       "      <td>0</td>\n",
       "      <td>0</td>\n",
       "      <td>0</td>\n",
       "      <td>0</td>\n",
       "      <td>1</td>\n",
       "      <td>0</td>\n",
       "      <td>0</td>\n",
       "      <td>0</td>\n",
       "      <td>0</td>\n",
       "      <td>1</td>\n",
       "    </tr>\n",
       "    <tr>\n",
       "      <th>1</th>\n",
       "      <td>NaN</td>\n",
       "      <td>Duncan</td>\n",
       "      <td>0</td>\n",
       "      <td>0</td>\n",
       "      <td>0</td>\n",
       "      <td>0</td>\n",
       "      <td>0</td>\n",
       "      <td>1</td>\n",
       "      <td>0</td>\n",
       "      <td>0</td>\n",
       "      <td>0</td>\n",
       "      <td>0</td>\n",
       "      <td>0</td>\n",
       "      <td>0</td>\n",
       "      <td>1</td>\n",
       "    </tr>\n",
       "    <tr>\n",
       "      <th>2</th>\n",
       "      <td>NaN</td>\n",
       "      <td>Eastham</td>\n",
       "      <td>0</td>\n",
       "      <td>0</td>\n",
       "      <td>0</td>\n",
       "      <td>0</td>\n",
       "      <td>1</td>\n",
       "      <td>2</td>\n",
       "      <td>1</td>\n",
       "      <td>0</td>\n",
       "      <td>0</td>\n",
       "      <td>0</td>\n",
       "      <td>0</td>\n",
       "      <td>0</td>\n",
       "      <td>4</td>\n",
       "    </tr>\n",
       "    <tr>\n",
       "      <th>3</th>\n",
       "      <td>NaN</td>\n",
       "      <td>Ellis</td>\n",
       "      <td>0</td>\n",
       "      <td>0</td>\n",
       "      <td>1</td>\n",
       "      <td>1</td>\n",
       "      <td>0</td>\n",
       "      <td>0</td>\n",
       "      <td>0</td>\n",
       "      <td>0</td>\n",
       "      <td>0</td>\n",
       "      <td>0</td>\n",
       "      <td>1</td>\n",
       "      <td>0</td>\n",
       "      <td>3</td>\n",
       "    </tr>\n",
       "    <tr>\n",
       "      <th>4</th>\n",
       "      <td>NaN</td>\n",
       "      <td>Estelle</td>\n",
       "      <td>0</td>\n",
       "      <td>3</td>\n",
       "      <td>2</td>\n",
       "      <td>1</td>\n",
       "      <td>1</td>\n",
       "      <td>1</td>\n",
       "      <td>2</td>\n",
       "      <td>0</td>\n",
       "      <td>0</td>\n",
       "      <td>0</td>\n",
       "      <td>3</td>\n",
       "      <td>0</td>\n",
       "      <td>13</td>\n",
       "    </tr>\n",
       "  </tbody>\n",
       "</table>\n",
       "</div>"
      ],
      "text/plain": [
       "   Unnamed: 0 Unnamed: 1  Sep  Oct  Nov  Dec  Jan  Feb  Mar  Apr  May  Jun  \\\n",
       "0         NaN       Byrd    0    0    0    0    0    0    0    1    0    0   \n",
       "1         NaN     Duncan    0    0    0    0    0    1    0    0    0    0   \n",
       "2         NaN    Eastham    0    0    0    0    1    2    1    0    0    0   \n",
       "3         NaN      Ellis    0    0    1    1    0    0    0    0    0    0   \n",
       "4         NaN    Estelle    0    3    2    1    1    1    2    0    0    0   \n",
       "\n",
       "   July  Aug  FY Total  \n",
       "0     0    0         1  \n",
       "1     0    0         1  \n",
       "2     0    0         4  \n",
       "3     1    0         3  \n",
       "4     3    0        13  "
      ]
     },
     "execution_count": 76,
     "metadata": {},
     "output_type": "execute_result"
    }
   ],
   "source": [
    "Imprisonement.head()"
   ]
  },
  {
   "cell_type": "code",
   "execution_count": 77,
   "metadata": {
    "collapsed": true
   },
   "outputs": [],
   "source": [
    "del Imprisonement['Unnamed: 0']"
   ]
  },
  {
   "cell_type": "code",
   "execution_count": 78,
   "metadata": {
    "collapsed": true
   },
   "outputs": [],
   "source": [
    "Imprisonement = Imprisonement.rename(columns={'Unnamed: 1': 'Region'})"
   ]
  },
  {
   "cell_type": "code",
   "execution_count": 79,
   "metadata": {},
   "outputs": [
    {
     "data": {
      "text/html": [
       "<div>\n",
       "<style>\n",
       "    .dataframe thead tr:only-child th {\n",
       "        text-align: right;\n",
       "    }\n",
       "\n",
       "    .dataframe thead th {\n",
       "        text-align: left;\n",
       "    }\n",
       "\n",
       "    .dataframe tbody tr th {\n",
       "        vertical-align: top;\n",
       "    }\n",
       "</style>\n",
       "<table border=\"1\" class=\"dataframe\">\n",
       "  <thead>\n",
       "    <tr style=\"text-align: right;\">\n",
       "      <th></th>\n",
       "      <th>Region</th>\n",
       "      <th>Sep</th>\n",
       "      <th>Oct</th>\n",
       "      <th>Nov</th>\n",
       "      <th>Dec</th>\n",
       "      <th>Jan</th>\n",
       "      <th>Feb</th>\n",
       "      <th>Mar</th>\n",
       "      <th>Apr</th>\n",
       "      <th>May</th>\n",
       "      <th>Jun</th>\n",
       "      <th>July</th>\n",
       "      <th>Aug</th>\n",
       "      <th>FY Total</th>\n",
       "    </tr>\n",
       "  </thead>\n",
       "  <tbody>\n",
       "    <tr>\n",
       "      <th>0</th>\n",
       "      <td>Byrd</td>\n",
       "      <td>0</td>\n",
       "      <td>0</td>\n",
       "      <td>0</td>\n",
       "      <td>0</td>\n",
       "      <td>0</td>\n",
       "      <td>0</td>\n",
       "      <td>0</td>\n",
       "      <td>1</td>\n",
       "      <td>0</td>\n",
       "      <td>0</td>\n",
       "      <td>0</td>\n",
       "      <td>0</td>\n",
       "      <td>1</td>\n",
       "    </tr>\n",
       "    <tr>\n",
       "      <th>1</th>\n",
       "      <td>Duncan</td>\n",
       "      <td>0</td>\n",
       "      <td>0</td>\n",
       "      <td>0</td>\n",
       "      <td>0</td>\n",
       "      <td>0</td>\n",
       "      <td>1</td>\n",
       "      <td>0</td>\n",
       "      <td>0</td>\n",
       "      <td>0</td>\n",
       "      <td>0</td>\n",
       "      <td>0</td>\n",
       "      <td>0</td>\n",
       "      <td>1</td>\n",
       "    </tr>\n",
       "    <tr>\n",
       "      <th>2</th>\n",
       "      <td>Eastham</td>\n",
       "      <td>0</td>\n",
       "      <td>0</td>\n",
       "      <td>0</td>\n",
       "      <td>0</td>\n",
       "      <td>1</td>\n",
       "      <td>2</td>\n",
       "      <td>1</td>\n",
       "      <td>0</td>\n",
       "      <td>0</td>\n",
       "      <td>0</td>\n",
       "      <td>0</td>\n",
       "      <td>0</td>\n",
       "      <td>4</td>\n",
       "    </tr>\n",
       "    <tr>\n",
       "      <th>3</th>\n",
       "      <td>Ellis</td>\n",
       "      <td>0</td>\n",
       "      <td>0</td>\n",
       "      <td>1</td>\n",
       "      <td>1</td>\n",
       "      <td>0</td>\n",
       "      <td>0</td>\n",
       "      <td>0</td>\n",
       "      <td>0</td>\n",
       "      <td>0</td>\n",
       "      <td>0</td>\n",
       "      <td>1</td>\n",
       "      <td>0</td>\n",
       "      <td>3</td>\n",
       "    </tr>\n",
       "    <tr>\n",
       "      <th>4</th>\n",
       "      <td>Estelle</td>\n",
       "      <td>0</td>\n",
       "      <td>3</td>\n",
       "      <td>2</td>\n",
       "      <td>1</td>\n",
       "      <td>1</td>\n",
       "      <td>1</td>\n",
       "      <td>2</td>\n",
       "      <td>0</td>\n",
       "      <td>0</td>\n",
       "      <td>0</td>\n",
       "      <td>3</td>\n",
       "      <td>0</td>\n",
       "      <td>13</td>\n",
       "    </tr>\n",
       "  </tbody>\n",
       "</table>\n",
       "</div>"
      ],
      "text/plain": [
       "    Region  Sep  Oct  Nov  Dec  Jan  Feb  Mar  Apr  May  Jun  July  Aug  \\\n",
       "0     Byrd    0    0    0    0    0    0    0    1    0    0     0    0   \n",
       "1   Duncan    0    0    0    0    0    1    0    0    0    0     0    0   \n",
       "2  Eastham    0    0    0    0    1    2    1    0    0    0     0    0   \n",
       "3    Ellis    0    0    1    1    0    0    0    0    0    0     1    0   \n",
       "4  Estelle    0    3    2    1    1    1    2    0    0    0     3    0   \n",
       "\n",
       "   FY Total  \n",
       "0         1  \n",
       "1         1  \n",
       "2         4  \n",
       "3         3  \n",
       "4        13  "
      ]
     },
     "execution_count": 79,
     "metadata": {},
     "output_type": "execute_result"
    }
   ],
   "source": [
    "Imprisonement.head()"
   ]
  },
  {
   "cell_type": "code",
   "execution_count": 80,
   "metadata": {},
   "outputs": [
    {
     "data": {
      "text/plain": [
       "0    12\n",
       "1     2\n",
       "Name: Sep, dtype: int64"
      ]
     },
     "execution_count": 80,
     "metadata": {},
     "output_type": "execute_result"
    }
   ],
   "source": [
    "Imprisonement['Sep'].value_counts()"
   ]
  },
  {
   "cell_type": "code",
   "execution_count": 81,
   "metadata": {},
   "outputs": [
    {
     "data": {
      "text/plain": [
       "FY Total  Region    \n",
       "0         Goodman       1\n",
       "          Goree         1\n",
       "1         Byrd          1\n",
       "          Duncan        1\n",
       "          Holliday      1\n",
       "          Huntsville    1\n",
       "          Polunsky      1\n",
       "3         Ellis         1\n",
       "4         Eastham       1\n",
       "          Wynne         1\n",
       "12        Lewis         1\n",
       "13        Estelle       1\n",
       "          Ferguson      1\n",
       "54        Totals        1\n",
       "Name: Region, dtype: int64"
      ]
     },
     "execution_count": 81,
     "metadata": {},
     "output_type": "execute_result"
    }
   ],
   "source": [
    "Imprisonement.groupby('FY Total')['Region'].value_counts()"
   ]
  },
  {
   "cell_type": "markdown",
   "metadata": {},
   "source": [
    "# Second Dataset - Bicycle Accidents"
   ]
  },
  {
   "cell_type": "code",
   "execution_count": 82,
   "metadata": {
    "collapsed": true
   },
   "outputs": [],
   "source": [
    "##https://www.muckrock.com/foi/chicago-169/bike-tickets-arrest-38464/"
   ]
  },
  {
   "cell_type": "code",
   "execution_count": 103,
   "metadata": {
    "collapsed": true
   },
   "outputs": [],
   "source": [
    "Accidents_bicycle = pd.read_csv('tabula-Bycicle_accidents.csv')"
   ]
  },
  {
   "cell_type": "code",
   "execution_count": 104,
   "metadata": {},
   "outputs": [
    {
     "data": {
      "text/html": [
       "<div>\n",
       "<style>\n",
       "    .dataframe thead tr:only-child th {\n",
       "        text-align: right;\n",
       "    }\n",
       "\n",
       "    .dataframe thead th {\n",
       "        text-align: left;\n",
       "    }\n",
       "\n",
       "    .dataframe tbody tr th {\n",
       "        vertical-align: top;\n",
       "    }\n",
       "</style>\n",
       "<table border=\"1\" class=\"dataframe\">\n",
       "  <thead>\n",
       "    <tr style=\"text-align: right;\">\n",
       "      <th></th>\n",
       "      <th>ANOV Issue Date</th>\n",
       "      <th>Street No</th>\n",
       "      <th>Street Direction</th>\n",
       "      <th>Street Name</th>\n",
       "      <th>ANOV Number</th>\n",
       "      <th>Violation Description</th>\n",
       "      <th>Age</th>\n",
       "    </tr>\n",
       "  </thead>\n",
       "  <tbody>\n",
       "    <tr>\n",
       "      <th>0</th>\n",
       "      <td>9-Jun-12</td>\n",
       "      <td>23XX</td>\n",
       "      <td>N</td>\n",
       "      <td>MANGO</td>\n",
       "      <td>P003284926</td>\n",
       "      <td>9-52-020    Riding bicycles on sidewalks and c...</td>\n",
       "      <td>24.0</td>\n",
       "    </tr>\n",
       "    <tr>\n",
       "      <th>1</th>\n",
       "      <td>9-Jun-12</td>\n",
       "      <td>27XX</td>\n",
       "      <td>W</td>\n",
       "      <td>CERMAK</td>\n",
       "      <td>P003043958</td>\n",
       "      <td>9-52-020    Riding bicycles on sidewalks and c...</td>\n",
       "      <td>28.0</td>\n",
       "    </tr>\n",
       "    <tr>\n",
       "      <th>2</th>\n",
       "      <td>9-Jun-12</td>\n",
       "      <td>34XX</td>\n",
       "      <td>W</td>\n",
       "      <td>BEACH ST</td>\n",
       "      <td>P003227315</td>\n",
       "      <td>9-52-020    Riding bicycles on sidewalks and c...</td>\n",
       "      <td>28.0</td>\n",
       "    </tr>\n",
       "    <tr>\n",
       "      <th>3</th>\n",
       "      <td>9-Jun-12</td>\n",
       "      <td>61XX</td>\n",
       "      <td>N</td>\n",
       "      <td>SHERIDAN</td>\n",
       "      <td>P003133404</td>\n",
       "      <td>9-52-020    Riding bicycles on sidewalks and c...</td>\n",
       "      <td>34.0</td>\n",
       "    </tr>\n",
       "    <tr>\n",
       "      <th>4</th>\n",
       "      <td>9-Jun-12</td>\n",
       "      <td>61XX</td>\n",
       "      <td>N</td>\n",
       "      <td>SHERIDAN</td>\n",
       "      <td>P003133953</td>\n",
       "      <td>9-52-020    Riding bicycles on sidewalks and c...</td>\n",
       "      <td>28.0</td>\n",
       "    </tr>\n",
       "  </tbody>\n",
       "</table>\n",
       "</div>"
      ],
      "text/plain": [
       "  ANOV Issue Date Street No Street Direction Street Name ANOV Number  \\\n",
       "0        9-Jun-12      23XX                N       MANGO  P003284926   \n",
       "1        9-Jun-12      27XX                W      CERMAK  P003043958   \n",
       "2        9-Jun-12      34XX                W    BEACH ST  P003227315   \n",
       "3        9-Jun-12      61XX                N    SHERIDAN  P003133404   \n",
       "4        9-Jun-12      61XX                N    SHERIDAN  P003133953   \n",
       "\n",
       "                               Violation Description   Age  \n",
       "0  9-52-020    Riding bicycles on sidewalks and c...  24.0  \n",
       "1  9-52-020    Riding bicycles on sidewalks and c...  28.0  \n",
       "2  9-52-020    Riding bicycles on sidewalks and c...  28.0  \n",
       "3  9-52-020    Riding bicycles on sidewalks and c...  34.0  \n",
       "4  9-52-020    Riding bicycles on sidewalks and c...  28.0  "
      ]
     },
     "execution_count": 104,
     "metadata": {},
     "output_type": "execute_result"
    }
   ],
   "source": [
    "Accidents_bicycle.head()"
   ]
  },
  {
   "cell_type": "code",
   "execution_count": 105,
   "metadata": {},
   "outputs": [
    {
     "data": {
      "text/plain": [
       "28.608247422680414"
      ]
     },
     "execution_count": 105,
     "metadata": {},
     "output_type": "execute_result"
    }
   ],
   "source": [
    "Accidents_bicycle['Age'].mean()"
   ]
  },
  {
   "cell_type": "code",
   "execution_count": 106,
   "metadata": {},
   "outputs": [
    {
     "data": {
      "text/plain": [
       "<matplotlib.axes._subplots.AxesSubplot at 0x10a8b4d68>"
      ]
     },
     "execution_count": 106,
     "metadata": {},
     "output_type": "execute_result"
    },
    {
     "data": {
      "image/png": "[encoded data removed]",
      "text/plain": [
       "<matplotlib.figure.Figure at 0x10a8c3630>"
      ]
     },
     "metadata": {},
     "output_type": "display_data"
    }
   ],
   "source": [
    "Accidents_bicycle['ANOV Issue Date'].value_counts(ascending=False).head().plot(kind='barh')"
   ]
  },
  {
   "cell_type": "code",
   "execution_count": 91,
   "metadata": {},
   "outputs": [
    {
     "data": {
      "text/plain": [
       "True     72\n",
       "False    26\n",
       "Name: Violation Description, dtype: int64"
      ]
     },
     "execution_count": 91,
     "metadata": {},
     "output_type": "execute_result"
    }
   ],
   "source": [
    "Accidents_bicycle['Violation Description'].str.contains('sidewalk').value_counts()"
   ]
  },
  {
   "cell_type": "code",
   "execution_count": 92,
   "metadata": {},
   "outputs": [
    {
     "data": {
      "text/plain": [
       "MICHIGAN       7\n",
       "79TH ST        3\n",
       "DIVISION       2\n",
       "SHERIDAN RD    2\n",
       "KINZIE ST      2\n",
       "Name: Street Name, dtype: int64"
      ]
     },
     "execution_count": 92,
     "metadata": {},
     "output_type": "execute_result"
    }
   ],
   "source": [
    "Accidents_bicycle['Street Name'].value_counts().head()"
   ]
  },
  {
   "cell_type": "code",
   "execution_count": 107,
   "metadata": {},
   "outputs": [
    {
     "data": {
      "text/plain": [
       "9-52-020    Riding bicycles on sidewalks and certain roadway    72\n",
       "9-52-010    Rights and duties.                                  17\n",
       "9-52-080    Headlamps                                            8\n",
       "9-52-060    Carrying articles on bicycles.                       1\n",
       "Name: Violation Description, dtype: int64"
      ]
     },
     "execution_count": 107,
     "metadata": {},
     "output_type": "execute_result"
    }
   ],
   "source": [
    "Accidents_bicycle['Violation Description'].value_counts()"
   ]
  },
  {
   "cell_type": "markdown",
   "metadata": {},
   "source": [
    "# Third Dataset: Violations through firearmes\n",
    "\n"
   ]
  },
  {
   "cell_type": "code",
   "execution_count": 102,
   "metadata": {
    "collapsed": true
   },
   "outputs": [],
   "source": [
    "#original source had to be cleaned: https://cdn.muckrock.com/foia_files/2017/04/20/FIREARM_CRIMES.txt\n",
    "#https://www.muckrock.com/foi/martin-county-10447/gun-policies-incidents-martin-county-fl-33677/"
   ]
  },
  {
   "cell_type": "code",
   "execution_count": 55,
   "metadata": {
    "collapsed": true
   },
   "outputs": [],
   "source": [
    "headers = ['CALL#...  ','DATE....  ','TIME.  ','Call Type...........  ','CASE#...  ','LOCATION............']"
   ]
  },
  {
   "cell_type": "code",
   "execution_count": 56,
   "metadata": {},
   "outputs": [
    {
     "name": "stdout",
     "output_type": "stream",
     "text": [
      "10\n",
      "10\n",
      "7\n",
      "22\n",
      "10\n",
      "20\n"
     ]
    }
   ],
   "source": [
    "for item in headers:\n",
    "    print(len(item))"
   ]
  },
  {
   "cell_type": "code",
   "execution_count": 70,
   "metadata": {},
   "outputs": [
    {
     "data": {
      "text/html": [
       "<div>\n",
       "<style>\n",
       "    .dataframe thead tr:only-child th {\n",
       "        text-align: right;\n",
       "    }\n",
       "\n",
       "    .dataframe thead th {\n",
       "        text-align: left;\n",
       "    }\n",
       "\n",
       "    .dataframe tbody tr th {\n",
       "        vertical-align: top;\n",
       "    }\n",
       "</style>\n",
       "<table border=\"1\" class=\"dataframe\">\n",
       "  <thead>\n",
       "    <tr style=\"text-align: right;\">\n",
       "      <th></th>\n",
       "      <th>CALL#...</th>\n",
       "      <th>DATE....</th>\n",
       "      <th>TIME.</th>\n",
       "      <th>Call Type...........</th>\n",
       "      <th>CASE#...</th>\n",
       "      <th>LOCATION............</th>\n",
       "    </tr>\n",
       "  </thead>\n",
       "  <tbody>\n",
       "    <tr>\n",
       "      <th>0</th>\n",
       "      <td>15000011</td>\n",
       "      <td>01/01/15</td>\n",
       "      <td>00:13</td>\n",
       "      <td>SHOOTING IN AREA</td>\n",
       "      <td>NaN</td>\n",
       "      <td>SW 83RD ST/SW CITRUS</td>\n",
       "    </tr>\n",
       "    <tr>\n",
       "      <th>1</th>\n",
       "      <td>15000823</td>\n",
       "      <td>01/02/15</td>\n",
       "      <td>03:13</td>\n",
       "      <td>ASSAULT</td>\n",
       "      <td>NaN</td>\n",
       "      <td>5091 SE KINGFISH AV</td>\n",
       "    </tr>\n",
       "    <tr>\n",
       "      <th>2</th>\n",
       "      <td>15001378</td>\n",
       "      <td>01/02/15</td>\n",
       "      <td>19:16</td>\n",
       "      <td>SHOOTING IN AREA</td>\n",
       "      <td>NaN</td>\n",
       "      <td>3792 NE OCEAN BL; GR</td>\n",
       "    </tr>\n",
       "    <tr>\n",
       "      <th>3</th>\n",
       "      <td>15001454</td>\n",
       "      <td>01/02/15</td>\n",
       "      <td>21:50</td>\n",
       "      <td>SHOOTING IN AREA</td>\n",
       "      <td>NaN</td>\n",
       "      <td>3252 SW MAJESTIC CT</td>\n",
       "    </tr>\n",
       "    <tr>\n",
       "      <th>4</th>\n",
       "      <td>15002157</td>\n",
       "      <td>01/03/15</td>\n",
       "      <td>19:43</td>\n",
       "      <td>SHOOTING IN AREA</td>\n",
       "      <td>NaN</td>\n",
       "      <td>10400 SW STONES THRO</td>\n",
       "    </tr>\n",
       "  </tbody>\n",
       "</table>\n",
       "</div>"
      ],
      "text/plain": [
       "   CALL#...  DATE....  TIME. Call Type...........  CASE#...  \\\n",
       "0  15000011  01/01/15  00:13     SHOOTING IN AREA       NaN   \n",
       "1  15000823  01/02/15  03:13              ASSAULT       NaN   \n",
       "2  15001378  01/02/15  19:16     SHOOTING IN AREA       NaN   \n",
       "3  15001454  01/02/15  21:50     SHOOTING IN AREA       NaN   \n",
       "4  15002157  01/03/15  19:43     SHOOTING IN AREA       NaN   \n",
       "\n",
       "   LOCATION............  \n",
       "0  SW 83RD ST/SW CITRUS  \n",
       "1   5091 SE KINGFISH AV  \n",
       "2  3792 NE OCEAN BL; GR  \n",
       "3   3252 SW MAJESTIC CT  \n",
       "4  10400 SW STONES THRO  "
      ]
     },
     "execution_count": 70,
     "metadata": {},
     "output_type": "execute_result"
    }
   ],
   "source": [
    "widths = [\n",
    "    10, #CALL\n",
    "    10, #DATE\n",
    "    7, #TIME\n",
    "    22, #CALL TYPE\n",
    "    10, #CASE\n",
    "    20, #LOCATION\n",
    "]\n",
    "Shootings = pd.read_fwf(\"FIREARM_CRIMES.txt\", widths=widths)\n",
    "Shootings.head()"
   ]
  },
  {
   "cell_type": "code",
   "execution_count": 62,
   "metadata": {},
   "outputs": [
    {
     "data": {
      "text/plain": [
       "SHOOTING IN AREA    157\n",
       "ASSAULT              98\n",
       "ARMED/DANGEROUS      74\n",
       "SHOOTING             24\n",
       "ARMED ROBBERY        14\n",
       "Name: Call Type..........., dtype: int64"
      ]
     },
     "execution_count": 62,
     "metadata": {},
     "output_type": "execute_result"
    }
   ],
   "source": [
    "Shootings['Call Type...........'].value_counts()"
   ]
  },
  {
   "cell_type": "code",
   "execution_count": 67,
   "metadata": {},
   "outputs": [
    {
     "data": {
      "text/plain": [
       "TIME.  Call Type...........\n",
       "00:08  SHOOTING IN AREA        1\n",
       "00:13  SHOOTING IN AREA        1\n",
       "00:17  SHOOTING IN AREA        2\n",
       "00:37  ARMED/DANGEROUS         1\n",
       "       SHOOTING IN AREA        1\n",
       "Name: Call Type..........., dtype: int64"
      ]
     },
     "execution_count": 67,
     "metadata": {},
     "output_type": "execute_result"
    }
   ],
   "source": [
    "Shootings.groupby('TIME.')['Call Type...........'].value_counts().head()"
   ]
  },
  {
   "cell_type": "code",
   "execution_count": 95,
   "metadata": {},
   "outputs": [
    {
     "data": {
      "text/plain": [
       "<matplotlib.axes._subplots.AxesSubplot at 0x109ef85f8>"
      ]
     },
     "execution_count": 95,
     "metadata": {},
     "output_type": "execute_result"
    },
    {
     "data": {
      "image/png": "[encoded data removed]",
      "text/plain": [
       "<matplotlib.figure.Figure at 0x109e6d5c0>"
      ]
     },
     "metadata": {},
     "output_type": "display_data"
    }
   ],
   "source": [
    "Shootings['Call Type...........'].value_counts().plot(kind='barh')"
   ]
  }
 ],
 "metadata": {
  "kernelspec": {
   "display_name": "Python 3",
   "language": "python",
   "name": "python3"
  },
  "language_info": {
   "codemirror_mode": {
    "name": "ipython",
    "version": 3
   },
   "file_extension": ".py",
   "mimetype": "text/x-python",
   "name": "python",
   "nbconvert_exporter": "python",
   "pygments_lexer": "ipython3",
   "version": "3.6.1"
  }
 },
 "nbformat": 4,
 "nbformat_minor": 2
}
