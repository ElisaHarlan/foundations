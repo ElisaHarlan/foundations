{
 "cells": [
  {
   "cell_type": "markdown",
   "metadata": {},
   "source": [
    "## Homework 3\n",
    "This homework asks you to scrape from three different sources, please follow the instructions and do the best you can. With the exception of the first cell that imports the URL request and the beautiful soup library, I have not pre-written any code for you. Do not be afraid--you may look at the tutorial for examples, as well as the Beautiful Soup documentation, and any other Python resource (such a Stack overflow) if need be. \n",
    "\n",
    "This homework is intended to be challenging, if you only get 70% of the stuff done than you did very well."
   ]
  },
  {
   "cell_type": "code",
   "execution_count": 3,
   "metadata": {
    "collapsed": true
   },
   "outputs": [],
   "source": [
    "from urllib.request import urlopen\n",
    "from bs4 import BeautifulSoup"
   ]
  },
  {
   "cell_type": "markdown",
   "metadata": {},
   "source": [
    "## Shakespeare \n",
    "I've posted some relatively simple HTML of the first act of William Shakespeare's The Tempest here: http://floatingmedia.com/columbia/tempest.html please use that URL to download the HTML and put it through Beautiful Soup. (It also may be very helpful for you to go to that page in chrome and inspect elements why you do this.) \n",
    "**Please note: there are 2 scenes in Act 1**\n",
    "\n"
   ]
  },
  {
   "cell_type": "markdown",
   "metadata": {},
   "source": [
    "In the cells below you should you make two lines--a variable that requests and reads the HTML from the URL (http://floatingmedia.com/columbia/tempest.html), and a second variable that passes the raw HTML into Beautiful Soup. You will use that beautiful soup variable to search the HTML."
   ]
  },
  {
   "cell_type": "code",
   "execution_count": 4,
   "metadata": {
    "collapsed": true
   },
   "outputs": [],
   "source": [
    "my_url = \"http://floatingmedia.com/columbia/tempest.html\"\n",
    "raw_html = urlopen(my_url).read()\n",
    "soup_doc = BeautifulSoup(raw_html, \"html.parser\") "
   ]
  },
  {
   "cell_type": "markdown",
   "metadata": {},
   "source": [
    "Get the title of the play:"
   ]
  },
  {
   "cell_type": "code",
   "execution_count": 5,
   "metadata": {},
   "outputs": [
    {
     "data": {
      "text/plain": [
       "<title>The Tempest</title>"
      ]
     },
     "execution_count": 5,
     "metadata": {},
     "output_type": "execute_result"
    }
   ],
   "source": [
    "soup_doc.title"
   ]
  },
  {
   "cell_type": "markdown",
   "metadata": {},
   "source": [
    "Get the HTML that contains the setting of Act One Scene 1:"
   ]
  },
  {
   "cell_type": "code",
   "execution_count": 6,
   "metadata": {
    "collapsed": true
   },
   "outputs": [],
   "source": [
    "soup_doc.find_all('div')[1]\n",
    "Act_One_Scene_One = soup_doc.find_all('div')[1]"
   ]
  },
  {
   "cell_type": "markdown",
   "metadata": {},
   "source": [
    "Get the setting of Act One Scene 1 (as a string):"
   ]
  },
  {
   "cell_type": "code",
   "execution_count": 7,
   "metadata": {},
   "outputs": [
    {
     "data": {
      "text/plain": [
       "' a tempestuous noise of thunder and lightning heard.'"
      ]
     },
     "execution_count": 7,
     "metadata": {},
     "output_type": "execute_result"
    }
   ],
   "source": [
    "Act_One_Scene_One.find('p').string"
   ]
  },
  {
   "cell_type": "markdown",
   "metadata": {},
   "source": [
    "Get the setting of scene 2"
   ]
  },
  {
   "cell_type": "code",
   "execution_count": 8,
   "metadata": {},
   "outputs": [
    {
     "data": {
      "text/plain": [
       "'The island. Before PROSPERO’S cell.'"
      ]
     },
     "execution_count": 8,
     "metadata": {},
     "output_type": "execute_result"
    }
   ],
   "source": [
    "soup_doc.find_all('div')[2]\n",
    "Act_One_Scene_Two_Setting = soup_doc.find_all('div')[2]\n",
    "Act_One_Scene_Two_Setting.find_all('p')[1]\n",
    "Act_One_Scene_Two_Setting.find_all('p')[1].string"
   ]
  },
  {
   "cell_type": "markdown",
   "metadata": {},
   "source": [
    "Get the name of the first character in Scene 1"
   ]
  },
  {
   "cell_type": "code",
   "execution_count": 9,
   "metadata": {},
   "outputs": [
    {
     "data": {
      "text/plain": [
       "'Master. '"
      ]
     },
     "execution_count": 9,
     "metadata": {},
     "output_type": "execute_result"
    }
   ],
   "source": [
    "Act_One_Scene_One.find('strong').string"
   ]
  },
  {
   "cell_type": "markdown",
   "metadata": {},
   "source": [
    "Get a list of all of characters in Scene 1 (repeats are fine, you need a loop here)"
   ]
  },
  {
   "cell_type": "code",
   "execution_count": 10,
   "metadata": {},
   "outputs": [
    {
     "name": "stdout",
     "output_type": "stream",
     "text": [
      "Master. \n",
      "Boatswain. \n",
      "Master. \n",
      "Boatswain. \n",
      "Alonso. \n",
      "Boatswain. \n",
      "Antonio. \n",
      "Boatswain. \n",
      "Gonzalo. \n",
      "Boatswain. \n",
      "Gonzalo. \n",
      "Boatswain. \n",
      "Gonzalo. \n",
      "Boatswain. \n",
      "Sebastian. \n",
      "Boatswain. \n",
      "Antonio. \n",
      "Gonzalo. \n",
      "Boatswain. \n",
      "Mariners. \n",
      "Boatswain. \n",
      "Gonzalo. \n",
      "Sebastian. \n",
      "Antonio. \n",
      "Gonzalo. \n",
      "Antonio. \n",
      "Sebastian. \n",
      "Gonzalo. \n"
     ]
    }
   ],
   "source": [
    "#Act_One_Scene_One.find_all('strong')\n",
    "\n",
    "for char in Act_One_Scene_One.find_all('strong'):\n",
    "    Act_One_Scene_One.find('strong')\n",
    "    print(char.string)"
   ]
  },
  {
   "cell_type": "markdown",
   "metadata": {},
   "source": [
    "**Bonus:** write a script that takes all the duplicates out of the list. (This is a python thing, not a beautiful soup thing.)"
   ]
  },
  {
   "cell_type": "code",
   "execution_count": 11,
   "metadata": {},
   "outputs": [
    {
     "ename": "IndentationError",
     "evalue": "expected an indented block (<ipython-input-11-9c3c05b03a2e>, line 2)",
     "output_type": "error",
     "traceback": [
      "\u001b[0;36m  File \u001b[0;32m\"<ipython-input-11-9c3c05b03a2e>\"\u001b[0;36m, line \u001b[0;32m2\u001b[0m\n\u001b[0;31m    No_Dupl = []\u001b[0m\n\u001b[0m          ^\u001b[0m\n\u001b[0;31mIndentationError\u001b[0m\u001b[0;31m:\u001b[0m expected an indented block\n"
     ]
    }
   ],
   "source": [
    "for char in Act_One_Scene_One.find_all('strong'):\n",
    "No_Dupl = []\n",
    "    if char == \n",
    "    Act_One_Scene_One.find('strong')\n",
    "    print(char.strong)"
   ]
  },
  {
   "cell_type": "markdown",
   "metadata": {},
   "source": [
    "Display every stage direction in _scene 2_"
   ]
  },
  {
   "cell_type": "code",
   "execution_count": 12,
   "metadata": {},
   "outputs": [
    {
     "name": "stdout",
     "output_type": "stream",
     "text": [
      "[Enter PROSPERO and MIRANDA]\n",
      "[Enter ARIEL]\n",
      "[Exit]\n",
      "[Enter CALIBAN]\n",
      "[Draws, and is charmed from moving]\n",
      "[Exeunt]\n"
     ]
    }
   ],
   "source": [
    "Act_One_Scene_Two = soup_doc.find_all('div')[3]\n",
    "\n",
    "for every_stage_dir in Act_One_Scene_Two.find_all(class_='stagedir'):\n",
    "    Act_One_Scene_Two.find(class_='stagedir')\n",
    "    print(every_stage_dir.string)                           "
   ]
  },
  {
   "cell_type": "markdown",
   "metadata": {},
   "source": [
    "Get the HTML containing Miranda's first speech in Scene 2"
   ]
  },
  {
   "cell_type": "code",
   "execution_count": 13,
   "metadata": {
    "scrolled": true
   },
   "outputs": [
    {
     "name": "stdout",
     "output_type": "stream",
     "text": [
      "<ul><li class=\"playtext\"><strong>Miranda. </strong>If by your art, my dearest father, you have\n",
      " <span class=\"playlinenum\">85</span><br/>Put the wild waters in this roar, allay them.\n",
      "<br/>The sky, it seems, would pour down stinking pitch,\n",
      "<br/>But that the sea, mounting to the welkin's cheek,\n",
      "<br/>Dashes the fire out. O, I have suffered\n",
      "<br/>With those that I saw suffer: a brave vessel,\n",
      " <span class=\"playlinenum\">90</span><br/>Who had, no doubt, some noble creature in her,\n",
      "<br/>Dash'd all to pieces. O, the cry did knock\n",
      "<br/>Against my very heart. Poor souls, they perish'd.\n",
      "<br/>Had I been any god of power, I would\n",
      "<br/>Have sunk the sea within the earth or ere\n",
      " <span class=\"playlinenum\">95</span><br/>It should the good ship so have swallow'd and\n",
      "<br/>The fraughting souls within her.\n",
      "</li></ul>\n"
     ]
    }
   ],
   "source": [
    "Mir_speech = Act_One_Scene_Two.find('ul')\n",
    "print(Mir_speech)   "
   ]
  },
  {
   "cell_type": "markdown",
   "metadata": {},
   "source": [
    "Now display those same lines without the speaker's name (need to use siblings and a loop to get this)"
   ]
  },
  {
   "cell_type": "code",
   "execution_count": 14,
   "metadata": {},
   "outputs": [
    {
     "name": "stdout",
     "output_type": "stream",
     "text": [
      "Put the wild waters in this roar, allay them.\n",
      "\n",
      "The sky, it seems, would pour down stinking pitch,\n",
      "\n",
      "But that the sea, mounting to the welkin's cheek,\n",
      "\n",
      "Dashes the fire out. O, I have suffered\n",
      "\n",
      "With those that I saw suffer: a brave vessel,\n",
      " \n",
      "Who had, no doubt, some noble creature in her,\n",
      "\n",
      "Dash'd all to pieces. O, the cry did knock\n",
      "\n",
      "Against my very heart. Poor souls, they perish'd.\n",
      "\n",
      "Had I been any god of power, I would\n",
      "\n",
      "Have sunk the sea within the earth or ere\n",
      " \n",
      "It should the good ship so have swallow'd and\n",
      "\n",
      "The fraughting souls within her.\n",
      "\n"
     ]
    }
   ],
   "source": [
    "Act_One_Scene_Two.find('li').strong.next.next\n",
    "Act_One_Scene_Two.find('li').find_all('br')\n",
    "\n",
    "for Miranda in Act_One_Scene_Two.find('li').find_all('br'):\n",
    "    print(Miranda.nextSibling)"
   ]
  },
  {
   "cell_type": "markdown",
   "metadata": {},
   "source": [
    "Get the HTML containing the speech after Miranda's"
   ]
  },
  {
   "cell_type": "code",
   "execution_count": 15,
   "metadata": {},
   "outputs": [
    {
     "data": {
      "text/plain": [
       "<ul><li class=\"playtext\"><strong>Prospero. </strong>Be collected:\n",
       "<br/>No more amazement: tell your piteous heart\n",
       "<br/>There's no harm done.\n",
       " <span class=\"playlinenum\">100</span></li></ul>"
      ]
     },
     "execution_count": 15,
     "metadata": {},
     "output_type": "execute_result"
    }
   ],
   "source": [
    "Act_One_Scene_Two.find_all('ul')[1]"
   ]
  },
  {
   "cell_type": "markdown",
   "metadata": {},
   "source": [
    "## Box Office Mojo \n",
    "I've posted some slightly simplified HTML of the current worldwide box office leaders here: http://floatingmedia.com/columbia/boxoffice.htm please use that URL to download the HTML and put it through Beautiful Soup. (It also may be very helpful for you to go to that page in chrome and inspect elements why you do this.) \n",
    "\n",
    "For this part of the assignment you should focus mostly on tr (table rows) amd td (table cells) -- and search them using find_all('tr')[1] in order to get a specific row, and find_all('td')[2] to get a specific cell."
   ]
  },
  {
   "cell_type": "markdown",
   "metadata": {},
   "source": [
    "Just like with the Shakespeare write two lines get the raw HTML and then transform the raw HTML into a beautiful soup variable"
   ]
  },
  {
   "cell_type": "code",
   "execution_count": 16,
   "metadata": {
    "collapsed": true
   },
   "outputs": [],
   "source": [
    "from urllib.request import urlopen\n",
    "from bs4 import BeautifulSoup"
   ]
  },
  {
   "cell_type": "code",
   "execution_count": 17,
   "metadata": {
    "collapsed": true
   },
   "outputs": [],
   "source": [
    "my_url2 = \"http://floatingmedia.com/columbia/boxoffice.htm\"\n",
    "raw_html = urlopen(my_url2).read()\n",
    "soup_doc = BeautifulSoup(raw_html, \"html.parser\")"
   ]
  },
  {
   "cell_type": "markdown",
   "metadata": {},
   "source": [
    "Get the text \"2017 worldwide grosses\""
   ]
  },
  {
   "cell_type": "code",
   "execution_count": 18,
   "metadata": {},
   "outputs": [
    {
     "data": {
      "text/plain": [
       "<h1>2017 WORLDWIDE GROSSES</h1>"
      ]
     },
     "execution_count": 18,
     "metadata": {},
     "output_type": "execute_result"
    }
   ],
   "source": [
    "soup_doc.find('h1')"
   ]
  },
  {
   "cell_type": "markdown",
   "metadata": {},
   "source": [
    "Get an HTML list of all of the column names from the header of the table: rank, title, etc..."
   ]
  },
  {
   "cell_type": "code",
   "execution_count": 19,
   "metadata": {},
   "outputs": [
    {
     "data": {
      "text/plain": [
       "<tr bgcolor=\"#dcdcdc\"><td align=\"center\">Rank</td><td align=\"center\">Title</td><td align=\"center\">Studio</td><td align=\"center\">Worldwide</td><td align=\"center\">Domestic</td><td align=\"center\">Overseas</td></tr>"
      ]
     },
     "execution_count": 19,
     "metadata": {},
     "output_type": "execute_result"
    }
   ],
   "source": [
    "soup_doc.find('tr')"
   ]
  },
  {
   "cell_type": "markdown",
   "metadata": {},
   "source": [
    "Make a variable called \"headers\" and set it equal to the list of strings of the column names and header. In the next line write: \"headers[1]\" your output should be \"Title\""
   ]
  },
  {
   "cell_type": "code",
   "execution_count": 20,
   "metadata": {},
   "outputs": [
    {
     "data": {
      "text/plain": [
       "<td align=\"center\">Title</td>"
      ]
     },
     "execution_count": 20,
     "metadata": {},
     "output_type": "execute_result"
    }
   ],
   "source": [
    "header = soup_doc.find('tr').find_all()\n",
    "header[1]"
   ]
  },
  {
   "cell_type": "markdown",
   "metadata": {},
   "source": [
    "Get the HTML for the row that contains the #1 movie"
   ]
  },
  {
   "cell_type": "code",
   "execution_count": 21,
   "metadata": {},
   "outputs": [
    {
     "data": {
      "text/plain": [
       "<b>Beauty and the Beast (2017)</b>"
      ]
     },
     "execution_count": 21,
     "metadata": {},
     "output_type": "execute_result"
    }
   ],
   "source": [
    "soup_doc.find_all('tr')[1].find_all('td')[1].find('b')"
   ]
  },
  {
   "cell_type": "markdown",
   "metadata": {},
   "source": [
    "Get the HTML for the row that contains the #10 movie "
   ]
  },
  {
   "cell_type": "code",
   "execution_count": 22,
   "metadata": {},
   "outputs": [
    {
     "data": {
      "text/plain": [
       "<b>xXx: The Return of Xander Cage</b>"
      ]
     },
     "execution_count": 22,
     "metadata": {},
     "output_type": "execute_result"
    }
   ],
   "source": [
    "soup_doc.find_all('tr')[10].find_all('td')[1].find('b')"
   ]
  },
  {
   "cell_type": "markdown",
   "metadata": {},
   "source": [
    "Get a list of the top 10 films (You'll need to use the loop and specify a range for the loop.) The list should look like this:\n",
    "\n",
    "`Beauty and the Beast (2017)\n",
    "The Fate of the Furious\n",
    "Guardians of the Galaxy Vol. 2\n",
    "Logan\n",
    "Kong: Skull Island\n",
    "Pirates of the Caribbean: Dead Men Tell No Tales\n",
    "The Boss Baby\n",
    "Fifty Shades Darker\n",
    "Your Name.\n",
    "xXx: The Return of Xander Cage`"
   ]
  },
  {
   "cell_type": "code",
   "execution_count": 26,
   "metadata": {
    "scrolled": false
   },
   "outputs": [],
   "source": [
    "#soup_doc.find_all('b')"
   ]
  },
  {
   "cell_type": "code",
   "execution_count": 56,
   "metadata": {},
   "outputs": [
    {
     "data": {
      "text/plain": [
       "[<b>Beauty and the Beast (2017)</b>,\n",
       " <b>$1,241.3</b>,\n",
       " <b>The Fate of the Furious</b>,\n",
       " <b>$1,229.4</b>,\n",
       " <b>Guardians of the Galaxy Vol. 2</b>,\n",
       " <b>$818.6</b>,\n",
       " <b>Logan</b>,\n",
       " <b>$612.4</b>,\n",
       " <b>Kong: Skull Island</b>,\n",
       " <b>$565.9</b>,\n",
       " <b>Pirates of the Caribbean: Dead Men Tell No Tales</b>,\n",
       " <b>$510.5</b>,\n",
       " <b>The Boss Baby</b>,\n",
       " <b>$483.6</b>,\n",
       " <b>Fifty Shades Darker</b>,\n",
       " <b>$378.8</b>,\n",
       " <b>Your Name.</b>,\n",
       " <b>$354.4</b>,\n",
       " <b>xXx: The Return of Xander Cage</b>,\n",
       " <b>$346.1</b>]"
      ]
     },
     "execution_count": 56,
     "metadata": {},
     "output_type": "execute_result"
    }
   ],
   "source": [
    "soup_doc.find_all('b')[0:20]"
   ]
  },
  {
   "cell_type": "code",
   "execution_count": 25,
   "metadata": {},
   "outputs": [
    {
     "name": "stdout",
     "output_type": "stream",
     "text": [
      "Beauty and the Beast (2017)\n",
      "$1,241.3\n",
      "The Fate of the Furious\n",
      "$1,229.4\n",
      "Guardians of the Galaxy Vol. 2\n",
      "$818.6\n",
      "Logan\n",
      "$612.4\n",
      "Kong: Skull Island\n",
      "$565.9\n",
      "Pirates of the Caribbean: Dead Men Tell No Tales\n",
      "$510.5\n",
      "The Boss Baby\n",
      "$483.6\n",
      "Fifty Shades Darker\n",
      "$378.8\n",
      "Your Name.\n",
      "$354.4\n",
      "xXx: The Return of Xander Cage\n",
      "$346.1\n"
     ]
    }
   ],
   "source": []
  },
  {
   "cell_type": "markdown",
   "metadata": {},
   "source": [
    "Display as strings the top 10 films by name and worldwide gross. Like this:\n",
    "\n",
    "`Beauty and the Beast (2017) $502.2\n",
    "The Fate of the Furious $223.9\n",
    "Guardians of the Galaxy Vol. 2 $356.7\n",
    "Logan $226.2\n",
    "Kong: Skull Island $167.8\n",
    "Pirates of the Caribbean: Dead Men Tell No Tales $117.6\n",
    "The Boss Baby $171.0\n",
    "Fifty Shades Darker $114.4\n",
    "Your Name. $4.9\n",
    "xXx: The Return of Xander Cage $44.9`"
   ]
  },
  {
   "cell_type": "code",
   "execution_count": null,
   "metadata": {
    "collapsed": true
   },
   "outputs": [],
   "source": [
    "for movies in soup_doc.find_all('b')[0:20]:\n",
    "        print(movies.string)"
   ]
  },
  {
   "cell_type": "markdown",
   "metadata": {},
   "source": [
    "Display the link for the movie `Logan`:"
   ]
  },
  {
   "cell_type": "code",
   "execution_count": 33,
   "metadata": {},
   "outputs": [
    {
     "name": "stdout",
     "output_type": "stream",
     "text": [
      "http://www.boxofficemojo.com/movies/?id=wolverine2017.htm\n"
     ]
    }
   ],
   "source": [
    "link = soup_doc.find_all('tr')[4].find_all('td')[1].find('a')\n",
    "get_url = link['href']\n",
    "print(get_url)"
   ]
  },
  {
   "cell_type": "markdown",
   "metadata": {},
   "source": [
    "Create a list for `Logan` that looks like this:\n",
    "\n",
    "`['4', 'Logan', 'Fox', '$612.4', '$226.2', '$386.2']`"
   ]
  },
  {
   "cell_type": "code",
   "execution_count": 64,
   "metadata": {},
   "outputs": [
    {
     "data": {
      "text/plain": [
       "[<td align=\"center\"><font size=\"2\">4</font></td>,\n",
       " <td><font size=\"2\"><a href=\"http://www.boxofficemojo.com/movies/?id=wolverine2017.htm\"><b>Logan</b></a></font></td>,\n",
       " <td><font size=\"2\">Fox</font></td>,\n",
       " <td align=\"right\"><font size=\"2\"><b>$612.4</b></font></td>,\n",
       " <td align=\"right\"><font size=\"2\">$226.2</font></td>,\n",
       " <td align=\"right\"><font size=\"2\">$386.2</font></td>]"
      ]
     },
     "execution_count": 64,
     "metadata": {},
     "output_type": "execute_result"
    }
   ],
   "source": [
    "soup_doc.find_all('tr')[4].find_all('td')"
   ]
  },
  {
   "cell_type": "code",
   "execution_count": 72,
   "metadata": {},
   "outputs": [
    {
     "name": "stdout",
     "output_type": "stream",
     "text": [
      "['4']\n",
      "['Logan']\n",
      "['Fox']\n",
      "['$612.4']\n",
      "['$226.2']\n",
      "['$386.2']\n"
     ]
    }
   ],
   "source": [
    "Logan = [soup_doc.find_all('tr')[4].find_all('td')]\n",
    "for item in Logan_list:\n",
    "    Logan_list = soup_doc.find_all('tr')[4].find_all('td')\n",
    "    Logan = [item.string]\n",
    "    print(Logan)"
   ]
  },
  {
   "cell_type": "markdown",
   "metadata": {},
   "source": [
    "Here is some premade code. If you got your headers list and your logan_list right, this will make you a nice dictionary for Logan."
   ]
  },
  {
   "cell_type": "code",
   "execution_count": 79,
   "metadata": {},
   "outputs": [
    {
     "name": "stdout",
     "output_type": "stream",
     "text": [
      "{<td align=\"center\">Rank</td>: '$386.2'}\n"
     ]
    }
   ],
   "source": [
    "logan_dict = dict(zip(header, Logan))\n",
    "print(logan_dict)"
   ]
  },
  {
   "cell_type": "markdown",
   "metadata": {},
   "source": [
    "## Advanced Challenge\n",
    "Go to this page on pitchfork.com: http://pitchfork.com/features/lists-and-guides/9980-the-50-best-albums-of-2016/?page=5 and scrape the artist name, album, and rank of the top 10 albums. Use as many cells as you would like, and don't forget to make a new URL request and a new beautiful soup variable"
   ]
  },
  {
   "cell_type": "code",
   "execution_count": null,
   "metadata": {
    "collapsed": true
   },
   "outputs": [],
   "source": []
  }
 ],
 "metadata": {
  "kernelspec": {
   "display_name": "Python 3",
   "language": "python",
   "name": "python3"
  },
  "language_info": {
   "codemirror_mode": {
    "name": "ipython",
    "version": 3
   },
   "file_extension": ".py",
   "mimetype": "text/x-python",
   "name": "python",
   "nbconvert_exporter": "python",
   "pygments_lexer": "ipython3",
   "version": "3.6.1"
  }
 },
 "nbformat": 4,
 "nbformat_minor": 2
}
