{
 "cells": [
  {
   "cell_type": "markdown",
   "metadata": {},
   "source": [
    "# Scraping many pages + Using Selenium\n",
    "\n",
    "## The pages we'll be looking at\n",
    "\n",
    "If I wanted to read specific information about a specfic mine, it takes a few steps. **Do these steps with your browser before you try any programming.**\n",
    "\n",
    "1. Visit the [Mine Data Retrieval System](https://arlweb.msha.gov/drs/drshome.htm)\n",
    "2. Scroll down to **Mine Identification Number (ID) Search**\n",
    "3. Type in a mine ID number, such as `3503598`, click **Search**\n",
    "4. I'm on a page! It lists the MINE NAME and MINE OWNER.\n",
    "\n",
    "After searching for and finding a mine, I can use this page to **find reports about this mine**. Some of the reports are on accidents, violations, inspections, health samples and more. To get those reports:\n",
    "\n",
    "1. Search for a mine (if you haven't already)\n",
    "2. Scroll down and change **Beginning Date** to `1/1/1995` (violation reports begin in 1995, accidents begin in 1983)\n",
    "3. Select the report type of `Violations`\n",
    "4. Click **Get Report**\n",
    "5. I'm on a page! It lists ALL OF THE MINE'S VIOLATIONS.\n",
    "\n",
    "By changing the report type you're searching for you can find all sorts of different data."
   ]
  },
  {
   "cell_type": "markdown",
   "metadata": {},
   "source": [
    "# Researching mine information"
   ]
  },
  {
   "cell_type": "markdown",
   "metadata": {},
   "source": [
    "## Preparation \n",
    "\n",
    "### When you search for information on a specific mine, what URL should Selenium visit first?\n",
    "\n",
    "- *TIP: the answer is NOT `https://arlweb.msha.gov/drs/ASP/BasicMineInfonew.asp`*"
   ]
  },
  {
   "cell_type": "code",
   "execution_count": 7,
   "metadata": {
    "collapsed": true
   },
   "outputs": [],
   "source": [
    "# https://arlweb.msha.gov/drs/ASP/BasicMineInfonew.asp"
   ]
  },
  {
   "cell_type": "markdown",
   "metadata": {},
   "source": [
    "### How can you identify the text field we're going to type the Mine ID into?\n",
    "\n",
    "Selenium can find elements by:\n",
    "\n",
    "- name\n",
    "- Class\n",
    "- ID\n",
    "- CSS selector (**ASK ME WHAT THIS IS** if you don't know)\n",
    "- XPath (**ASK ME WHAT THIS IS** because you definitely don't know)\n",
    "- Link text\n",
    "- Partial link text\n",
    "\n",
    "So in other words, what's unique about this element?"
   ]
  },
  {
   "cell_type": "code",
   "execution_count": 8,
   "metadata": {
    "collapsed": true
   },
   "outputs": [],
   "source": [
    "#it is an xpath\n",
    "#driver.find_elements_by_xpath('//*[@id=\"inputdrs\"]').click()"
   ]
  },
  {
   "cell_type": "markdown",
   "metadata": {},
   "source": [
    "### How can you identify the search button we're going to click, or the form we're going to submit?\n",
    "\n",
    "Selenium can submit forms by either\n",
    "\n",
    "- Selecting the form and using `.submit()`, or\n",
    "- Selecting the button and using `.click()`\n",
    "\n",
    "You only need to be able to get **one, not both.**"
   ]
  },
  {
   "cell_type": "code",
   "execution_count": 9,
   "metadata": {
    "collapsed": true
   },
   "outputs": [],
   "source": [
    "#search_button = driver.find_elements_by_xpath('//*[@id=\"content\"]/table[3]/tbody/tr[3]/td[2]/input').click()"
   ]
  },
  {
   "cell_type": "markdown",
   "metadata": {},
   "source": [
    "### Use Selenium to search using the mine ID `3901432`. Get me the operator's name by scraping.\n",
    "\n",
    "- *TIP: You can find elements/text using Selenium, or use BeautifulSoup with `doc = BeautifulSoup(driver.page_source)`*"
   ]
  },
  {
   "cell_type": "code",
   "execution_count": 14,
   "metadata": {
    "collapsed": true
   },
   "outputs": [],
   "source": [
    "from selenium.webdriver.support.ui import Select\n",
    "from selenium.webdriver.common.keys import Keys"
   ]
  },
  {
   "cell_type": "code",
   "execution_count": 15,
   "metadata": {},
   "outputs": [],
   "source": [
    "from selenium import webdriver\n",
    "driver = webdriver.Chrome()\n",
    "driver.get('https://arlweb.msha.gov/drs/drshome.htm')"
   ]
  },
  {
   "cell_type": "code",
   "execution_count": 19,
   "metadata": {},
   "outputs": [],
   "source": [
    "textbox = driver.find_element_by_xpath('//*[@id=\"inputdrs\"]')\n",
    "textbox.send_keys('3901432')"
   ]
  },
  {
   "cell_type": "code",
   "execution_count": 20,
   "metadata": {},
   "outputs": [],
   "source": [
    "from bs4 import BeautifulSoup\n",
    "doc = BeautifulSoup(driver.page_source, 'html.parser')"
   ]
  },
  {
   "cell_type": "code",
   "execution_count": null,
   "metadata": {
    "collapsed": true
   },
   "outputs": [],
   "source": [
    "#doc.find_all('tr')[3]"
   ]
  },
  {
   "cell_type": "markdown",
   "metadata": {},
   "source": [
    "# Using .apply to find data about SEVERAL mines\n",
    "\n",
    "The file `mines-subset.csv` has a list of mine IDs. We're going to scrape the operator's name for each of those mines.\n",
    "\n",
    "### Open up `mines-subset.csv` and save it into a dataframe"
   ]
  },
  {
   "cell_type": "code",
   "execution_count": 21,
   "metadata": {},
   "outputs": [
    {
     "data": {
      "text/html": [
       "<div>\n",
       "<style>\n",
       "    .dataframe thead tr:only-child th {\n",
       "        text-align: right;\n",
       "    }\n",
       "\n",
       "    .dataframe thead th {\n",
       "        text-align: left;\n",
       "    }\n",
       "\n",
       "    .dataframe tbody tr th {\n",
       "        vertical-align: top;\n",
       "    }\n",
       "</style>\n",
       "<table border=\"1\" class=\"dataframe\">\n",
       "  <thead>\n",
       "    <tr style=\"text-align: right;\">\n",
       "      <th></th>\n",
       "      <th>id</th>\n",
       "    </tr>\n",
       "  </thead>\n",
       "  <tbody>\n",
       "    <tr>\n",
       "      <th>0</th>\n",
       "      <td>4104757</td>\n",
       "    </tr>\n",
       "    <tr>\n",
       "      <th>1</th>\n",
       "      <td>0801306</td>\n",
       "    </tr>\n",
       "    <tr>\n",
       "      <th>2</th>\n",
       "      <td>3609931</td>\n",
       "    </tr>\n",
       "  </tbody>\n",
       "</table>\n",
       "</div>"
      ],
      "text/plain": [
       "        id\n",
       "0  4104757\n",
       "1  0801306\n",
       "2  3609931"
      ]
     },
     "execution_count": 21,
     "metadata": {},
     "output_type": "execute_result"
    }
   ],
   "source": [
    "import pandas as pd \n",
    "df = pd.read_csv('mines-subset.csv', dtype={'id': 'str'})\n",
    "df"
   ]
  },
  {
   "cell_type": "markdown",
   "metadata": {},
   "source": [
    "### Open up `mines-subset.csv` in a text editor, then look at your dataframe. Is something different about them?"
   ]
  },
  {
   "cell_type": "code",
   "execution_count": null,
   "metadata": {
    "collapsed": true
   },
   "outputs": [],
   "source": [
    "#zero was missing "
   ]
  },
  {
   "cell_type": "code",
   "execution_count": 22,
   "metadata": {
    "collapsed": true
   },
   "outputs": [],
   "source": [
    "from selenium import webdriver\n",
    "from selenium.webdriver.support.ui import Select\n",
    "#from selenium.webdriver.common.keys import Keys"
   ]
  },
  {
   "cell_type": "code",
   "execution_count": 23,
   "metadata": {
    "collapsed": true
   },
   "outputs": [],
   "source": [
    "driver = webdriver.Chrome()\n",
    "driver.get('https://arlweb.msha.gov/drs/drshome.htm')"
   ]
  },
  {
   "cell_type": "code",
   "execution_count": 24,
   "metadata": {
    "collapsed": true
   },
   "outputs": [],
   "source": [
    "input_1 = driver.find_elements_by_xpath('//*[@id=\"inputdrs\"]')[1]\n",
    "input_1.send_keys('3901432')"
   ]
  },
  {
   "cell_type": "code",
   "execution_count": null,
   "metadata": {
    "collapsed": true
   },
   "outputs": [],
   "source": [
    "#search_button = driver.find_element_by_xpath('//*[@id=\"content\"]/table[3]/tbody/tr[3]/td[2]/input')\n",
    "#search_button.click()"
   ]
  },
  {
   "cell_type": "code",
   "execution_count": 25,
   "metadata": {
    "collapsed": true
   },
   "outputs": [],
   "source": [
    "from bs4 import BeautifulSoup\n",
    "#doc = BeautifulSoup(driver.page_source, 'html.parser')"
   ]
  },
  {
   "cell_type": "markdown",
   "metadata": {},
   "source": [
    "### Scrape the operator's name for each of those mines and print it\n",
    "\n",
    "- *TIP: use .apply and a function*\n",
    "- *TIP: If you need help with .apply, look at the \"Using apply in pandas\" notebook *"
   ]
  },
  {
   "cell_type": "code",
   "execution_count": null,
   "metadata": {
    "collapsed": true
   },
   "outputs": [],
   "source": [
    "#df.apply"
   ]
  },
  {
   "cell_type": "code",
   "execution_count": null,
   "metadata": {
    "collapsed": true
   },
   "outputs": [],
   "source": [
    "#doc.find_all('td')[7].find_all('td')[0].text"
   ]
  },
  {
   "cell_type": "code",
   "execution_count": 26,
   "metadata": {},
   "outputs": [
    {
     "data": {
      "text/html": [
       "<div>\n",
       "<style>\n",
       "    .dataframe thead tr:only-child th {\n",
       "        text-align: right;\n",
       "    }\n",
       "\n",
       "    .dataframe thead th {\n",
       "        text-align: left;\n",
       "    }\n",
       "\n",
       "    .dataframe tbody tr th {\n",
       "        vertical-align: top;\n",
       "    }\n",
       "</style>\n",
       "<table border=\"1\" class=\"dataframe\">\n",
       "  <thead>\n",
       "    <tr style=\"text-align: right;\">\n",
       "      <th></th>\n",
       "      <th>id</th>\n",
       "    </tr>\n",
       "  </thead>\n",
       "  <tbody>\n",
       "    <tr>\n",
       "      <th>0</th>\n",
       "      <td>4104757</td>\n",
       "    </tr>\n",
       "    <tr>\n",
       "      <th>1</th>\n",
       "      <td>0801306</td>\n",
       "    </tr>\n",
       "    <tr>\n",
       "      <th>2</th>\n",
       "      <td>3609931</td>\n",
       "    </tr>\n",
       "  </tbody>\n",
       "</table>\n",
       "</div>"
      ],
      "text/plain": [
       "        id\n",
       "0  4104757\n",
       "1  0801306\n",
       "2  3609931"
      ]
     },
     "execution_count": 26,
     "metadata": {},
     "output_type": "execute_result"
    }
   ],
   "source": [
    "df"
   ]
  },
  {
   "cell_type": "code",
   "execution_count": 42,
   "metadata": {},
   "outputs": [],
   "source": [
    "#driver = webdriver.Chrome()\n",
    "#driver.get('https://arlweb.msha.gov/drs/drshome.htm')\n",
    "#textbox = driver.find_elements_by_xpath('//*[@id=\"inputdrs\"]')"
   ]
  },
  {
   "cell_type": "code",
   "execution_count": 41,
   "metadata": {},
   "outputs": [
    {
     "name": "stdout",
     "output_type": "stream",
     "text": [
      "Dirt Works\n",
      "Holley Dirt Company, Inc\n",
      "M.R. Dirt Inc.\n"
     ]
    },
    {
     "data": {
      "text/plain": [
       "0                  Dirt Works\n",
       "1    Holley Dirt Company, Inc\n",
       "2              M.R. Dirt Inc.\n",
       "dtype: object"
      ]
     },
     "execution_count": 41,
     "metadata": {},
     "output_type": "execute_result"
    }
   ],
   "source": [
    "def Names_IDs(row):\n",
    "    driver = webdriver.Chrome()\n",
    "    driver.get('https://arlweb.msha.gov/drs/drshome.htm')\n",
    "    textbox = driver.find_elements_by_xpath('//*[@id=\"inputdrs\"]')[1]\n",
    "    textbox.send_keys(row['id'])\n",
    "    search_button = driver.find_element_by_xpath('//*[@id=\"content\"]/table[3]/tbody/tr[3]/td[2]/input')\n",
    "    search_button.click()\n",
    "    #print(type(doc))\n",
    "    Operator = driver.find_element_by_xpath('//*[@id=\"content\"]/form[1]/table[1]/tbody/tr[3]/td[2]/font/b').text.strip()\n",
    "    print(Operator)\n",
    "    \n",
    "    return Operator\n",
    "\n",
    "df.apply(Names_IDs,axis=1)\n"
   ]
  },
  {
   "cell_type": "markdown",
   "metadata": {},
   "source": [
    "### Scrape the operator's name and save it into a new column\n",
    "\n",
    "- *TIP: Use .apply and a function*\n",
    "- *TIP: Remember to use `return`*"
   ]
  },
  {
   "cell_type": "code",
   "execution_count": 54,
   "metadata": {},
   "outputs": [
    {
     "data": {
      "text/html": [
       "<div>\n",
       "<style>\n",
       "    .dataframe thead tr:only-child th {\n",
       "        text-align: right;\n",
       "    }\n",
       "\n",
       "    .dataframe thead th {\n",
       "        text-align: left;\n",
       "    }\n",
       "\n",
       "    .dataframe tbody tr th {\n",
       "        vertical-align: top;\n",
       "    }\n",
       "</style>\n",
       "<table border=\"1\" class=\"dataframe\">\n",
       "  <thead>\n",
       "    <tr style=\"text-align: right;\">\n",
       "      <th></th>\n",
       "      <th>id</th>\n",
       "      <th>Operator</th>\n",
       "    </tr>\n",
       "  </thead>\n",
       "  <tbody>\n",
       "    <tr>\n",
       "      <th>0</th>\n",
       "      <td>4104757</td>\n",
       "      <td>Dirt Works</td>\n",
       "    </tr>\n",
       "    <tr>\n",
       "      <th>1</th>\n",
       "      <td>0801306</td>\n",
       "      <td>Holley Dirt Company, Inc</td>\n",
       "    </tr>\n",
       "    <tr>\n",
       "      <th>2</th>\n",
       "      <td>3609931</td>\n",
       "      <td>M.R. Dirt Inc.</td>\n",
       "    </tr>\n",
       "  </tbody>\n",
       "</table>\n",
       "</div>"
      ],
      "text/plain": [
       "        id                  Operator\n",
       "0  4104757                Dirt Works\n",
       "1  0801306  Holley Dirt Company, Inc\n",
       "2  3609931            M.R. Dirt Inc."
      ]
     },
     "execution_count": 54,
     "metadata": {},
     "output_type": "execute_result"
    }
   ],
   "source": [
    "def Operators_name(row): \n",
    "    driver = webdriver.Chrome()\n",
    "    driver.get('https://arlweb.msha.gov/drs/drshome.htm')\n",
    "    textbox = driver.find_elements_by_xpath('//*[@id=\"inputdrs\"]')[1]\n",
    "    textbox.send_keys(row['id'])\n",
    "    search_button = driver.find_element_by_xpath('//*[@id=\"content\"]/table[3]/tbody/tr[3]/td[2]/input')\n",
    "    search_button.click()\n",
    "    Operator = driver.find_element_by_xpath('//*[@id=\"content\"]/form[1]/table[1]/tbody/tr[3]/td[2]/font/b').text.strip()\n",
    "  \n",
    "    return Operator\n",
    "\n",
    "df['Operator'] = df.apply(Operators_name, axis=1)\n",
    "df"
   ]
  },
  {
   "cell_type": "markdown",
   "metadata": {},
   "source": [
    "# Researching mine violations\n",
    "\n",
    "Read the very top again to remember how to find mine violations"
   ]
  },
  {
   "cell_type": "markdown",
   "metadata": {},
   "source": [
    "### When you search for a mine's violations, what URL is Selenium going to start on?\n",
    "\n",
    "- *TIP: `requests` can send form data to load in the middle of a bunch of steps, but Selenium has to start at the beginning"
   ]
  },
  {
   "cell_type": "code",
   "execution_count": null,
   "metadata": {
    "collapsed": true
   },
   "outputs": [],
   "source": [
    "#https://arlweb.msha.gov/drs/ASP/BasicMineInfonew.asp"
   ]
  },
  {
   "cell_type": "markdown",
   "metadata": {},
   "source": [
    "### When you're searching for violations from the Mine Information page, how are you going to identify the \"Beginning Date\" field?"
   ]
  },
  {
   "cell_type": "code",
   "execution_count": null,
   "metadata": {
    "collapsed": true
   },
   "outputs": [],
   "source": [
    "#date_field = driver.find_element_by_xpath('///*[@id=\"content\"]/form[1]/table[2]/tbody/tr[2]/td/font/input[1]')"
   ]
  },
  {
   "cell_type": "markdown",
   "metadata": {},
   "source": [
    "### When you're searching for violations from the Mine Information page, how are you going to identify the \"Violations\" button?"
   ]
  },
  {
   "cell_type": "code",
   "execution_count": null,
   "metadata": {
    "collapsed": true
   },
   "outputs": [],
   "source": [
    "#violation_button = driver.find_element_by_xpath('//*[@id=\"content\"]/form[1]/table[3]/tbody/tr[2]/td[2]/table/tbody/tr[1]/td/input')"
   ]
  },
  {
   "cell_type": "markdown",
   "metadata": {
    "collapsed": true
   },
   "source": [
    "### When you're searching for violations from the Mine Information page, how are you going to identify the form or the button to click to get a list of the violations?"
   ]
  },
  {
   "cell_type": "code",
   "execution_count": null,
   "metadata": {
    "collapsed": true
   },
   "outputs": [],
   "source": [
    "#get_report = driver.find_element_by_xpath('/*[@id=\"content\"]/form[1]/table[3]/tbody/tr[3]/td[2]/input')"
   ]
  },
  {
   "cell_type": "markdown",
   "metadata": {},
   "source": [
    "### Using the mine ID `3901432`, scrape all of their violations since 1/1/1995\n",
    "\n",
    "**Save this into a CSV called `3901432-violations.csv`.** This CSV must include the following fields:\n",
    "\n",
    "- Citation number\n",
    "- Case number\n",
    "- Standard violated\n",
    "- Link to standard\n",
    "- Proposed penalty\n",
    "- Amount paid to date\n",
    "\n",
    "**Tips:**\n",
    "\n",
    "- *TIP: It's probably worth it to print them all first, then save them to a CSV once you know it's all working.*\n",
    "- *TIP: You'll use the parent pattern - get the ROWS first (tr), then loop through and get the TABLE CELLS (td)*"
   ]
  },
  {
   "cell_type": "code",
   "execution_count": 59,
   "metadata": {
    "collapsed": true
   },
   "outputs": [],
   "source": [
    "from selenium import webdriver\n",
    "from selenium.webdriver.support.ui import Select"
   ]
  },
  {
   "cell_type": "code",
   "execution_count": 121,
   "metadata": {
    "collapsed": true
   },
   "outputs": [],
   "source": [
    "driver = webdriver.Chrome()\n",
    "driver.get('https://arlweb.msha.gov/drs/drshome.htm')"
   ]
  },
  {
   "cell_type": "code",
   "execution_count": 122,
   "metadata": {
    "collapsed": true
   },
   "outputs": [],
   "source": [
    "number_input = driver.find_elements_by_xpath('//*[@id=\"inputdrs\"]')[1]\n",
    "number_input.send_keys('3901432')"
   ]
  },
  {
   "cell_type": "code",
   "execution_count": 123,
   "metadata": {
    "collapsed": true
   },
   "outputs": [],
   "source": [
    "search_button = driver.find_element_by_xpath('//*[@id=\"content\"]/table[3]/tbody/tr[3]/td[2]/input')\n",
    "search_button.click()"
   ]
  },
  {
   "cell_type": "code",
   "execution_count": 124,
   "metadata": {
    "collapsed": true
   },
   "outputs": [],
   "source": [
    "violation_button = driver.find_element_by_xpath('//*[@id=\"content\"]/form[1]/table[3]/tbody/tr[2]/td[2]/table/tbody/tr[1]/td/input')\n",
    "violation_button.click()"
   ]
  },
  {
   "cell_type": "code",
   "execution_count": 125,
   "metadata": {
    "collapsed": true
   },
   "outputs": [],
   "source": [
    "date_input = driver.find_element_by_xpath('//*[@id=\"content\"]/form[1]/table[2]/tbody/tr[2]/td/font/input[1]')\n",
    "date_input.send_keys('1/1/1995')"
   ]
  },
  {
   "cell_type": "code",
   "execution_count": 126,
   "metadata": {
    "collapsed": true
   },
   "outputs": [],
   "source": [
    "get_report = driver.find_element_by_xpath('//*[@id=\"content\"]/form[1]/table[3]/tbody/tr[3]/td[2]/input')\n",
    "get_report.click()"
   ]
  },
  {
   "cell_type": "code",
   "execution_count": 127,
   "metadata": {},
   "outputs": [
    {
     "data": {
      "text/plain": [
       "18"
      ]
     },
     "execution_count": 127,
     "metadata": {},
     "output_type": "execute_result"
    }
   ],
   "source": [
    "rows = driver.find_elements_by_xpath('//tr[@class=\"drsviols\"]')\n",
    "len(rows)"
   ]
  },
  {
   "cell_type": "code",
   "execution_count": 139,
   "metadata": {},
   "outputs": [
    {
     "data": {
      "text/plain": [
       "[{'Amount paid to date': '100.00',\n",
       "  'Case number': '000361866',\n",
       "  'Citation number': '8750964',\n",
       "  'Link to standard': 'http://www.gpo.gov/fdsys/pkg/CFR-2014-title30-vol1/pdf/CFR-2014-title30-vol1-sec56-18010.pdf',\n",
       "  'Proposed penalty': '100.00',\n",
       "  'Standard violated': None},\n",
       " {'Amount paid to date': '100.00',\n",
       "  'Case number': '000260865',\n",
       "  'Citation number': '6426438',\n",
       "  'Link to standard': 'http://www.gpo.gov/fdsys/pkg/CFR-2011-title30-vol1/pdf/CFR-2011-title30-vol1-sec56-4101.pdf',\n",
       "  'Proposed penalty': '100.00',\n",
       "  'Standard violated': None},\n",
       " {'Amount paid to date': '100.00',\n",
       "  'Case number': '000260865',\n",
       "  'Citation number': '6426439',\n",
       "  'Link to standard': 'http://www.gpo.gov/fdsys/pkg/CFR-2011-title30-vol1/pdf/CFR-2011-title30-vol1-sec56-4201.pdf',\n",
       "  'Proposed penalty': '100.00',\n",
       "  'Standard violated': None},\n",
       " {'Amount paid to date': '100.00',\n",
       "  'Case number': '000260865',\n",
       "  'Citation number': '6588189',\n",
       "  'Link to standard': 'http://www.gpo.gov/fdsys/pkg/CFR-2011-title30-vol1/pdf/CFR-2011-title30-vol1-sec56-14200.pdf',\n",
       "  'Proposed penalty': '100.00',\n",
       "  'Standard violated': None},\n",
       " {'Amount paid to date': '100.00',\n",
       "  'Case number': '000238554',\n",
       "  'Citation number': '6588210',\n",
       "  'Link to standard': 'http://www.gpo.gov/fdsys/pkg/CFR-2010-title30-vol1/pdf/CFR-2010-title30-vol1-sec50-30.pdf',\n",
       "  'Proposed penalty': '100.00',\n",
       "  'Standard violated': None},\n",
       " {'Amount paid to date': '100.00',\n",
       "  'Case number': '000188398',\n",
       "  'Citation number': '6328074',\n",
       "  'Link to standard': 'http://www.gpo.gov/fdsys/pkg/CFR-2009-title30-vol1/pdf/CFR-2009-title30-vol1-sec56-11003.pdf',\n",
       "  'Proposed penalty': '100.00',\n",
       "  'Standard violated': None},\n",
       " {'Amount paid to date': '55.00',\n",
       "  'Case number': '390143205501',\n",
       "  'Citation number': '7916116',\n",
       "  'Link to standard': 'http://www.gpo.gov/fdsys/pkg/CFR-1998-title30-vol1/pdf/CFR-1998-title30-vol1-sec50-30.pdf',\n",
       "  'Proposed penalty': '55.00',\n",
       "  'Standard violated': None},\n",
       " {'Amount paid to date': '55.00',\n",
       "  'Case number': '390143205501',\n",
       "  'Citation number': '7916122',\n",
       "  'Link to standard': 'http://www.gpo.gov/fdsys/pkg/CFR-1998-title30-vol1/pdf/CFR-1998-title30-vol1-sec56-20008.pdf',\n",
       "  'Proposed penalty': '55.00',\n",
       "  'Standard violated': None},\n",
       " {'Amount paid to date': '55.00',\n",
       "  'Case number': '390143205501',\n",
       "  'Citation number': '7916121',\n",
       "  'Link to standard': 'http://www.gpo.gov/fdsys/pkg/CFR-1998-title30-vol1/pdf/CFR-1998-title30-vol1-sec56-18002.pdf',\n",
       "  'Proposed penalty': '55.00',\n",
       "  'Standard violated': None},\n",
       " {'Amount paid to date': '55.00',\n",
       "  'Case number': '390143205501',\n",
       "  'Citation number': '7916120',\n",
       "  'Link to standard': 'http://www.gpo.gov/fdsys/pkg/CFR-1998-title30-vol1/pdf/CFR-1998-title30-vol1-sec56-15001.pdf',\n",
       "  'Proposed penalty': '55.00',\n",
       "  'Standard violated': None},\n",
       " {'Amount paid to date': '55.00',\n",
       "  'Case number': '390143205502',\n",
       "  'Citation number': '7916119',\n",
       "  'Link to standard': 'http://www.gpo.gov/fdsys/pkg/CFR-1998-title30-vol1/pdf/CFR-1998-title30-vol1-sec56-18010.pdf',\n",
       "  'Proposed penalty': '55.00',\n",
       "  'Standard violated': None},\n",
       " {'Amount paid to date': '55.00',\n",
       "  'Case number': '390143205501',\n",
       "  'Citation number': '7916117',\n",
       "  'Link to standard': 'http://www.gpo.gov/fdsys/pkg/CFR-1998-title30-vol1/pdf/CFR-1998-title30-vol1-sec56-1000.pdf',\n",
       "  'Proposed penalty': '55.00',\n",
       "  'Standard violated': None},\n",
       " {'Amount paid to date': '55.00',\n",
       "  'Case number': '390143205501',\n",
       "  'Citation number': '7916115',\n",
       "  'Link to standard': 'http://www.gpo.gov/fdsys/pkg/CFR-1998-title30-vol1/pdf/CFR-1998-title30-vol1-sec41-20.pdf',\n",
       "  'Proposed penalty': '55.00',\n",
       "  'Standard violated': None},\n",
       " {'Amount paid to date': '55.00',\n",
       "  'Case number': '390143205501',\n",
       "  'Citation number': '7916123',\n",
       "  'Link to standard': 'http://www.gpo.gov/fdsys/pkg/CFR-1998-title30-vol1/pdf/CFR-1998-title30-vol1-sec56-14132.pdf',\n",
       "  'Proposed penalty': '55.00',\n",
       "  'Standard violated': None},\n",
       " {'Amount paid to date': '55.00',\n",
       "  'Case number': '390143205501',\n",
       "  'Citation number': '7916125',\n",
       "  'Link to standard': 'http://www.gpo.gov/fdsys/pkg/CFR-1998-title30-vol1/pdf/CFR-1998-title30-vol1-sec56-4200.pdf',\n",
       "  'Proposed penalty': '55.00',\n",
       "  'Standard violated': None},\n",
       " {'Amount paid to date': '55.00',\n",
       "  'Case number': '390143205501',\n",
       "  'Citation number': '7916124',\n",
       "  'Link to standard': 'http://www.gpo.gov/fdsys/pkg/CFR-1998-title30-vol1/pdf/CFR-1998-title30-vol1-sec56-14132.pdf',\n",
       "  'Proposed penalty': '55.00',\n",
       "  'Standard violated': None},\n",
       " {'Amount paid to date': '55.00',\n",
       "  'Case number': '390143205501',\n",
       "  'Citation number': '7916118',\n",
       "  'Link to standard': 'http://www.gpo.gov/fdsys/pkg/CFR-1998-title30-vol1/pdf/CFR-1998-title30-vol1-sec56-12028.pdf',\n",
       "  'Proposed penalty': '55.00',\n",
       "  'Standard violated': None},\n",
       " {'Amount paid to date': '55.00',\n",
       "  'Case number': '390143205501',\n",
       "  'Citation number': '7916126',\n",
       "  'Link to standard': 'http://www.gpo.gov/fdsys/pkg/CFR-1998-title30-vol1/pdf/CFR-1998-title30-vol1-sec56-14100.pdf',\n",
       "  'Proposed penalty': '55.00',\n",
       "  'Standard violated': None}]"
      ]
     },
     "execution_count": 139,
     "metadata": {},
     "output_type": "execute_result"
    }
   ],
   "source": [
    "All_Info = []\n",
    "driver = webdriver.Chrome()\n",
    "driver.get('https://arlweb.msha.gov/drs/drshome.htm')\n",
    "\n",
    "number_input = driver.find_elements_by_xpath('//*[@id=\"inputdrs\"]')[1]\n",
    "number_input.send_keys('3901432')\n",
    "\n",
    "search_button = driver.find_element_by_xpath('//*[@id=\"content\"]/table[3]/tbody/tr[3]/td[2]/input')\n",
    "search_button.click()\n",
    "\n",
    "date_input = driver.find_element_by_xpath('//*[@id=\"content\"]/form[1]/table[2]/tbody/tr[2]/td/font/input[1]')\n",
    "date_input.click()\n",
    "date_input.send_keys('1/1/1995')\n",
    "\n",
    "violation_button = driver.find_element_by_xpath('//*[@id=\"content\"]/form[1]/table[3]/tbody/tr[2]/td[2]/table/tbody/tr[1]/td/input')\n",
    "violation_button.click()\n",
    "\n",
    "get_report = driver.find_element_by_xpath('//*[@id=\"content\"]/form[1]/table[3]/tbody/tr[3]/td[2]/input')\n",
    "get_report.click()\n",
    "\n",
    "doc = BeautifulSoup(driver.page_source, 'html.parser')\n",
    "\n",
    "rows = doc.find_all('tr', class_='drsviols')\n",
    "\n",
    "for row in rows:\n",
    "    \n",
    "    current = {}\n",
    "\n",
    "    current['Citation number'] = row.find_all('td')[2].text.strip()\n",
    "    current['Case number'] = row.find_all('td')[3].text.strip()\n",
    "    current['Standard violated'] = row.find_all('td')[10].find('font', attrs = {'color': '#0000FF '})\n",
    "    current['Link to standard'] = row.find_all('td')[10].find('a')['href']\n",
    "    current['Proposed penalty'] = row.find_all('td')[11].text.strip()\n",
    "    current['Amount paid to date'] = row.find_all('td')[14].text.strip()\n",
    "    All_Info.append(current)\n",
    "    \n",
    "All_Info"
   ]
  },
  {
   "cell_type": "code",
   "execution_count": 140,
   "metadata": {},
   "outputs": [],
   "source": [
    "import pandas as pd\n",
    "violations_df = pd.DataFrame(All_Info)"
   ]
  },
  {
   "cell_type": "code",
   "execution_count": 141,
   "metadata": {},
   "outputs": [
    {
     "data": {
      "text/html": [
       "<div>\n",
       "<style>\n",
       "    .dataframe thead tr:only-child th {\n",
       "        text-align: right;\n",
       "    }\n",
       "\n",
       "    .dataframe thead th {\n",
       "        text-align: left;\n",
       "    }\n",
       "\n",
       "    .dataframe tbody tr th {\n",
       "        vertical-align: top;\n",
       "    }\n",
       "</style>\n",
       "<table border=\"1\" class=\"dataframe\">\n",
       "  <thead>\n",
       "    <tr style=\"text-align: right;\">\n",
       "      <th></th>\n",
       "      <th>Amount paid to date</th>\n",
       "      <th>Case number</th>\n",
       "      <th>Citation number</th>\n",
       "      <th>Link to standard</th>\n",
       "      <th>Proposed penalty</th>\n",
       "      <th>Standard violated</th>\n",
       "    </tr>\n",
       "  </thead>\n",
       "  <tbody>\n",
       "    <tr>\n",
       "      <th>0</th>\n",
       "      <td>100.0</td>\n",
       "      <td>361866</td>\n",
       "      <td>8750964</td>\n",
       "      <td>http://www.gpo.gov/fdsys/pkg/CFR-2014-title30-...</td>\n",
       "      <td>100.0</td>\n",
       "      <td>NaN</td>\n",
       "    </tr>\n",
       "    <tr>\n",
       "      <th>1</th>\n",
       "      <td>100.0</td>\n",
       "      <td>260865</td>\n",
       "      <td>6426438</td>\n",
       "      <td>http://www.gpo.gov/fdsys/pkg/CFR-2011-title30-...</td>\n",
       "      <td>100.0</td>\n",
       "      <td>NaN</td>\n",
       "    </tr>\n",
       "    <tr>\n",
       "      <th>2</th>\n",
       "      <td>100.0</td>\n",
       "      <td>260865</td>\n",
       "      <td>6426439</td>\n",
       "      <td>http://www.gpo.gov/fdsys/pkg/CFR-2011-title30-...</td>\n",
       "      <td>100.0</td>\n",
       "      <td>NaN</td>\n",
       "    </tr>\n",
       "    <tr>\n",
       "      <th>3</th>\n",
       "      <td>100.0</td>\n",
       "      <td>260865</td>\n",
       "      <td>6588189</td>\n",
       "      <td>http://www.gpo.gov/fdsys/pkg/CFR-2011-title30-...</td>\n",
       "      <td>100.0</td>\n",
       "      <td>NaN</td>\n",
       "    </tr>\n",
       "    <tr>\n",
       "      <th>4</th>\n",
       "      <td>100.0</td>\n",
       "      <td>238554</td>\n",
       "      <td>6588210</td>\n",
       "      <td>http://www.gpo.gov/fdsys/pkg/CFR-2010-title30-...</td>\n",
       "      <td>100.0</td>\n",
       "      <td>NaN</td>\n",
       "    </tr>\n",
       "  </tbody>\n",
       "</table>\n",
       "</div>"
      ],
      "text/plain": [
       "   Amount paid to date  Case number  Citation number  \\\n",
       "0                100.0       361866          8750964   \n",
       "1                100.0       260865          6426438   \n",
       "2                100.0       260865          6426439   \n",
       "3                100.0       260865          6588189   \n",
       "4                100.0       238554          6588210   \n",
       "\n",
       "                                    Link to standard  Proposed penalty  \\\n",
       "0  http://www.gpo.gov/fdsys/pkg/CFR-2014-title30-...             100.0   \n",
       "1  http://www.gpo.gov/fdsys/pkg/CFR-2011-title30-...             100.0   \n",
       "2  http://www.gpo.gov/fdsys/pkg/CFR-2011-title30-...             100.0   \n",
       "3  http://www.gpo.gov/fdsys/pkg/CFR-2011-title30-...             100.0   \n",
       "4  http://www.gpo.gov/fdsys/pkg/CFR-2010-title30-...             100.0   \n",
       "\n",
       "   Standard violated  \n",
       "0                NaN  \n",
       "1                NaN  \n",
       "2                NaN  \n",
       "3                NaN  \n",
       "4                NaN  "
      ]
     },
     "execution_count": 141,
     "metadata": {},
     "output_type": "execute_result"
    }
   ],
   "source": [
    "violations_df.to_csv('3901432-violations.csv', index = False)\n",
    "violations_df = pd.read_csv('3901432-violations.csv')\n",
    "violations_df.head()"
   ]
  },
  {
   "cell_type": "markdown",
   "metadata": {},
   "source": [
    "# Using .apply to save mine data for SEVERAL mines\n",
    "\n",
    "The file `mines-subset.csv` has a list of mine IDs. We're going to scrape the operator's name for each of those mines.\n",
    "\n",
    "### Open up `mines-subset.csv` and save it into a dataframe"
   ]
  },
  {
   "cell_type": "code",
   "execution_count": 173,
   "metadata": {
    "scrolled": true
   },
   "outputs": [
    {
     "data": {
      "text/html": [
       "<div>\n",
       "<style>\n",
       "    .dataframe thead tr:only-child th {\n",
       "        text-align: right;\n",
       "    }\n",
       "\n",
       "    .dataframe thead th {\n",
       "        text-align: left;\n",
       "    }\n",
       "\n",
       "    .dataframe tbody tr th {\n",
       "        vertical-align: top;\n",
       "    }\n",
       "</style>\n",
       "<table border=\"1\" class=\"dataframe\">\n",
       "  <thead>\n",
       "    <tr style=\"text-align: right;\">\n",
       "      <th></th>\n",
       "      <th>id</th>\n",
       "      <th>Operator</th>\n",
       "    </tr>\n",
       "  </thead>\n",
       "  <tbody>\n",
       "    <tr>\n",
       "      <th>0</th>\n",
       "      <td>4104757</td>\n",
       "      <td>Dirt Works</td>\n",
       "    </tr>\n",
       "    <tr>\n",
       "      <th>1</th>\n",
       "      <td>0801306</td>\n",
       "      <td>Holley Dirt Company, Inc</td>\n",
       "    </tr>\n",
       "    <tr>\n",
       "      <th>2</th>\n",
       "      <td>3609931</td>\n",
       "      <td>M.R. Dirt Inc.</td>\n",
       "    </tr>\n",
       "  </tbody>\n",
       "</table>\n",
       "</div>"
      ],
      "text/plain": [
       "        id                  Operator\n",
       "0  4104757                Dirt Works\n",
       "1  0801306  Holley Dirt Company, Inc\n",
       "2  3609931            M.R. Dirt Inc."
      ]
     },
     "execution_count": 173,
     "metadata": {},
     "output_type": "execute_result"
    }
   ],
   "source": [
    "import pandas as pd\n",
    "df"
   ]
  },
  {
   "cell_type": "markdown",
   "metadata": {},
   "source": [
    "### Scrape the violations for each mine\n",
    "\n",
    "**Save each mine's violations into separate CSV files.** Each CSV file must include the following fields:\n",
    "\n",
    "- Citation number\n",
    "- Case number\n",
    "- Standard violated\n",
    "- Link to standard\n",
    "- Proposed penalty\n",
    "- Amount paid to date\n",
    "\n",
    "Make sure you are saving them into **separate files.** It might be nice to name them after the mine id.\n",
    "\n",
    "- *TIP: Use .apply for this*\n",
    "- *TIP: Print out the ID before you start scraping. That way you can take that ID and search manually to see if there is anything weird about the results.*\n",
    "- *TIP: If you need help with .apply, look at the \"Using apply in pandas\" notebook \n",
    "- *TIP: It's probably worth it to print the fields first, then save them to a CSV once you know it's all working.*"
   ]
  },
  {
   "cell_type": "code",
   "execution_count": 171,
   "metadata": {},
   "outputs": [],
   "source": [
    "def bob(row):\n",
    "    All = []\n",
    "    \n",
    "    driver = webdriver.Chrome()\n",
    "    driver.get('https://arlweb.msha.gov/drs/drshome.htm')\n",
    "    textbox = driver.find_elements_by_xpath('//*[@id=\"inputdrs\"]')[1]\n",
    "    textbox.send_keys(row['id'])\n",
    "    search_button = driver.find_element_by_xpath('//*[@id=\"content\"]/table[3]/tbody/tr[3]/td[2]/input')\n",
    "    search_button.click() \n",
    "    doc = BeautifulSoup(driver.page_source, 'html.parser')\n",
    "\n",
    "    rows = doc.find_all('tr', class_='drsviols')\n",
    "\n",
    "\n",
    "    for row in rows:\n",
    "        current = {}\n",
    "        try:\n",
    "            current['Citation number'] = row.find_all('td')[2].text.strip()\n",
    "        except:\n",
    "            current['Citation number'] = 'No Information'\n",
    "        try:\n",
    "            current['Case number'] = row.find_all('td')[3].text.strip()\n",
    "        except: \n",
    "            current['Case number'] = 'No Information'\n",
    "        try:\n",
    "            current['Standard violated'] = row.find_all('td')[10].find('font', attrs = {'color': '#0000FF '})\n",
    "        except:\n",
    "            current['Standard violated'] = 'No Information'\n",
    "        try: \n",
    "            current['Link to standard'] = row.find_all('td')[10].find('a')['href']\n",
    "        except:\n",
    "            current['Link to standard'] = 'No Information'\n",
    "        try:\n",
    "            current['Proposed penalty'] = row.find_all('td')[11].text.strip()\n",
    "        except:\n",
    "            current['Proposed penalty'] = 'No Information'\n",
    "        try:\n",
    "            current['Amount paid to date'] = row.find_all('td')[14].text.strip()\n",
    "        except:\n",
    "            current['Amount paid to date'] = 'No Information'\n",
    "\n",
    "        \n",
    "        All.append(current)\n",
    "    df = pd.DataFrame(All)\n",
    "    path = row['id'] + '.csv'\n",
    "    df.to_csv(path, index=False)\n",
    "    print(path, 'saved')"
   ]
  },
  {
   "cell_type": "code",
   "execution_count": 172,
   "metadata": {},
   "outputs": [
    {
     "name": "stdout",
     "output_type": "stream",
     "text": [
      "4104757.csv saved\n",
      "0801306.csv saved\n",
      "3609931.csv saved\n"
     ]
    },
    {
     "data": {
      "text/plain": [
       "0    None\n",
       "1    None\n",
       "2    None\n",
       "dtype: object"
      ]
     },
     "execution_count": 172,
     "metadata": {},
     "output_type": "execute_result"
    }
   ],
   "source": [
    "df.apply(bob, axis=1)"
   ]
  }
 ],
 "metadata": {
  "kernelspec": {
   "display_name": "Python 3",
   "language": "python",
   "name": "python3"
  },
  "language_info": {
   "codemirror_mode": {
    "name": "ipython",
    "version": 3
   },
   "file_extension": ".py",
   "mimetype": "text/x-python",
   "name": "python",
   "nbconvert_exporter": "python",
   "pygments_lexer": "ipython3",
   "version": "3.6.1"
  }
 },
 "nbformat": 4,
 "nbformat_minor": 2
}
