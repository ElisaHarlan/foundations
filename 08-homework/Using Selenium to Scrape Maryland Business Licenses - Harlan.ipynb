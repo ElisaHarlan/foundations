{
 "cells": [
  {
   "cell_type": "markdown",
   "metadata": {},
   "source": [
    "# Scraping Maryland Business Licenses with Selenium\n",
    "\n",
    "Maryland has a [great portal](https://jportal.mdcourts.gov/license/pbPublicSearch.jsp) for searching business licenses, but the only problem is you have to check a box in order to get in.\n",
    "\n",
    "1. Try to visit [the public search page](https://jportal.mdcourts.gov/license/pbPublicSearch.jsp)\n",
    "2. Get redirected to a \"I agree to this\" page. Click that you've read the disclaimer, click Enter the Site.\n",
    "3. Click \"Search License Records\" down at the bottom of the page\n",
    "4. You're now on the search page! From the \"Jurisdiction\" dropdown, select \"Statewide\"\n",
    "5. In the \"Trade Name\" field, type \"Vap%\" to try to find vape shops\n",
    "6. Click \"Next\" in the bottom right-hand corner to go to the next page\n",
    "7. Click \"Click for detail\" to see the details for a specific business license.\n",
    "\n",
    "That's a lot of stuff! **Let's get to work.**"
   ]
  },
  {
   "cell_type": "markdown",
   "metadata": {},
   "source": [
    "## Preparation\n",
    "\n",
    "### When you search for a business license, what URL should Selenium try to visit first?"
   ]
  },
  {
   "cell_type": "code",
   "execution_count": 1,
   "metadata": {
    "collapsed": true
   },
   "outputs": [],
   "source": [
    "# first page for business licensces: https://jportal.mdcourts.gov/license/index_disclaimer.jsp"
   ]
  },
  {
   "cell_type": "code",
   "execution_count": 2,
   "metadata": {
    "collapsed": true
   },
   "outputs": [],
   "source": [
    "url = 'https://jportal.mdcourts.gov/license/index_disclaimer.jsp'\n",
    "from selenium import webdriver\n",
    "from bs4 import BeautifulSoup \n",
    "driver = webdriver.Chrome()\n",
    "driver.get(url)"
   ]
  },
  {
   "cell_type": "markdown",
   "metadata": {},
   "source": [
    "**It isn't going to work, though! It's going to redirect to that intro page.** You can use *Incognito mode* to go back through the \"Check the box, etc\" series of pages.\n",
    "\n",
    "### How will you identify the checkbox to check it?\n",
    "\n",
    "Selenium can find elements by:\n",
    "\n",
    "- name\n",
    "- Class\n",
    "- ID\n",
    "- CSS selector (**ASK ME WHAT THIS IS** if you don't know)\n",
    "- XPath (**ASK ME WHAT THIS IS** because you definitely don't know)\n",
    "- Link text\n",
    "- Partial link text\n",
    "\n",
    "So in other words, what's unique about this element?\n",
    "\n",
    "- *TIP: I have a secret awesome way to do this, but you have to ask.*"
   ]
  },
  {
   "cell_type": "code",
   "execution_count": 3,
   "metadata": {
    "collapsed": true
   },
   "outputs": [],
   "source": [
    "# .find_element_by_xpath('//*[@id=\"checkbox\"]').click()"
   ]
  },
  {
   "cell_type": "code",
   "execution_count": 4,
   "metadata": {},
   "outputs": [
    {
     "name": "stdout",
     "output_type": "stream",
     "text": [
      "<selenium.webdriver.remote.webelement.WebElement (session=\"fbf3c2699107ac0b668d6e3039c60606\", element=\"0.9235239769307022-1\")>\n"
     ]
    }
   ],
   "source": [
    "checkbox = driver.find_element_by_xpath('//*[@id=\"checkbox\"]')\n",
    "print(checkbox)"
   ]
  },
  {
   "cell_type": "code",
   "execution_count": 5,
   "metadata": {
    "collapsed": true
   },
   "outputs": [],
   "source": [
    "checkbox.click()"
   ]
  },
  {
   "cell_type": "markdown",
   "metadata": {},
   "source": [
    "### How will you identify the button to select it, or the form to submit it?\n",
    "\n",
    "Selenium can submit forms by either\n",
    "\n",
    "- Selecting the form and using `.submit()`, or\n",
    "- Selecting the button and using `.click()`\n",
    "\n",
    "You only need to be able to get **one, not both.**"
   ]
  },
  {
   "cell_type": "code",
   "execution_count": 6,
   "metadata": {},
   "outputs": [
    {
     "name": "stdout",
     "output_type": "stream",
     "text": [
      "<selenium.webdriver.remote.webelement.WebElement (session=\"fbf3c2699107ac0b668d6e3039c60606\", element=\"0.9235239769307022-2\")>\n"
     ]
    }
   ],
   "source": [
    "enter_button = driver.find_element_by_xpath('/html/body/table/tbody/tr[7]/td/form/div/input[2]')\n",
    "print(enter_button)\n",
    "enter_button.click()"
   ]
  },
  {
   "cell_type": "markdown",
   "metadata": {},
   "source": [
    "### Once you're on the next page, how will you click the \"SEARCH LICENSE RECORDS\" link or follow its URL?"
   ]
  },
  {
   "cell_type": "code",
   "execution_count": 7,
   "metadata": {},
   "outputs": [
    {
     "name": "stdout",
     "output_type": "stream",
     "text": [
      "<selenium.webdriver.remote.webelement.WebElement (session=\"fbf3c2699107ac0b668d6e3039c60606\", element=\"0.9875494599627848-1\")>\n"
     ]
    }
   ],
   "source": [
    "search_licence_button = driver.find_element_by_xpath('/html/body/table[2]/tbody/tr[6]/td[2]/a[2]')\n",
    "print(search_licence_button)\n",
    "search_licence_button.click()"
   ]
  },
  {
   "cell_type": "markdown",
   "metadata": {},
   "source": [
    "### Now you're on the form page. How do you pick \"Statewide\" for the jurisdiction dropdown?"
   ]
  },
  {
   "cell_type": "code",
   "execution_count": 8,
   "metadata": {},
   "outputs": [
    {
     "name": "stdout",
     "output_type": "stream",
     "text": [
      "<selenium.webdriver.remote.webelement.WebElement (session=\"fbf3c2699107ac0b668d6e3039c60606\", element=\"0.1180056935980145-1\")>\n"
     ]
    }
   ],
   "source": [
    "select_button = driver.find_element_by_xpath('//*[@id=\"slcJurisdiction\"]/option[2]')\n",
    "print(select_button)\n",
    "select_button.click()"
   ]
  },
  {
   "cell_type": "markdown",
   "metadata": {},
   "source": [
    "### How do you type \"vap%\" into the Trade Name field?"
   ]
  },
  {
   "cell_type": "code",
   "execution_count": 9,
   "metadata": {
    "collapsed": true
   },
   "outputs": [],
   "source": [
    "from selenium.webdriver.support.ui import Select\n",
    "from selenium.webdriver.common.keys import Keys"
   ]
  },
  {
   "cell_type": "code",
   "execution_count": 10,
   "metadata": {
    "collapsed": true
   },
   "outputs": [],
   "source": [
    "textbox = driver.find_element_by_xpath('//*[@id=\"txtTradeName\"]')\n",
    "textbox.send_keys('Vap%')"
   ]
  },
  {
   "cell_type": "markdown",
   "metadata": {},
   "source": [
    "### How do you click the submit button or submit the form?"
   ]
  },
  {
   "cell_type": "code",
   "execution_count": 11,
   "metadata": {
    "collapsed": true
   },
   "outputs": [],
   "source": [
    "submit_button = driver.find_element_by_xpath('/html/body/table[2]/tbody/tr[4]/td[2]/form/table/tbody/tr[14]/td/input[1]')\n",
    "submit_button.click()"
   ]
  },
  {
   "cell_type": "markdown",
   "metadata": {},
   "source": [
    "### How can you find and click the 'Next' button on the search results page?"
   ]
  },
  {
   "cell_type": "code",
   "execution_count": 12,
   "metadata": {
    "collapsed": true
   },
   "outputs": [],
   "source": [
    "next_button = driver.find_element_by_xpath('/html/body/table[2]/tbody/tr[4]/td[2]/table[2]/tbody/tr/td[3]/a/nobr')\n",
    "next_button.click()"
   ]
  },
  {
   "cell_type": "markdown",
   "metadata": {},
   "source": [
    "# Okay, let's scrape!\n",
    "\n",
    "### Use Selenium to search for vape shops statewide, and then click through until it reaches the last page.\n",
    "\n",
    "Don't scrape yet!"
   ]
  },
  {
   "cell_type": "code",
   "execution_count": 13,
   "metadata": {
    "collapsed": true
   },
   "outputs": [],
   "source": [
    "while True:\n",
    "    \n",
    "    try:\n",
    "        next_button = driver.find_element_by_xpath('/html/body/table[2]/tbody/tr[4]/td[2]/table[2]/tbody/tr/td[3]/a/nobr')\n",
    "        next_button.click()\n",
    "    except:\n",
    "        break "
   ]
  },
  {
   "cell_type": "code",
   "execution_count": 14,
   "metadata": {
    "collapsed": true
   },
   "outputs": [],
   "source": [
    "while True:\n",
    "    try:\n",
    "        back_button = driver.find_element_by_xpath('/html/body/table[2]/tbody/tr[4]/td[2]/table[2]/tbody/tr/td[1]/a/nobr')\n",
    "        back_button.click()\n",
    "    except:\n",
    "        break "
   ]
  },
  {
   "cell_type": "markdown",
   "metadata": {},
   "source": [
    "### Use Selenium to scrape the first page of search results for vape shops statewide (well, we'll try).\n",
    "\n",
    "- *TIP: You can find elements/text using Selenium, or use BeautifulSoup with `doc = BeautifulSoup(driver.page_source)`*\n",
    "\n",
    "I've included some BeautifulSoup code that might be helpful. If you use it, **ask me how I made it.** It's important."
   ]
  },
  {
   "cell_type": "code",
   "execution_count": 15,
   "metadata": {
    "collapsed": true
   },
   "outputs": [],
   "source": [
    "# IF YOU ARE USING BEAUTIFULSOUP, HERE IS SOME SAMPLE CODE\n",
    "# IF YOU USE THIS CODE, ASK ME HOW I MADE IT. IT'S IMPORTANT.\n",
    "#len(business_headers)"
   ]
  },
  {
   "cell_type": "code",
   "execution_count": 16,
   "metadata": {
    "collapsed": true
   },
   "outputs": [],
   "source": [
    "doc = BeautifulSoup(driver.page_source, 'html.parser')"
   ]
  },
  {
   "cell_type": "code",
   "execution_count": 17,
   "metadata": {
    "scrolled": true
   },
   "outputs": [
    {
     "data": {
      "text/plain": [
       "[{'Address': '1724 N SALISBURY BLVD UNIT 2',\n",
       "  'City': 'SALISBURY, MD 21801',\n",
       "  'Company': 'VAPE IT STORE I',\n",
       "  'Issued Date': 'Issued Date: 4/27/2017',\n",
       "  'Licence Status': 'Lic. Status: Issued',\n",
       "  'License Number': 'License: 22173807',\n",
       "  'Name': 'AMIN NARGIS',\n",
       "  'State': 'Wicomico County',\n",
       "  'url': 'pbLicenseDetail.jsp?owi=ZNl7eAo8j58%3D'},\n",
       " {'Address': '1015 S SALISBURY BLVD',\n",
       "  'City': 'SALISBURY, MD 21801',\n",
       "  'Company': 'VAPE IT STORE II',\n",
       "  'Issued Date': 'Issued Date: 4/27/2017',\n",
       "  'Licence Status': 'Lic. Status: Issued',\n",
       "  'License Number': 'License: 22173808',\n",
       "  'Name': 'AMIN NARGIS',\n",
       "  'State': 'Wicomico County',\n",
       "  'url': 'pbLicenseDetail.jsp?owi=hb0Q%2B144PQw%3D'},\n",
       " {'Address': '2299 JOHNS HOPKINS ROAD',\n",
       "  'City': 'GAMBRILLS, MD 21054',\n",
       "  'Company': 'VAPEPAD THE',\n",
       "  'Issued Date': 'Issued Date: 4/05/2017',\n",
       "  'Licence Status': 'Lic. Status: Issued',\n",
       "  'License Number': 'License: 02104436',\n",
       "  'Name': 'ANJ DISTRIBUTIONS LLC',\n",
       "  'State': 'Anne Arundel County',\n",
       "  'url': 'pbLicenseDetail.jsp?owi=4O6WsryDTV4%3D'},\n",
       " {'Address': '110 S. PINEY RD',\n",
       "  'City': 'CHESTER, MD 21619',\n",
       "  'Company': 'VAPE FROG',\n",
       "  'Issued Date': 'Issued Date: 5/31/2017',\n",
       "  'Licence Status': 'Lic. Status: Issued',\n",
       "  'License Number': 'License: 17165957',\n",
       "  'Name': 'COX TRADING COMPANY L L C',\n",
       "  'State': \"Queen Anne's County\",\n",
       "  'url': 'pbLicenseDetail.jsp?owi=%2FOSo0KMLj8I%3D'},\n",
       " {'Address': '346 RITCHIE HIGHWAY',\n",
       "  'City': 'SEVERNA PARK, MD 21146',\n",
       "  'Company': 'VAPE FROG',\n",
       "  'Issued Date': '',\n",
       "  'Licence Status': 'Lic. Status: Pending',\n",
       "  'License Number': '',\n",
       "  'Name': 'COX TRADING LLC',\n",
       "  'State': 'Anne Arundel County'}]"
      ]
     },
     "execution_count": 17,
     "metadata": {},
     "output_type": "execute_result"
    }
   ],
   "source": [
    "business_headers = doc.find_all('tr',class_='searchfieldtitle')\n",
    "business_headers\n",
    "\n",
    "Info = []\n",
    "\n",
    "for license in business_headers:\n",
    "    current = {}\n",
    "    \n",
    "    current['Company'] = license.find('span').text\n",
    "    if license.find('a'):\n",
    "        current['url'] = license.find('a')['href']\n",
    "    current['Name'] = license.find_next_siblings()[0].find_all('td')[1].text\n",
    "    current['Licence Status'] = license.find_next_siblings()[0].find_all('td')[2].text\n",
    "    current['Address'] = license.find_next_siblings()[1].find_all('td')[1].text\n",
    "    current['License Number'] = license.find_next_siblings()[1].find_all('td')[2].text \n",
    "    current['City'] = license.find_next_siblings()[2].find_all('td')[1].text\n",
    "    current['Issued Date'] = license.find_next_siblings()[2].find_all('td')[2].text\n",
    "    current['State'] = license.find_next_siblings()[3].find_all('td')[1].text\n",
    "    Info.append(current)\n",
    "\n",
    "Info\n"
   ]
  },
  {
   "cell_type": "markdown",
   "metadata": {},
   "source": [
    "### Save these into `vape-results.csv`"
   ]
  },
  {
   "cell_type": "code",
   "execution_count": 18,
   "metadata": {},
   "outputs": [
    {
     "data": {
      "text/plain": [
       "<bound method NDFrame.head of                         Address                    City           Company  \\\n",
       "0  1724 N SALISBURY BLVD UNIT 2     SALISBURY, MD 21801   VAPE IT STORE I   \n",
       "1         1015 S SALISBURY BLVD     SALISBURY, MD 21801  VAPE IT STORE II   \n",
       "2       2299 JOHNS HOPKINS ROAD     GAMBRILLS, MD 21054       VAPEPAD THE   \n",
       "3               110 S. PINEY RD       CHESTER, MD 21619         VAPE FROG   \n",
       "4           346 RITCHIE HIGHWAY  SEVERNA PARK, MD 21146         VAPE FROG   \n",
       "\n",
       "              Issued Date        Licence Status     License Number  \\\n",
       "0  Issued Date: 4/27/2017   Lic. Status: Issued  License: 22173807   \n",
       "1  Issued Date: 4/27/2017   Lic. Status: Issued  License: 22173808   \n",
       "2  Issued Date: 4/05/2017   Lic. Status: Issued  License: 02104436   \n",
       "3  Issued Date: 5/31/2017   Lic. Status: Issued  License: 17165957   \n",
       "4                          Lic. Status: Pending                      \n",
       "\n",
       "                        Name                State  \\\n",
       "0                AMIN NARGIS      Wicomico County   \n",
       "1                AMIN NARGIS      Wicomico County   \n",
       "2      ANJ DISTRIBUTIONS LLC  Anne Arundel County   \n",
       "3  COX TRADING COMPANY L L C  Queen Anne's County   \n",
       "4            COX TRADING LLC  Anne Arundel County   \n",
       "\n",
       "                                        url  \n",
       "0    pbLicenseDetail.jsp?owi=ZNl7eAo8j58%3D  \n",
       "1  pbLicenseDetail.jsp?owi=hb0Q%2B144PQw%3D  \n",
       "2    pbLicenseDetail.jsp?owi=4O6WsryDTV4%3D  \n",
       "3  pbLicenseDetail.jsp?owi=%2FOSo0KMLj8I%3D  \n",
       "4                                       NaN  >"
      ]
     },
     "execution_count": 18,
     "metadata": {},
     "output_type": "execute_result"
    }
   ],
   "source": [
    "import pandas as pd\n",
    "df = pd.DataFrame(Info)\n",
    "df.head"
   ]
  },
  {
   "cell_type": "code",
   "execution_count": 19,
   "metadata": {},
   "outputs": [
    {
     "data": {
      "text/html": [
       "<div>\n",
       "<style>\n",
       "    .dataframe thead tr:only-child th {\n",
       "        text-align: right;\n",
       "    }\n",
       "\n",
       "    .dataframe thead th {\n",
       "        text-align: left;\n",
       "    }\n",
       "\n",
       "    .dataframe tbody tr th {\n",
       "        vertical-align: top;\n",
       "    }\n",
       "</style>\n",
       "<table border=\"1\" class=\"dataframe\">\n",
       "  <thead>\n",
       "    <tr style=\"text-align: right;\">\n",
       "      <th></th>\n",
       "      <th>Address</th>\n",
       "      <th>City</th>\n",
       "      <th>Company</th>\n",
       "      <th>Issued Date</th>\n",
       "      <th>Licence Status</th>\n",
       "      <th>License Number</th>\n",
       "      <th>Name</th>\n",
       "      <th>State</th>\n",
       "      <th>url</th>\n",
       "    </tr>\n",
       "  </thead>\n",
       "  <tbody>\n",
       "    <tr>\n",
       "      <th>0</th>\n",
       "      <td>1724 N SALISBURY BLVD UNIT 2</td>\n",
       "      <td>SALISBURY, MD 21801</td>\n",
       "      <td>VAPE IT STORE I</td>\n",
       "      <td>Issued Date: 4/27/2017</td>\n",
       "      <td>Lic. Status: Issued</td>\n",
       "      <td>License: 22173807</td>\n",
       "      <td>AMIN NARGIS</td>\n",
       "      <td>Wicomico County</td>\n",
       "      <td>pbLicenseDetail.jsp?owi=ZNl7eAo8j58%3D</td>\n",
       "    </tr>\n",
       "    <tr>\n",
       "      <th>1</th>\n",
       "      <td>1015 S SALISBURY BLVD</td>\n",
       "      <td>SALISBURY, MD 21801</td>\n",
       "      <td>VAPE IT STORE II</td>\n",
       "      <td>Issued Date: 4/27/2017</td>\n",
       "      <td>Lic. Status: Issued</td>\n",
       "      <td>License: 22173808</td>\n",
       "      <td>AMIN NARGIS</td>\n",
       "      <td>Wicomico County</td>\n",
       "      <td>pbLicenseDetail.jsp?owi=hb0Q%2B144PQw%3D</td>\n",
       "    </tr>\n",
       "    <tr>\n",
       "      <th>2</th>\n",
       "      <td>2299 JOHNS HOPKINS ROAD</td>\n",
       "      <td>GAMBRILLS, MD 21054</td>\n",
       "      <td>VAPEPAD THE</td>\n",
       "      <td>Issued Date: 4/05/2017</td>\n",
       "      <td>Lic. Status: Issued</td>\n",
       "      <td>License: 02104436</td>\n",
       "      <td>ANJ DISTRIBUTIONS LLC</td>\n",
       "      <td>Anne Arundel County</td>\n",
       "      <td>pbLicenseDetail.jsp?owi=4O6WsryDTV4%3D</td>\n",
       "    </tr>\n",
       "    <tr>\n",
       "      <th>3</th>\n",
       "      <td>110 S. PINEY RD</td>\n",
       "      <td>CHESTER, MD 21619</td>\n",
       "      <td>VAPE FROG</td>\n",
       "      <td>Issued Date: 5/31/2017</td>\n",
       "      <td>Lic. Status: Issued</td>\n",
       "      <td>License: 17165957</td>\n",
       "      <td>COX TRADING COMPANY L L C</td>\n",
       "      <td>Queen Anne's County</td>\n",
       "      <td>pbLicenseDetail.jsp?owi=%2FOSo0KMLj8I%3D</td>\n",
       "    </tr>\n",
       "    <tr>\n",
       "      <th>4</th>\n",
       "      <td>346 RITCHIE HIGHWAY</td>\n",
       "      <td>SEVERNA PARK, MD 21146</td>\n",
       "      <td>VAPE FROG</td>\n",
       "      <td>NaN</td>\n",
       "      <td>Lic. Status: Pending</td>\n",
       "      <td>NaN</td>\n",
       "      <td>COX TRADING LLC</td>\n",
       "      <td>Anne Arundel County</td>\n",
       "      <td>NaN</td>\n",
       "    </tr>\n",
       "  </tbody>\n",
       "</table>\n",
       "</div>"
      ],
      "text/plain": [
       "                        Address                    City           Company  \\\n",
       "0  1724 N SALISBURY BLVD UNIT 2     SALISBURY, MD 21801   VAPE IT STORE I   \n",
       "1         1015 S SALISBURY BLVD     SALISBURY, MD 21801  VAPE IT STORE II   \n",
       "2       2299 JOHNS HOPKINS ROAD     GAMBRILLS, MD 21054       VAPEPAD THE   \n",
       "3               110 S. PINEY RD       CHESTER, MD 21619         VAPE FROG   \n",
       "4           346 RITCHIE HIGHWAY  SEVERNA PARK, MD 21146         VAPE FROG   \n",
       "\n",
       "              Issued Date        Licence Status     License Number  \\\n",
       "0  Issued Date: 4/27/2017   Lic. Status: Issued  License: 22173807   \n",
       "1  Issued Date: 4/27/2017   Lic. Status: Issued  License: 22173808   \n",
       "2  Issued Date: 4/05/2017   Lic. Status: Issued  License: 02104436   \n",
       "3  Issued Date: 5/31/2017   Lic. Status: Issued  License: 17165957   \n",
       "4                     NaN  Lic. Status: Pending                NaN   \n",
       "\n",
       "                        Name                State  \\\n",
       "0                AMIN NARGIS      Wicomico County   \n",
       "1                AMIN NARGIS      Wicomico County   \n",
       "2      ANJ DISTRIBUTIONS LLC  Anne Arundel County   \n",
       "3  COX TRADING COMPANY L L C  Queen Anne's County   \n",
       "4            COX TRADING LLC  Anne Arundel County   \n",
       "\n",
       "                                        url  \n",
       "0    pbLicenseDetail.jsp?owi=ZNl7eAo8j58%3D  \n",
       "1  pbLicenseDetail.jsp?owi=hb0Q%2B144PQw%3D  \n",
       "2    pbLicenseDetail.jsp?owi=4O6WsryDTV4%3D  \n",
       "3  pbLicenseDetail.jsp?owi=%2FOSo0KMLj8I%3D  \n",
       "4                                       NaN  "
      ]
     },
     "execution_count": 19,
     "metadata": {},
     "output_type": "execute_result"
    }
   ],
   "source": [
    "df.to_csv('vape-results.csv' , index = False)\n",
    "vape_df = pd.read_csv('vape-results.csv')\n",
    "vape_df.head()"
   ]
  },
  {
   "cell_type": "markdown",
   "metadata": {},
   "source": [
    "## Use Selenium to scrape ALL pages of results, save the results into `vape-results-all.csv`."
   ]
  },
  {
   "cell_type": "code",
   "execution_count": 20,
   "metadata": {},
   "outputs": [
    {
     "data": {
      "text/plain": [
       "[{'Address': '1724 N SALISBURY BLVD UNIT 2',\n",
       "  'City': 'SALISBURY, MD 21801',\n",
       "  'Company': 'VAPE IT STORE I',\n",
       "  'Issued Date': 'Issued Date: 4/27/2017',\n",
       "  'Licence Status': 'Lic. Status: Issued',\n",
       "  'License Number': 'License: 22173807',\n",
       "  'Name': 'AMIN NARGIS',\n",
       "  'State': 'Wicomico County',\n",
       "  'Url': 'pbLicenseDetail.jsp?owi=ZNl7eAo8j58%3D'},\n",
       " {'Address': '1015 S SALISBURY BLVD',\n",
       "  'City': 'SALISBURY, MD 21801',\n",
       "  'Company': 'VAPE IT STORE II',\n",
       "  'Issued Date': 'Issued Date: 4/27/2017',\n",
       "  'Licence Status': 'Lic. Status: Issued',\n",
       "  'License Number': 'License: 22173808',\n",
       "  'Name': 'AMIN NARGIS',\n",
       "  'State': 'Wicomico County',\n",
       "  'Url': 'pbLicenseDetail.jsp?owi=hb0Q%2B144PQw%3D'},\n",
       " {'Address': '2299 JOHNS HOPKINS ROAD',\n",
       "  'City': 'GAMBRILLS, MD 21054',\n",
       "  'Company': 'VAPEPAD THE',\n",
       "  'Issued Date': 'Issued Date: 4/05/2017',\n",
       "  'Licence Status': 'Lic. Status: Issued',\n",
       "  'License Number': 'License: 02104436',\n",
       "  'Name': 'ANJ DISTRIBUTIONS LLC',\n",
       "  'State': 'Anne Arundel County',\n",
       "  'Url': 'pbLicenseDetail.jsp?owi=4O6WsryDTV4%3D'},\n",
       " {'Address': '110 S. PINEY RD',\n",
       "  'City': 'CHESTER, MD 21619',\n",
       "  'Company': 'VAPE FROG',\n",
       "  'Issued Date': 'Issued Date: 5/31/2017',\n",
       "  'Licence Status': 'Lic. Status: Issued',\n",
       "  'License Number': 'License: 17165957',\n",
       "  'Name': 'COX TRADING COMPANY L L C',\n",
       "  'State': \"Queen Anne's County\",\n",
       "  'Url': 'pbLicenseDetail.jsp?owi=%2FOSo0KMLj8I%3D'},\n",
       " {'Address': '346 RITCHIE HIGHWAY',\n",
       "  'City': 'SEVERNA PARK, MD 21146',\n",
       "  'Company': 'VAPE FROG',\n",
       "  'Issued Date': '',\n",
       "  'Licence Status': 'Lic. Status: Pending',\n",
       "  'License Number': '',\n",
       "  'Name': 'COX TRADING LLC',\n",
       "  'State': 'Anne Arundel County'},\n",
       " {'Address': '185 MITCHELLS CHANCE RD',\n",
       "  'City': 'EDGEWATER, MD 21037',\n",
       "  'Company': 'VAPE LOFT (THE)',\n",
       "  'Issued Date': 'Issued Date: 4/13/2017',\n",
       "  'Licence Status': 'Lic. Status: Issued',\n",
       "  'License Number': 'License: 02102408',\n",
       "  'Name': 'DISBROW II EMERSON HARRINGTON',\n",
       "  'State': 'Anne Arundel County',\n",
       "  'Url': 'pbLicenseDetail.jsp?owi=yPPJHTQaq48%3D'},\n",
       " {'Address': '7104 MINSTREL UNIT #7',\n",
       "  'City': 'COLUMBIA, MD 21045',\n",
       "  'Company': 'VAPE N CIGAR',\n",
       "  'Issued Date': 'Issued Date: 5/19/2017',\n",
       "  'Licence Status': 'Lic. Status: Issued',\n",
       "  'License Number': 'License: 13141786',\n",
       "  'Name': 'DISCOUNT TOBACCO ESSEX LLC',\n",
       "  'State': 'Howard County',\n",
       "  'Url': 'pbLicenseDetail.jsp?owi=rFYg1%2FYMSpE%3D'},\n",
       " {'Address': '330 ONE FORTY VILLAGE ROAD',\n",
       "  'City': 'WESTMINSTER, MD 21157',\n",
       "  'Company': 'VAPE DOJO',\n",
       "  'Issued Date': 'Issued Date: 4/21/2017',\n",
       "  'Licence Status': 'Lic. Status: Issued',\n",
       "  'License Number': 'License: 06126253',\n",
       "  'Name': 'FAIRGROUND VILLAGE LLC',\n",
       "  'State': 'Carroll County',\n",
       "  'Url': 'pbLicenseDetail.jsp?owi=jSV6N9NjrfU%3D'},\n",
       " {'Address': '29890 THREE NOTCH ROAD',\n",
       "  'City': 'CHARLOTTE HALL, MD 20622',\n",
       "  'Company': 'VAPE HAVEN',\n",
       "  'Issued Date': '',\n",
       "  'Licence Status': 'Lic. Status: Pending',\n",
       "  'License Number': '',\n",
       "  'Name': 'GRIMM JENNIFER',\n",
       "  'State': \"St. Mary's County\"},\n",
       " {'Address': '356 ROMANCOKE ROAD',\n",
       "  'City': 'STEVENSVILLE, MD 21666',\n",
       "  'Company': 'VAPE BIRD',\n",
       "  'Issued Date': 'Issued Date: 4/13/2017',\n",
       "  'Licence Status': 'Lic. Status: Issued',\n",
       "  'License Number': 'License: 17166688',\n",
       "  'Name': 'HUTCH VAPES LLC',\n",
       "  'State': \"Queen Anne's County\",\n",
       "  'Url': 'pbLicenseDetail.jsp?owi=BoRRQixKE3w%3D'},\n",
       " {'Address': '110 S PINEY ROAD  STE 106',\n",
       "  'City': 'CHESTER, MD 21619',\n",
       "  'Company': 'VAPE FROG',\n",
       "  'Issued Date': '',\n",
       "  'Licence Status': 'Lic. Status: Pending',\n",
       "  'License Number': '',\n",
       "  'Name': 'HUTCHINS COX LLP',\n",
       "  'State': \"Queen Anne's County\"},\n",
       " {'Address': '28943 THREE NOTCH ROAD',\n",
       "  'City': 'MECHANICSVILLE, MD 20659',\n",
       "  'Company': 'VAPORS LOUNGE',\n",
       "  'Issued Date': 'Issued Date: 5/17/2017',\n",
       "  'Licence Status': 'Lic. Status: Issued',\n",
       "  'License Number': 'License: 18167503',\n",
       "  'Name': 'JAMESON WILLIAM',\n",
       "  'State': \"St. Mary's County\",\n",
       "  'Url': 'pbLicenseDetail.jsp?owi=FHXavHD6CW8%3D'},\n",
       " {'Address': '6843 CRAIN HIGHWAY',\n",
       "  'City': 'LA PLATA, MD 20646',\n",
       "  'Company': 'VAPORS LOUNGE',\n",
       "  'Issued Date': '',\n",
       "  'Licence Status': 'Lic. Status: Pending',\n",
       "  'License Number': '',\n",
       "  'Name': 'JAMESON WILLIAM E',\n",
       "  'State': 'Charles County'},\n",
       " {'Address': '6321 OLD BRANCH AVE',\n",
       "  'City': 'CAMP SPRINGS, MD 20748',\n",
       "  'Company': 'VAPIST MD',\n",
       "  'Issued Date': '',\n",
       "  'Licence Status': 'Lic. Status: Pending',\n",
       "  'License Number': '',\n",
       "  'Name': 'JEFFERS MICHAEL',\n",
       "  'State': \"St. Mary's County\"},\n",
       " {'Address': '6321 OLD BRANCH AVE',\n",
       "  'City': 'CAMP SPRINGS, MD 20748',\n",
       "  'Company': 'VAPIST MD LLC',\n",
       "  'Issued Date': '',\n",
       "  'Licence Status': 'Lic. Status: Pending',\n",
       "  'License Number': '',\n",
       "  'Name': 'JEFFERS MICHAEL W',\n",
       "  'State': \"Prince George's County\"},\n",
       " {'Address': '7954 B AND A BLVD',\n",
       "  'City': 'GLEN BURNIE, MD 21060',\n",
       "  'Company': 'VAPERTETMD',\n",
       "  'Issued Date': '',\n",
       "  'Licence Status': 'Lic. Status: Pending',\n",
       "  'License Number': '',\n",
       "  'Name': 'SHIN JENNY Y',\n",
       "  'State': 'Anne Arundel County'},\n",
       " {'Address': '6325 WASHINGTON BLVD',\n",
       "  'City': 'ELKRIDGE, MD 21075',\n",
       "  'Company': 'VAPERTEKMD',\n",
       "  'Issued Date': '',\n",
       "  'Licence Status': 'Lic. Status: Pending',\n",
       "  'License Number': '',\n",
       "  'Name': 'SHIN JENNY YOUNG',\n",
       "  'State': 'Howard County'},\n",
       " {'Address': '3203 NORTH POINT RD',\n",
       "  'City': 'BALTIMORE, MD 21222',\n",
       "  'Company': 'VAPORIOT',\n",
       "  'Issued Date': '',\n",
       "  'Licence Status': 'Lic. Status: Pending',\n",
       "  'License Number': '',\n",
       "  'Name': 'TAYLOR TRAVIS',\n",
       "  'State': 'Baltimore County'},\n",
       " {'Address': '519 LINDEN AVENUE UNIT 6',\n",
       "  'City': 'POCOMOKE CITY, MD 21851',\n",
       "  'Company': 'VAPE PLUS',\n",
       "  'Issued Date': 'Issued Date: 5/05/2017',\n",
       "  'Licence Status': 'Lic. Status: Issued',\n",
       "  'License Number': 'License: 23178140',\n",
       "  'Name': 'TRUE ENTERPRISE INC',\n",
       "  'State': 'Worcester County',\n",
       "  'Url': 'pbLicenseDetail.jsp?owi=9jayW6EkJb0%3D'},\n",
       " {'Address': '16521 S FREDERICK AVE',\n",
       "  'City': 'GAITHERSBURG, MD 20877',\n",
       "  'Company': 'VAPE  SOCIAL',\n",
       "  'Issued Date': 'Issued Date: 4/18/2017',\n",
       "  'Licence Status': 'Lic. Status: Issued',\n",
       "  'License Number': 'License: 15155429',\n",
       "  'Name': 'VAPE  SOCIAL  LLC',\n",
       "  'State': 'Montgomery County',\n",
       "  'Url': 'pbLicenseDetail.jsp?owi=UFdSJqjuDJw%3D'},\n",
       " {'Address': '2070 CRAIN HIGHWAY  UNIT F',\n",
       "  'City': 'WALDORF, MD 20601',\n",
       "  'Company': 'VAPE JUNGLE',\n",
       "  'Issued Date': 'Issued Date: 3/31/2017',\n",
       "  'Licence Status': 'Lic. Status: Issued',\n",
       "  'License Number': 'License: 08131285',\n",
       "  'Name': 'VAPE JUNGLE LLC',\n",
       "  'State': 'Charles County',\n",
       "  'Url': 'pbLicenseDetail.jsp?owi=9uDI2Ap%2Bgcg%3D'},\n",
       " {'Address': '4130 E JOPPA RD UNIT 109',\n",
       "  'City': 'NOTTINGHAM, MD 21236',\n",
       "  'Company': 'VAPE TIME',\n",
       "  'Issued Date': '',\n",
       "  'Licence Status': 'Lic. Status: Pending',\n",
       "  'License Number': '',\n",
       "  'Name': 'VAPE TIME LLC',\n",
       "  'State': 'Baltimore County'},\n",
       " {'Address': '11110 MALL CIRCLE',\n",
       "  'City': 'WALDORF, MD 20603',\n",
       "  'Company': 'VAPEBAR EXPESS',\n",
       "  'Issued Date': '',\n",
       "  'Licence Status': 'Lic. Status: Pending',\n",
       "  'License Number': '',\n",
       "  'Name': 'VAPEBAR EXPRESS LLC',\n",
       "  'State': 'Charles County'},\n",
       " {'Address': '3524 CRAIN HWY',\n",
       "  'City': 'BOWIE, MD 20716',\n",
       "  'Company': 'VAPOR 99',\n",
       "  'Issued Date': 'Issued Date: 5/03/2017',\n",
       "  'Licence Status': 'Lic. Status: Issued',\n",
       "  'License Number': 'License: 16165362',\n",
       "  'Name': 'VAPOR 99 LLC',\n",
       "  'State': \"Prince George's County\",\n",
       "  'Url': 'pbLicenseDetail.jsp?owi=i%2B3o6Pn2fZ0%3D'},\n",
       " {'Address': '8117 OCEAN GATEWAY UNIT #4',\n",
       "  'City': 'EASTON, MD 21601',\n",
       "  'Company': 'VAPOR ALLEY',\n",
       "  'Issued Date': 'Issued Date: 5/10/2017',\n",
       "  'Licence Status': 'Lic. Status: Issued',\n",
       "  'License Number': 'License: 20170900',\n",
       "  'Name': 'VAPOR ALLEY LLC',\n",
       "  'State': 'Talbot County',\n",
       "  'Url': 'pbLicenseDetail.jsp?owi=AwWeJLAC0Sk%3D'},\n",
       " {'Address': '11717 OLD NATIONAL PIKE',\n",
       "  'City': 'NEW MARKET, MD 21774',\n",
       "  'Company': 'VAPOR EMPORIUM',\n",
       "  'Issued Date': 'Issued Date: 4/14/2017',\n",
       "  'Licence Status': 'Lic. Status: Issued',\n",
       "  'License Number': 'License: 10135432',\n",
       "  'Name': 'VAPOR EMPORIUM MD LLC',\n",
       "  'State': 'Frederick County',\n",
       "  'Url': 'pbLicenseDetail.jsp?owi=5M8Ll7K4IFg%3D'},\n",
       " {'Address': '1913 LANSDOWNE ROAD SUITE E',\n",
       "  'City': 'BALTIMORE, MD 21227',\n",
       "  'Company': 'VAPOR VILLA',\n",
       "  'Issued Date': 'Issued Date: 4/12/2017',\n",
       "  'Licence Status': 'Lic. Status: Issued',\n",
       "  'License Number': 'License: 03121958',\n",
       "  'Name': 'VAPOR VILLA CORP',\n",
       "  'State': 'Baltimore County',\n",
       "  'Url': 'pbLicenseDetail.jsp?owi=HbUIQ4nA%2BJc%3D'},\n",
       " {'Address': '730 FREDERICK ROAD',\n",
       "  'City': 'CATONSVILLE, MD 21228',\n",
       "  'Company': 'VAPOR VILLA',\n",
       "  'Issued Date': 'Issued Date: 4/12/2017',\n",
       "  'Licence Status': 'Lic. Status: Issued',\n",
       "  'License Number': 'License: 03121959',\n",
       "  'Name': 'VAPOR VILLA CORP',\n",
       "  'State': 'Baltimore County',\n",
       "  'Url': 'pbLicenseDetail.jsp?owi=paJ%2B9HON8Tw%3D'},\n",
       " {'Address': '138 N BOND STREET',\n",
       "  'City': 'BEL AIR, MD 21014',\n",
       "  'Company': 'VAPE DOJO',\n",
       "  'Issued Date': 'Issued Date: 4/03/2017',\n",
       "  'Licence Status': 'Lic. Status: Issued',\n",
       "  'License Number': 'License: 12140135',\n",
       "  'Name': 'WALKER TRADING CO INC',\n",
       "  'State': 'Harford County',\n",
       "  'Url': 'pbLicenseDetail.jsp?owi=vq0V5g5O6Ss%3D'},\n",
       " {'Address': '3570 SAINT JOHNS LANE, SUITE 109',\n",
       "  'City': 'ELLICOTT CITY, MD 21042',\n",
       "  'Company': 'VAPE DOJO',\n",
       "  'Issued Date': 'Issued Date: 3/27/2017',\n",
       "  'Licence Status': 'Lic. Status: Issued',\n",
       "  'License Number': 'License: 13144108',\n",
       "  'Name': 'WALKER TRADING COMPANY INC',\n",
       "  'State': 'Howard County',\n",
       "  'Url': 'pbLicenseDetail.jsp?owi=gCiHAqQtAu8%3D'},\n",
       " {'Address': '11600 CROSSROAD CIR  STE E',\n",
       "  'City': 'BALTIMORE, MD 21220',\n",
       "  'Company': 'VAPE DOJO',\n",
       "  'Issued Date': '',\n",
       "  'Licence Status': 'Lic. Status: Pending',\n",
       "  'License Number': '',\n",
       "  'Name': 'WALKER TRADING COMPANY INC',\n",
       "  'State': 'Baltimore County'},\n",
       " {'Address': '3315 PLAZA WAY',\n",
       "  'City': 'WALDORF, MD 20603',\n",
       "  'Company': 'VAPEZ YARDHOUSE',\n",
       "  'Issued Date': '',\n",
       "  'Licence Status': 'Lic. Status: Pending',\n",
       "  'License Number': '',\n",
       "  'Name': 'YARKHOUSE EMPIRE INC',\n",
       "  'State': 'Charles County'}]"
      ]
     },
     "execution_count": 20,
     "metadata": {},
     "output_type": "execute_result"
    }
   ],
   "source": [
    "Info_all = []\n",
    "while True:\n",
    "    try:\n",
    "        doc = BeautifulSoup(driver.page_source, 'html.parser')\n",
    "        Business = doc.find_all('tr',class_='searchfieldtitle')\n",
    "        for license in Business:\n",
    "            current = {}\n",
    "            current['Company'] = license.find('span').text\n",
    "            if license.find('a'):\n",
    "                current['Url'] = license.find('a')['href']\n",
    "            current['Name'] = license.find_next_siblings()[0].find_all('td')[1].text\n",
    "            current['Licence Status'] = license.find_next_siblings()[0].find_all('td')[2].text\n",
    "            current['Address'] = license.find_next_siblings()[1].find_all('td')[1].text\n",
    "            current['License Number'] = license.find_next_siblings()[1].find_all('td')[2].text \n",
    "            current['City'] = license.find_next_siblings()[2].find_all('td')[1].text\n",
    "            current['Issued Date'] = license.find_next_siblings()[2].find_all('td')[2].text\n",
    "            current['State'] = license.find_next_siblings()[3].find_all('td')[1].text\n",
    "            Info_all.append(current)\n",
    "        next_button = driver.find_element_by_xpath('/html/body/table[2]/tbody/tr[4]/td[2]/table[2]/tbody/tr/td[3]/a/nobr')\n",
    "        next_button.click()\n",
    "    except:\n",
    "        break \n",
    "Info_all"
   ]
  },
  {
   "cell_type": "code",
   "execution_count": 21,
   "metadata": {},
   "outputs": [
    {
     "data": {
      "text/html": [
       "<div>\n",
       "<style>\n",
       "    .dataframe thead tr:only-child th {\n",
       "        text-align: right;\n",
       "    }\n",
       "\n",
       "    .dataframe thead th {\n",
       "        text-align: left;\n",
       "    }\n",
       "\n",
       "    .dataframe tbody tr th {\n",
       "        vertical-align: top;\n",
       "    }\n",
       "</style>\n",
       "<table border=\"1\" class=\"dataframe\">\n",
       "  <thead>\n",
       "    <tr style=\"text-align: right;\">\n",
       "      <th></th>\n",
       "      <th>Address</th>\n",
       "      <th>City</th>\n",
       "      <th>Company</th>\n",
       "      <th>Issued Date</th>\n",
       "      <th>Licence Status</th>\n",
       "      <th>License Number</th>\n",
       "      <th>Name</th>\n",
       "      <th>State</th>\n",
       "      <th>url</th>\n",
       "    </tr>\n",
       "  </thead>\n",
       "  <tbody>\n",
       "    <tr>\n",
       "      <th>0</th>\n",
       "      <td>1724 N SALISBURY BLVD UNIT 2</td>\n",
       "      <td>SALISBURY, MD 21801</td>\n",
       "      <td>VAPE IT STORE I</td>\n",
       "      <td>Issued Date: 4/27/2017</td>\n",
       "      <td>Lic. Status: Issued</td>\n",
       "      <td>License: 22173807</td>\n",
       "      <td>AMIN NARGIS</td>\n",
       "      <td>Wicomico County</td>\n",
       "      <td>pbLicenseDetail.jsp?owi=ZNl7eAo8j58%3D</td>\n",
       "    </tr>\n",
       "    <tr>\n",
       "      <th>1</th>\n",
       "      <td>1015 S SALISBURY BLVD</td>\n",
       "      <td>SALISBURY, MD 21801</td>\n",
       "      <td>VAPE IT STORE II</td>\n",
       "      <td>Issued Date: 4/27/2017</td>\n",
       "      <td>Lic. Status: Issued</td>\n",
       "      <td>License: 22173808</td>\n",
       "      <td>AMIN NARGIS</td>\n",
       "      <td>Wicomico County</td>\n",
       "      <td>pbLicenseDetail.jsp?owi=hb0Q%2B144PQw%3D</td>\n",
       "    </tr>\n",
       "    <tr>\n",
       "      <th>2</th>\n",
       "      <td>2299 JOHNS HOPKINS ROAD</td>\n",
       "      <td>GAMBRILLS, MD 21054</td>\n",
       "      <td>VAPEPAD THE</td>\n",
       "      <td>Issued Date: 4/05/2017</td>\n",
       "      <td>Lic. Status: Issued</td>\n",
       "      <td>License: 02104436</td>\n",
       "      <td>ANJ DISTRIBUTIONS LLC</td>\n",
       "      <td>Anne Arundel County</td>\n",
       "      <td>pbLicenseDetail.jsp?owi=4O6WsryDTV4%3D</td>\n",
       "    </tr>\n",
       "    <tr>\n",
       "      <th>3</th>\n",
       "      <td>110 S. PINEY RD</td>\n",
       "      <td>CHESTER, MD 21619</td>\n",
       "      <td>VAPE FROG</td>\n",
       "      <td>Issued Date: 5/31/2017</td>\n",
       "      <td>Lic. Status: Issued</td>\n",
       "      <td>License: 17165957</td>\n",
       "      <td>COX TRADING COMPANY L L C</td>\n",
       "      <td>Queen Anne's County</td>\n",
       "      <td>pbLicenseDetail.jsp?owi=%2FOSo0KMLj8I%3D</td>\n",
       "    </tr>\n",
       "    <tr>\n",
       "      <th>4</th>\n",
       "      <td>346 RITCHIE HIGHWAY</td>\n",
       "      <td>SEVERNA PARK, MD 21146</td>\n",
       "      <td>VAPE FROG</td>\n",
       "      <td>NaN</td>\n",
       "      <td>Lic. Status: Pending</td>\n",
       "      <td>NaN</td>\n",
       "      <td>COX TRADING LLC</td>\n",
       "      <td>Anne Arundel County</td>\n",
       "      <td>NaN</td>\n",
       "    </tr>\n",
       "  </tbody>\n",
       "</table>\n",
       "</div>"
      ],
      "text/plain": [
       "                        Address                    City           Company  \\\n",
       "0  1724 N SALISBURY BLVD UNIT 2     SALISBURY, MD 21801   VAPE IT STORE I   \n",
       "1         1015 S SALISBURY BLVD     SALISBURY, MD 21801  VAPE IT STORE II   \n",
       "2       2299 JOHNS HOPKINS ROAD     GAMBRILLS, MD 21054       VAPEPAD THE   \n",
       "3               110 S. PINEY RD       CHESTER, MD 21619         VAPE FROG   \n",
       "4           346 RITCHIE HIGHWAY  SEVERNA PARK, MD 21146         VAPE FROG   \n",
       "\n",
       "              Issued Date        Licence Status     License Number  \\\n",
       "0  Issued Date: 4/27/2017   Lic. Status: Issued  License: 22173807   \n",
       "1  Issued Date: 4/27/2017   Lic. Status: Issued  License: 22173808   \n",
       "2  Issued Date: 4/05/2017   Lic. Status: Issued  License: 02104436   \n",
       "3  Issued Date: 5/31/2017   Lic. Status: Issued  License: 17165957   \n",
       "4                     NaN  Lic. Status: Pending                NaN   \n",
       "\n",
       "                        Name                State  \\\n",
       "0                AMIN NARGIS      Wicomico County   \n",
       "1                AMIN NARGIS      Wicomico County   \n",
       "2      ANJ DISTRIBUTIONS LLC  Anne Arundel County   \n",
       "3  COX TRADING COMPANY L L C  Queen Anne's County   \n",
       "4            COX TRADING LLC  Anne Arundel County   \n",
       "\n",
       "                                        url  \n",
       "0    pbLicenseDetail.jsp?owi=ZNl7eAo8j58%3D  \n",
       "1  pbLicenseDetail.jsp?owi=hb0Q%2B144PQw%3D  \n",
       "2    pbLicenseDetail.jsp?owi=4O6WsryDTV4%3D  \n",
       "3  pbLicenseDetail.jsp?owi=%2FOSo0KMLj8I%3D  \n",
       "4                                       NaN  "
      ]
     },
     "execution_count": 21,
     "metadata": {},
     "output_type": "execute_result"
    }
   ],
   "source": [
    "df.to_csv('vape-results-all.csv' , index = False)\n",
    "vape_df = pd.read_csv('vape-results-all.csv')\n",
    "vape_df.head()"
   ]
  }
 ],
 "metadata": {
  "kernelspec": {
   "display_name": "Python 3",
   "language": "python",
   "name": "python3"
  },
  "language_info": {
   "codemirror_mode": {
    "name": "ipython",
    "version": 3
   },
   "file_extension": ".py",
   "mimetype": "text/x-python",
   "name": "python",
   "nbconvert_exporter": "python",
   "pygments_lexer": "ipython3",
   "version": "3.6.1"
  }
 },
 "nbformat": 4,
 "nbformat_minor": 2
}
