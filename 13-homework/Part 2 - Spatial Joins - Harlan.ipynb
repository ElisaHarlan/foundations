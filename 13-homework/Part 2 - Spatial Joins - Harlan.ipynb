{
 "cells": [
  {
   "cell_type": "markdown",
   "metadata": {},
   "source": [
    "# Number 2: Spatial Joins (Mapping NYC Art Galleries)\n",
    "\n",
    "You have two datasets:\n",
    "\n",
    "* A shapefile of New York City neighborhoods, unzipped into `nynta_14d/`\n",
    "* A csv of art galleries in New York City, called `galleries.csv`\n",
    "\n",
    "We're going to count the art galleries in each neighborhood, then create a choropleth map of the results.\n",
    "\n",
    "**MAKE SURE YOU HAVE COMPLETED PART ONE BEFORE YOU DO THIS ONE.**"
   ]
  },
  {
   "cell_type": "markdown",
   "metadata": {},
   "source": [
    "## Part Zero: Importing what you need\n",
    "\n",
    "Probably pandas, geopandas, a bit of matplotlib magic to make your graphics show up in the notebook, maybe some other stuff.."
   ]
  },
  {
   "cell_type": "code",
   "execution_count": 1,
   "metadata": {
    "collapsed": true
   },
   "outputs": [],
   "source": [
    "import pandas as pd\n",
    "import geopandas as gpd\n",
    "import numpy as np\n",
    "%matplotlib inline\n",
    "from shapely.geometry import Point "
   ]
  },
  {
   "cell_type": "markdown",
   "metadata": {},
   "source": [
    "## Part One: Opening your datasets\n",
    "\n",
    "**Open up both files!** I won't give you a long-winded explanation since I gave you one last time."
   ]
  },
  {
   "cell_type": "code",
   "execution_count": 3,
   "metadata": {},
   "outputs": [
    {
     "data": {
      "text/html": [
       "<div>\n",
       "<style>\n",
       "    .dataframe thead tr:only-child th {\n",
       "        text-align: right;\n",
       "    }\n",
       "\n",
       "    .dataframe thead th {\n",
       "        text-align: left;\n",
       "    }\n",
       "\n",
       "    .dataframe tbody tr th {\n",
       "        vertical-align: top;\n",
       "    }\n",
       "</style>\n",
       "<table border=\"1\" class=\"dataframe\">\n",
       "  <thead>\n",
       "    <tr style=\"text-align: right;\">\n",
       "      <th></th>\n",
       "      <th>BoroCode</th>\n",
       "      <th>BoroName</th>\n",
       "      <th>CountyFIPS</th>\n",
       "      <th>NTACode</th>\n",
       "      <th>NTAName</th>\n",
       "      <th>Shape_Area</th>\n",
       "      <th>Shape_Leng</th>\n",
       "      <th>geometry</th>\n",
       "    </tr>\n",
       "  </thead>\n",
       "  <tbody>\n",
       "    <tr>\n",
       "      <th>0</th>\n",
       "      <td>3</td>\n",
       "      <td>Brooklyn</td>\n",
       "      <td>047</td>\n",
       "      <td>BK43</td>\n",
       "      <td>Midwood</td>\n",
       "      <td>3.579964e+07</td>\n",
       "      <td>27996.591274</td>\n",
       "      <td>POLYGON ((998870.8071899414 168503.1193847656,...</td>\n",
       "    </tr>\n",
       "    <tr>\n",
       "      <th>1</th>\n",
       "      <td>3</td>\n",
       "      <td>Brooklyn</td>\n",
       "      <td>047</td>\n",
       "      <td>BK75</td>\n",
       "      <td>Bedford</td>\n",
       "      <td>3.262983e+07</td>\n",
       "      <td>29992.919174</td>\n",
       "      <td>POLYGON ((1000351.30279541 194574.900390625, 9...</td>\n",
       "    </tr>\n",
       "    <tr>\n",
       "      <th>2</th>\n",
       "      <td>2</td>\n",
       "      <td>Bronx</td>\n",
       "      <td>005</td>\n",
       "      <td>BX40</td>\n",
       "      <td>Fordham South</td>\n",
       "      <td>6.307284e+06</td>\n",
       "      <td>15878.272921</td>\n",
       "      <td>POLYGON ((1014295.119384766 253236.9890136719,...</td>\n",
       "    </tr>\n",
       "  </tbody>\n",
       "</table>\n",
       "</div>"
      ],
      "text/plain": [
       "   BoroCode  BoroName CountyFIPS NTACode        NTAName    Shape_Area  \\\n",
       "0         3  Brooklyn        047    BK43        Midwood  3.579964e+07   \n",
       "1         3  Brooklyn        047    BK75        Bedford  3.262983e+07   \n",
       "2         2     Bronx        005    BX40  Fordham South  6.307284e+06   \n",
       "\n",
       "     Shape_Leng                                           geometry  \n",
       "0  27996.591274  POLYGON ((998870.8071899414 168503.1193847656,...  \n",
       "1  29992.919174  POLYGON ((1000351.30279541 194574.900390625, 9...  \n",
       "2  15878.272921  POLYGON ((1014295.119384766 253236.9890136719,...  "
      ]
     },
     "execution_count": 3,
     "metadata": {},
     "output_type": "execute_result"
    }
   ],
   "source": [
    "neighborhood = gpd.read_file('/Volumes/Macintosh HD/Users/Elisa/Desktop/Lede_Program/1_Foundations/13_Session/13-homework/nynta_14d/nynta.shp')\n",
    "neighborhood.head(3)"
   ]
  },
  {
   "cell_type": "code",
   "execution_count": 4,
   "metadata": {},
   "outputs": [
    {
     "data": {
      "text/html": [
       "<div>\n",
       "<style>\n",
       "    .dataframe thead tr:only-child th {\n",
       "        text-align: right;\n",
       "    }\n",
       "\n",
       "    .dataframe thead th {\n",
       "        text-align: left;\n",
       "    }\n",
       "\n",
       "    .dataframe tbody tr th {\n",
       "        vertical-align: top;\n",
       "    }\n",
       "</style>\n",
       "<table border=\"1\" class=\"dataframe\">\n",
       "  <thead>\n",
       "    <tr style=\"text-align: right;\">\n",
       "      <th></th>\n",
       "      <th>name</th>\n",
       "      <th>tel</th>\n",
       "      <th>url</th>\n",
       "      <th>addr1</th>\n",
       "      <th>addr2</th>\n",
       "      <th>city</th>\n",
       "      <th>zip</th>\n",
       "      <th>longitude</th>\n",
       "      <th>latitude</th>\n",
       "    </tr>\n",
       "  </thead>\n",
       "  <tbody>\n",
       "    <tr>\n",
       "      <th>0</th>\n",
       "      <td>O'reilly William &amp; Co Ltd</td>\n",
       "      <td>(212) 396-1822</td>\n",
       "      <td>http://www.nyc.com/arts__attractions/oreilly_w...</td>\n",
       "      <td>52 E 76th St</td>\n",
       "      <td>NaN</td>\n",
       "      <td>New York</td>\n",
       "      <td>10021</td>\n",
       "      <td>-73.962731</td>\n",
       "      <td>40.773801</td>\n",
       "    </tr>\n",
       "    <tr>\n",
       "      <th>1</th>\n",
       "      <td>Organization of Independent Artists - Gallery 402</td>\n",
       "      <td>(212) 219-9213</td>\n",
       "      <td>http://www.nonprofitgallery.com/main/usa/ny/oi...</td>\n",
       "      <td>19 Hudson St.</td>\n",
       "      <td>NaN</td>\n",
       "      <td>New York</td>\n",
       "      <td>10013</td>\n",
       "      <td>-74.009386</td>\n",
       "      <td>40.716469</td>\n",
       "    </tr>\n",
       "    <tr>\n",
       "      <th>2</th>\n",
       "      <td>Owen Gallery</td>\n",
       "      <td>(212) 879-2415</td>\n",
       "      <td>http://www.owengallery.com/about-us</td>\n",
       "      <td>19 E 75th St</td>\n",
       "      <td>NaN</td>\n",
       "      <td>New York</td>\n",
       "      <td>10021</td>\n",
       "      <td>-73.964352</td>\n",
       "      <td>40.774001</td>\n",
       "    </tr>\n",
       "  </tbody>\n",
       "</table>\n",
       "</div>"
      ],
      "text/plain": [
       "                                                name             tel  \\\n",
       "0                          O'reilly William & Co Ltd  (212) 396-1822   \n",
       "1  Organization of Independent Artists - Gallery 402  (212) 219-9213   \n",
       "2                                       Owen Gallery  (212) 879-2415   \n",
       "\n",
       "                                                 url          addr1 addr2  \\\n",
       "0  http://www.nyc.com/arts__attractions/oreilly_w...   52 E 76th St   NaN   \n",
       "1  http://www.nonprofitgallery.com/main/usa/ny/oi...  19 Hudson St.   NaN   \n",
       "2                http://www.owengallery.com/about-us   19 E 75th St   NaN   \n",
       "\n",
       "       city    zip  longitude   latitude  \n",
       "0  New York  10021 -73.962731  40.773801  \n",
       "1  New York  10013 -74.009386  40.716469  \n",
       "2  New York  10021 -73.964352  40.774001  "
      ]
     },
     "execution_count": 4,
     "metadata": {},
     "output_type": "execute_result"
    }
   ],
   "source": [
    "galleries = pd.read_csv('galleries.csv')\n",
    "galleries.head(3)"
   ]
  },
  {
   "cell_type": "markdown",
   "metadata": {},
   "source": [
    "## Part Two: Converting your data\n",
    "\n",
    "In order to spatially join the data, they need to be in the same crs. Just like we did last time, set the CRS of the neighborhood map to be the same as the galleries. Use `.head()` to make sure the switch worked.\n",
    "\n",
    "(**Note:** If you want to update the dataframe permanently, you'll need to do `your_dataframe = your_dataframe.to_crs(...whatever...)`. Otherwise it won't keep the change on record.)"
   ]
  },
  {
   "cell_type": "code",
   "execution_count": 5,
   "metadata": {},
   "outputs": [
    {
     "data": {
      "text/html": [
       "<div>\n",
       "<style>\n",
       "    .dataframe thead tr:only-child th {\n",
       "        text-align: right;\n",
       "    }\n",
       "\n",
       "    .dataframe thead th {\n",
       "        text-align: left;\n",
       "    }\n",
       "\n",
       "    .dataframe tbody tr th {\n",
       "        vertical-align: top;\n",
       "    }\n",
       "</style>\n",
       "<table border=\"1\" class=\"dataframe\">\n",
       "  <thead>\n",
       "    <tr style=\"text-align: right;\">\n",
       "      <th></th>\n",
       "      <th>BoroCode</th>\n",
       "      <th>BoroName</th>\n",
       "      <th>CountyFIPS</th>\n",
       "      <th>NTACode</th>\n",
       "      <th>NTAName</th>\n",
       "      <th>Shape_Area</th>\n",
       "      <th>Shape_Leng</th>\n",
       "      <th>geometry</th>\n",
       "    </tr>\n",
       "  </thead>\n",
       "  <tbody>\n",
       "    <tr>\n",
       "      <th>0</th>\n",
       "      <td>3</td>\n",
       "      <td>Brooklyn</td>\n",
       "      <td>047</td>\n",
       "      <td>BK43</td>\n",
       "      <td>Midwood</td>\n",
       "      <td>3.579964e+07</td>\n",
       "      <td>27996.591274</td>\n",
       "      <td>POLYGON ((-73.94732672160579 40.62916656720946...</td>\n",
       "    </tr>\n",
       "    <tr>\n",
       "      <th>1</th>\n",
       "      <td>3</td>\n",
       "      <td>Brooklyn</td>\n",
       "      <td>047</td>\n",
       "      <td>BK75</td>\n",
       "      <td>Bedford</td>\n",
       "      <td>3.262983e+07</td>\n",
       "      <td>29992.919174</td>\n",
       "      <td>POLYGON ((-73.94193078816194 40.70072523469547...</td>\n",
       "    </tr>\n",
       "    <tr>\n",
       "      <th>2</th>\n",
       "      <td>2</td>\n",
       "      <td>Bronx</td>\n",
       "      <td>005</td>\n",
       "      <td>BX40</td>\n",
       "      <td>Fordham South</td>\n",
       "      <td>6.307284e+06</td>\n",
       "      <td>15878.272921</td>\n",
       "      <td>POLYGON ((-73.89138023380261 40.86170058826306...</td>\n",
       "    </tr>\n",
       "    <tr>\n",
       "      <th>3</th>\n",
       "      <td>3</td>\n",
       "      <td>Brooklyn</td>\n",
       "      <td>047</td>\n",
       "      <td>BK88</td>\n",
       "      <td>Borough Park</td>\n",
       "      <td>5.400502e+07</td>\n",
       "      <td>39247.227722</td>\n",
       "      <td>POLYGON ((-73.97604935591414 40.63127590564665...</td>\n",
       "    </tr>\n",
       "    <tr>\n",
       "      <th>4</th>\n",
       "      <td>3</td>\n",
       "      <td>Brooklyn</td>\n",
       "      <td>047</td>\n",
       "      <td>BK96</td>\n",
       "      <td>Rugby-Remsen Village</td>\n",
       "      <td>3.270695e+07</td>\n",
       "      <td>30957.853395</td>\n",
       "      <td>POLYGON ((-73.90855790522767 40.65209593779451...</td>\n",
       "    </tr>\n",
       "  </tbody>\n",
       "</table>\n",
       "</div>"
      ],
      "text/plain": [
       "   BoroCode  BoroName CountyFIPS NTACode               NTAName    Shape_Area  \\\n",
       "0         3  Brooklyn        047    BK43               Midwood  3.579964e+07   \n",
       "1         3  Brooklyn        047    BK75               Bedford  3.262983e+07   \n",
       "2         2     Bronx        005    BX40         Fordham South  6.307284e+06   \n",
       "3         3  Brooklyn        047    BK88          Borough Park  5.400502e+07   \n",
       "4         3  Brooklyn        047    BK96  Rugby-Remsen Village  3.270695e+07   \n",
       "\n",
       "     Shape_Leng                                           geometry  \n",
       "0  27996.591274  POLYGON ((-73.94732672160579 40.62916656720946...  \n",
       "1  29992.919174  POLYGON ((-73.94193078816194 40.70072523469547...  \n",
       "2  15878.272921  POLYGON ((-73.89138023380261 40.86170058826306...  \n",
       "3  39247.227722  POLYGON ((-73.97604935591414 40.63127590564665...  \n",
       "4  30957.853395  POLYGON ((-73.90855790522767 40.65209593779451...  "
      ]
     },
     "execution_count": 5,
     "metadata": {},
     "output_type": "execute_result"
    }
   ],
   "source": [
    "neighborhood = neighborhood.to_crs({'init':'epsg:4326'})\n",
    "neighborhood.head()"
   ]
  },
  {
   "cell_type": "markdown",
   "metadata": {},
   "source": [
    "Confirm that you converted correctly by mapping to see if they're on top of one another."
   ]
  },
  {
   "cell_type": "code",
   "execution_count": 6,
   "metadata": {},
   "outputs": [
    {
     "data": {
      "text/plain": [
       "{'init': 'epsg:4326'}"
      ]
     },
     "execution_count": 6,
     "metadata": {},
     "output_type": "execute_result"
    }
   ],
   "source": [
    "points = galleries.apply(lambda row: Point(row.longitude, row.latitude), axis=1) #for the points we need the Lon and Lat\n",
    "galleries = gpd.GeoDataFrame(galleries, geometry=points)\n",
    "galleries.crs = {'init': 'epsg:4326'}\n",
    "galleries.crs"
   ]
  },
  {
   "cell_type": "code",
   "execution_count": 7,
   "metadata": {},
   "outputs": [
    {
     "data": {
      "text/plain": [
       "<matplotlib.axes._subplots.AxesSubplot at 0x110e7af60>"
      ]
     },
     "execution_count": 7,
     "metadata": {},
     "output_type": "execute_result"
    },
    {
     "data": {
      "image/png": "[encoded data removed]",
      "text/plain": [
       "<matplotlib.figure.Figure at 0x1101b4fd0>"
      ]
     },
     "metadata": {},
     "output_type": "display_data"
    },
    {
     "data": {
      "image/png": "[encoded data removed]",
      "text/plain": [
       "<matplotlib.figure.Figure at 0x109a5a400>"
      ]
     },
     "metadata": {},
     "output_type": "display_data"
    }
   ],
   "source": [
    "neighborhood.plot()\n",
    "galleries.plot()"
   ]
  },
  {
   "cell_type": "code",
   "execution_count": 8,
   "metadata": {},
   "outputs": [
    {
     "data": {
      "text/plain": [
       "(-74.283370478149223,\n",
       " -73.672229948213371,\n",
       " 40.47514452610185,\n",
       " 40.936503645568806)"
      ]
     },
     "execution_count": 8,
     "metadata": {},
     "output_type": "execute_result"
    },
    {
     "data": {
      "image/png": "[encoded data removed]",
      "text/plain": [
       "<matplotlib.figure.Figure at 0x11201a9e8>"
      ]
     },
     "metadata": {},
     "output_type": "display_data"
    }
   ],
   "source": [
    "ax = neighborhood.plot(color='lightgrey', linewidth=0.25, edgecolor='red')\n",
    "galleries.plot(ax=ax, color='black', markeredgewidth=0, markersize=3)\n",
    "ax.axis('off')"
   ]
  },
  {
   "cell_type": "markdown",
   "metadata": {},
   "source": [
    "## Part Three: Assigning neighborhoods to galleries\n",
    "\n",
    "So now we have some galleries (points), and we have some neighborhoods (shapes), and we'd like to **see which neighborhood each gallery is in**. The end result will be a dataframe of galleries with a column that says which neighborhood it's in.\n",
    "\n",
    "We're going to take the columns from the neighborhood that matches, and wham! add them right to the gallery.\n",
    "\n",
    "To do this we're going to use a [spatial join](http://geopandas.org/mergingdata.html#spatial-joins). You do a spatial join by using `gpd.sjoin` along with a few parameters.\n",
    "\n",
    "```gpd.sjoin(dataset1, dataset2, how='...', op='...')```\n",
    "\n",
    "* **`dataset1`** is a GeoDataFrame - the one whose geography you WANT to keep\n",
    "* **`dataset2`** is a GeoDataFrame - the one whose geography you're giving up\n",
    "* **`how`** is the join type - it can be left, right, outer or inner. \n",
    "* **`op`** is the operation to say how the merge technically works: Should dataset 1 be inside of dataset 2? Dataset 1 be surrounding dataset 2? Do you just want any sort of intersection? This is the `op` parameter, and can be `within`, `contains`, or `intersects`.\n",
    "\n",
    "So now ask yourself these questions and get to work:\n",
    "\n",
    "1. **Pick which dataset you give `sjoin` first:** Do you want neighborhoods with galleries or galleries with neighborhoods?\n",
    "2. **What do you want to do with geographies that don't have any matches?** `left` to keep them anyway, `inner` to get rid of them.\n",
    "3. **What kind of geographic match do you want?** This is usually a tougher question when doing shapes vs. shapes\n",
    "\n",
    "Once you've tried your join, scroll to the right to make sure each gallery has a `BoroName`, `NTAName`, etc."
   ]
  },
  {
   "cell_type": "code",
   "execution_count": 9,
   "metadata": {
    "collapsed": true
   },
   "outputs": [],
   "source": [
    "neighborhoods_galleries = gpd.sjoin(galleries, neighborhood, how='inner', op='within')"
   ]
  },
  {
   "cell_type": "markdown",
   "metadata": {},
   "source": [
    "## Part Four: Using the new neighborhood info\n",
    "\n",
    "List out all of the galleries in the **East Village**."
   ]
  },
  {
   "cell_type": "code",
   "execution_count": 10,
   "metadata": {
    "scrolled": true
   },
   "outputs": [
    {
     "data": {
      "text/html": [
       "<div>\n",
       "<style>\n",
       "    .dataframe thead tr:only-child th {\n",
       "        text-align: right;\n",
       "    }\n",
       "\n",
       "    .dataframe thead th {\n",
       "        text-align: left;\n",
       "    }\n",
       "\n",
       "    .dataframe tbody tr th {\n",
       "        vertical-align: top;\n",
       "    }\n",
       "</style>\n",
       "<table border=\"1\" class=\"dataframe\">\n",
       "  <thead>\n",
       "    <tr style=\"text-align: right;\">\n",
       "      <th></th>\n",
       "      <th>name</th>\n",
       "      <th>tel</th>\n",
       "      <th>url</th>\n",
       "      <th>addr1</th>\n",
       "      <th>addr2</th>\n",
       "      <th>city</th>\n",
       "      <th>zip</th>\n",
       "      <th>longitude</th>\n",
       "      <th>latitude</th>\n",
       "      <th>geometry</th>\n",
       "      <th>index_right</th>\n",
       "      <th>BoroCode</th>\n",
       "      <th>BoroName</th>\n",
       "      <th>CountyFIPS</th>\n",
       "      <th>NTACode</th>\n",
       "      <th>NTAName</th>\n",
       "      <th>Shape_Area</th>\n",
       "      <th>Shape_Leng</th>\n",
       "    </tr>\n",
       "  </thead>\n",
       "  <tbody>\n",
       "    <tr>\n",
       "      <th>5</th>\n",
       "      <td>P S 122 Gallery</td>\n",
       "      <td>(212) 228-4249</td>\n",
       "      <td>http://ps122gallery.org/</td>\n",
       "      <td>150 1st Ave</td>\n",
       "      <td>NaN</td>\n",
       "      <td>New York</td>\n",
       "      <td>10009</td>\n",
       "      <td>-73.984371</td>\n",
       "      <td>40.728168</td>\n",
       "      <td>POINT (-73.98437147999999 40.72816774)</td>\n",
       "      <td>52</td>\n",
       "      <td>1</td>\n",
       "      <td>Manhattan</td>\n",
       "      <td>061</td>\n",
       "      <td>MN22</td>\n",
       "      <td>East Village</td>\n",
       "      <td>1.089549e+07</td>\n",
       "      <td>13539.197632</td>\n",
       "    </tr>\n",
       "    <tr>\n",
       "      <th>127</th>\n",
       "      <td>Savacou Galleries</td>\n",
       "      <td>(212) 473-6904</td>\n",
       "      <td>http://www.artchain.com/cgi-bin/showorganizati...</td>\n",
       "      <td>240 E 13th St</td>\n",
       "      <td>NaN</td>\n",
       "      <td>New York</td>\n",
       "      <td>10003</td>\n",
       "      <td>-73.986268</td>\n",
       "      <td>40.731782</td>\n",
       "      <td>POINT (-73.98626836 40.73178218)</td>\n",
       "      <td>52</td>\n",
       "      <td>1</td>\n",
       "      <td>Manhattan</td>\n",
       "      <td>061</td>\n",
       "      <td>MN22</td>\n",
       "      <td>East Village</td>\n",
       "      <td>1.089549e+07</td>\n",
       "      <td>13539.197632</td>\n",
       "    </tr>\n",
       "    <tr>\n",
       "      <th>221</th>\n",
       "      <td>Three East Third St Corp</td>\n",
       "      <td>(212) 533-7749</td>\n",
       "      <td>http://ny.citysquares.com/manhattan/east-villa...</td>\n",
       "      <td>3 E 3rd St</td>\n",
       "      <td>NaN</td>\n",
       "      <td>New York</td>\n",
       "      <td>10003</td>\n",
       "      <td>-73.991270</td>\n",
       "      <td>40.726317</td>\n",
       "      <td>POINT (-73.99127036 40.72631717)</td>\n",
       "      <td>52</td>\n",
       "      <td>1</td>\n",
       "      <td>Manhattan</td>\n",
       "      <td>061</td>\n",
       "      <td>MN22</td>\n",
       "      <td>East Village</td>\n",
       "      <td>1.089549e+07</td>\n",
       "      <td>13539.197632</td>\n",
       "    </tr>\n",
       "    <tr>\n",
       "      <th>265</th>\n",
       "      <td>Washington Sq Outdoor Art Exhibit Inc</td>\n",
       "      <td>(212) 982-6255</td>\n",
       "      <td>http://www.washingtonsquareoutdoorartexhibit.org/</td>\n",
       "      <td>115 E 9th St</td>\n",
       "      <td>NaN</td>\n",
       "      <td>New York</td>\n",
       "      <td>10003</td>\n",
       "      <td>-73.989560</td>\n",
       "      <td>40.730554</td>\n",
       "      <td>POINT (-73.98955957 40.73055351)</td>\n",
       "      <td>52</td>\n",
       "      <td>1</td>\n",
       "      <td>Manhattan</td>\n",
       "      <td>061</td>\n",
       "      <td>MN22</td>\n",
       "      <td>East Village</td>\n",
       "      <td>1.089549e+07</td>\n",
       "      <td>13539.197632</td>\n",
       "    </tr>\n",
       "    <tr>\n",
       "      <th>279</th>\n",
       "      <td>Willow Woodstock Artistic Enterprises</td>\n",
       "      <td>(212) 677-6547</td>\n",
       "      <td>http://www.yelp.com/biz/willow-woodstock-artis...</td>\n",
       "      <td>92 Saint Marks Pl</td>\n",
       "      <td>NaN</td>\n",
       "      <td>New York</td>\n",
       "      <td>10009</td>\n",
       "      <td>-73.985038</td>\n",
       "      <td>40.727318</td>\n",
       "      <td>POINT (-73.98503774 40.72731799)</td>\n",
       "      <td>52</td>\n",
       "      <td>1</td>\n",
       "      <td>Manhattan</td>\n",
       "      <td>061</td>\n",
       "      <td>MN22</td>\n",
       "      <td>East Village</td>\n",
       "      <td>1.089549e+07</td>\n",
       "      <td>13539.197632</td>\n",
       "    </tr>\n",
       "  </tbody>\n",
       "</table>\n",
       "</div>"
      ],
      "text/plain": [
       "                                      name             tel  \\\n",
       "5                          P S 122 Gallery  (212) 228-4249   \n",
       "127                      Savacou Galleries  (212) 473-6904   \n",
       "221               Three East Third St Corp  (212) 533-7749   \n",
       "265  Washington Sq Outdoor Art Exhibit Inc  (212) 982-6255   \n",
       "279  Willow Woodstock Artistic Enterprises  (212) 677-6547   \n",
       "\n",
       "                                                   url              addr1  \\\n",
       "5                             http://ps122gallery.org/        150 1st Ave   \n",
       "127  http://www.artchain.com/cgi-bin/showorganizati...      240 E 13th St   \n",
       "221  http://ny.citysquares.com/manhattan/east-villa...         3 E 3rd St   \n",
       "265  http://www.washingtonsquareoutdoorartexhibit.org/       115 E 9th St   \n",
       "279  http://www.yelp.com/biz/willow-woodstock-artis...  92 Saint Marks Pl   \n",
       "\n",
       "    addr2      city    zip  longitude   latitude  \\\n",
       "5     NaN  New York  10009 -73.984371  40.728168   \n",
       "127   NaN  New York  10003 -73.986268  40.731782   \n",
       "221   NaN  New York  10003 -73.991270  40.726317   \n",
       "265   NaN  New York  10003 -73.989560  40.730554   \n",
       "279   NaN  New York  10009 -73.985038  40.727318   \n",
       "\n",
       "                                   geometry  index_right  BoroCode   BoroName  \\\n",
       "5    POINT (-73.98437147999999 40.72816774)           52         1  Manhattan   \n",
       "127        POINT (-73.98626836 40.73178218)           52         1  Manhattan   \n",
       "221        POINT (-73.99127036 40.72631717)           52         1  Manhattan   \n",
       "265        POINT (-73.98955957 40.73055351)           52         1  Manhattan   \n",
       "279        POINT (-73.98503774 40.72731799)           52         1  Manhattan   \n",
       "\n",
       "    CountyFIPS NTACode       NTAName    Shape_Area    Shape_Leng  \n",
       "5          061    MN22  East Village  1.089549e+07  13539.197632  \n",
       "127        061    MN22  East Village  1.089549e+07  13539.197632  \n",
       "221        061    MN22  East Village  1.089549e+07  13539.197632  \n",
       "265        061    MN22  East Village  1.089549e+07  13539.197632  \n",
       "279        061    MN22  East Village  1.089549e+07  13539.197632  "
      ]
     },
     "execution_count": 10,
     "metadata": {},
     "output_type": "execute_result"
    }
   ],
   "source": [
    "neighborhoods_galleries[neighborhoods_galleries['NTAName'] == 'East Village'].head()"
   ]
  },
  {
   "cell_type": "markdown",
   "metadata": {},
   "source": [
    "Cool, now **count how many galleries are in each neighborhood**"
   ]
  },
  {
   "cell_type": "code",
   "execution_count": 11,
   "metadata": {},
   "outputs": [
    {
     "data": {
      "text/plain": [
       "Hudson Yards-Chelsea-Flatiron-Union Square    208\n",
       "Upper East Side-Carnegie Hill                 153\n",
       "SoHo-TriBeCa-Civic Center-Little Italy        116\n",
       "Midtown-Midtown South                         107\n",
       "West Village                                   42\n",
       "Name: NTAName, dtype: int64"
      ]
     },
     "execution_count": 11,
     "metadata": {},
     "output_type": "execute_result"
    }
   ],
   "source": [
    "neighborhoods_galleries['NTAName'].value_counts().head()"
   ]
  },
  {
   "cell_type": "markdown",
   "metadata": {},
   "source": [
    "## Part Five: Counting points in polygons\n",
    "\n",
    "I mean, we could just use `.plot()`..."
   ]
  },
  {
   "cell_type": "code",
   "execution_count": 12,
   "metadata": {},
   "outputs": [
    {
     "data": {
      "text/plain": [
       "(-8269186.976035662,\n",
       " -8201155.1234400729,\n",
       " 4907479.0192146711,\n",
       " 4974966.8995483425)"
      ]
     },
     "execution_count": 12,
     "metadata": {},
     "output_type": "execute_result"
    },
    {
     "data": {
      "image/png": "[encoded data removed]",
      "text/plain": [
       "<matplotlib.figure.Figure at 0x1131072b0>"
      ]
     },
     "metadata": {},
     "output_type": "display_data"
    }
   ],
   "source": [
    "ax = neighborhood.to_crs({'proj': 'merc'}).plot(color='#cccccc', edgecolor='white', figsize=(7,7))\n",
    "galleries.to_crs({'proj': 'merc'}).plot(ax=ax, color='orange', markersize=3, alpha=0.5)\n",
    "ax.axis('off')"
   ]
  },
  {
   "cell_type": "markdown",
   "metadata": {},
   "source": [
    "Life would be nicer if we had a [choropleth](https://en.wikipedia.org/wiki/Choropleth_map) that would show us darker spots where there were more galleries and lighter colors where there were fewer.\n",
    "\n",
    "You might think \"Oh, yes, **let's do a spatial join!**\" which is right but a little conceptually difficult at a couple points. There's another way to do it, too, but it's a bit slower and less flexible, but easier to understand. Maybe read through both of them to see if one works better in your brain than the other.\n",
    "\n",
    "## COUNTING POINTS METHOD ONE: Spatial join\n",
    "\n",
    "Before we do the actual join, I'm going to show you a little trick called `.reset_index()`. It seems dumb and useless now, but it'll save us a while later, **allowing us to push aggregate statistics (counts, medians, etc) back onto your original dataframes after a spatial join.**\n",
    "\n",
    "Let's use it!"
   ]
  },
  {
   "cell_type": "code",
   "execution_count": 13,
   "metadata": {},
   "outputs": [
    {
     "data": {
      "text/html": [
       "<div>\n",
       "<style>\n",
       "    .dataframe thead tr:only-child th {\n",
       "        text-align: right;\n",
       "    }\n",
       "\n",
       "    .dataframe thead th {\n",
       "        text-align: left;\n",
       "    }\n",
       "\n",
       "    .dataframe tbody tr th {\n",
       "        vertical-align: top;\n",
       "    }\n",
       "</style>\n",
       "<table border=\"1\" class=\"dataframe\">\n",
       "  <thead>\n",
       "    <tr style=\"text-align: right;\">\n",
       "      <th></th>\n",
       "      <th>index</th>\n",
       "      <th>BoroCode</th>\n",
       "      <th>BoroName</th>\n",
       "      <th>CountyFIPS</th>\n",
       "      <th>NTACode</th>\n",
       "      <th>NTAName</th>\n",
       "      <th>Shape_Area</th>\n",
       "      <th>Shape_Leng</th>\n",
       "      <th>geometry</th>\n",
       "    </tr>\n",
       "  </thead>\n",
       "  <tbody>\n",
       "    <tr>\n",
       "      <th>0</th>\n",
       "      <td>0</td>\n",
       "      <td>3</td>\n",
       "      <td>Brooklyn</td>\n",
       "      <td>047</td>\n",
       "      <td>BK43</td>\n",
       "      <td>Midwood</td>\n",
       "      <td>3.579964e+07</td>\n",
       "      <td>27996.591274</td>\n",
       "      <td>POLYGON ((-73.94732672160579 40.62916656720946...</td>\n",
       "    </tr>\n",
       "    <tr>\n",
       "      <th>1</th>\n",
       "      <td>1</td>\n",
       "      <td>3</td>\n",
       "      <td>Brooklyn</td>\n",
       "      <td>047</td>\n",
       "      <td>BK75</td>\n",
       "      <td>Bedford</td>\n",
       "      <td>3.262983e+07</td>\n",
       "      <td>29992.919174</td>\n",
       "      <td>POLYGON ((-73.94193078816194 40.70072523469547...</td>\n",
       "    </tr>\n",
       "    <tr>\n",
       "      <th>2</th>\n",
       "      <td>2</td>\n",
       "      <td>2</td>\n",
       "      <td>Bronx</td>\n",
       "      <td>005</td>\n",
       "      <td>BX40</td>\n",
       "      <td>Fordham South</td>\n",
       "      <td>6.307284e+06</td>\n",
       "      <td>15878.272921</td>\n",
       "      <td>POLYGON ((-73.89138023380261 40.86170058826306...</td>\n",
       "    </tr>\n",
       "    <tr>\n",
       "      <th>3</th>\n",
       "      <td>3</td>\n",
       "      <td>3</td>\n",
       "      <td>Brooklyn</td>\n",
       "      <td>047</td>\n",
       "      <td>BK88</td>\n",
       "      <td>Borough Park</td>\n",
       "      <td>5.400502e+07</td>\n",
       "      <td>39247.227722</td>\n",
       "      <td>POLYGON ((-73.97604935591414 40.63127590564665...</td>\n",
       "    </tr>\n",
       "    <tr>\n",
       "      <th>4</th>\n",
       "      <td>4</td>\n",
       "      <td>3</td>\n",
       "      <td>Brooklyn</td>\n",
       "      <td>047</td>\n",
       "      <td>BK96</td>\n",
       "      <td>Rugby-Remsen Village</td>\n",
       "      <td>3.270695e+07</td>\n",
       "      <td>30957.853395</td>\n",
       "      <td>POLYGON ((-73.90855790522767 40.65209593779451...</td>\n",
       "    </tr>\n",
       "  </tbody>\n",
       "</table>\n",
       "</div>"
      ],
      "text/plain": [
       "   index  BoroCode  BoroName CountyFIPS NTACode               NTAName  \\\n",
       "0      0         3  Brooklyn        047    BK43               Midwood   \n",
       "1      1         3  Brooklyn        047    BK75               Bedford   \n",
       "2      2         2     Bronx        005    BX40         Fordham South   \n",
       "3      3         3  Brooklyn        047    BK88          Borough Park   \n",
       "4      4         3  Brooklyn        047    BK96  Rugby-Remsen Village   \n",
       "\n",
       "     Shape_Area    Shape_Leng  \\\n",
       "0  3.579964e+07  27996.591274   \n",
       "1  3.262983e+07  29992.919174   \n",
       "2  6.307284e+06  15878.272921   \n",
       "3  5.400502e+07  39247.227722   \n",
       "4  3.270695e+07  30957.853395   \n",
       "\n",
       "                                            geometry  \n",
       "0  POLYGON ((-73.94732672160579 40.62916656720946...  \n",
       "1  POLYGON ((-73.94193078816194 40.70072523469547...  \n",
       "2  POLYGON ((-73.89138023380261 40.86170058826306...  \n",
       "3  POLYGON ((-73.97604935591414 40.63127590564665...  \n",
       "4  POLYGON ((-73.90855790522767 40.65209593779451...  "
      ]
     },
     "execution_count": 13,
     "metadata": {},
     "output_type": "execute_result"
    }
   ],
   "source": [
    "# Run this cell!\n",
    "neighborhood.reset_index().head()"
   ]
  },
  {
   "cell_type": "markdown",
   "metadata": {},
   "source": [
    "See how **`index`** is now a column? It's going to be helpful later!\n",
    "\n",
    "**Let's get to work now:** We're going to do a spatial join of neighborhoods to galleries (throwing away any neighborhoods that don't have galleries) and then counting how many times each neighborhood shows up. Then we'll take that value and put it right back into our neighborhoods dataframe."
   ]
  },
  {
   "cell_type": "code",
   "execution_count": 14,
   "metadata": {},
   "outputs": [
    {
     "data": {
      "text/html": [
       "<div>\n",
       "<style>\n",
       "    .dataframe thead tr:only-child th {\n",
       "        text-align: right;\n",
       "    }\n",
       "\n",
       "    .dataframe thead th {\n",
       "        text-align: left;\n",
       "    }\n",
       "\n",
       "    .dataframe tbody tr th {\n",
       "        vertical-align: top;\n",
       "    }\n",
       "</style>\n",
       "<table border=\"1\" class=\"dataframe\">\n",
       "  <thead>\n",
       "    <tr style=\"text-align: right;\">\n",
       "      <th></th>\n",
       "      <th>index</th>\n",
       "      <th>BoroCode</th>\n",
       "      <th>BoroName</th>\n",
       "      <th>CountyFIPS</th>\n",
       "      <th>NTACode</th>\n",
       "      <th>NTAName</th>\n",
       "      <th>Shape_Area</th>\n",
       "      <th>Shape_Leng</th>\n",
       "      <th>geometry</th>\n",
       "      <th>index_right</th>\n",
       "      <th>name</th>\n",
       "      <th>tel</th>\n",
       "      <th>url</th>\n",
       "      <th>addr1</th>\n",
       "      <th>addr2</th>\n",
       "      <th>city</th>\n",
       "      <th>zip</th>\n",
       "      <th>longitude</th>\n",
       "      <th>latitude</th>\n",
       "    </tr>\n",
       "  </thead>\n",
       "  <tbody>\n",
       "    <tr>\n",
       "      <th>1</th>\n",
       "      <td>1</td>\n",
       "      <td>3</td>\n",
       "      <td>Brooklyn</td>\n",
       "      <td>047</td>\n",
       "      <td>BK75</td>\n",
       "      <td>Bedford</td>\n",
       "      <td>3.262983e+07</td>\n",
       "      <td>29992.919174</td>\n",
       "      <td>POLYGON ((-73.94193078816194 40.70072523469547...</td>\n",
       "      <td>304</td>\n",
       "      <td>2 Welancora Gallery</td>\n",
       "      <td>(718) 919-0344</td>\n",
       "      <td>http://www.welancora.com/</td>\n",
       "      <td>410 Jefferson Ave</td>\n",
       "      <td>NaN</td>\n",
       "      <td>Brooklyn</td>\n",
       "      <td>11221</td>\n",
       "      <td>-73.941520</td>\n",
       "      <td>40.684078</td>\n",
       "    </tr>\n",
       "    <tr>\n",
       "      <th>3</th>\n",
       "      <td>3</td>\n",
       "      <td>3</td>\n",
       "      <td>Brooklyn</td>\n",
       "      <td>047</td>\n",
       "      <td>BK88</td>\n",
       "      <td>Borough Park</td>\n",
       "      <td>5.400502e+07</td>\n",
       "      <td>39247.227722</td>\n",
       "      <td>POLYGON ((-73.97604935591414 40.63127590564665...</td>\n",
       "      <td>43</td>\n",
       "      <td>Plaster Palace</td>\n",
       "      <td>(718) 621-3175</td>\n",
       "      <td>http://www.merchantcircle.com/business/Plaster...</td>\n",
       "      <td>5305 18th Ave</td>\n",
       "      <td>NaN</td>\n",
       "      <td>Brooklyn</td>\n",
       "      <td>11204</td>\n",
       "      <td>-73.983150</td>\n",
       "      <td>40.625760</td>\n",
       "    </tr>\n",
       "    <tr>\n",
       "      <th>7</th>\n",
       "      <td>7</td>\n",
       "      <td>3</td>\n",
       "      <td>Brooklyn</td>\n",
       "      <td>047</td>\n",
       "      <td>BK44</td>\n",
       "      <td>Madison</td>\n",
       "      <td>2.737916e+07</td>\n",
       "      <td>26237.257341</td>\n",
       "      <td>POLYGON ((-73.93753749374042 40.60855739025753...</td>\n",
       "      <td>153</td>\n",
       "      <td>Shulman B &amp; M Inc</td>\n",
       "      <td>(718) 646-6022</td>\n",
       "      <td>http://brooklyn.citysearch.com/profile/6018933...</td>\n",
       "      <td>2623 Avenue U</td>\n",
       "      <td>NaN</td>\n",
       "      <td>Brooklyn</td>\n",
       "      <td>11229</td>\n",
       "      <td>-73.945065</td>\n",
       "      <td>40.600274</td>\n",
       "    </tr>\n",
       "  </tbody>\n",
       "</table>\n",
       "</div>"
      ],
      "text/plain": [
       "   index  BoroCode  BoroName CountyFIPS NTACode       NTAName    Shape_Area  \\\n",
       "1      1         3  Brooklyn        047    BK75       Bedford  3.262983e+07   \n",
       "3      3         3  Brooklyn        047    BK88  Borough Park  5.400502e+07   \n",
       "7      7         3  Brooklyn        047    BK44       Madison  2.737916e+07   \n",
       "\n",
       "     Shape_Leng                                           geometry  \\\n",
       "1  29992.919174  POLYGON ((-73.94193078816194 40.70072523469547...   \n",
       "3  39247.227722  POLYGON ((-73.97604935591414 40.63127590564665...   \n",
       "7  26237.257341  POLYGON ((-73.93753749374042 40.60855739025753...   \n",
       "\n",
       "   index_right                 name             tel  \\\n",
       "1          304  2 Welancora Gallery  (718) 919-0344   \n",
       "3           43       Plaster Palace  (718) 621-3175   \n",
       "7          153    Shulman B & M Inc  (718) 646-6022   \n",
       "\n",
       "                                                 url              addr1 addr2  \\\n",
       "1                          http://www.welancora.com/  410 Jefferson Ave   NaN   \n",
       "3  http://www.merchantcircle.com/business/Plaster...      5305 18th Ave   NaN   \n",
       "7  http://brooklyn.citysearch.com/profile/6018933...      2623 Avenue U   NaN   \n",
       "\n",
       "       city    zip  longitude   latitude  \n",
       "1  Brooklyn  11221 -73.941520  40.684078  \n",
       "3  Brooklyn  11204 -73.983150  40.625760  \n",
       "7  Brooklyn  11229 -73.945065  40.600274  "
      ]
     },
     "execution_count": 14,
     "metadata": {},
     "output_type": "execute_result"
    }
   ],
   "source": [
    "# Do an INNER join, so that neighborhoods without galleries get dumped\n",
    "# We're doing .reset_index() to be sure that 'index' shows up in our joined dataset\n",
    "nabes_with_galleries = gpd.sjoin(neighborhood.reset_index(), galleries, how='inner', op='intersects')\n",
    "nabes_with_galleries.head(3)"
   ]
  },
  {
   "cell_type": "markdown",
   "metadata": {},
   "source": [
    "See the last bunch, how there are so many \"Yorkvilles\"? That's because of our spatial join - if you scroll right you'll see each one of those rows also has a gallery associated with it.\n",
    "\n",
    "Now we want to see how many rows we have of each neighborhood. **Normally we'd group by neighborhood name**, which gives us someting like this:"
   ]
  },
  {
   "cell_type": "code",
   "execution_count": 15,
   "metadata": {},
   "outputs": [
    {
     "data": {
      "text/plain": [
       "NTAName\n",
       "Battery Park City-Lower Manhattan    13\n",
       "Bay Ridge                             1\n",
       "Bayside-Bayside Hills                 2\n",
       "Bedford                               1\n",
       "Bensonhurst West                      1\n",
       "dtype: int64"
      ]
     },
     "execution_count": 15,
     "metadata": {},
     "output_type": "execute_result"
    }
   ],
   "source": [
    "nabes_with_galleries.groupby('NTAName').size().head()"
   ]
  },
  {
   "cell_type": "markdown",
   "metadata": {},
   "source": [
    "The problem is, though, how do we get that back into our **original neighborhoods dataframe?** All we have is a NTAName and a number. Hmmm..."
   ]
  },
  {
   "cell_type": "code",
   "execution_count": 16,
   "metadata": {},
   "outputs": [
    {
     "data": {
      "text/html": [
       "<div>\n",
       "<style>\n",
       "    .dataframe thead tr:only-child th {\n",
       "        text-align: right;\n",
       "    }\n",
       "\n",
       "    .dataframe thead th {\n",
       "        text-align: left;\n",
       "    }\n",
       "\n",
       "    .dataframe tbody tr th {\n",
       "        vertical-align: top;\n",
       "    }\n",
       "</style>\n",
       "<table border=\"1\" class=\"dataframe\">\n",
       "  <thead>\n",
       "    <tr style=\"text-align: right;\">\n",
       "      <th></th>\n",
       "      <th>BoroCode</th>\n",
       "      <th>BoroName</th>\n",
       "      <th>CountyFIPS</th>\n",
       "      <th>NTACode</th>\n",
       "      <th>NTAName</th>\n",
       "      <th>Shape_Area</th>\n",
       "      <th>Shape_Leng</th>\n",
       "      <th>geometry</th>\n",
       "    </tr>\n",
       "  </thead>\n",
       "  <tbody>\n",
       "    <tr>\n",
       "      <th>0</th>\n",
       "      <td>3</td>\n",
       "      <td>Brooklyn</td>\n",
       "      <td>047</td>\n",
       "      <td>BK43</td>\n",
       "      <td>Midwood</td>\n",
       "      <td>3.579964e+07</td>\n",
       "      <td>27996.591274</td>\n",
       "      <td>POLYGON ((-73.94732672160579 40.62916656720946...</td>\n",
       "    </tr>\n",
       "    <tr>\n",
       "      <th>1</th>\n",
       "      <td>3</td>\n",
       "      <td>Brooklyn</td>\n",
       "      <td>047</td>\n",
       "      <td>BK75</td>\n",
       "      <td>Bedford</td>\n",
       "      <td>3.262983e+07</td>\n",
       "      <td>29992.919174</td>\n",
       "      <td>POLYGON ((-73.94193078816194 40.70072523469547...</td>\n",
       "    </tr>\n",
       "    <tr>\n",
       "      <th>2</th>\n",
       "      <td>2</td>\n",
       "      <td>Bronx</td>\n",
       "      <td>005</td>\n",
       "      <td>BX40</td>\n",
       "      <td>Fordham South</td>\n",
       "      <td>6.307284e+06</td>\n",
       "      <td>15878.272921</td>\n",
       "      <td>POLYGON ((-73.89138023380261 40.86170058826306...</td>\n",
       "    </tr>\n",
       "  </tbody>\n",
       "</table>\n",
       "</div>"
      ],
      "text/plain": [
       "   BoroCode  BoroName CountyFIPS NTACode        NTAName    Shape_Area  \\\n",
       "0         3  Brooklyn        047    BK43        Midwood  3.579964e+07   \n",
       "1         3  Brooklyn        047    BK75        Bedford  3.262983e+07   \n",
       "2         2     Bronx        005    BX40  Fordham South  6.307284e+06   \n",
       "\n",
       "     Shape_Leng                                           geometry  \n",
       "0  27996.591274  POLYGON ((-73.94732672160579 40.62916656720946...  \n",
       "1  29992.919174  POLYGON ((-73.94193078816194 40.70072523469547...  \n",
       "2  15878.272921  POLYGON ((-73.89138023380261 40.86170058826306...  "
      ]
     },
     "execution_count": 16,
     "metadata": {},
     "output_type": "execute_result"
    }
   ],
   "source": [
    "neighborhood.head(3)"
   ]
  },
  {
   "cell_type": "markdown",
   "metadata": {},
   "source": [
    "How about we do a .merge on a column name? TERRIBLE IDEA. No one likes `.merge`! Let's go back and look at spatial-joined data again:"
   ]
  },
  {
   "cell_type": "code",
   "execution_count": 17,
   "metadata": {},
   "outputs": [
    {
     "data": {
      "text/html": [
       "<div>\n",
       "<style>\n",
       "    .dataframe thead tr:only-child th {\n",
       "        text-align: right;\n",
       "    }\n",
       "\n",
       "    .dataframe thead th {\n",
       "        text-align: left;\n",
       "    }\n",
       "\n",
       "    .dataframe tbody tr th {\n",
       "        vertical-align: top;\n",
       "    }\n",
       "</style>\n",
       "<table border=\"1\" class=\"dataframe\">\n",
       "  <thead>\n",
       "    <tr style=\"text-align: right;\">\n",
       "      <th></th>\n",
       "      <th>index</th>\n",
       "      <th>BoroCode</th>\n",
       "      <th>BoroName</th>\n",
       "      <th>CountyFIPS</th>\n",
       "      <th>NTACode</th>\n",
       "      <th>NTAName</th>\n",
       "      <th>Shape_Area</th>\n",
       "      <th>Shape_Leng</th>\n",
       "      <th>geometry</th>\n",
       "      <th>index_right</th>\n",
       "      <th>name</th>\n",
       "      <th>tel</th>\n",
       "      <th>url</th>\n",
       "      <th>addr1</th>\n",
       "      <th>addr2</th>\n",
       "      <th>city</th>\n",
       "      <th>zip</th>\n",
       "      <th>longitude</th>\n",
       "      <th>latitude</th>\n",
       "    </tr>\n",
       "  </thead>\n",
       "  <tbody>\n",
       "    <tr>\n",
       "      <th>1</th>\n",
       "      <td>1</td>\n",
       "      <td>3</td>\n",
       "      <td>Brooklyn</td>\n",
       "      <td>047</td>\n",
       "      <td>BK75</td>\n",
       "      <td>Bedford</td>\n",
       "      <td>3.262983e+07</td>\n",
       "      <td>29992.919174</td>\n",
       "      <td>POLYGON ((-73.94193078816194 40.70072523469547...</td>\n",
       "      <td>304</td>\n",
       "      <td>2 Welancora Gallery</td>\n",
       "      <td>(718) 919-0344</td>\n",
       "      <td>http://www.welancora.com/</td>\n",
       "      <td>410 Jefferson Ave</td>\n",
       "      <td>NaN</td>\n",
       "      <td>Brooklyn</td>\n",
       "      <td>11221</td>\n",
       "      <td>-73.941520</td>\n",
       "      <td>40.684078</td>\n",
       "    </tr>\n",
       "    <tr>\n",
       "      <th>3</th>\n",
       "      <td>3</td>\n",
       "      <td>3</td>\n",
       "      <td>Brooklyn</td>\n",
       "      <td>047</td>\n",
       "      <td>BK88</td>\n",
       "      <td>Borough Park</td>\n",
       "      <td>5.400502e+07</td>\n",
       "      <td>39247.227722</td>\n",
       "      <td>POLYGON ((-73.97604935591414 40.63127590564665...</td>\n",
       "      <td>43</td>\n",
       "      <td>Plaster Palace</td>\n",
       "      <td>(718) 621-3175</td>\n",
       "      <td>http://www.merchantcircle.com/business/Plaster...</td>\n",
       "      <td>5305 18th Ave</td>\n",
       "      <td>NaN</td>\n",
       "      <td>Brooklyn</td>\n",
       "      <td>11204</td>\n",
       "      <td>-73.983150</td>\n",
       "      <td>40.625760</td>\n",
       "    </tr>\n",
       "    <tr>\n",
       "      <th>7</th>\n",
       "      <td>7</td>\n",
       "      <td>3</td>\n",
       "      <td>Brooklyn</td>\n",
       "      <td>047</td>\n",
       "      <td>BK44</td>\n",
       "      <td>Madison</td>\n",
       "      <td>2.737916e+07</td>\n",
       "      <td>26237.257341</td>\n",
       "      <td>POLYGON ((-73.93753749374042 40.60855739025753...</td>\n",
       "      <td>153</td>\n",
       "      <td>Shulman B &amp; M Inc</td>\n",
       "      <td>(718) 646-6022</td>\n",
       "      <td>http://brooklyn.citysearch.com/profile/6018933...</td>\n",
       "      <td>2623 Avenue U</td>\n",
       "      <td>NaN</td>\n",
       "      <td>Brooklyn</td>\n",
       "      <td>11229</td>\n",
       "      <td>-73.945065</td>\n",
       "      <td>40.600274</td>\n",
       "    </tr>\n",
       "    <tr>\n",
       "      <th>11</th>\n",
       "      <td>11</td>\n",
       "      <td>4</td>\n",
       "      <td>Queens</td>\n",
       "      <td>081</td>\n",
       "      <td>QN27</td>\n",
       "      <td>East Elmhurst</td>\n",
       "      <td>1.972685e+07</td>\n",
       "      <td>19816.712110</td>\n",
       "      <td>POLYGON ((-73.86109724401754 40.76366447759027...</td>\n",
       "      <td>116</td>\n",
       "      <td>Sabrina Enterprise.Com Artworks Sales and Rprd...</td>\n",
       "      <td>(718) 335-5088</td>\n",
       "      <td>http://www.nyc.com/arts__attractions/sabrina_e...</td>\n",
       "      <td>10022 32nd Ave</td>\n",
       "      <td>NaN</td>\n",
       "      <td>East Elmhurst</td>\n",
       "      <td>11369</td>\n",
       "      <td>-73.867907</td>\n",
       "      <td>40.759059</td>\n",
       "    </tr>\n",
       "    <tr>\n",
       "      <th>14</th>\n",
       "      <td>14</td>\n",
       "      <td>3</td>\n",
       "      <td>Brooklyn</td>\n",
       "      <td>047</td>\n",
       "      <td>BK41</td>\n",
       "      <td>Kensington-Ocean Parkway</td>\n",
       "      <td>1.589335e+07</td>\n",
       "      <td>20800.556075</td>\n",
       "      <td>POLYGON ((-73.97482741755579 40.64566342086809...</td>\n",
       "      <td>317</td>\n",
       "      <td>AAA-Abbey Mdsng Co Inc</td>\n",
       "      <td>(718) 253-8830</td>\n",
       "      <td>http://yp.blogflux.com/directory/us/new-york/b...</td>\n",
       "      <td>618 Coney Island Ave</td>\n",
       "      <td>NaN</td>\n",
       "      <td>Brooklyn</td>\n",
       "      <td>11218</td>\n",
       "      <td>-73.969931</td>\n",
       "      <td>40.642238</td>\n",
       "    </tr>\n",
       "    <tr>\n",
       "      <th>19</th>\n",
       "      <td>19</td>\n",
       "      <td>3</td>\n",
       "      <td>Brooklyn</td>\n",
       "      <td>047</td>\n",
       "      <td>BK46</td>\n",
       "      <td>Ocean Parkway South</td>\n",
       "      <td>1.778203e+07</td>\n",
       "      <td>21975.997984</td>\n",
       "      <td>POLYGON ((-73.96285973961456 40.61254948646702...</td>\n",
       "      <td>623</td>\n",
       "      <td>Judaica Illuminations</td>\n",
       "      <td>(718) 375-4600</td>\n",
       "      <td>http://www.judaicailluminations.com/</td>\n",
       "      <td>1664 Coney Island Ave</td>\n",
       "      <td>NaN</td>\n",
       "      <td>Brooklyn</td>\n",
       "      <td>11230</td>\n",
       "      <td>-73.963959</td>\n",
       "      <td>40.616776</td>\n",
       "    </tr>\n",
       "    <tr>\n",
       "      <th>25</th>\n",
       "      <td>25</td>\n",
       "      <td>1</td>\n",
       "      <td>Manhattan</td>\n",
       "      <td>061</td>\n",
       "      <td>MN32</td>\n",
       "      <td>Yorkville</td>\n",
       "      <td>1.359478e+07</td>\n",
       "      <td>17409.210115</td>\n",
       "      <td>(POLYGON ((-73.93804640603439 40.7808295442755...</td>\n",
       "      <td>327</td>\n",
       "      <td>Adelson Galleries</td>\n",
       "      <td>(212) 439-6800</td>\n",
       "      <td>http://www.adelsongalleries.com/</td>\n",
       "      <td>219 E 82nd St</td>\n",
       "      <td>NaN</td>\n",
       "      <td>New York</td>\n",
       "      <td>10028</td>\n",
       "      <td>-73.954853</td>\n",
       "      <td>40.776027</td>\n",
       "    </tr>\n",
       "    <tr>\n",
       "      <th>25</th>\n",
       "      <td>25</td>\n",
       "      <td>1</td>\n",
       "      <td>Manhattan</td>\n",
       "      <td>061</td>\n",
       "      <td>MN32</td>\n",
       "      <td>Yorkville</td>\n",
       "      <td>1.359478e+07</td>\n",
       "      <td>17409.210115</td>\n",
       "      <td>(POLYGON ((-73.93804640603439 40.7808295442755...</td>\n",
       "      <td>290</td>\n",
       "      <td>Yorkville Art Gallery &amp; Framing</td>\n",
       "      <td>(212) 423-0604</td>\n",
       "      <td>http://www.merchantcircle.com/business/Yorkvil...</td>\n",
       "      <td>1687 3rd Ave</td>\n",
       "      <td>NaN</td>\n",
       "      <td>New York</td>\n",
       "      <td>10128</td>\n",
       "      <td>-73.949776</td>\n",
       "      <td>40.784126</td>\n",
       "    </tr>\n",
       "    <tr>\n",
       "      <th>25</th>\n",
       "      <td>25</td>\n",
       "      <td>1</td>\n",
       "      <td>Manhattan</td>\n",
       "      <td>061</td>\n",
       "      <td>MN32</td>\n",
       "      <td>Yorkville</td>\n",
       "      <td>1.359478e+07</td>\n",
       "      <td>17409.210115</td>\n",
       "      <td>(POLYGON ((-73.93804640603439 40.7808295442755...</td>\n",
       "      <td>141</td>\n",
       "      <td>Seibold Eleanor</td>\n",
       "      <td>(212) 988-4731</td>\n",
       "      <td>http://www.nyc.com/arts__attractions/seibold_e...</td>\n",
       "      <td>1601 York Ave</td>\n",
       "      <td>NaN</td>\n",
       "      <td>New York</td>\n",
       "      <td>10028</td>\n",
       "      <td>-73.948080</td>\n",
       "      <td>40.775067</td>\n",
       "    </tr>\n",
       "    <tr>\n",
       "      <th>25</th>\n",
       "      <td>25</td>\n",
       "      <td>1</td>\n",
       "      <td>Manhattan</td>\n",
       "      <td>061</td>\n",
       "      <td>MN32</td>\n",
       "      <td>Yorkville</td>\n",
       "      <td>1.359478e+07</td>\n",
       "      <td>17409.210115</td>\n",
       "      <td>(POLYGON ((-73.93804640603439 40.7808295442755...</td>\n",
       "      <td>427</td>\n",
       "      <td>Balalaika Arts &amp; Crafts From Russia &amp; Former Ussr</td>\n",
       "      <td>(212) 722-2594</td>\n",
       "      <td>http://local.botw.org/New_York/New_York/Balala...</td>\n",
       "      <td>313 E 95th St</td>\n",
       "      <td>NaN</td>\n",
       "      <td>New York</td>\n",
       "      <td>10128</td>\n",
       "      <td>-73.946575</td>\n",
       "      <td>40.783368</td>\n",
       "    </tr>\n",
       "  </tbody>\n",
       "</table>\n",
       "</div>"
      ],
      "text/plain": [
       "    index  BoroCode   BoroName CountyFIPS NTACode                   NTAName  \\\n",
       "1       1         3   Brooklyn        047    BK75                   Bedford   \n",
       "3       3         3   Brooklyn        047    BK88              Borough Park   \n",
       "7       7         3   Brooklyn        047    BK44                   Madison   \n",
       "11     11         4     Queens        081    QN27             East Elmhurst   \n",
       "14     14         3   Brooklyn        047    BK41  Kensington-Ocean Parkway   \n",
       "19     19         3   Brooklyn        047    BK46       Ocean Parkway South   \n",
       "25     25         1  Manhattan        061    MN32                 Yorkville   \n",
       "25     25         1  Manhattan        061    MN32                 Yorkville   \n",
       "25     25         1  Manhattan        061    MN32                 Yorkville   \n",
       "25     25         1  Manhattan        061    MN32                 Yorkville   \n",
       "\n",
       "      Shape_Area    Shape_Leng  \\\n",
       "1   3.262983e+07  29992.919174   \n",
       "3   5.400502e+07  39247.227722   \n",
       "7   2.737916e+07  26237.257341   \n",
       "11  1.972685e+07  19816.712110   \n",
       "14  1.589335e+07  20800.556075   \n",
       "19  1.778203e+07  21975.997984   \n",
       "25  1.359478e+07  17409.210115   \n",
       "25  1.359478e+07  17409.210115   \n",
       "25  1.359478e+07  17409.210115   \n",
       "25  1.359478e+07  17409.210115   \n",
       "\n",
       "                                             geometry  index_right  \\\n",
       "1   POLYGON ((-73.94193078816194 40.70072523469547...          304   \n",
       "3   POLYGON ((-73.97604935591414 40.63127590564665...           43   \n",
       "7   POLYGON ((-73.93753749374042 40.60855739025753...          153   \n",
       "11  POLYGON ((-73.86109724401754 40.76366447759027...          116   \n",
       "14  POLYGON ((-73.97482741755579 40.64566342086809...          317   \n",
       "19  POLYGON ((-73.96285973961456 40.61254948646702...          623   \n",
       "25  (POLYGON ((-73.93804640603439 40.7808295442755...          327   \n",
       "25  (POLYGON ((-73.93804640603439 40.7808295442755...          290   \n",
       "25  (POLYGON ((-73.93804640603439 40.7808295442755...          141   \n",
       "25  (POLYGON ((-73.93804640603439 40.7808295442755...          427   \n",
       "\n",
       "                                                 name             tel  \\\n",
       "1                                 2 Welancora Gallery  (718) 919-0344   \n",
       "3                                      Plaster Palace  (718) 621-3175   \n",
       "7                                   Shulman B & M Inc  (718) 646-6022   \n",
       "11  Sabrina Enterprise.Com Artworks Sales and Rprd...  (718) 335-5088   \n",
       "14                             AAA-Abbey Mdsng Co Inc  (718) 253-8830   \n",
       "19                              Judaica Illuminations  (718) 375-4600   \n",
       "25                                  Adelson Galleries  (212) 439-6800   \n",
       "25                    Yorkville Art Gallery & Framing  (212) 423-0604   \n",
       "25                                    Seibold Eleanor  (212) 988-4731   \n",
       "25  Balalaika Arts & Crafts From Russia & Former Ussr  (212) 722-2594   \n",
       "\n",
       "                                                  url                  addr1  \\\n",
       "1                           http://www.welancora.com/      410 Jefferson Ave   \n",
       "3   http://www.merchantcircle.com/business/Plaster...          5305 18th Ave   \n",
       "7   http://brooklyn.citysearch.com/profile/6018933...          2623 Avenue U   \n",
       "11  http://www.nyc.com/arts__attractions/sabrina_e...         10022 32nd Ave   \n",
       "14  http://yp.blogflux.com/directory/us/new-york/b...   618 Coney Island Ave   \n",
       "19               http://www.judaicailluminations.com/  1664 Coney Island Ave   \n",
       "25                   http://www.adelsongalleries.com/          219 E 82nd St   \n",
       "25  http://www.merchantcircle.com/business/Yorkvil...           1687 3rd Ave   \n",
       "25  http://www.nyc.com/arts__attractions/seibold_e...          1601 York Ave   \n",
       "25  http://local.botw.org/New_York/New_York/Balala...          313 E 95th St   \n",
       "\n",
       "   addr2           city    zip  longitude   latitude  \n",
       "1    NaN       Brooklyn  11221 -73.941520  40.684078  \n",
       "3    NaN       Brooklyn  11204 -73.983150  40.625760  \n",
       "7    NaN       Brooklyn  11229 -73.945065  40.600274  \n",
       "11   NaN  East Elmhurst  11369 -73.867907  40.759059  \n",
       "14   NaN       Brooklyn  11218 -73.969931  40.642238  \n",
       "19   NaN       Brooklyn  11230 -73.963959  40.616776  \n",
       "25   NaN       New York  10028 -73.954853  40.776027  \n",
       "25   NaN       New York  10128 -73.949776  40.784126  \n",
       "25   NaN       New York  10028 -73.948080  40.775067  \n",
       "25   NaN       New York  10128 -73.946575  40.783368  "
      ]
     },
     "execution_count": 17,
     "metadata": {},
     "output_type": "execute_result"
    }
   ],
   "source": [
    "nabes_with_galleries.head(10)"
   ]
  },
  {
   "cell_type": "markdown",
   "metadata": {},
   "source": [
    "See how the last few - Yorkville - all have the same `index`? We can use that to our advantage. Let's use `.groupby` with the index."
   ]
  },
  {
   "cell_type": "code",
   "execution_count": 18,
   "metadata": {},
   "outputs": [
    {
     "data": {
      "text/plain": [
       "index\n",
       "1       1\n",
       "3       1\n",
       "7       1\n",
       "11      1\n",
       "14      1\n",
       "19      1\n",
       "25     12\n",
       "26    153\n",
       "31      1\n",
       "36      3\n",
       "dtype: int64"
      ]
     },
     "execution_count": 18,
     "metadata": {},
     "output_type": "execute_result"
    }
   ],
   "source": [
    "nabes_with_galleries.groupby('index').size().head(10)"
   ]
  },
  {
   "cell_type": "markdown",
   "metadata": {},
   "source": [
    "We don't know what those mean, but **because they're the index, we can add them directly into our original dataframe**."
   ]
  },
  {
   "cell_type": "code",
   "execution_count": 19,
   "metadata": {},
   "outputs": [
    {
     "data": {
      "text/html": [
       "<div>\n",
       "<style>\n",
       "    .dataframe thead tr:only-child th {\n",
       "        text-align: right;\n",
       "    }\n",
       "\n",
       "    .dataframe thead th {\n",
       "        text-align: left;\n",
       "    }\n",
       "\n",
       "    .dataframe tbody tr th {\n",
       "        vertical-align: top;\n",
       "    }\n",
       "</style>\n",
       "<table border=\"1\" class=\"dataframe\">\n",
       "  <thead>\n",
       "    <tr style=\"text-align: right;\">\n",
       "      <th></th>\n",
       "      <th>BoroCode</th>\n",
       "      <th>BoroName</th>\n",
       "      <th>CountyFIPS</th>\n",
       "      <th>NTACode</th>\n",
       "      <th>NTAName</th>\n",
       "      <th>Shape_Area</th>\n",
       "      <th>Shape_Leng</th>\n",
       "      <th>geometry</th>\n",
       "      <th>gallery_count</th>\n",
       "    </tr>\n",
       "  </thead>\n",
       "  <tbody>\n",
       "    <tr>\n",
       "      <th>0</th>\n",
       "      <td>3</td>\n",
       "      <td>Brooklyn</td>\n",
       "      <td>047</td>\n",
       "      <td>BK43</td>\n",
       "      <td>Midwood</td>\n",
       "      <td>3.579964e+07</td>\n",
       "      <td>27996.591274</td>\n",
       "      <td>POLYGON ((-73.94732672160579 40.62916656720946...</td>\n",
       "      <td>NaN</td>\n",
       "    </tr>\n",
       "    <tr>\n",
       "      <th>1</th>\n",
       "      <td>3</td>\n",
       "      <td>Brooklyn</td>\n",
       "      <td>047</td>\n",
       "      <td>BK75</td>\n",
       "      <td>Bedford</td>\n",
       "      <td>3.262983e+07</td>\n",
       "      <td>29992.919174</td>\n",
       "      <td>POLYGON ((-73.94193078816194 40.70072523469547...</td>\n",
       "      <td>1.0</td>\n",
       "    </tr>\n",
       "    <tr>\n",
       "      <th>2</th>\n",
       "      <td>2</td>\n",
       "      <td>Bronx</td>\n",
       "      <td>005</td>\n",
       "      <td>BX40</td>\n",
       "      <td>Fordham South</td>\n",
       "      <td>6.307284e+06</td>\n",
       "      <td>15878.272921</td>\n",
       "      <td>POLYGON ((-73.89138023380261 40.86170058826306...</td>\n",
       "      <td>NaN</td>\n",
       "    </tr>\n",
       "    <tr>\n",
       "      <th>3</th>\n",
       "      <td>3</td>\n",
       "      <td>Brooklyn</td>\n",
       "      <td>047</td>\n",
       "      <td>BK88</td>\n",
       "      <td>Borough Park</td>\n",
       "      <td>5.400502e+07</td>\n",
       "      <td>39247.227722</td>\n",
       "      <td>POLYGON ((-73.97604935591414 40.63127590564665...</td>\n",
       "      <td>1.0</td>\n",
       "    </tr>\n",
       "    <tr>\n",
       "      <th>4</th>\n",
       "      <td>3</td>\n",
       "      <td>Brooklyn</td>\n",
       "      <td>047</td>\n",
       "      <td>BK96</td>\n",
       "      <td>Rugby-Remsen Village</td>\n",
       "      <td>3.270695e+07</td>\n",
       "      <td>30957.853395</td>\n",
       "      <td>POLYGON ((-73.90855790522767 40.65209593779451...</td>\n",
       "      <td>NaN</td>\n",
       "    </tr>\n",
       "    <tr>\n",
       "      <th>5</th>\n",
       "      <td>4</td>\n",
       "      <td>Queens</td>\n",
       "      <td>081</td>\n",
       "      <td>QN52</td>\n",
       "      <td>East Flushing</td>\n",
       "      <td>2.945438e+07</td>\n",
       "      <td>25843.364956</td>\n",
       "      <td>POLYGON ((-73.79493246233996 40.75779803007455...</td>\n",
       "      <td>NaN</td>\n",
       "    </tr>\n",
       "    <tr>\n",
       "      <th>6</th>\n",
       "      <td>4</td>\n",
       "      <td>Queens</td>\n",
       "      <td>081</td>\n",
       "      <td>QN53</td>\n",
       "      <td>Woodhaven</td>\n",
       "      <td>3.700132e+07</td>\n",
       "      <td>28070.585548</td>\n",
       "      <td>POLYGON ((-73.84913837242904 40.69828274120189...</td>\n",
       "      <td>NaN</td>\n",
       "    </tr>\n",
       "    <tr>\n",
       "      <th>7</th>\n",
       "      <td>3</td>\n",
       "      <td>Brooklyn</td>\n",
       "      <td>047</td>\n",
       "      <td>BK44</td>\n",
       "      <td>Madison</td>\n",
       "      <td>2.737916e+07</td>\n",
       "      <td>26237.257341</td>\n",
       "      <td>POLYGON ((-73.93753749374042 40.60855739025753...</td>\n",
       "      <td>1.0</td>\n",
       "    </tr>\n",
       "    <tr>\n",
       "      <th>8</th>\n",
       "      <td>4</td>\n",
       "      <td>Queens</td>\n",
       "      <td>081</td>\n",
       "      <td>QN48</td>\n",
       "      <td>Auburndale</td>\n",
       "      <td>3.416422e+07</td>\n",
       "      <td>32446.878673</td>\n",
       "      <td>POLYGON ((-73.77573836927098 40.74332564716399...</td>\n",
       "      <td>NaN</td>\n",
       "    </tr>\n",
       "    <tr>\n",
       "      <th>9</th>\n",
       "      <td>2</td>\n",
       "      <td>Bronx</td>\n",
       "      <td>005</td>\n",
       "      <td>BX44</td>\n",
       "      <td>Williamsbridge-Olinville</td>\n",
       "      <td>3.627356e+07</td>\n",
       "      <td>27350.973945</td>\n",
       "      <td>POLYGON ((-73.84704957988544 40.88767181587944...</td>\n",
       "      <td>NaN</td>\n",
       "    </tr>\n",
       "  </tbody>\n",
       "</table>\n",
       "</div>"
      ],
      "text/plain": [
       "   BoroCode  BoroName CountyFIPS NTACode                   NTAName  \\\n",
       "0         3  Brooklyn        047    BK43                   Midwood   \n",
       "1         3  Brooklyn        047    BK75                   Bedford   \n",
       "2         2     Bronx        005    BX40             Fordham South   \n",
       "3         3  Brooklyn        047    BK88              Borough Park   \n",
       "4         3  Brooklyn        047    BK96      Rugby-Remsen Village   \n",
       "5         4    Queens        081    QN52             East Flushing   \n",
       "6         4    Queens        081    QN53                 Woodhaven   \n",
       "7         3  Brooklyn        047    BK44                   Madison   \n",
       "8         4    Queens        081    QN48                Auburndale   \n",
       "9         2     Bronx        005    BX44  Williamsbridge-Olinville   \n",
       "\n",
       "     Shape_Area    Shape_Leng  \\\n",
       "0  3.579964e+07  27996.591274   \n",
       "1  3.262983e+07  29992.919174   \n",
       "2  6.307284e+06  15878.272921   \n",
       "3  5.400502e+07  39247.227722   \n",
       "4  3.270695e+07  30957.853395   \n",
       "5  2.945438e+07  25843.364956   \n",
       "6  3.700132e+07  28070.585548   \n",
       "7  2.737916e+07  26237.257341   \n",
       "8  3.416422e+07  32446.878673   \n",
       "9  3.627356e+07  27350.973945   \n",
       "\n",
       "                                            geometry  gallery_count  \n",
       "0  POLYGON ((-73.94732672160579 40.62916656720946...            NaN  \n",
       "1  POLYGON ((-73.94193078816194 40.70072523469547...            1.0  \n",
       "2  POLYGON ((-73.89138023380261 40.86170058826306...            NaN  \n",
       "3  POLYGON ((-73.97604935591414 40.63127590564665...            1.0  \n",
       "4  POLYGON ((-73.90855790522767 40.65209593779451...            NaN  \n",
       "5  POLYGON ((-73.79493246233996 40.75779803007455...            NaN  \n",
       "6  POLYGON ((-73.84913837242904 40.69828274120189...            NaN  \n",
       "7  POLYGON ((-73.93753749374042 40.60855739025753...            1.0  \n",
       "8  POLYGON ((-73.77573836927098 40.74332564716399...            NaN  \n",
       "9  POLYGON ((-73.84704957988544 40.88767181587944...            NaN  "
      ]
     },
     "execution_count": 19,
     "metadata": {},
     "output_type": "execute_result"
    }
   ],
   "source": [
    "neighborhood['gallery_count'] = nabes_with_galleries.groupby('index').size()\n",
    "neighborhood.head(10)"
   ]
  },
  {
   "cell_type": "markdown",
   "metadata": {},
   "source": [
    "If we were nice I guess we could fill in those `NaN` ones with 0 using `.fillna(0)`"
   ]
  },
  {
   "cell_type": "code",
   "execution_count": 20,
   "metadata": {},
   "outputs": [
    {
     "data": {
      "text/html": [
       "<div>\n",
       "<style>\n",
       "    .dataframe thead tr:only-child th {\n",
       "        text-align: right;\n",
       "    }\n",
       "\n",
       "    .dataframe thead th {\n",
       "        text-align: left;\n",
       "    }\n",
       "\n",
       "    .dataframe tbody tr th {\n",
       "        vertical-align: top;\n",
       "    }\n",
       "</style>\n",
       "<table border=\"1\" class=\"dataframe\">\n",
       "  <thead>\n",
       "    <tr style=\"text-align: right;\">\n",
       "      <th></th>\n",
       "      <th>BoroCode</th>\n",
       "      <th>BoroName</th>\n",
       "      <th>CountyFIPS</th>\n",
       "      <th>NTACode</th>\n",
       "      <th>NTAName</th>\n",
       "      <th>Shape_Area</th>\n",
       "      <th>Shape_Leng</th>\n",
       "      <th>geometry</th>\n",
       "      <th>gallery_count</th>\n",
       "    </tr>\n",
       "  </thead>\n",
       "  <tbody>\n",
       "    <tr>\n",
       "      <th>0</th>\n",
       "      <td>3</td>\n",
       "      <td>Brooklyn</td>\n",
       "      <td>047</td>\n",
       "      <td>BK43</td>\n",
       "      <td>Midwood</td>\n",
       "      <td>3.579964e+07</td>\n",
       "      <td>27996.591274</td>\n",
       "      <td>POLYGON ((-73.94732672160579 40.62916656720946...</td>\n",
       "      <td>0.0</td>\n",
       "    </tr>\n",
       "    <tr>\n",
       "      <th>1</th>\n",
       "      <td>3</td>\n",
       "      <td>Brooklyn</td>\n",
       "      <td>047</td>\n",
       "      <td>BK75</td>\n",
       "      <td>Bedford</td>\n",
       "      <td>3.262983e+07</td>\n",
       "      <td>29992.919174</td>\n",
       "      <td>POLYGON ((-73.94193078816194 40.70072523469547...</td>\n",
       "      <td>1.0</td>\n",
       "    </tr>\n",
       "    <tr>\n",
       "      <th>2</th>\n",
       "      <td>2</td>\n",
       "      <td>Bronx</td>\n",
       "      <td>005</td>\n",
       "      <td>BX40</td>\n",
       "      <td>Fordham South</td>\n",
       "      <td>6.307284e+06</td>\n",
       "      <td>15878.272921</td>\n",
       "      <td>POLYGON ((-73.89138023380261 40.86170058826306...</td>\n",
       "      <td>0.0</td>\n",
       "    </tr>\n",
       "    <tr>\n",
       "      <th>3</th>\n",
       "      <td>3</td>\n",
       "      <td>Brooklyn</td>\n",
       "      <td>047</td>\n",
       "      <td>BK88</td>\n",
       "      <td>Borough Park</td>\n",
       "      <td>5.400502e+07</td>\n",
       "      <td>39247.227722</td>\n",
       "      <td>POLYGON ((-73.97604935591414 40.63127590564665...</td>\n",
       "      <td>1.0</td>\n",
       "    </tr>\n",
       "    <tr>\n",
       "      <th>4</th>\n",
       "      <td>3</td>\n",
       "      <td>Brooklyn</td>\n",
       "      <td>047</td>\n",
       "      <td>BK96</td>\n",
       "      <td>Rugby-Remsen Village</td>\n",
       "      <td>3.270695e+07</td>\n",
       "      <td>30957.853395</td>\n",
       "      <td>POLYGON ((-73.90855790522767 40.65209593779451...</td>\n",
       "      <td>0.0</td>\n",
       "    </tr>\n",
       "  </tbody>\n",
       "</table>\n",
       "</div>"
      ],
      "text/plain": [
       "   BoroCode  BoroName CountyFIPS NTACode               NTAName    Shape_Area  \\\n",
       "0         3  Brooklyn        047    BK43               Midwood  3.579964e+07   \n",
       "1         3  Brooklyn        047    BK75               Bedford  3.262983e+07   \n",
       "2         2     Bronx        005    BX40         Fordham South  6.307284e+06   \n",
       "3         3  Brooklyn        047    BK88          Borough Park  5.400502e+07   \n",
       "4         3  Brooklyn        047    BK96  Rugby-Remsen Village  3.270695e+07   \n",
       "\n",
       "     Shape_Leng                                           geometry  \\\n",
       "0  27996.591274  POLYGON ((-73.94732672160579 40.62916656720946...   \n",
       "1  29992.919174  POLYGON ((-73.94193078816194 40.70072523469547...   \n",
       "2  15878.272921  POLYGON ((-73.89138023380261 40.86170058826306...   \n",
       "3  39247.227722  POLYGON ((-73.97604935591414 40.63127590564665...   \n",
       "4  30957.853395  POLYGON ((-73.90855790522767 40.65209593779451...   \n",
       "\n",
       "   gallery_count  \n",
       "0            0.0  \n",
       "1            1.0  \n",
       "2            0.0  \n",
       "3            1.0  \n",
       "4            0.0  "
      ]
     },
     "execution_count": 20,
     "metadata": {},
     "output_type": "execute_result"
    }
   ],
   "source": [
    "neighborhood['gallery_count'] = neighborhood['gallery_count'].fillna(0)\n",
    "neighborhood.head() #creating a new column"
   ]
  },
  {
   "cell_type": "markdown",
   "metadata": {},
   "source": [
    "**And there we have it!** Just as a quick review, let's put all of the code in one place. It looks a lot simpler if you have it right here."
   ]
  },
  {
   "cell_type": "code",
   "execution_count": 21,
   "metadata": {},
   "outputs": [
    {
     "name": "stdout",
     "output_type": "stream",
     "text": [
      "CPU times: user 402 ms, sys: 6.82 ms, total: 408 ms\n",
      "Wall time: 433 ms\n"
     ]
    }
   ],
   "source": [
    "%%time\n",
    "# Spatial join the neighborhoods to the galleries\n",
    "# how='inner' to get rid of any neighborhoods without galleries\n",
    "# op='intersects' to allow any sort of overlap\n",
    "# .reset_index() lets us have 'index' be a column later on\n",
    "# group them by the index column, and count how many of each we have\n",
    "# then fill in any NaNs with 0...\n",
    "nabes_with_galleries = gpd.sjoin(neighborhood.reset_index(), galleries, how='inner', op='intersects')\n",
    "neighborhood['gallery_count'] = nabes_with_galleries.groupby('index').size()\n",
    "neighborhood['gallery_count'] = neighborhood['gallery_count'].fillna(0)\n",
    "neighborhood.head()"
   ]
  },
  {
   "cell_type": "markdown",
   "metadata": {},
   "source": [
    "This code, unlike the next version, is **really great** for all summary statistics - index of `.size()` if you had a \"score\" column for each gallery's Yelp rating you could do `['score'].median()`! It won't work on this dataset, but it would be something like:\n",
    "\n",
    "    neighborhoods['avg_score'] = nabes_with_galleries.groupby('index')['score'].median()\n",
    "\n",
    "It's also WAY faster than the next version, about 300ms vs 5 seconds!"
   ]
  },
  {
   "cell_type": "markdown",
   "metadata": {},
   "source": [
    "## COUNTING POINTS METHOD TWO: using .apply and .within\n",
    "\n",
    "The way to think about counting points in polygons is like this:\n",
    "\n",
    "1. Okay, I have a row.\n",
    "2. Let's find all of the points that intersect with that row.\n",
    "3. Now let's count how many we found\n",
    "\n",
    "It's a little different if we're trying to sum up resturant scores or something, but we'll start with this.\n",
    "\n",
    "\n",
    "### Step One: Get our neighborhood \n",
    "\n",
    "**Let's walk through it with exactly one neighborhood first.** We'll use `.ix[135]` to pull out the neighborhood with the index of 135. I picked it because I know it has some galleries!"
   ]
  },
  {
   "cell_type": "code",
   "execution_count": 22,
   "metadata": {},
   "outputs": [
    {
     "data": {
      "text/plain": [
       "BoroCode                                                         1\n",
       "BoroName                                                 Manhattan\n",
       "CountyFIPS                                                     061\n",
       "NTACode                                                       MN31\n",
       "NTAName                                Lenox Hill-Roosevelt Island\n",
       "Shape_Area                                             2.15016e+07\n",
       "Shape_Leng                                                 37708.4\n",
       "geometry         (POLYGON ((-73.94180032729426 40.7690469266247...\n",
       "gallery_count                                                   29\n",
       "Name: 135, dtype: object"
      ]
     },
     "execution_count": 22,
     "metadata": {},
     "output_type": "execute_result"
    }
   ],
   "source": [
    "nabe = neighborhood.loc[135]\n",
    "nabe"
   ]
  },
  {
   "cell_type": "markdown",
   "metadata": {},
   "source": [
    "### Step Two: Use the geometry along with .within\n",
    "\n",
    "The `geometry` is the shape of the neighborhood. We can just look at it if we want!"
   ]
  },
  {
   "cell_type": "code",
   "execution_count": 23,
   "metadata": {},
   "outputs": [
    {
     "data": {
      "image/svg+xml": [
       "<svg xmlns=\"http://www.w3.org/2000/svg\" xmlns:xlink=\"http://www.w3.org/1999/xlink\" width=\"100.0\" height=\"100.0\" viewBox=\"-73.96764625666172 40.74853784538283 0.02869755585669509 0.02680858213160775\" preserveAspectRatio=\"xMinYMin meet\"><g transform=\"matrix(1,0,0,-1,0,81.52388427289726)\"><g><path fill-rule=\"evenodd\" fill=\"#66cc99\" stroke=\"#555555\" stroke-width=\"0.0005739511171339018\" opacity=\"0.6\" d=\"M -73.94180032729426,40.769046926624696 L -73.94256806142144,40.76850590573152 L -73.94285528620706,40.76830349440931 L -73.94321923520107,40.76789264385317 L -73.94381427322762,40.767220912049886 L -73.94422343089225,40.76666497788983 L -73.9448402665221,40.76582362839081 L -73.94623787959827,40.764285014549735 L -73.94657165080055,40.76391755826089 L -73.94662141408685,40.76386277208094 L -73.94682460228421,40.76361763273186 L -73.94708876929523,40.76329892108675 L -73.94788268389203,40.76236569759199 L -73.94792979664216,40.76231031625978 L -73.94832459591146,40.76184623000149 L -73.94833197228195,40.7618375588217 L -73.94896770106449,40.761090236621925 L -73.94943175497149,40.7605486168586 L -73.94971226700021,40.760328917384776 L -73.95033358814477,40.75985675555357 L -73.95126005908772,40.75881011637175 L -73.95148626283064,40.758666455351914 L -73.95171190411024,40.75846249420135 L -73.95177822025997,40.758402549876976 L -73.9520923302263,40.757993140344844 L -73.95217663423736,40.757831335937404 L -73.9522114634206,40.75758363983291 L -73.95254079336877,40.75709531453726 L -73.95312156546173,40.7565238048271 L -73.95322009963168,40.75642684181768 L -73.95326888611028,40.75638104360072 L -73.95330696035853,40.75634432712751 L -73.95334556462916,40.75631137516482 L -73.95340583052024,40.75625853137465 L -73.95409527736342,40.75565492844281 L -73.95507326928161,40.754798682554785 L -73.95519503183567,40.75477452347619 L -73.9557941523772,40.75416154740868 L -73.95692404304644,40.75296115989115 L -73.95721003531293,40.75271535683162 L -73.95791452493187,40.752109854525315 L -73.95860755756425,40.75161332398691 L -73.95868495443514,40.751573777421726 L -73.9590324860946,40.7513864227712 L -73.95902757442518,40.751297369348364 L -73.95955875930795,40.750814597761966 L -73.95990187081902,40.75055851485101 L -73.96039170572536,40.750256186117284 L -73.96081504847933,40.749897019889225 L -73.9608322999811,40.74988420715503 L -73.96084657841206,40.74986942941836 L -73.96085750277886,40.74985308099773 L -73.96087998473884,40.74982455863998 L -73.96090826556325,40.74979919575387 L -73.96094159259304,40.74977766733571 L -73.96096233578334,40.74976399793825 L -73.9609857688932,40.74975312937049 L -73.96101124495777,40.749745361702224 L -73.96103806060918,40.749740909390646 L -73.96106547549559,40.74973989535928 L -73.9610927327212,40.749742347604524 L -73.96111907974296,40.749748198422466 L -73.96114378914716,40.749757286278225 L -73.96116617873234,40.74976936026561 L -73.96133023440605,40.74960071782196 L -73.96153855464473,40.74972311984048 L -73.96138656105337,40.74988050283567 L -73.9614090985227,40.74989974569489 L -73.96142702677446,40.74992161255929 L -73.96143982818263,40.74994547209268 L -73.96144713314122,40.74997063542615 L -73.96144427066277,40.749988533292594 L -73.96143797798312,40.75000591635935 L -73.96142839196075,40.750022406557875 L -73.96141572108222,40.75003764523842 L -73.96140024092799,40.75005130097072 L -73.9613804475921,40.750063516244474 L -73.96136340166642,40.750077929760685 L -73.96134952036016,40.75009418874151 L -73.96111060141905,40.75060046939814 L -73.96068557958185,40.75120193696792 L -73.96001132395932,40.751831516832475 L -73.9598906175869,40.752097477622655 L -73.95957156539735,40.7528047158999 L -73.95950079995129,40.752956381693146 L -73.95901616693568,40.75359505995762 L -73.95892671120951,40.75356249236141 L -73.95845836871766,40.75394923650509 L -73.95768072860075,40.75482196116564 L -73.9568947695998,40.755703995826465 L -73.95646348839098,40.75618798254589 L -73.95598563410063,40.7567242253051 L -73.95565513098038,40.75709510572554 L -73.95559286207374,40.757222800173324 L -73.95556724700454,40.75725766668598 L -73.95553464310943,40.75729603446806 L -73.95550425524475,40.757333456072544 L -73.95546455380817,40.75737736821185 L -73.95544589014963,40.757399251442806 L -73.95534193818226,40.75752113556829 L -73.95499406068487,40.757929019154844 L -73.95390795119141,40.75920087485075 L -73.95384294876447,40.75923894538776 L -73.95378145676383,40.75932308222837 L -73.95374760585473,40.759363937925905 L -73.95366241810713,40.75947973411349 L -73.95361272256534,40.75950214901416 L -73.95332321617958,40.75974596418483 L -73.95339140733955,40.759796762357695 L -73.95312451504947,40.76005275842954 L -73.95297788216074,40.759962107876866 L -73.9523125704512,40.76063375539466 L -73.9520863226655,40.76086215440482 L -73.95187667298384,40.76124558279805 L -73.9516250497398,40.76167886360576 L -73.95097191594412,40.762494507507526 L -73.95093734928089,40.76257049523782 L -73.95073068782703,40.76275822543377 L -73.95037548074446,40.76317384507783 L -73.94997191750295,40.76364602981445 L -73.94920376022777,40.76426964383277 L -73.94908628791566,40.76426402727496 L -73.94881315316445,40.764610753966124 L -73.94770109012802,40.76602239732516 L -73.94655273893119,40.76736820506403 L -73.94591458905607,40.76821393901867 L -73.94585112333094,40.768247750235524 L -73.9458445142382,40.768321228251395 L -73.94575361333565,40.76830167142703 L -73.94570357268698,40.76832793380889 L -73.94559658535877,40.76847086500509 L -73.94548114289289,40.7686247794378 L -73.9456272109345,40.768692953178885 L -73.9455630204879,40.768801775524516 L -73.94540491850026,40.76873217303855 L -73.9453820817897,40.76876320304781 L -73.94524510341355,40.768773268310376 L -73.9451570422152,40.76911831775164 L -73.94509065794169,40.769213720815415 L -73.94472353220708,40.76973405838144 L -73.94472478497457,40.769786271534834 L -73.94467293283411,40.769819967550795 L -73.94456161517566,40.76988639592737 L -73.94427007063555,40.77014053525468 L -73.94400423956336,40.77029398215081 L -73.94320414180379,40.77099239924637 L -73.94281710960234,40.771410861204856 L -73.94257830300967,40.77170185722104 L -73.94212674646828,40.772034700509415 L -73.94136990742406,40.772309150827695 L -73.94088707211625,40.77237251627858 L -73.94056957486734,40.77261475896447 L -73.94027460987331,40.77294743739588 L -73.94017959804106,40.772959315594385 L -73.94007665685501,40.77292618686019 L -73.94001157324416,40.772842361055496 L -73.94018451224514,40.77256490680416 L -73.94028207924197,40.772301406991225 L -73.94027766722355,40.7717131417395 L -73.94020021779653,40.77112830566273 L -73.94022870389077,40.77085226166436 L -73.94027985829325,40.77067071100978 L -73.94035533477512,40.770496574371045 L -73.940826053003,40.76991215676558 L -73.94111778718026,40.76941440857465 L -73.94121934173002,40.7693343431223 L -73.94125975382602,40.76930887939264 L -73.94180032729426,40.769046926624696 z\" /><path fill-rule=\"evenodd\" fill=\"#66cc99\" stroke=\"#555555\" stroke-width=\"0.0005739511171339018\" opacity=\"0.6\" d=\"M -73.95854329612965,40.75849562293556 L -73.95877790822699,40.758270920848744 L -73.95893448579797,40.758335155448655 L -73.95903681074545,40.758383782604746 L -73.95972180352554,40.75866306368133 L -73.96196573677726,40.7596194607857 L -73.96308073528805,40.76008316374026 L -73.96355618932155,40.76028081858213 L -73.96431353565227,40.76059923135035 L -73.96658338422259,40.761550935576565 L -73.96612747295728,40.762179299695624 L -73.96566959883927,40.7628045561117 L -73.96521327987914,40.76343135906084 L -73.96475544914024,40.76405707059967 L -73.96429790392928,40.7646819876205 L -73.96384291091125,40.76530968567014 L -73.9634015408366,40.76591119153751 L -73.96292865765733,40.76655862794681 L -73.96246998928184,40.76718493378782 L -73.96201413119697,40.76781230899552 L -73.96154785518009,40.768431581849335 L -73.96110997058013,40.76906440780265 L -73.9606018063753,40.76974918670644 L -73.96010955196542,40.77043221096541 L -73.95964440773943,40.77106426585258 L -73.9591818003835,40.77169682395597 L -73.9587170744176,40.772331674653906 L -73.95825534937201,40.772965337086184 L -73.95779380470225,40.773599897456776 L -73.95729410043812,40.7742835550753 L -73.95505481622959,40.77333685117603 L -73.95268752458824,40.77234302098273 L -73.95043175557528,40.77138973153777 L -73.94807387944712,40.77039439466543 L -73.94779385491793,40.77024915206166 L -73.94771625089346,40.77021606808564 L -73.94766538436598,40.770193253129555 L -73.94761452955885,40.7701704294449 L -73.94752257888095,40.77012969528946 L -73.9474897545633,40.770115154521626 L -73.9481404018146,40.76941675635802 L -73.94866416477923,40.76885762389685 L -73.94908536768654,40.768278270795705 L -73.94937332131504,40.76788219105436 L -73.949579120714,40.76762893017955 L -73.950069793031,40.76702508788073 L -73.9506634515425,40.766380711349385 L -73.95122497666563,40.76577119897344 L -73.95176480900405,40.765163711843144 L -73.95230963181133,40.76455428860599 L -73.95336559963583,40.76336817091169 L -73.95441826078606,40.762184104951054 L -73.95557264605314,40.76116832623032 L -73.95587222339073,40.760904712115575 L -73.9563091763419,40.76050836755423 L -73.95633318967802,40.76048658506128 L -73.9569784172763,40.75989675444595 L -73.95731737587941,40.759592212256564 L -73.9575986944528,40.75934231825778 L -73.95763772742102,40.75930673989828 L -73.95800496616825,40.75897199962931 L -73.95825660841922,40.75874926119302 L -73.9583612533256,40.75866024195485 L -73.95838528673994,40.75863979740055 L -73.95842620189605,40.75860387300686 L -73.95845501809988,40.75858090219774 L -73.9584911954165,40.75854590383046 L -73.95854329612965,40.75849562293556 z\" /></g></g></svg>"
      ],
      "text/plain": [
       "<shapely.geometry.multipolygon.MultiPolygon at 0x11030a9e8>"
      ]
     },
     "execution_count": 23,
     "metadata": {},
     "output_type": "execute_result"
    }
   ],
   "source": [
    "nabe.geometry"
   ]
  },
  {
   "cell_type": "markdown",
   "metadata": {},
   "source": [
    "Fun, right? But we actually want to **do something** with it. We want to see **which gallery points are inside**. Before we do that, let's think about how searching works.\n",
    "\n",
    "**Let's say we wanted to find galleries that included \"Gallery\" in their name.** We'd do something like this:"
   ]
  },
  {
   "cell_type": "code",
   "execution_count": 24,
   "metadata": {},
   "outputs": [
    {
     "data": {
      "text/plain": [
       "0    False\n",
       "1     True\n",
       "2     True\n",
       "3    False\n",
       "4    False\n",
       "Name: name, dtype: bool"
      ]
     },
     "execution_count": 24,
     "metadata": {},
     "output_type": "execute_result"
    }
   ],
   "source": [
    "galleries['name'].str.contains(\"Gallery\").head()"
   ]
  },
  {
   "cell_type": "markdown",
   "metadata": {},
   "source": [
    "**In the same way you can use a dataframe column to search for a string, geopandas lets you do a [lot of geographic stuff](http://geopandas.org/geometric_manipulations.html)** with GeoSeries and GeoDataFrames - find centers, calculate boxes that surrounding shapes, create buffers around things. In this case we're going to use `.within` to say \"hey galleries, are you within this neighborhood's geometric shape?\""
   ]
  },
  {
   "cell_type": "code",
   "execution_count": 25,
   "metadata": {},
   "outputs": [
    {
     "data": {
      "text/plain": [
       "0    False\n",
       "1    False\n",
       "2    False\n",
       "3    False\n",
       "4    False\n",
       "dtype: bool"
      ]
     },
     "execution_count": 25,
     "metadata": {},
     "output_type": "execute_result"
    }
   ],
   "source": [
    "galleries.within(nabe.geometry).head(5)"
   ]
  },
  {
   "cell_type": "markdown",
   "metadata": {},
   "source": [
    "**How many galleries are in that neighborhood?** Well, we could do a `.value_counts()`..."
   ]
  },
  {
   "cell_type": "code",
   "execution_count": 26,
   "metadata": {},
   "outputs": [
    {
     "data": {
      "text/plain": [
       "False    888\n",
       "True      29\n",
       "dtype: int64"
      ]
     },
     "execution_count": 26,
     "metadata": {},
     "output_type": "execute_result"
    }
   ],
   "source": [
    "galleries.within(nabe.geometry).value_counts()"
   ]
  },
  {
   "cell_type": "markdown",
   "metadata": {},
   "source": [
    "...or we could do a `.sum()`, which adds up all of the `True`s for us."
   ]
  },
  {
   "cell_type": "code",
   "execution_count": 27,
   "metadata": {},
   "outputs": [
    {
     "data": {
      "text/plain": [
       "29"
      ]
     },
     "execution_count": 27,
     "metadata": {},
     "output_type": "execute_result"
    }
   ],
   "source": [
    "galleries.within(nabe.geometry).sum()"
   ]
  },
  {
   "cell_type": "markdown",
   "metadata": {},
   "source": [
    "**Hooray!** And just like we do every single time we get a list of `True` and `False`, we can also feed it right back into the `galleries` dataframe..."
   ]
  },
  {
   "cell_type": "code",
   "execution_count": 28,
   "metadata": {},
   "outputs": [
    {
     "data": {
      "text/html": [
       "<div>\n",
       "<style>\n",
       "    .dataframe thead tr:only-child th {\n",
       "        text-align: right;\n",
       "    }\n",
       "\n",
       "    .dataframe thead th {\n",
       "        text-align: left;\n",
       "    }\n",
       "\n",
       "    .dataframe tbody tr th {\n",
       "        vertical-align: top;\n",
       "    }\n",
       "</style>\n",
       "<table border=\"1\" class=\"dataframe\">\n",
       "  <thead>\n",
       "    <tr style=\"text-align: right;\">\n",
       "      <th></th>\n",
       "      <th>name</th>\n",
       "      <th>tel</th>\n",
       "      <th>url</th>\n",
       "      <th>addr1</th>\n",
       "      <th>addr2</th>\n",
       "      <th>city</th>\n",
       "      <th>zip</th>\n",
       "      <th>longitude</th>\n",
       "      <th>latitude</th>\n",
       "      <th>geometry</th>\n",
       "    </tr>\n",
       "  </thead>\n",
       "  <tbody>\n",
       "    <tr>\n",
       "      <th>17</th>\n",
       "      <td>Pandora Old Masters</td>\n",
       "      <td>(212) 628-1974</td>\n",
       "      <td>http://www.salondudessin.com/an/anpandora.html</td>\n",
       "      <td>212 E 70th St</td>\n",
       "      <td>NaN</td>\n",
       "      <td>New York</td>\n",
       "      <td>10021</td>\n",
       "      <td>-73.960816</td>\n",
       "      <td>40.767892</td>\n",
       "      <td>POINT (-73.96081641000001 40.76789235)</td>\n",
       "    </tr>\n",
       "    <tr>\n",
       "      <th>66</th>\n",
       "      <td>Rabenou Yris Ancient Arts</td>\n",
       "      <td>(212) 486-0661</td>\n",
       "      <td>http://www.antiquecollectiblestore.com/detail/...</td>\n",
       "      <td>249 E 61st St</td>\n",
       "      <td>NaN</td>\n",
       "      <td>New York</td>\n",
       "      <td>10021</td>\n",
       "      <td>-73.963836</td>\n",
       "      <td>40.762224</td>\n",
       "      <td>POINT (-73.9638362 40.76222398)</td>\n",
       "    </tr>\n",
       "    <tr>\n",
       "      <th>68</th>\n",
       "      <td>Rafael Gallery</td>\n",
       "      <td>(212) 744-8666</td>\n",
       "      <td>http://www.getfave.com/locations/888896-rafael...</td>\n",
       "      <td>241 E 59th St</td>\n",
       "      <td>NaN</td>\n",
       "      <td>New York</td>\n",
       "      <td>10022</td>\n",
       "      <td>-73.964848</td>\n",
       "      <td>40.761069</td>\n",
       "      <td>POINT (-73.96484847000001 40.76106891)</td>\n",
       "    </tr>\n",
       "    <tr>\n",
       "      <th>96</th>\n",
       "      <td>Rogallerycom</td>\n",
       "      <td>(212) 732-6887</td>\n",
       "      <td>http://www.auction-directory.info/auction/roga...</td>\n",
       "      <td>300 East 74th Street</td>\n",
       "      <td>NaN</td>\n",
       "      <td>New York</td>\n",
       "      <td>10021</td>\n",
       "      <td>-73.957268</td>\n",
       "      <td>40.769708</td>\n",
       "      <td>POINT (-73.95726809 40.7697075)</td>\n",
       "    </tr>\n",
       "    <tr>\n",
       "      <th>98</th>\n",
       "      <td>Roosevelt Island Visual Arts Assoc</td>\n",
       "      <td>(212) 308-6630</td>\n",
       "      <td>http://rivaa.com/</td>\n",
       "      <td>527 Main St</td>\n",
       "      <td>NaN</td>\n",
       "      <td>New York</td>\n",
       "      <td>10044</td>\n",
       "      <td>-73.956435</td>\n",
       "      <td>40.753599</td>\n",
       "      <td>POINT (-73.95643509999999 40.75359867)</td>\n",
       "    </tr>\n",
       "  </tbody>\n",
       "</table>\n",
       "</div>"
      ],
      "text/plain": [
       "                                  name             tel  \\\n",
       "17                 Pandora Old Masters  (212) 628-1974   \n",
       "66           Rabenou Yris Ancient Arts  (212) 486-0661   \n",
       "68                      Rafael Gallery  (212) 744-8666   \n",
       "96                        Rogallerycom  (212) 732-6887   \n",
       "98  Roosevelt Island Visual Arts Assoc  (212) 308-6630   \n",
       "\n",
       "                                                  url                 addr1  \\\n",
       "17     http://www.salondudessin.com/an/anpandora.html         212 E 70th St   \n",
       "66  http://www.antiquecollectiblestore.com/detail/...         249 E 61st St   \n",
       "68  http://www.getfave.com/locations/888896-rafael...         241 E 59th St   \n",
       "96  http://www.auction-directory.info/auction/roga...  300 East 74th Street   \n",
       "98                                  http://rivaa.com/           527 Main St   \n",
       "\n",
       "   addr2      city    zip  longitude   latitude  \\\n",
       "17   NaN  New York  10021 -73.960816  40.767892   \n",
       "66   NaN  New York  10021 -73.963836  40.762224   \n",
       "68   NaN  New York  10022 -73.964848  40.761069   \n",
       "96   NaN  New York  10021 -73.957268  40.769708   \n",
       "98   NaN  New York  10044 -73.956435  40.753599   \n",
       "\n",
       "                                  geometry  \n",
       "17  POINT (-73.96081641000001 40.76789235)  \n",
       "66         POINT (-73.9638362 40.76222398)  \n",
       "68  POINT (-73.96484847000001 40.76106891)  \n",
       "96         POINT (-73.95726809 40.7697075)  \n",
       "98  POINT (-73.95643509999999 40.75359867)  "
      ]
     },
     "execution_count": 28,
     "metadata": {},
     "output_type": "execute_result"
    }
   ],
   "source": [
    "galleries[galleries.within(nabe.geometry)].head()"
   ]
  },
  {
   "cell_type": "markdown",
   "metadata": {},
   "source": [
    "And there we go! **All of the galleries that are in Lennox Hill or Roosevelt Island.**\n",
    "\n",
    "Once we actually want to do the counting, let's go back to where we did that `.sum()` before. **Given a single geometry, we're able to count the galleries inside**."
   ]
  },
  {
   "cell_type": "code",
   "execution_count": 29,
   "metadata": {},
   "outputs": [
    {
     "data": {
      "text/plain": [
       "29"
      ]
     },
     "execution_count": 29,
     "metadata": {},
     "output_type": "execute_result"
    }
   ],
   "source": [
    "galleries.within(nabe.geometry).sum()"
   ]
  },
  {
   "cell_type": "markdown",
   "metadata": {},
   "source": [
    "### Step Three: Working with an entire dataframe\n",
    "\n",
    "The problem is that when we're working with dataframes, we're working with **all of the rows at once**, and we can't just do something like `galleries.within(neighborhoods.geometry).sum()` - instead of comparing **each galleries to every neighborhood**, it just pairs them up - it compares row 1 of the galleries to row 1 of the neighborhoods, row 2 of the galleries to row 2 of the neighborhoods, etc - which we don't like.\n",
    "\n",
    "We need to do this **to each individual row**. Luckily, we kind of know how to use `.apply`, which executes complicated stuff on each row!\n",
    "\n",
    "So now we'll say \"Hey, each row of the neighborhood - let's take your geometry and let the galleries see if they're inside of it.\"\n",
    "\n",
    "**First, here's how to look at each neighborhood's geometry**. We use `.apply` along with `axis=1` to perform something on each row."
   ]
  },
  {
   "cell_type": "code",
   "execution_count": 30,
   "metadata": {},
   "outputs": [
    {
     "data": {
      "text/plain": [
       "0    POLYGON ((-73.94732672160579 40.62916656720946...\n",
       "1    POLYGON ((-73.94193078816194 40.70072523469547...\n",
       "2    POLYGON ((-73.89138023380261 40.86170058826306...\n",
       "3    POLYGON ((-73.97604935591414 40.63127590564665...\n",
       "4    POLYGON ((-73.90855790522767 40.65209593779451...\n",
       "dtype: object"
      ]
     },
     "execution_count": 30,
     "metadata": {},
     "output_type": "execute_result"
    }
   ],
   "source": [
    "neighborhood.head().apply(lambda row: row.geometry, axis=1)"
   ]
  },
  {
   "cell_type": "markdown",
   "metadata": {},
   "source": [
    "Now all we need to do is add in the `.within` part we created earlier..."
   ]
  },
  {
   "cell_type": "code",
   "execution_count": 31,
   "metadata": {},
   "outputs": [
    {
     "data": {
      "text/plain": [
       "0    0\n",
       "1    1\n",
       "2    0\n",
       "3    1\n",
       "4    0\n",
       "dtype: int64"
      ]
     },
     "execution_count": 31,
     "metadata": {},
     "output_type": "execute_result"
    }
   ],
   "source": [
    "neighborhood.apply(lambda row: galleries.within(row.geometry).sum(), axis=1).head()"
   ]
  },
  {
   "cell_type": "markdown",
   "metadata": {},
   "source": [
    "We can add this into our original dataframe easily."
   ]
  },
  {
   "cell_type": "code",
   "execution_count": 32,
   "metadata": {},
   "outputs": [
    {
     "name": "stdout",
     "output_type": "stream",
     "text": [
      "CPU times: user 8.67 s, sys: 72.1 ms, total: 8.75 s\n",
      "Wall time: 9.98 s\n"
     ]
    }
   ],
   "source": [
    "%%time\n",
    "neighborhood['gallery_count'] = neighborhood.apply(lambda row: galleries.within(row.geometry).sum(), axis=1)"
   ]
  },
  {
   "cell_type": "markdown",
   "metadata": {},
   "source": [
    "See that? Only one line!!! It's slower than the first version, though, and not as flexible. If each gallery had a `score`, getting the median would require something like\n",
    "\n",
    "    neighborhoods['avg_score'] = neighborhoods.apply(lambda row: galleries[galleries.within(row.geometry)].score.median(), axis=1)\n",
    "\n",
    "which kind of somewhat isn't as nice."
   ]
  },
  {
   "cell_type": "markdown",
   "metadata": {},
   "source": [
    "### Part Five: Mapping\n",
    "\n",
    "Whew, okay. Whew. If you ran all of the code above, we now have a column for the number of galleries."
   ]
  },
  {
   "cell_type": "code",
   "execution_count": 33,
   "metadata": {},
   "outputs": [
    {
     "data": {
      "text/html": [
       "<div>\n",
       "<style>\n",
       "    .dataframe thead tr:only-child th {\n",
       "        text-align: right;\n",
       "    }\n",
       "\n",
       "    .dataframe thead th {\n",
       "        text-align: left;\n",
       "    }\n",
       "\n",
       "    .dataframe tbody tr th {\n",
       "        vertical-align: top;\n",
       "    }\n",
       "</style>\n",
       "<table border=\"1\" class=\"dataframe\">\n",
       "  <thead>\n",
       "    <tr style=\"text-align: right;\">\n",
       "      <th></th>\n",
       "      <th>BoroCode</th>\n",
       "      <th>BoroName</th>\n",
       "      <th>CountyFIPS</th>\n",
       "      <th>NTACode</th>\n",
       "      <th>NTAName</th>\n",
       "      <th>Shape_Area</th>\n",
       "      <th>Shape_Leng</th>\n",
       "      <th>geometry</th>\n",
       "      <th>gallery_count</th>\n",
       "    </tr>\n",
       "  </thead>\n",
       "  <tbody>\n",
       "    <tr>\n",
       "      <th>0</th>\n",
       "      <td>3</td>\n",
       "      <td>Brooklyn</td>\n",
       "      <td>047</td>\n",
       "      <td>BK43</td>\n",
       "      <td>Midwood</td>\n",
       "      <td>3.579964e+07</td>\n",
       "      <td>27996.591274</td>\n",
       "      <td>POLYGON ((-73.94732672160579 40.62916656720946...</td>\n",
       "      <td>0</td>\n",
       "    </tr>\n",
       "    <tr>\n",
       "      <th>1</th>\n",
       "      <td>3</td>\n",
       "      <td>Brooklyn</td>\n",
       "      <td>047</td>\n",
       "      <td>BK75</td>\n",
       "      <td>Bedford</td>\n",
       "      <td>3.262983e+07</td>\n",
       "      <td>29992.919174</td>\n",
       "      <td>POLYGON ((-73.94193078816194 40.70072523469547...</td>\n",
       "      <td>1</td>\n",
       "    </tr>\n",
       "  </tbody>\n",
       "</table>\n",
       "</div>"
      ],
      "text/plain": [
       "   BoroCode  BoroName CountyFIPS NTACode  NTAName    Shape_Area    Shape_Leng  \\\n",
       "0         3  Brooklyn        047    BK43  Midwood  3.579964e+07  27996.591274   \n",
       "1         3  Brooklyn        047    BK75  Bedford  3.262983e+07  29992.919174   \n",
       "\n",
       "                                            geometry  gallery_count  \n",
       "0  POLYGON ((-73.94732672160579 40.62916656720946...              0  \n",
       "1  POLYGON ((-73.94193078816194 40.70072523469547...              1  "
      ]
     },
     "execution_count": 33,
     "metadata": {},
     "output_type": "execute_result"
    }
   ],
   "source": [
    "neighborhood.head(2)"
   ]
  },
  {
   "cell_type": "markdown",
   "metadata": {},
   "source": [
    "Let's map that. Make it look nice, use a good projection, etc, and pick a [non-default colormap](https://matplotlib.org/examples/color/colormaps_reference.html). I think something under 'sequential' is your best bet."
   ]
  },
  {
   "cell_type": "code",
   "execution_count": 34,
   "metadata": {
    "scrolled": true
   },
   "outputs": [
    {
     "name": "stderr",
     "output_type": "stream",
     "text": [
      "/usr/local/lib/python3.6/site-packages/geopandas/plotting.py:225: FutureWarning: 'colormap' is deprecated, please use 'cmap' instead (for consistency with matplotlib)\n",
      "  \"(for consistency with matplotlib)\", FutureWarning)\n"
     ]
    },
    {
     "data": {
      "text/plain": [
       "(-74.283370478149223,\n",
       " -73.672229948213371,\n",
       " 40.47514452610185,\n",
       " 40.936503645568806)"
      ]
     },
     "execution_count": 34,
     "metadata": {},
     "output_type": "execute_result"
    },
    {
     "data": {
      "image/png": "[encoded data removed]",
      "text/plain": [
       "<matplotlib.figure.Figure at 0x110532c50>"
      ]
     },
     "metadata": {},
     "output_type": "display_data"
    }
   ],
   "source": [
    "ax = neighborhood.to_crs(galleries.crs).plot(colormap='Oranges', linewidth=0.25, edgecolor='white')\n",
    "galleries.plot(ax=ax, color='black', markeredgewidth=0, markersize=3)\n",
    "ax.axis('off')"
   ]
  },
  {
   "cell_type": "markdown",
   "metadata": {},
   "source": [
    "# Solo work\n",
    "\n",
    "You have two datasets:\n",
    "\n",
    "* A csv of volcanoes in the world, called `volanoes.csv`\n",
    "* A shapefile of US states, unzipped into `cb_2016_us_state_500k/`\n",
    "\n",
    "We're going to count the volcanoes in each state, then create a choropleth map of the results.\n",
    "\n",
    "## Step One: Read in your data\n",
    "\n",
    "First the volcanoes, then the shapefile."
   ]
  },
  {
   "cell_type": "code",
   "execution_count": 36,
   "metadata": {
    "scrolled": true
   },
   "outputs": [
    {
     "data": {
      "text/html": [
       "<div>\n",
       "<style>\n",
       "    .dataframe thead tr:only-child th {\n",
       "        text-align: right;\n",
       "    }\n",
       "\n",
       "    .dataframe thead th {\n",
       "        text-align: left;\n",
       "    }\n",
       "\n",
       "    .dataframe tbody tr th {\n",
       "        vertical-align: top;\n",
       "    }\n",
       "</style>\n",
       "<table border=\"1\" class=\"dataframe\">\n",
       "  <thead>\n",
       "    <tr style=\"text-align: right;\">\n",
       "      <th></th>\n",
       "      <th>X</th>\n",
       "      <th>Y</th>\n",
       "      <th>VOLCANX020</th>\n",
       "      <th>NUMBER</th>\n",
       "      <th>NAME</th>\n",
       "      <th>LOCATION</th>\n",
       "      <th>STATUS</th>\n",
       "      <th>ELEV</th>\n",
       "      <th>TYPE</th>\n",
       "      <th>TIMEFRAME</th>\n",
       "      <th>LAT</th>\n",
       "      <th>LONG</th>\n",
       "    </tr>\n",
       "  </thead>\n",
       "  <tbody>\n",
       "    <tr>\n",
       "      <th>0</th>\n",
       "      <td>120.349998</td>\n",
       "      <td>15.130000</td>\n",
       "      <td>1</td>\n",
       "      <td>0703-083</td>\n",
       "      <td>Pinatubo</td>\n",
       "      <td>Luzon-Philippines</td>\n",
       "      <td>Historical</td>\n",
       "      <td>1486</td>\n",
       "      <td>Stratovolcano</td>\n",
       "      <td>D1</td>\n",
       "      <td>15.13</td>\n",
       "      <td>120.35</td>\n",
       "    </tr>\n",
       "    <tr>\n",
       "      <th>1</th>\n",
       "      <td>120.550003</td>\n",
       "      <td>16.330002</td>\n",
       "      <td>2</td>\n",
       "      <td>0703-086</td>\n",
       "      <td>Santo Tomas</td>\n",
       "      <td>Luzon-Philippines</td>\n",
       "      <td>Uncertain</td>\n",
       "      <td>2260</td>\n",
       "      <td>Stratovolcano</td>\n",
       "      <td>?</td>\n",
       "      <td>16.33</td>\n",
       "      <td>120.55</td>\n",
       "    </tr>\n",
       "    <tr>\n",
       "      <th>2</th>\n",
       "      <td>121.180000</td>\n",
       "      <td>21.830002</td>\n",
       "      <td>3</td>\n",
       "      <td>0801-02=</td>\n",
       "      <td>Unnamed</td>\n",
       "      <td>Taiwan-E of</td>\n",
       "      <td>Historical</td>\n",
       "      <td>-115</td>\n",
       "      <td>Submarine volcano</td>\n",
       "      <td>D3</td>\n",
       "      <td>21.83</td>\n",
       "      <td>121.18</td>\n",
       "    </tr>\n",
       "  </tbody>\n",
       "</table>\n",
       "</div>"
      ],
      "text/plain": [
       "            X          Y  VOLCANX020    NUMBER         NAME  \\\n",
       "0  120.349998  15.130000           1  0703-083     Pinatubo   \n",
       "1  120.550003  16.330002           2  0703-086  Santo Tomas   \n",
       "2  121.180000  21.830002           3  0801-02=      Unnamed   \n",
       "\n",
       "            LOCATION      STATUS  ELEV               TYPE TIMEFRAME    LAT  \\\n",
       "0  Luzon-Philippines  Historical  1486      Stratovolcano        D1  15.13   \n",
       "1  Luzon-Philippines   Uncertain  2260      Stratovolcano         ?  16.33   \n",
       "2        Taiwan-E of  Historical  -115  Submarine volcano        D3  21.83   \n",
       "\n",
       "     LONG  \n",
       "0  120.35  \n",
       "1  120.55  \n",
       "2  121.18  "
      ]
     },
     "execution_count": 36,
     "metadata": {},
     "output_type": "execute_result"
    }
   ],
   "source": [
    "volcanoes = pd.read_csv('volcanoes.csv')\n",
    "volcanoes.head(3)"
   ]
  },
  {
   "cell_type": "code",
   "execution_count": 38,
   "metadata": {},
   "outputs": [
    {
     "data": {
      "text/html": [
       "<div>\n",
       "<style>\n",
       "    .dataframe thead tr:only-child th {\n",
       "        text-align: right;\n",
       "    }\n",
       "\n",
       "    .dataframe thead th {\n",
       "        text-align: left;\n",
       "    }\n",
       "\n",
       "    .dataframe tbody tr th {\n",
       "        vertical-align: top;\n",
       "    }\n",
       "</style>\n",
       "<table border=\"1\" class=\"dataframe\">\n",
       "  <thead>\n",
       "    <tr style=\"text-align: right;\">\n",
       "      <th></th>\n",
       "      <th>AFFGEOID</th>\n",
       "      <th>ALAND</th>\n",
       "      <th>AWATER</th>\n",
       "      <th>GEOID</th>\n",
       "      <th>LSAD</th>\n",
       "      <th>NAME</th>\n",
       "      <th>STATEFP</th>\n",
       "      <th>STATENS</th>\n",
       "      <th>STUSPS</th>\n",
       "      <th>geometry</th>\n",
       "    </tr>\n",
       "  </thead>\n",
       "  <tbody>\n",
       "    <tr>\n",
       "      <th>0</th>\n",
       "      <td>0400000US01</td>\n",
       "      <td>131173688951</td>\n",
       "      <td>4593686489</td>\n",
       "      <td>01</td>\n",
       "      <td>00</td>\n",
       "      <td>Alabama</td>\n",
       "      <td>01</td>\n",
       "      <td>01779775</td>\n",
       "      <td>AL</td>\n",
       "      <td>(POLYGON ((-88.053375 30.506987, -88.051087999...</td>\n",
       "    </tr>\n",
       "    <tr>\n",
       "      <th>1</th>\n",
       "      <td>0400000US02</td>\n",
       "      <td>1477946266785</td>\n",
       "      <td>245390495931</td>\n",
       "      <td>02</td>\n",
       "      <td>00</td>\n",
       "      <td>Alaska</td>\n",
       "      <td>02</td>\n",
       "      <td>01785533</td>\n",
       "      <td>AK</td>\n",
       "      <td>(POLYGON ((-134.737262 58.261354, -134.73441 5...</td>\n",
       "    </tr>\n",
       "    <tr>\n",
       "      <th>2</th>\n",
       "      <td>0400000US04</td>\n",
       "      <td>294198560125</td>\n",
       "      <td>1027346486</td>\n",
       "      <td>04</td>\n",
       "      <td>00</td>\n",
       "      <td>Arizona</td>\n",
       "      <td>04</td>\n",
       "      <td>01779777</td>\n",
       "      <td>AZ</td>\n",
       "      <td>POLYGON ((-114.816294 32.508038, -114.814321 3...</td>\n",
       "    </tr>\n",
       "  </tbody>\n",
       "</table>\n",
       "</div>"
      ],
      "text/plain": [
       "      AFFGEOID          ALAND        AWATER GEOID LSAD     NAME STATEFP  \\\n",
       "0  0400000US01   131173688951    4593686489    01   00  Alabama      01   \n",
       "1  0400000US02  1477946266785  245390495931    02   00   Alaska      02   \n",
       "2  0400000US04   294198560125    1027346486    04   00  Arizona      04   \n",
       "\n",
       "    STATENS STUSPS                                           geometry  \n",
       "0  01779775     AL  (POLYGON ((-88.053375 30.506987, -88.051087999...  \n",
       "1  01785533     AK  (POLYGON ((-134.737262 58.261354, -134.73441 5...  \n",
       "2  01779777     AZ  POLYGON ((-114.816294 32.508038, -114.814321 3...  "
      ]
     },
     "execution_count": 38,
     "metadata": {},
     "output_type": "execute_result"
    }
   ],
   "source": [
    "us_states = gpd.read_file('/Volumes/Macintosh HD/Users/Elisa/Desktop/Lede_Program/1_Foundations/13_Session/13-homework/cb_2016_us_state_500k/cb_2016_us_state_500k.shp')\n",
    "us_states.head(3)"
   ]
  },
  {
   "cell_type": "markdown",
   "metadata": {},
   "source": [
    "## Step Two: Plot them on top of each other\n",
    "\n",
    "Just for kicks, so we can see how it looks. Make sure they have the same crs!"
   ]
  },
  {
   "cell_type": "code",
   "execution_count": 39,
   "metadata": {},
   "outputs": [
    {
     "data": {
      "text/plain": [
       "<matplotlib.axes._subplots.AxesSubplot at 0x113879c88>"
      ]
     },
     "execution_count": 39,
     "metadata": {},
     "output_type": "execute_result"
    },
    {
     "data": {
      "image/png": "[encoded data removed]",
      "text/plain": [
       "<matplotlib.figure.Figure at 0x1138790b8>"
      ]
     },
     "metadata": {},
     "output_type": "display_data"
    }
   ],
   "source": [
    "points = volcanoes.apply(lambda row: Point(row.X, row.Y), axis=1)\n",
    "volcanoes = gpd.GeoDataFrame(volcanoes, geometry=points)\n",
    "volcanoes.crs = {'init': 'epsg:4326'}\n",
    "volcanoes.plot()"
   ]
  },
  {
   "cell_type": "code",
   "execution_count": 40,
   "metadata": {},
   "outputs": [
    {
     "data": {
      "text/plain": [
       "(-197.09527795, 197.72483894999999, -19.689633782153319, 93.410931425219729)"
      ]
     },
     "execution_count": 40,
     "metadata": {},
     "output_type": "execute_result"
    },
    {
     "data": {
      "image/png": "[encoded data removed]",
      "text/plain": [
       "<matplotlib.figure.Figure at 0x113190a58>"
      ]
     },
     "metadata": {},
     "output_type": "display_data"
    }
   ],
   "source": [
    "ax = us_states.plot(linewidth=0.25, edgecolor='white')\n",
    "volcanoes.plot(ax=ax, color='red', markeredgewidth=0, markersize=3)\n",
    "ax.axis('off')"
   ]
  },
  {
   "cell_type": "markdown",
   "metadata": {},
   "source": [
    "## Step Three: Spatial join\n",
    "\n",
    "Join them together, counting the number of volcanoes in each US state. Use the `sjoin` method, and be sure you use `.reset_index()` so you can join them together later.\n",
    "\n",
    "If the CRS doesn't match, **make the CRS match**."
   ]
  },
  {
   "cell_type": "code",
   "execution_count": 41,
   "metadata": {},
   "outputs": [
    {
     "data": {
      "text/plain": [
       "{'init': 'epsg:4326'}"
      ]
     },
     "execution_count": 41,
     "metadata": {},
     "output_type": "execute_result"
    }
   ],
   "source": [
    "volcanoes.crs"
   ]
  },
  {
   "cell_type": "code",
   "execution_count": 42,
   "metadata": {},
   "outputs": [
    {
     "data": {
      "text/plain": [
       "{'init': 'epsg:4269'}"
      ]
     },
     "execution_count": 42,
     "metadata": {},
     "output_type": "execute_result"
    }
   ],
   "source": [
    "us_states.crs"
   ]
  },
  {
   "cell_type": "code",
   "execution_count": 43,
   "metadata": {},
   "outputs": [
    {
     "data": {
      "text/html": [
       "<div>\n",
       "<style>\n",
       "    .dataframe thead tr:only-child th {\n",
       "        text-align: right;\n",
       "    }\n",
       "\n",
       "    .dataframe thead th {\n",
       "        text-align: left;\n",
       "    }\n",
       "\n",
       "    .dataframe tbody tr th {\n",
       "        vertical-align: top;\n",
       "    }\n",
       "</style>\n",
       "<table border=\"1\" class=\"dataframe\">\n",
       "  <thead>\n",
       "    <tr style=\"text-align: right;\">\n",
       "      <th></th>\n",
       "      <th>level_0</th>\n",
       "      <th>index</th>\n",
       "      <th>AFFGEOID</th>\n",
       "      <th>ALAND</th>\n",
       "      <th>AWATER</th>\n",
       "      <th>GEOID</th>\n",
       "      <th>LSAD</th>\n",
       "      <th>NAME_left</th>\n",
       "      <th>STATEFP</th>\n",
       "      <th>STATENS</th>\n",
       "      <th>...</th>\n",
       "      <th>NUMBER</th>\n",
       "      <th>NAME_right</th>\n",
       "      <th>LOCATION</th>\n",
       "      <th>STATUS</th>\n",
       "      <th>ELEV</th>\n",
       "      <th>TYPE</th>\n",
       "      <th>TIMEFRAME</th>\n",
       "      <th>LAT</th>\n",
       "      <th>LONG</th>\n",
       "      <th>volc_count</th>\n",
       "    </tr>\n",
       "  </thead>\n",
       "  <tbody>\n",
       "    <tr>\n",
       "      <th>0</th>\n",
       "      <td>1</td>\n",
       "      <td>1</td>\n",
       "      <td>0400000US02</td>\n",
       "      <td>1477946266785</td>\n",
       "      <td>245390495931</td>\n",
       "      <td>02</td>\n",
       "      <td>00</td>\n",
       "      <td>Alaska</td>\n",
       "      <td>02</td>\n",
       "      <td>01785533</td>\n",
       "      <td>...</td>\n",
       "      <td>1103-05-</td>\n",
       "      <td>Hayes</td>\n",
       "      <td>Alaska-SW</td>\n",
       "      <td>Radiocarbon</td>\n",
       "      <td>3034</td>\n",
       "      <td>Stratovolcano</td>\n",
       "      <td>D6</td>\n",
       "      <td>61.640</td>\n",
       "      <td>-152.41</td>\n",
       "      <td>0.0</td>\n",
       "    </tr>\n",
       "    <tr>\n",
       "      <th>1</th>\n",
       "      <td>1</td>\n",
       "      <td>1</td>\n",
       "      <td>0400000US02</td>\n",
       "      <td>1477946266785</td>\n",
       "      <td>245390495931</td>\n",
       "      <td>02</td>\n",
       "      <td>00</td>\n",
       "      <td>Alaska</td>\n",
       "      <td>02</td>\n",
       "      <td>01785533</td>\n",
       "      <td>...</td>\n",
       "      <td>1103-04-</td>\n",
       "      <td>Spurr</td>\n",
       "      <td>Alaska-SW</td>\n",
       "      <td>Historical</td>\n",
       "      <td>3374</td>\n",
       "      <td>Stratovolcano</td>\n",
       "      <td>D1</td>\n",
       "      <td>61.299</td>\n",
       "      <td>-152.25</td>\n",
       "      <td>87.0</td>\n",
       "    </tr>\n",
       "    <tr>\n",
       "      <th>2</th>\n",
       "      <td>1</td>\n",
       "      <td>1</td>\n",
       "      <td>0400000US02</td>\n",
       "      <td>1477946266785</td>\n",
       "      <td>245390495931</td>\n",
       "      <td>02</td>\n",
       "      <td>00</td>\n",
       "      <td>Alaska</td>\n",
       "      <td>02</td>\n",
       "      <td>01785533</td>\n",
       "      <td>...</td>\n",
       "      <td>1105-001</td>\n",
       "      <td>Buzzard Creek</td>\n",
       "      <td>Alaska-E</td>\n",
       "      <td>Radiocarbon</td>\n",
       "      <td>830</td>\n",
       "      <td>Tuff rings</td>\n",
       "      <td>D7</td>\n",
       "      <td>64.070</td>\n",
       "      <td>-148.42</td>\n",
       "      <td>2.0</td>\n",
       "    </tr>\n",
       "  </tbody>\n",
       "</table>\n",
       "<p>3 rows × 26 columns</p>\n",
       "</div>"
      ],
      "text/plain": [
       "   level_0  index     AFFGEOID          ALAND        AWATER GEOID LSAD  \\\n",
       "0        1      1  0400000US02  1477946266785  245390495931    02   00   \n",
       "1        1      1  0400000US02  1477946266785  245390495931    02   00   \n",
       "2        1      1  0400000US02  1477946266785  245390495931    02   00   \n",
       "\n",
       "  NAME_left STATEFP   STATENS    ...        NUMBER     NAME_right   LOCATION  \\\n",
       "0    Alaska      02  01785533    ...      1103-05-          Hayes  Alaska-SW   \n",
       "1    Alaska      02  01785533    ...      1103-04-          Spurr  Alaska-SW   \n",
       "2    Alaska      02  01785533    ...      1105-001  Buzzard Creek   Alaska-E   \n",
       "\n",
       "        STATUS  ELEV           TYPE TIMEFRAME     LAT    LONG volc_count  \n",
       "0  Radiocarbon  3034  Stratovolcano        D6  61.640 -152.41        0.0  \n",
       "1   Historical  3374  Stratovolcano        D1  61.299 -152.25       87.0  \n",
       "2  Radiocarbon   830     Tuff rings        D7  64.070 -148.42        2.0  \n",
       "\n",
       "[3 rows x 26 columns]"
      ]
     },
     "execution_count": 43,
     "metadata": {},
     "output_type": "execute_result"
    }
   ],
   "source": [
    "volcanoes_in_states = gpd.sjoin(us_states.to_crs(volcanoes.crs).reset_index(), volcanoes, how='inner', op='intersects').reset_index()\n",
    "volcanoes_in_states['volc_count'] = volcanoes_in_states.groupby('index').size()\n",
    "volcanoes_in_states['volc_count'] = volcanoes_in_states['volc_count'].fillna(0)\n",
    "volcanoes_in_states.head(3)"
   ]
  },
  {
   "cell_type": "code",
   "execution_count": 44,
   "metadata": {
    "collapsed": true
   },
   "outputs": [],
   "source": [
    "del volcanoes_in_states['level_0']"
   ]
  },
  {
   "cell_type": "code",
   "execution_count": 45,
   "metadata": {},
   "outputs": [
    {
     "data": {
      "text/html": [
       "<div>\n",
       "<style>\n",
       "    .dataframe thead tr:only-child th {\n",
       "        text-align: right;\n",
       "    }\n",
       "\n",
       "    .dataframe thead th {\n",
       "        text-align: left;\n",
       "    }\n",
       "\n",
       "    .dataframe tbody tr th {\n",
       "        vertical-align: top;\n",
       "    }\n",
       "</style>\n",
       "<table border=\"1\" class=\"dataframe\">\n",
       "  <thead>\n",
       "    <tr style=\"text-align: right;\">\n",
       "      <th></th>\n",
       "      <th>index</th>\n",
       "      <th>AFFGEOID</th>\n",
       "      <th>ALAND</th>\n",
       "      <th>AWATER</th>\n",
       "      <th>GEOID</th>\n",
       "      <th>LSAD</th>\n",
       "      <th>NAME_left</th>\n",
       "      <th>STATEFP</th>\n",
       "      <th>STATENS</th>\n",
       "      <th>STUSPS</th>\n",
       "      <th>...</th>\n",
       "      <th>NUMBER</th>\n",
       "      <th>NAME_right</th>\n",
       "      <th>LOCATION</th>\n",
       "      <th>STATUS</th>\n",
       "      <th>ELEV</th>\n",
       "      <th>TYPE</th>\n",
       "      <th>TIMEFRAME</th>\n",
       "      <th>LAT</th>\n",
       "      <th>LONG</th>\n",
       "      <th>volc_count</th>\n",
       "    </tr>\n",
       "  </thead>\n",
       "  <tbody>\n",
       "    <tr>\n",
       "      <th>0</th>\n",
       "      <td>1</td>\n",
       "      <td>0400000US02</td>\n",
       "      <td>1477946266785</td>\n",
       "      <td>245390495931</td>\n",
       "      <td>02</td>\n",
       "      <td>00</td>\n",
       "      <td>Alaska</td>\n",
       "      <td>02</td>\n",
       "      <td>01785533</td>\n",
       "      <td>AK</td>\n",
       "      <td>...</td>\n",
       "      <td>1103-05-</td>\n",
       "      <td>Hayes</td>\n",
       "      <td>Alaska-SW</td>\n",
       "      <td>Radiocarbon</td>\n",
       "      <td>3034</td>\n",
       "      <td>Stratovolcano</td>\n",
       "      <td>D6</td>\n",
       "      <td>61.640</td>\n",
       "      <td>-152.41</td>\n",
       "      <td>0.0</td>\n",
       "    </tr>\n",
       "    <tr>\n",
       "      <th>1</th>\n",
       "      <td>1</td>\n",
       "      <td>0400000US02</td>\n",
       "      <td>1477946266785</td>\n",
       "      <td>245390495931</td>\n",
       "      <td>02</td>\n",
       "      <td>00</td>\n",
       "      <td>Alaska</td>\n",
       "      <td>02</td>\n",
       "      <td>01785533</td>\n",
       "      <td>AK</td>\n",
       "      <td>...</td>\n",
       "      <td>1103-04-</td>\n",
       "      <td>Spurr</td>\n",
       "      <td>Alaska-SW</td>\n",
       "      <td>Historical</td>\n",
       "      <td>3374</td>\n",
       "      <td>Stratovolcano</td>\n",
       "      <td>D1</td>\n",
       "      <td>61.299</td>\n",
       "      <td>-152.25</td>\n",
       "      <td>87.0</td>\n",
       "    </tr>\n",
       "  </tbody>\n",
       "</table>\n",
       "<p>2 rows × 25 columns</p>\n",
       "</div>"
      ],
      "text/plain": [
       "   index     AFFGEOID          ALAND        AWATER GEOID LSAD NAME_left  \\\n",
       "0      1  0400000US02  1477946266785  245390495931    02   00    Alaska   \n",
       "1      1  0400000US02  1477946266785  245390495931    02   00    Alaska   \n",
       "\n",
       "  STATEFP   STATENS STUSPS     ...        NUMBER  NAME_right   LOCATION  \\\n",
       "0      02  01785533     AK     ...      1103-05-       Hayes  Alaska-SW   \n",
       "1      02  01785533     AK     ...      1103-04-       Spurr  Alaska-SW   \n",
       "\n",
       "        STATUS  ELEV           TYPE TIMEFRAME     LAT    LONG  volc_count  \n",
       "0  Radiocarbon  3034  Stratovolcano        D6  61.640 -152.41         0.0  \n",
       "1   Historical  3374  Stratovolcano        D1  61.299 -152.25        87.0  \n",
       "\n",
       "[2 rows x 25 columns]"
      ]
     },
     "execution_count": 45,
     "metadata": {},
     "output_type": "execute_result"
    }
   ],
   "source": [
    "volcanoes_in_states.head(2)"
   ]
  },
  {
   "cell_type": "markdown",
   "metadata": {},
   "source": [
    "## Step Four: Map it\n",
    "\n",
    "Okay, yeah, it'll look terrible, but the future holds great things for you. Just try to shoot for some sort of projection, a reasonable [colormap](https://matplotlib.org/examples/color/colormaps_reference.html), etc. You'll find out a bit more about only mapping part of the world soon."
   ]
  },
  {
   "cell_type": "code",
   "execution_count": null,
   "metadata": {},
   "outputs": [],
   "source": [
    "ax = volcanoes_in_states.to_crs(us_states).plot(cmap='lightgrey', linewidth=0.25, edgecolor='red')\n",
    "volcanoes.plot(ax=ax, color='black', markeredgewidth=0, markersize=3)\n",
    "ax.axis('off')"
   ]
  },
  {
   "cell_type": "code",
   "execution_count": null,
   "metadata": {
    "collapsed": true
   },
   "outputs": [],
   "source": [
    "volcanoes_in_states.plot()"
   ]
  }
 ],
 "metadata": {
  "kernelspec": {
   "display_name": "Python 3",
   "language": "python",
   "name": "python3"
  },
  "language_info": {
   "codemirror_mode": {
    "name": "ipython",
    "version": 3
   },
   "file_extension": ".py",
   "mimetype": "text/x-python",
   "name": "python",
   "nbconvert_exporter": "python",
   "pygments_lexer": "ipython3",
   "version": "3.6.1"
  }
 },
 "nbformat": 4,
 "nbformat_minor": 2
}
