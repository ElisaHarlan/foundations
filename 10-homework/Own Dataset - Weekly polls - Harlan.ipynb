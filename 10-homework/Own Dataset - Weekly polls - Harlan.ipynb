{
 "cells": [
  {
   "cell_type": "markdown",
   "metadata": {},
   "source": [
    "# Own Dataset - weekly polls in Germany"
   ]
  },
  {
   "cell_type": "markdown",
   "metadata": {},
   "source": [
    "# 1. Open the dataset using pandas\n",
    "\n"
   ]
  },
  {
   "cell_type": "code",
   "execution_count": 665,
   "metadata": {
    "collapsed": true
   },
   "outputs": [],
   "source": [
    "import pandas as pd"
   ]
  },
  {
   "cell_type": "code",
   "execution_count": 666,
   "metadata": {
    "collapsed": true
   },
   "outputs": [],
   "source": [
    "%matplotlib inline"
   ]
  },
  {
   "cell_type": "code",
   "execution_count": 667,
   "metadata": {
    "collapsed": true
   },
   "outputs": [],
   "source": [
    "#Where did the dataset come from? (I wan)\n",
    "# ==> https://de.statista.com/themen/82/sonntagsfrage/ "
   ]
  },
  {
   "cell_type": "code",
   "execution_count": 668,
   "metadata": {
    "collapsed": true
   },
   "outputs": [],
   "source": [
    "#If I had questions about this dataset, who would I ask?\n",
    "# ==> customerservice at statista: kundenservice@statista.com"
   ]
  },
  {
   "cell_type": "markdown",
   "metadata": {},
   "source": [
    "# 2. Tell me what four of the columns mean, and state whether you made up the definitions or used a data dictionary."
   ]
  },
  {
   "cell_type": "code",
   "execution_count": 669,
   "metadata": {},
   "outputs": [
    {
     "data": {
      "text/html": [
       "<div>\n",
       "<style>\n",
       "    .dataframe thead tr:only-child th {\n",
       "        text-align: right;\n",
       "    }\n",
       "\n",
       "    .dataframe thead th {\n",
       "        text-align: left;\n",
       "    }\n",
       "\n",
       "    .dataframe tbody tr th {\n",
       "        vertical-align: top;\n",
       "    }\n",
       "</style>\n",
       "<table border=\"1\" class=\"dataframe\">\n",
       "  <thead>\n",
       "    <tr style=\"text-align: right;\">\n",
       "      <th></th>\n",
       "      <th>Unnamed: 0</th>\n",
       "      <th>zu den Daten</th>\n",
       "      <th>Unnamed: 2</th>\n",
       "    </tr>\n",
       "  </thead>\n",
       "  <tbody>\n",
       "    <tr>\n",
       "      <th>15</th>\n",
       "      <td>NaN</td>\n",
       "      <td>NaN</td>\n",
       "      <td>NaN</td>\n",
       "    </tr>\n",
       "    <tr>\n",
       "      <th>16</th>\n",
       "      <td>NaN</td>\n",
       "      <td>Veröffentlichung durch</td>\n",
       "      <td>wahlrecht.de</td>\n",
       "    </tr>\n",
       "    <tr>\n",
       "      <th>17</th>\n",
       "      <td>NaN</td>\n",
       "      <td>Veröffentlichungsdatum</td>\n",
       "      <td>Juni 2017</td>\n",
       "    </tr>\n",
       "    <tr>\n",
       "      <th>18</th>\n",
       "      <td>NaN</td>\n",
       "      <td>Herkunftsverweis</td>\n",
       "      <td>wahlrecht.de</td>\n",
       "    </tr>\n",
       "    <tr>\n",
       "      <th>19</th>\n",
       "      <td>NaN</td>\n",
       "      <td>ID</td>\n",
       "      <td>30321</td>\n",
       "    </tr>\n",
       "  </tbody>\n",
       "</table>\n",
       "</div>"
      ],
      "text/plain": [
       "    Unnamed: 0            zu den Daten    Unnamed: 2\n",
       "15         NaN                     NaN           NaN\n",
       "16         NaN  Veröffentlichung durch  wahlrecht.de\n",
       "17         NaN  Veröffentlichungsdatum     Juni 2017\n",
       "18         NaN        Herkunftsverweis  wahlrecht.de\n",
       "19         NaN                      ID         30321"
      ]
     },
     "execution_count": 669,
     "metadata": {},
     "output_type": "execute_result"
    }
   ],
   "source": [
    "df_0 = pd.read_excel(\"sonntagsfrage.xlsx\", sheetname=0, skiprows=4) \n",
    "df_0.tail()\n",
    "#To know more about the Data, we also have to import the very first excel sheet. \n",
    "#Here we find information on how the data was collected, what people were surveyed, when it was published etc. "
   ]
  },
  {
   "cell_type": "raw",
   "metadata": {},
   "source": [
    "# Task 1: Only choosing the 2nd sheet of my exceltable and skipping rows"
   ]
  },
  {
   "cell_type": "code",
   "execution_count": 670,
   "metadata": {},
   "outputs": [
    {
     "data": {
      "text/html": [
       "<div>\n",
       "<style>\n",
       "    .dataframe thead tr:only-child th {\n",
       "        text-align: right;\n",
       "    }\n",
       "\n",
       "    .dataframe thead th {\n",
       "        text-align: left;\n",
       "    }\n",
       "\n",
       "    .dataframe tbody tr th {\n",
       "        vertical-align: top;\n",
       "    }\n",
       "</style>\n",
       "<table border=\"1\" class=\"dataframe\">\n",
       "  <thead>\n",
       "    <tr style=\"text-align: right;\">\n",
       "      <th></th>\n",
       "      <th>Unnamed: 0</th>\n",
       "      <th>Unnamed: 1</th>\n",
       "      <th>CDU/CSU</th>\n",
       "      <th>SPD</th>\n",
       "      <th>Die Linke</th>\n",
       "      <th>Grüne</th>\n",
       "      <th>FDP</th>\n",
       "      <th>AfD</th>\n",
       "      <th>Sonstige</th>\n",
       "      <th>Unnamed: 9</th>\n",
       "    </tr>\n",
       "  </thead>\n",
       "  <tbody>\n",
       "    <tr>\n",
       "      <th>0</th>\n",
       "      <td>NaN</td>\n",
       "      <td>01.06.2017 GMS</td>\n",
       "      <td>39.0</td>\n",
       "      <td>23</td>\n",
       "      <td>8.0</td>\n",
       "      <td>8.0</td>\n",
       "      <td>10.0</td>\n",
       "      <td>8.0</td>\n",
       "      <td>4.0</td>\n",
       "      <td>in %</td>\n",
       "    </tr>\n",
       "    <tr>\n",
       "      <th>1</th>\n",
       "      <td>NaN</td>\n",
       "      <td>02.06.2017 Forschungs- gruppe Wahlen</td>\n",
       "      <td>39.0</td>\n",
       "      <td>25</td>\n",
       "      <td>9.0</td>\n",
       "      <td>7.0</td>\n",
       "      <td>8.0</td>\n",
       "      <td>8.0</td>\n",
       "      <td>4.0</td>\n",
       "      <td>in %</td>\n",
       "    </tr>\n",
       "    <tr>\n",
       "      <th>2</th>\n",
       "      <td>NaN</td>\n",
       "      <td>15.06.2017 Infratest dimap</td>\n",
       "      <td>39.0</td>\n",
       "      <td>24</td>\n",
       "      <td>8.0</td>\n",
       "      <td>7.0</td>\n",
       "      <td>9.0</td>\n",
       "      <td>8.0</td>\n",
       "      <td>5.0</td>\n",
       "      <td>in %</td>\n",
       "    </tr>\n",
       "    <tr>\n",
       "      <th>3</th>\n",
       "      <td>NaN</td>\n",
       "      <td>17.06.2017 Emnid</td>\n",
       "      <td>39.0</td>\n",
       "      <td>25</td>\n",
       "      <td>9.0</td>\n",
       "      <td>7.0</td>\n",
       "      <td>7.0</td>\n",
       "      <td>8.0</td>\n",
       "      <td>5.0</td>\n",
       "      <td>in %</td>\n",
       "    </tr>\n",
       "    <tr>\n",
       "      <th>4</th>\n",
       "      <td>NaN</td>\n",
       "      <td>20.06.2017 INSA</td>\n",
       "      <td>36.5</td>\n",
       "      <td>25</td>\n",
       "      <td>11.0</td>\n",
       "      <td>6.5</td>\n",
       "      <td>9.0</td>\n",
       "      <td>9.0</td>\n",
       "      <td>3.0</td>\n",
       "      <td>in %</td>\n",
       "    </tr>\n",
       "    <tr>\n",
       "      <th>5</th>\n",
       "      <td>NaN</td>\n",
       "      <td>20.06.2017 Allensbach</td>\n",
       "      <td>40.0</td>\n",
       "      <td>24</td>\n",
       "      <td>8.5</td>\n",
       "      <td>7.0</td>\n",
       "      <td>10.5</td>\n",
       "      <td>6.5</td>\n",
       "      <td>3.5</td>\n",
       "      <td>in %</td>\n",
       "    </tr>\n",
       "    <tr>\n",
       "      <th>6</th>\n",
       "      <td>NaN</td>\n",
       "      <td>21.06.2017 Forsa</td>\n",
       "      <td>39.0</td>\n",
       "      <td>23</td>\n",
       "      <td>10.0</td>\n",
       "      <td>8.0</td>\n",
       "      <td>8.0</td>\n",
       "      <td>7.0</td>\n",
       "      <td>5.0</td>\n",
       "      <td>in %</td>\n",
       "    </tr>\n",
       "  </tbody>\n",
       "</table>\n",
       "</div>"
      ],
      "text/plain": [
       "   Unnamed: 0                            Unnamed: 1  CDU/CSU  SPD  Die Linke  \\\n",
       "0         NaN                        01.06.2017 GMS     39.0   23        8.0   \n",
       "1         NaN  02.06.2017 Forschungs- gruppe Wahlen     39.0   25        9.0   \n",
       "2         NaN            15.06.2017 Infratest dimap     39.0   24        8.0   \n",
       "3         NaN                      17.06.2017 Emnid     39.0   25        9.0   \n",
       "4         NaN                       20.06.2017 INSA     36.5   25       11.0   \n",
       "5         NaN                 20.06.2017 Allensbach     40.0   24        8.5   \n",
       "6         NaN                      21.06.2017 Forsa     39.0   23       10.0   \n",
       "\n",
       "   Grüne   FDP  AfD  Sonstige Unnamed: 9  \n",
       "0    8.0  10.0  8.0       4.0       in %  \n",
       "1    7.0   8.0  8.0       4.0       in %  \n",
       "2    7.0   9.0  8.0       5.0       in %  \n",
       "3    7.0   7.0  8.0       5.0       in %  \n",
       "4    6.5   9.0  9.0       3.0       in %  \n",
       "5    7.0  10.5  6.5       3.5       in %  \n",
       "6    8.0   8.0  7.0       5.0       in %  "
      ]
     },
     "execution_count": 670,
     "metadata": {},
     "output_type": "execute_result"
    }
   ],
   "source": [
    "df = pd.read_excel(\"sonntagsfrage.xlsx\", sheetname=1, skiprows=4) \n",
    "df"
   ]
  },
  {
   "cell_type": "raw",
   "metadata": {},
   "source": [
    "# Task 3: Getting rid of the column 'Unnamed:0'"
   ]
  },
  {
   "cell_type": "code",
   "execution_count": 671,
   "metadata": {
    "collapsed": true
   },
   "outputs": [],
   "source": [
    "del df['Unnamed: 0']"
   ]
  },
  {
   "cell_type": "raw",
   "metadata": {},
   "source": [
    "# Task 4: Renaming the columns 'Unnamed:1' and 'Unnamed:9'"
   ]
  },
  {
   "cell_type": "code",
   "execution_count": 672,
   "metadata": {},
   "outputs": [
    {
     "data": {
      "text/html": [
       "<div>\n",
       "<style>\n",
       "    .dataframe thead tr:only-child th {\n",
       "        text-align: right;\n",
       "    }\n",
       "\n",
       "    .dataframe thead th {\n",
       "        text-align: left;\n",
       "    }\n",
       "\n",
       "    .dataframe tbody tr th {\n",
       "        vertical-align: top;\n",
       "    }\n",
       "</style>\n",
       "<table border=\"1\" class=\"dataframe\">\n",
       "  <thead>\n",
       "    <tr style=\"text-align: right;\">\n",
       "      <th></th>\n",
       "      <th>Institut</th>\n",
       "      <th>CDU/CSU</th>\n",
       "      <th>SPD</th>\n",
       "      <th>Die Linke</th>\n",
       "      <th>Grüne</th>\n",
       "      <th>FDP</th>\n",
       "      <th>AfD</th>\n",
       "      <th>Sonstige</th>\n",
       "      <th>Anteil</th>\n",
       "    </tr>\n",
       "  </thead>\n",
       "  <tbody>\n",
       "    <tr>\n",
       "      <th>0</th>\n",
       "      <td>01.06.2017 GMS</td>\n",
       "      <td>39.0</td>\n",
       "      <td>23</td>\n",
       "      <td>8.0</td>\n",
       "      <td>8.0</td>\n",
       "      <td>10.0</td>\n",
       "      <td>8.0</td>\n",
       "      <td>4.0</td>\n",
       "      <td>in %</td>\n",
       "    </tr>\n",
       "    <tr>\n",
       "      <th>1</th>\n",
       "      <td>02.06.2017 Forschungs- gruppe Wahlen</td>\n",
       "      <td>39.0</td>\n",
       "      <td>25</td>\n",
       "      <td>9.0</td>\n",
       "      <td>7.0</td>\n",
       "      <td>8.0</td>\n",
       "      <td>8.0</td>\n",
       "      <td>4.0</td>\n",
       "      <td>in %</td>\n",
       "    </tr>\n",
       "    <tr>\n",
       "      <th>2</th>\n",
       "      <td>15.06.2017 Infratest dimap</td>\n",
       "      <td>39.0</td>\n",
       "      <td>24</td>\n",
       "      <td>8.0</td>\n",
       "      <td>7.0</td>\n",
       "      <td>9.0</td>\n",
       "      <td>8.0</td>\n",
       "      <td>5.0</td>\n",
       "      <td>in %</td>\n",
       "    </tr>\n",
       "    <tr>\n",
       "      <th>3</th>\n",
       "      <td>17.06.2017 Emnid</td>\n",
       "      <td>39.0</td>\n",
       "      <td>25</td>\n",
       "      <td>9.0</td>\n",
       "      <td>7.0</td>\n",
       "      <td>7.0</td>\n",
       "      <td>8.0</td>\n",
       "      <td>5.0</td>\n",
       "      <td>in %</td>\n",
       "    </tr>\n",
       "    <tr>\n",
       "      <th>4</th>\n",
       "      <td>20.06.2017 INSA</td>\n",
       "      <td>36.5</td>\n",
       "      <td>25</td>\n",
       "      <td>11.0</td>\n",
       "      <td>6.5</td>\n",
       "      <td>9.0</td>\n",
       "      <td>9.0</td>\n",
       "      <td>3.0</td>\n",
       "      <td>in %</td>\n",
       "    </tr>\n",
       "    <tr>\n",
       "      <th>5</th>\n",
       "      <td>20.06.2017 Allensbach</td>\n",
       "      <td>40.0</td>\n",
       "      <td>24</td>\n",
       "      <td>8.5</td>\n",
       "      <td>7.0</td>\n",
       "      <td>10.5</td>\n",
       "      <td>6.5</td>\n",
       "      <td>3.5</td>\n",
       "      <td>in %</td>\n",
       "    </tr>\n",
       "    <tr>\n",
       "      <th>6</th>\n",
       "      <td>21.06.2017 Forsa</td>\n",
       "      <td>39.0</td>\n",
       "      <td>23</td>\n",
       "      <td>10.0</td>\n",
       "      <td>8.0</td>\n",
       "      <td>8.0</td>\n",
       "      <td>7.0</td>\n",
       "      <td>5.0</td>\n",
       "      <td>in %</td>\n",
       "    </tr>\n",
       "  </tbody>\n",
       "</table>\n",
       "</div>"
      ],
      "text/plain": [
       "                               Institut  CDU/CSU  SPD  Die Linke  Grüne   FDP  \\\n",
       "0                        01.06.2017 GMS     39.0   23        8.0    8.0  10.0   \n",
       "1  02.06.2017 Forschungs- gruppe Wahlen     39.0   25        9.0    7.0   8.0   \n",
       "2            15.06.2017 Infratest dimap     39.0   24        8.0    7.0   9.0   \n",
       "3                      17.06.2017 Emnid     39.0   25        9.0    7.0   7.0   \n",
       "4                       20.06.2017 INSA     36.5   25       11.0    6.5   9.0   \n",
       "5                 20.06.2017 Allensbach     40.0   24        8.5    7.0  10.5   \n",
       "6                      21.06.2017 Forsa     39.0   23       10.0    8.0   8.0   \n",
       "\n",
       "   AfD  Sonstige Anteil  \n",
       "0  8.0       4.0   in %  \n",
       "1  8.0       4.0   in %  \n",
       "2  8.0       5.0   in %  \n",
       "3  8.0       5.0   in %  \n",
       "4  9.0       3.0   in %  \n",
       "5  6.5       3.5   in %  \n",
       "6  7.0       5.0   in %  "
      ]
     },
     "execution_count": 672,
     "metadata": {},
     "output_type": "execute_result"
    }
   ],
   "source": [
    "df = df.rename(columns={'Unnamed: 1': 'Institut', 'Unnamed: 9': 'Anteil'})\n",
    "df"
   ]
  },
  {
   "cell_type": "markdown",
   "metadata": {},
   "source": [
    "# 3. What are the data types of each column?\n",
    "\n"
   ]
  },
  {
   "cell_type": "code",
   "execution_count": 673,
   "metadata": {},
   "outputs": [
    {
     "data": {
      "text/plain": [
       "Index(['Institut', 'CDU/CSU', 'SPD', 'Die Linke', 'Grüne', 'FDP', 'AfD',\n",
       "       'Sonstige', 'Anteil'],\n",
       "      dtype='object')"
      ]
     },
     "execution_count": 673,
     "metadata": {},
     "output_type": "execute_result"
    }
   ],
   "source": [
    "df.columns"
   ]
  },
  {
   "cell_type": "code",
   "execution_count": 674,
   "metadata": {},
   "outputs": [
    {
     "data": {
      "text/plain": [
       "Institut      object\n",
       "CDU/CSU      float64\n",
       "SPD            int64\n",
       "Die Linke    float64\n",
       "Grüne        float64\n",
       "FDP          float64\n",
       "AfD          float64\n",
       "Sonstige     float64\n",
       "Anteil        object\n",
       "dtype: object"
      ]
     },
     "execution_count": 674,
     "metadata": {},
     "output_type": "execute_result"
    }
   ],
   "source": [
    "df.dtypes"
   ]
  },
  {
   "cell_type": "markdown",
   "metadata": {},
   "source": [
    "# 4. How many columns and rows does it have?\n",
    "\n"
   ]
  },
  {
   "cell_type": "code",
   "execution_count": 675,
   "metadata": {},
   "outputs": [
    {
     "data": {
      "text/plain": [
       "(7, 9)"
      ]
     },
     "execution_count": 675,
     "metadata": {},
     "output_type": "execute_result"
    }
   ],
   "source": [
    "df.shape"
   ]
  },
  {
   "cell_type": "raw",
   "metadata": {},
   "source": [
    "# Task 5: pulling out the date of the first column"
   ]
  },
  {
   "cell_type": "code",
   "execution_count": 676,
   "metadata": {},
   "outputs": [
    {
     "data": {
      "text/plain": [
       "0                          01.06.2017 GMS\n",
       "1    02.06.2017 Forschungs- gruppe Wahlen\n",
       "2              15.06.2017 Infratest dimap\n",
       "3                        17.06.2017 Emnid\n",
       "4                         20.06.2017 INSA\n",
       "5                   20.06.2017 Allensbach\n",
       "6                        21.06.2017 Forsa\n",
       "Name: Institut, dtype: object"
      ]
     },
     "execution_count": 676,
     "metadata": {},
     "output_type": "execute_result"
    }
   ],
   "source": [
    "df['Institut']"
   ]
  },
  {
   "cell_type": "code",
   "execution_count": 677,
   "metadata": {},
   "outputs": [
    {
     "name": "stderr",
     "output_type": "stream",
     "text": [
      "/usr/local/lib/python3.6/site-packages/ipykernel_launcher.py:1: UserWarning: This pattern has match groups. To actually get the groups, use str.extract.\n",
      "  \"\"\"Entry point for launching an IPython kernel.\n"
     ]
    },
    {
     "data": {
      "text/plain": [
       "0    True\n",
       "1    True\n",
       "2    True\n",
       "3    True\n",
       "4    True\n",
       "5    True\n",
       "6    True\n",
       "Name: Institut, dtype: bool"
      ]
     },
     "execution_count": 677,
     "metadata": {},
     "output_type": "execute_result"
    }
   ],
   "source": [
    "df['Institut'].str.contains('^(\\d\\d).(\\d\\d).(\\d\\d\\d\\d)')"
   ]
  },
  {
   "cell_type": "code",
   "execution_count": 678,
   "metadata": {},
   "outputs": [
    {
     "name": "stderr",
     "output_type": "stream",
     "text": [
      "/usr/local/lib/python3.6/site-packages/ipykernel_launcher.py:1: FutureWarning: currently extract(expand=None) means expand=False (return Index/Series/DataFrame) but in a future version of pandas this will be changed to expand=True (return DataFrame)\n",
      "  \"\"\"Entry point for launching an IPython kernel.\n"
     ]
    },
    {
     "data": {
      "text/plain": [
       "0    01.06.2017\n",
       "1    02.06.2017\n",
       "2    15.06.2017\n",
       "3    17.06.2017\n",
       "4    20.06.2017\n",
       "5    20.06.2017\n",
       "6    21.06.2017\n",
       "Name: Institut, dtype: object"
      ]
     },
     "execution_count": 678,
     "metadata": {},
     "output_type": "execute_result"
    }
   ],
   "source": [
    "df['Institut'].str.extract('^(\\d\\d.\\d\\d.\\d\\d\\d\\d)')"
   ]
  },
  {
   "cell_type": "raw",
   "metadata": {},
   "source": [
    "# Task 6: Creating a new column"
   ]
  },
  {
   "cell_type": "code",
   "execution_count": 679,
   "metadata": {},
   "outputs": [
    {
     "name": "stderr",
     "output_type": "stream",
     "text": [
      "/usr/local/lib/python3.6/site-packages/ipykernel_launcher.py:1: FutureWarning: currently extract(expand=None) means expand=False (return Index/Series/DataFrame) but in a future version of pandas this will be changed to expand=True (return DataFrame)\n",
      "  \"\"\"Entry point for launching an IPython kernel.\n"
     ]
    }
   ],
   "source": [
    "df['Erhebungsdatum'] = df['Institut'].str.extract('^(\\d\\d.\\d\\d.\\d\\d\\d\\d)')\n",
    "df['Institut'] = df['Institut'].str.replace('^(\\d\\d.\\d\\d.\\d\\d\\d\\d)', '')"
   ]
  },
  {
   "cell_type": "code",
   "execution_count": 680,
   "metadata": {},
   "outputs": [
    {
     "data": {
      "text/html": [
       "<div>\n",
       "<style>\n",
       "    .dataframe thead tr:only-child th {\n",
       "        text-align: right;\n",
       "    }\n",
       "\n",
       "    .dataframe thead th {\n",
       "        text-align: left;\n",
       "    }\n",
       "\n",
       "    .dataframe tbody tr th {\n",
       "        vertical-align: top;\n",
       "    }\n",
       "</style>\n",
       "<table border=\"1\" class=\"dataframe\">\n",
       "  <thead>\n",
       "    <tr style=\"text-align: right;\">\n",
       "      <th></th>\n",
       "      <th>Institut</th>\n",
       "      <th>CDU/CSU</th>\n",
       "      <th>SPD</th>\n",
       "      <th>Die Linke</th>\n",
       "      <th>Grüne</th>\n",
       "      <th>FDP</th>\n",
       "      <th>AfD</th>\n",
       "      <th>Sonstige</th>\n",
       "      <th>Anteil</th>\n",
       "      <th>Erhebungsdatum</th>\n",
       "    </tr>\n",
       "  </thead>\n",
       "  <tbody>\n",
       "    <tr>\n",
       "      <th>0</th>\n",
       "      <td>GMS</td>\n",
       "      <td>39.0</td>\n",
       "      <td>23</td>\n",
       "      <td>8.0</td>\n",
       "      <td>8.0</td>\n",
       "      <td>10.0</td>\n",
       "      <td>8.0</td>\n",
       "      <td>4.0</td>\n",
       "      <td>in %</td>\n",
       "      <td>01.06.2017</td>\n",
       "    </tr>\n",
       "    <tr>\n",
       "      <th>1</th>\n",
       "      <td>Forschungs- gruppe Wahlen</td>\n",
       "      <td>39.0</td>\n",
       "      <td>25</td>\n",
       "      <td>9.0</td>\n",
       "      <td>7.0</td>\n",
       "      <td>8.0</td>\n",
       "      <td>8.0</td>\n",
       "      <td>4.0</td>\n",
       "      <td>in %</td>\n",
       "      <td>02.06.2017</td>\n",
       "    </tr>\n",
       "    <tr>\n",
       "      <th>2</th>\n",
       "      <td>Infratest dimap</td>\n",
       "      <td>39.0</td>\n",
       "      <td>24</td>\n",
       "      <td>8.0</td>\n",
       "      <td>7.0</td>\n",
       "      <td>9.0</td>\n",
       "      <td>8.0</td>\n",
       "      <td>5.0</td>\n",
       "      <td>in %</td>\n",
       "      <td>15.06.2017</td>\n",
       "    </tr>\n",
       "    <tr>\n",
       "      <th>3</th>\n",
       "      <td>Emnid</td>\n",
       "      <td>39.0</td>\n",
       "      <td>25</td>\n",
       "      <td>9.0</td>\n",
       "      <td>7.0</td>\n",
       "      <td>7.0</td>\n",
       "      <td>8.0</td>\n",
       "      <td>5.0</td>\n",
       "      <td>in %</td>\n",
       "      <td>17.06.2017</td>\n",
       "    </tr>\n",
       "    <tr>\n",
       "      <th>4</th>\n",
       "      <td>INSA</td>\n",
       "      <td>36.5</td>\n",
       "      <td>25</td>\n",
       "      <td>11.0</td>\n",
       "      <td>6.5</td>\n",
       "      <td>9.0</td>\n",
       "      <td>9.0</td>\n",
       "      <td>3.0</td>\n",
       "      <td>in %</td>\n",
       "      <td>20.06.2017</td>\n",
       "    </tr>\n",
       "    <tr>\n",
       "      <th>5</th>\n",
       "      <td>Allensbach</td>\n",
       "      <td>40.0</td>\n",
       "      <td>24</td>\n",
       "      <td>8.5</td>\n",
       "      <td>7.0</td>\n",
       "      <td>10.5</td>\n",
       "      <td>6.5</td>\n",
       "      <td>3.5</td>\n",
       "      <td>in %</td>\n",
       "      <td>20.06.2017</td>\n",
       "    </tr>\n",
       "    <tr>\n",
       "      <th>6</th>\n",
       "      <td>Forsa</td>\n",
       "      <td>39.0</td>\n",
       "      <td>23</td>\n",
       "      <td>10.0</td>\n",
       "      <td>8.0</td>\n",
       "      <td>8.0</td>\n",
       "      <td>7.0</td>\n",
       "      <td>5.0</td>\n",
       "      <td>in %</td>\n",
       "      <td>21.06.2017</td>\n",
       "    </tr>\n",
       "  </tbody>\n",
       "</table>\n",
       "</div>"
      ],
      "text/plain": [
       "                     Institut  CDU/CSU  SPD  Die Linke  Grüne   FDP  AfD  \\\n",
       "0                         GMS     39.0   23        8.0    8.0  10.0  8.0   \n",
       "1   Forschungs- gruppe Wahlen     39.0   25        9.0    7.0   8.0  8.0   \n",
       "2             Infratest dimap     39.0   24        8.0    7.0   9.0  8.0   \n",
       "3                       Emnid     39.0   25        9.0    7.0   7.0  8.0   \n",
       "4                        INSA     36.5   25       11.0    6.5   9.0  9.0   \n",
       "5                  Allensbach     40.0   24        8.5    7.0  10.5  6.5   \n",
       "6                       Forsa     39.0   23       10.0    8.0   8.0  7.0   \n",
       "\n",
       "   Sonstige Anteil Erhebungsdatum  \n",
       "0       4.0   in %     01.06.2017  \n",
       "1       4.0   in %     02.06.2017  \n",
       "2       5.0   in %     15.06.2017  \n",
       "3       5.0   in %     17.06.2017  \n",
       "4       3.0   in %     20.06.2017  \n",
       "5       3.5   in %     20.06.2017  \n",
       "6       5.0   in %     21.06.2017  "
      ]
     },
     "execution_count": 680,
     "metadata": {},
     "output_type": "execute_result"
    }
   ],
   "source": [
    "df"
   ]
  },
  {
   "cell_type": "raw",
   "metadata": {},
   "source": [
    "# Task 7: Change the order of columns"
   ]
  },
  {
   "cell_type": "code",
   "execution_count": 681,
   "metadata": {
    "collapsed": true
   },
   "outputs": [],
   "source": [
    "df = df[['Erhebungsdatum', 'Institut', 'CDU/CSU', 'SPD', 'Die Linke', 'Grüne', 'FDP', 'AfD', 'Sonstige', 'Anteil']]"
   ]
  },
  {
   "cell_type": "code",
   "execution_count": 682,
   "metadata": {},
   "outputs": [
    {
     "data": {
      "text/html": [
       "<div>\n",
       "<style>\n",
       "    .dataframe thead tr:only-child th {\n",
       "        text-align: right;\n",
       "    }\n",
       "\n",
       "    .dataframe thead th {\n",
       "        text-align: left;\n",
       "    }\n",
       "\n",
       "    .dataframe tbody tr th {\n",
       "        vertical-align: top;\n",
       "    }\n",
       "</style>\n",
       "<table border=\"1\" class=\"dataframe\">\n",
       "  <thead>\n",
       "    <tr style=\"text-align: right;\">\n",
       "      <th></th>\n",
       "      <th>Erhebungsdatum</th>\n",
       "      <th>Institut</th>\n",
       "      <th>CDU/CSU</th>\n",
       "      <th>SPD</th>\n",
       "      <th>Die Linke</th>\n",
       "      <th>Grüne</th>\n",
       "      <th>FDP</th>\n",
       "      <th>AfD</th>\n",
       "      <th>Sonstige</th>\n",
       "      <th>Anteil</th>\n",
       "    </tr>\n",
       "  </thead>\n",
       "  <tbody>\n",
       "    <tr>\n",
       "      <th>0</th>\n",
       "      <td>01.06.2017</td>\n",
       "      <td>GMS</td>\n",
       "      <td>39.0</td>\n",
       "      <td>23</td>\n",
       "      <td>8.0</td>\n",
       "      <td>8.0</td>\n",
       "      <td>10.0</td>\n",
       "      <td>8.0</td>\n",
       "      <td>4.0</td>\n",
       "      <td>in %</td>\n",
       "    </tr>\n",
       "    <tr>\n",
       "      <th>1</th>\n",
       "      <td>02.06.2017</td>\n",
       "      <td>Forschungs- gruppe Wahlen</td>\n",
       "      <td>39.0</td>\n",
       "      <td>25</td>\n",
       "      <td>9.0</td>\n",
       "      <td>7.0</td>\n",
       "      <td>8.0</td>\n",
       "      <td>8.0</td>\n",
       "      <td>4.0</td>\n",
       "      <td>in %</td>\n",
       "    </tr>\n",
       "    <tr>\n",
       "      <th>2</th>\n",
       "      <td>15.06.2017</td>\n",
       "      <td>Infratest dimap</td>\n",
       "      <td>39.0</td>\n",
       "      <td>24</td>\n",
       "      <td>8.0</td>\n",
       "      <td>7.0</td>\n",
       "      <td>9.0</td>\n",
       "      <td>8.0</td>\n",
       "      <td>5.0</td>\n",
       "      <td>in %</td>\n",
       "    </tr>\n",
       "    <tr>\n",
       "      <th>3</th>\n",
       "      <td>17.06.2017</td>\n",
       "      <td>Emnid</td>\n",
       "      <td>39.0</td>\n",
       "      <td>25</td>\n",
       "      <td>9.0</td>\n",
       "      <td>7.0</td>\n",
       "      <td>7.0</td>\n",
       "      <td>8.0</td>\n",
       "      <td>5.0</td>\n",
       "      <td>in %</td>\n",
       "    </tr>\n",
       "    <tr>\n",
       "      <th>4</th>\n",
       "      <td>20.06.2017</td>\n",
       "      <td>INSA</td>\n",
       "      <td>36.5</td>\n",
       "      <td>25</td>\n",
       "      <td>11.0</td>\n",
       "      <td>6.5</td>\n",
       "      <td>9.0</td>\n",
       "      <td>9.0</td>\n",
       "      <td>3.0</td>\n",
       "      <td>in %</td>\n",
       "    </tr>\n",
       "    <tr>\n",
       "      <th>5</th>\n",
       "      <td>20.06.2017</td>\n",
       "      <td>Allensbach</td>\n",
       "      <td>40.0</td>\n",
       "      <td>24</td>\n",
       "      <td>8.5</td>\n",
       "      <td>7.0</td>\n",
       "      <td>10.5</td>\n",
       "      <td>6.5</td>\n",
       "      <td>3.5</td>\n",
       "      <td>in %</td>\n",
       "    </tr>\n",
       "    <tr>\n",
       "      <th>6</th>\n",
       "      <td>21.06.2017</td>\n",
       "      <td>Forsa</td>\n",
       "      <td>39.0</td>\n",
       "      <td>23</td>\n",
       "      <td>10.0</td>\n",
       "      <td>8.0</td>\n",
       "      <td>8.0</td>\n",
       "      <td>7.0</td>\n",
       "      <td>5.0</td>\n",
       "      <td>in %</td>\n",
       "    </tr>\n",
       "  </tbody>\n",
       "</table>\n",
       "</div>"
      ],
      "text/plain": [
       "  Erhebungsdatum                    Institut  CDU/CSU  SPD  Die Linke  Grüne  \\\n",
       "0     01.06.2017                         GMS     39.0   23        8.0    8.0   \n",
       "1     02.06.2017   Forschungs- gruppe Wahlen     39.0   25        9.0    7.0   \n",
       "2     15.06.2017             Infratest dimap     39.0   24        8.0    7.0   \n",
       "3     17.06.2017                       Emnid     39.0   25        9.0    7.0   \n",
       "4     20.06.2017                        INSA     36.5   25       11.0    6.5   \n",
       "5     20.06.2017                  Allensbach     40.0   24        8.5    7.0   \n",
       "6     21.06.2017                       Forsa     39.0   23       10.0    8.0   \n",
       "\n",
       "    FDP  AfD  Sonstige Anteil  \n",
       "0  10.0  8.0       4.0   in %  \n",
       "1   8.0  8.0       4.0   in %  \n",
       "2   9.0  8.0       5.0   in %  \n",
       "3   7.0  8.0       5.0   in %  \n",
       "4   9.0  9.0       3.0   in %  \n",
       "5  10.5  6.5       3.5   in %  \n",
       "6   8.0  7.0       5.0   in %  "
      ]
     },
     "execution_count": 682,
     "metadata": {},
     "output_type": "execute_result"
    }
   ],
   "source": [
    "df"
   ]
  },
  {
   "cell_type": "raw",
   "metadata": {},
   "source": [
    "# Task 8: Plotting the different measurements for one party"
   ]
  },
  {
   "cell_type": "code",
   "execution_count": 683,
   "metadata": {},
   "outputs": [
    {
     "data": {
      "text/plain": [
       "<matplotlib.axes._subplots.AxesSubplot at 0x10fffb860>"
      ]
     },
     "execution_count": 683,
     "metadata": {},
     "output_type": "execute_result"
    },
    {
     "data": {
      "image/png": "[encoded data removed]",
      "text/plain": [
       "<matplotlib.figure.Figure at 0x110044860>"
      ]
     },
     "metadata": {},
     "output_type": "display_data"
    }
   ],
   "source": [
    "df.plot(x='Institut', y='Die Linke', kind='barh')"
   ]
  },
  {
   "cell_type": "raw",
   "metadata": {},
   "source": [
    "# Task 9: Calculating the mean for one party"
   ]
  },
  {
   "cell_type": "code",
   "execution_count": 684,
   "metadata": {},
   "outputs": [
    {
     "data": {
      "text/plain": [
       "9.0714285714285712"
      ]
     },
     "execution_count": 684,
     "metadata": {},
     "output_type": "execute_result"
    }
   ],
   "source": [
    "df['Die Linke'].mean()"
   ]
  },
  {
   "cell_type": "raw",
   "metadata": {},
   "source": [
    "# Task 10: Scrape the results of all polls in 2014-2017 (weekly) --> New table with more data"
   ]
  },
  {
   "cell_type": "code",
   "execution_count": 685,
   "metadata": {
    "collapsed": true
   },
   "outputs": [],
   "source": [
    "from urllib.request import urlopen\n",
    "from bs4 import BeautifulSoup"
   ]
  },
  {
   "cell_type": "code",
   "execution_count": 686,
   "metadata": {
    "collapsed": true
   },
   "outputs": [],
   "source": [
    "my_url = ('http://www.wahlrecht.de/umfragen/emnid.htm')\n",
    "raw_html = urlopen(my_url).read()\n",
    "soup_doc = BeautifulSoup(raw_html, \"html.parser\")"
   ]
  },
  {
   "cell_type": "code",
   "execution_count": 687,
   "metadata": {
    "collapsed": true
   },
   "outputs": [],
   "source": [
    "#print(soup_doc.prettify())"
   ]
  },
  {
   "cell_type": "code",
   "execution_count": 627,
   "metadata": {},
   "outputs": [
    {
     "data": {
      "text/plain": [
       "'Sonntagsfrage – Emnid (Wahlumfragen zur Bundestagswahl 2017)'"
      ]
     },
     "execution_count": 627,
     "metadata": {},
     "output_type": "execute_result"
    }
   ],
   "source": [
    "soup_doc.title.text"
   ]
  },
  {
   "cell_type": "code",
   "execution_count": 601,
   "metadata": {},
   "outputs": [
    {
     "data": {
      "text/plain": [
       "[<table class=\"title\" width=\"100%\"><tr>\n",
       " <td class=\"title\" valign=\"top\"><h1>Emnid</h1></td>\n",
       " <td align=\"right\" class=\"index\">[<a href=\"index.htm\" title=\"Übergeordnete Seite\">Umfragen</a>]</td></tr>\n",
       " </table>, <td class=\"title\" valign=\"top\"><h1>Emnid</h1></td>]"
      ]
     },
     "execution_count": 601,
     "metadata": {},
     "output_type": "execute_result"
    }
   ],
   "source": [
    "soup_doc.find_all(class_=\"title\")"
   ]
  },
  {
   "cell_type": "code",
   "execution_count": 602,
   "metadata": {
    "collapsed": true,
    "scrolled": false
   },
   "outputs": [],
   "source": [
    "rows = soup_doc.find_all('tr')\n",
    "list_parties = []\n",
    "for row in rows[5:-1]:\n",
    "    current = {}\n",
    "    current['Datum'] = row.find_all(\"td\", class_=\"s\")[0].text\n",
    "    current['CDU'] = row.find_all(\"td\")[2].text\n",
    "    current['SPD'] = row.find_all(\"td\")[3].text\n",
    "    current['Grüne'] = row.find_all(\"td\")[4].text\n",
    "    current['FDP'] = row.find_all(\"td\")[5].string\n",
    "    current['LINKE'] = row.find_all(\"td\")[6].string\n",
    "    current['Sonstige'] = row.find_all(\"td\")[7].string\n",
    "    current['AfD'] = row.find_all(\"td\")[8].string\n",
    "    current['Befragte'] = row.find_all(\"td\")[10].string\n",
    "    current['Zeitraum'] = row.find_all(\"td\")[11].string\n",
    "    list_parties.append(current)"
   ]
  },
  {
   "cell_type": "code",
   "execution_count": 603,
   "metadata": {
    "collapsed": true
   },
   "outputs": [],
   "source": [
    "import pandas as pd"
   ]
  },
  {
   "cell_type": "code",
   "execution_count": 632,
   "metadata": {},
   "outputs": [
    {
     "data": {
      "text/html": [
       "<div>\n",
       "<style>\n",
       "    .dataframe thead tr:only-child th {\n",
       "        text-align: right;\n",
       "    }\n",
       "\n",
       "    .dataframe thead th {\n",
       "        text-align: left;\n",
       "    }\n",
       "\n",
       "    .dataframe tbody tr th {\n",
       "        vertical-align: top;\n",
       "    }\n",
       "</style>\n",
       "<table border=\"1\" class=\"dataframe\">\n",
       "  <thead>\n",
       "    <tr style=\"text-align: right;\">\n",
       "      <th></th>\n",
       "      <th>AfD</th>\n",
       "      <th>Befragte</th>\n",
       "      <th>CDU</th>\n",
       "      <th>Datum</th>\n",
       "      <th>FDP</th>\n",
       "      <th>Grüne</th>\n",
       "      <th>LINKE</th>\n",
       "      <th>SPD</th>\n",
       "      <th>Sonstige</th>\n",
       "      <th>Zeitraum</th>\n",
       "    </tr>\n",
       "  </thead>\n",
       "  <tbody>\n",
       "    <tr>\n",
       "      <th>0</th>\n",
       "      <td>5 %</td>\n",
       "      <td>2.054</td>\n",
       "      <td>39 %</td>\n",
       "      <td>17.06.2017</td>\n",
       "      <td>7 %</td>\n",
       "      <td>7 %</td>\n",
       "      <td>9 %</td>\n",
       "      <td>25 %</td>\n",
       "      <td>8 %</td>\n",
       "      <td>08.06.–13.06.</td>\n",
       "    </tr>\n",
       "    <tr>\n",
       "      <th>1</th>\n",
       "      <td>4 %</td>\n",
       "      <td>1.398</td>\n",
       "      <td>39 %</td>\n",
       "      <td>10.06.2017</td>\n",
       "      <td>7 %</td>\n",
       "      <td>8 %</td>\n",
       "      <td>9 %</td>\n",
       "      <td>25 %</td>\n",
       "      <td>8 %</td>\n",
       "      <td>01.06.–07.06.</td>\n",
       "    </tr>\n",
       "    <tr>\n",
       "      <th>2</th>\n",
       "      <td>5 %</td>\n",
       "      <td>1.838</td>\n",
       "      <td>38 %</td>\n",
       "      <td>03.06.2017</td>\n",
       "      <td>7 %</td>\n",
       "      <td>7 %</td>\n",
       "      <td>8 %</td>\n",
       "      <td>27 %</td>\n",
       "      <td>8 %</td>\n",
       "      <td>24.05.–31.05.</td>\n",
       "    </tr>\n",
       "    <tr>\n",
       "      <th>3</th>\n",
       "      <td>5 %</td>\n",
       "      <td>1.703</td>\n",
       "      <td>38 %</td>\n",
       "      <td>27.05.2017</td>\n",
       "      <td>8 %</td>\n",
       "      <td>8 %</td>\n",
       "      <td>8 %</td>\n",
       "      <td>25 %</td>\n",
       "      <td>8 %</td>\n",
       "      <td>18.05.–23.05.</td>\n",
       "    </tr>\n",
       "    <tr>\n",
       "      <th>4</th>\n",
       "      <td>5 %</td>\n",
       "      <td>2.413</td>\n",
       "      <td>38 %</td>\n",
       "      <td>20.05.2017</td>\n",
       "      <td>7 %</td>\n",
       "      <td>7 %</td>\n",
       "      <td>9 %</td>\n",
       "      <td>26 %</td>\n",
       "      <td>8 %</td>\n",
       "      <td>11.05.–17.05.</td>\n",
       "    </tr>\n",
       "    <tr>\n",
       "      <th>5</th>\n",
       "      <td>4 %</td>\n",
       "      <td>1.837</td>\n",
       "      <td>37 %</td>\n",
       "      <td>13.05.2017</td>\n",
       "      <td>6 %</td>\n",
       "      <td>8 %</td>\n",
       "      <td>10 %</td>\n",
       "      <td>27 %</td>\n",
       "      <td>8 %</td>\n",
       "      <td>04.05.–10.05.</td>\n",
       "    </tr>\n",
       "    <tr>\n",
       "      <th>6</th>\n",
       "      <td>5 %</td>\n",
       "      <td>1.935</td>\n",
       "      <td>36 %</td>\n",
       "      <td>06.05.2017</td>\n",
       "      <td>6 %</td>\n",
       "      <td>7 %</td>\n",
       "      <td>9 %</td>\n",
       "      <td>28 %</td>\n",
       "      <td>9 %</td>\n",
       "      <td>27.04.–03.05.</td>\n",
       "    </tr>\n",
       "    <tr>\n",
       "      <th>7</th>\n",
       "      <td>4 %</td>\n",
       "      <td>2.439</td>\n",
       "      <td>36 %</td>\n",
       "      <td>29.04.2017</td>\n",
       "      <td>6 %</td>\n",
       "      <td>7 %</td>\n",
       "      <td>9 %</td>\n",
       "      <td>29 %</td>\n",
       "      <td>9 %</td>\n",
       "      <td>20.04.–26.04.</td>\n",
       "    </tr>\n",
       "    <tr>\n",
       "      <th>8</th>\n",
       "      <td>4 %</td>\n",
       "      <td>1.412</td>\n",
       "      <td>36 %</td>\n",
       "      <td>22.04.2017</td>\n",
       "      <td>5 %</td>\n",
       "      <td>6 %</td>\n",
       "      <td>9 %</td>\n",
       "      <td>31 %</td>\n",
       "      <td>9 %</td>\n",
       "      <td>13.04.–19.04.</td>\n",
       "    </tr>\n",
       "    <tr>\n",
       "      <th>9</th>\n",
       "      <td>3 %</td>\n",
       "      <td>2.436</td>\n",
       "      <td>35 %</td>\n",
       "      <td>15.04.2017</td>\n",
       "      <td>6 %</td>\n",
       "      <td>7 %</td>\n",
       "      <td>9 %</td>\n",
       "      <td>31 %</td>\n",
       "      <td>9 %</td>\n",
       "      <td>06.04.–12.04.</td>\n",
       "    </tr>\n",
       "  </tbody>\n",
       "</table>\n",
       "</div>"
      ],
      "text/plain": [
       "   AfD Befragte   CDU       Datum  FDP Grüne LINKE   SPD Sonstige  \\\n",
       "0  5 %    2.054  39 %  17.06.2017  7 %   7 %   9 %  25 %      8 %   \n",
       "1  4 %    1.398  39 %  10.06.2017  7 %   8 %   9 %  25 %      8 %   \n",
       "2  5 %    1.838  38 %  03.06.2017  7 %   7 %   8 %  27 %      8 %   \n",
       "3  5 %    1.703  38 %  27.05.2017  8 %   8 %   8 %  25 %      8 %   \n",
       "4  5 %    2.413  38 %  20.05.2017  7 %   7 %   9 %  26 %      8 %   \n",
       "5  4 %    1.837  37 %  13.05.2017  6 %   8 %  10 %  27 %      8 %   \n",
       "6  5 %    1.935  36 %  06.05.2017  6 %   7 %   9 %  28 %      9 %   \n",
       "7  4 %    2.439  36 %  29.04.2017  6 %   7 %   9 %  29 %      9 %   \n",
       "8  4 %    1.412  36 %  22.04.2017  5 %   6 %   9 %  31 %      9 %   \n",
       "9  3 %    2.436  35 %  15.04.2017  6 %   7 %   9 %  31 %      9 %   \n",
       "\n",
       "        Zeitraum  \n",
       "0  08.06.–13.06.  \n",
       "1  01.06.–07.06.  \n",
       "2  24.05.–31.05.  \n",
       "3  18.05.–23.05.  \n",
       "4  11.05.–17.05.  \n",
       "5  04.05.–10.05.  \n",
       "6  27.04.–03.05.  \n",
       "7  20.04.–26.04.  \n",
       "8  13.04.–19.04.  \n",
       "9  06.04.–12.04.  "
      ]
     },
     "execution_count": 632,
     "metadata": {},
     "output_type": "execute_result"
    }
   ],
   "source": [
    "df = pd.DataFrame(list_parties)\n",
    "df.head(10)"
   ]
  },
  {
   "cell_type": "code",
   "execution_count": 633,
   "metadata": {},
   "outputs": [
    {
     "data": {
      "text/plain": [
       "nan"
      ]
     },
     "execution_count": 633,
     "metadata": {},
     "output_type": "execute_result"
    }
   ],
   "source": [
    "import numpy as np #for using NaN we need to import this\n",
    "np.nan"
   ]
  },
  {
   "cell_type": "raw",
   "metadata": {},
   "source": [
    "#Task 11: Reading in a csv-file (before that, cleaning the old one in Sublime)"
   ]
  },
  {
   "cell_type": "code",
   "execution_count": 634,
   "metadata": {},
   "outputs": [
    {
     "data": {
      "text/plain": [
       "AfD         object\n",
       "Befragte    object\n",
       "CDU         object\n",
       "Datum       object\n",
       "FDP         object\n",
       "Grüne       object\n",
       "LINKE       object\n",
       "SPD         object\n",
       "Sonstige    object\n",
       "Zeitraum    object\n",
       "dtype: object"
      ]
     },
     "execution_count": 634,
     "metadata": {},
     "output_type": "execute_result"
    }
   ],
   "source": [
    "df.dtypes"
   ]
  },
  {
   "cell_type": "raw",
   "metadata": {},
   "source": [
    "#Task 12: Replacing Percentages in order to calculate with the numbers"
   ]
  },
  {
   "cell_type": "code",
   "execution_count": 635,
   "metadata": {
    "collapsed": true
   },
   "outputs": [],
   "source": [
    "def Parteien(row):\n",
    "    CDU = row['CDU'].replace(' %', '')\n",
    "    SPD = row['SPD'].replace(' %', '')\n",
    "    Grüne = row['Grüne'].replace(' %', '') \n",
    "    FDP = row['FDP'].replace(' %', '') \n",
    "    LINKE = row['LINKE'].replace(' %', '') \n",
    "    AfD = row['AfD'].replace(' %', '') \n",
    "    Sonstige = row['Sonstige'].replace(' %', '') \n",
    "    return pd.Series({'CDU': CDU, 'SPD': SPD, 'Grüne': Grüne, 'FDP':FDP, 'LINKE':LINKE, 'AfD':AfD, 'Sonstige': Sonstige})"
   ]
  },
  {
   "cell_type": "code",
   "execution_count": 608,
   "metadata": {},
   "outputs": [
    {
     "name": "stdout",
     "output_type": "stream",
     "text": [
      "    AfD CDU FDP Grüne LINKE SPD Sonstige\n",
      "0     5  39   7     7     9  25        8\n",
      "1     4  39   7     8     9  25        8\n",
      "2     5  38   7     7     8  27        8\n",
      "3     5  38   8     8     8  25        8\n",
      "4     5  38   7     7     9  26        8\n",
      "5     4  37   6     8    10  27        8\n",
      "6     5  36   6     7     9  28        9\n",
      "7     4  36   6     7     9  29        9\n",
      "8     4  36   5     6     9  31        9\n",
      "9     3  35   6     7     9  31        9\n",
      "10    3  35   5     7     8  33        9\n",
      "11    5  33   6     7     8  33        8\n",
      "12    4  33   5     8     8  33        9\n",
      "13    5  33   5     8     8  32        9\n",
      "14    5  33   6     7     8  33        8\n",
      "15    4  33   6     7     8  32       10\n",
      "16    5  32   7     7     8  32        9\n",
      "17    5  32   6     7     8  33        9\n",
      "18    4  33   6     7     8  32       10\n",
      "19    5  33   6     8     8  29       11\n",
      "20    3  37   6    10    10  23       11\n",
      "21    5  36   6     9    11  21       12\n",
      "22    4  37   6    10    10  21       12\n",
      "23    4  38   5    10     9  22       12\n",
      "24    4  36   6    10    10  21       13\n",
      "25    4  36   5    11    10  22       12\n",
      "26    4  36   5    10    10  22       13\n",
      "27    3  37   5    11    10  22       12\n",
      "28    5  35   5    11     9  23       12\n",
      "29    4  33   5    12     9  24       13\n",
      "..   ..  ..  ..   ...   ...  ..      ...\n",
      "159   6  40   4    10    10  25        5\n",
      "160   6  41   4    10    10  24        5\n",
      "161   6  40   4    10     9  25        6\n",
      "162   6  42   4     9    10  23        6\n",
      "163   6  41   3    10    10  24        6\n",
      "164   5  41   3    11    10  25        5\n",
      "165   6  41   3    10    10  25        5\n",
      "166   5  41   4    11    10  24        5\n",
      "167   7  42   3    10    10  23        5\n",
      "168   7  40   4    10    10  24        5\n",
      "169   6  41   4    10    10  24        5\n",
      "170   5  41   4    11    10  24        5\n",
      "171   6  42   4    10     9  25        4\n",
      "172   6  42   4     9    10  25        4\n",
      "173   6  41   5     9     9  26        4\n",
      "174   6  41   4     8    10  26        5\n",
      "175   6  42   4     9     9  25        5\n",
      "176   7  41   4     9     9  25        5\n",
      "177   6  42   4     9     9  25        5\n",
      "178   6  42   3     9     9  26        5\n",
      "179   6  41   4     9     9  26        5\n",
      "180   6  42   3    10     9  25        5\n",
      "181   7  41   3    10     9  25        5\n",
      "182   6  41   3    10     9  26        5\n",
      "183   7  42   3     9     9  25        5\n",
      "184   6  41   3    10     9  26        5\n",
      "185   6  42   3     9    10  25        5\n",
      "186   5  42   3     9    10  25        6\n",
      "187   6  42   4     8     9  25        6\n",
      "188   6  43   3     7     9  26        6\n",
      "\n",
      "[189 rows x 7 columns]\n"
     ]
    }
   ],
   "source": [
    "correct = df.apply(Parteien, axis=1)\n",
    "print(correct)"
   ]
  },
  {
   "cell_type": "code",
   "execution_count": 636,
   "metadata": {},
   "outputs": [
    {
     "data": {
      "text/html": [
       "<div>\n",
       "<style>\n",
       "    .dataframe thead tr:only-child th {\n",
       "        text-align: right;\n",
       "    }\n",
       "\n",
       "    .dataframe thead th {\n",
       "        text-align: left;\n",
       "    }\n",
       "\n",
       "    .dataframe tbody tr th {\n",
       "        vertical-align: top;\n",
       "    }\n",
       "</style>\n",
       "<table border=\"1\" class=\"dataframe\">\n",
       "  <thead>\n",
       "    <tr style=\"text-align: right;\">\n",
       "      <th></th>\n",
       "      <th>AfD</th>\n",
       "      <th>Befragte</th>\n",
       "      <th>CDU</th>\n",
       "      <th>Datum</th>\n",
       "      <th>FDP</th>\n",
       "      <th>Grüne</th>\n",
       "      <th>LINKE</th>\n",
       "      <th>SPD</th>\n",
       "      <th>Sonstige</th>\n",
       "      <th>Zeitraum</th>\n",
       "    </tr>\n",
       "  </thead>\n",
       "  <tbody>\n",
       "    <tr>\n",
       "      <th>0</th>\n",
       "      <td>5</td>\n",
       "      <td>2.054</td>\n",
       "      <td>39</td>\n",
       "      <td>17.06.2017</td>\n",
       "      <td>7</td>\n",
       "      <td>7</td>\n",
       "      <td>9</td>\n",
       "      <td>25</td>\n",
       "      <td>8</td>\n",
       "      <td>08.06.–13.06.</td>\n",
       "    </tr>\n",
       "    <tr>\n",
       "      <th>1</th>\n",
       "      <td>4</td>\n",
       "      <td>1.398</td>\n",
       "      <td>39</td>\n",
       "      <td>10.06.2017</td>\n",
       "      <td>7</td>\n",
       "      <td>8</td>\n",
       "      <td>9</td>\n",
       "      <td>25</td>\n",
       "      <td>8</td>\n",
       "      <td>01.06.–07.06.</td>\n",
       "    </tr>\n",
       "    <tr>\n",
       "      <th>2</th>\n",
       "      <td>5</td>\n",
       "      <td>1.838</td>\n",
       "      <td>38</td>\n",
       "      <td>03.06.2017</td>\n",
       "      <td>7</td>\n",
       "      <td>7</td>\n",
       "      <td>8</td>\n",
       "      <td>27</td>\n",
       "      <td>8</td>\n",
       "      <td>24.05.–31.05.</td>\n",
       "    </tr>\n",
       "    <tr>\n",
       "      <th>3</th>\n",
       "      <td>5</td>\n",
       "      <td>1.703</td>\n",
       "      <td>38</td>\n",
       "      <td>27.05.2017</td>\n",
       "      <td>8</td>\n",
       "      <td>8</td>\n",
       "      <td>8</td>\n",
       "      <td>25</td>\n",
       "      <td>8</td>\n",
       "      <td>18.05.–23.05.</td>\n",
       "    </tr>\n",
       "    <tr>\n",
       "      <th>4</th>\n",
       "      <td>5</td>\n",
       "      <td>2.413</td>\n",
       "      <td>38</td>\n",
       "      <td>20.05.2017</td>\n",
       "      <td>7</td>\n",
       "      <td>7</td>\n",
       "      <td>9</td>\n",
       "      <td>26</td>\n",
       "      <td>8</td>\n",
       "      <td>11.05.–17.05.</td>\n",
       "    </tr>\n",
       "  </tbody>\n",
       "</table>\n",
       "</div>"
      ],
      "text/plain": [
       "  AfD Befragte CDU       Datum FDP Grüne LINKE SPD Sonstige       Zeitraum\n",
       "0   5    2.054  39  17.06.2017   7     7     9  25        8  08.06.–13.06.\n",
       "1   4    1.398  39  10.06.2017   7     8     9  25        8  01.06.–07.06.\n",
       "2   5    1.838  38  03.06.2017   7     7     8  27        8  24.05.–31.05.\n",
       "3   5    1.703  38  27.05.2017   8     8     8  25        8  18.05.–23.05.\n",
       "4   5    2.413  38  20.05.2017   7     7     9  26        8  11.05.–17.05."
      ]
     },
     "execution_count": 636,
     "metadata": {},
     "output_type": "execute_result"
    }
   ],
   "source": [
    "df['CDU'] = correct['CDU']\n",
    "df['SPD'] = correct['SPD']\n",
    "df['Grüne'] = correct['Grüne']\n",
    "df['FDP'] = correct['FDP']\n",
    "df['LINKE'] = correct['LINKE']\n",
    "df['AfD'] = correct['AfD']\n",
    "df['Sonstige'] = correct['Sonstige']\n",
    "\n",
    "df.head()"
   ]
  },
  {
   "cell_type": "raw",
   "metadata": {},
   "source": [
    "#Task 13: Bring columns in a new order "
   ]
  },
  {
   "cell_type": "code",
   "execution_count": 637,
   "metadata": {
    "collapsed": true
   },
   "outputs": [],
   "source": [
    "df = df[['CDU', 'SPD', 'Grüne', 'LINKE', 'FDP', 'AfD', 'Sonstige', 'Datum', 'Befragte', 'Zeitraum']]"
   ]
  },
  {
   "cell_type": "code",
   "execution_count": 638,
   "metadata": {
    "scrolled": true
   },
   "outputs": [
    {
     "data": {
      "text/html": [
       "<div>\n",
       "<style>\n",
       "    .dataframe thead tr:only-child th {\n",
       "        text-align: right;\n",
       "    }\n",
       "\n",
       "    .dataframe thead th {\n",
       "        text-align: left;\n",
       "    }\n",
       "\n",
       "    .dataframe tbody tr th {\n",
       "        vertical-align: top;\n",
       "    }\n",
       "</style>\n",
       "<table border=\"1\" class=\"dataframe\">\n",
       "  <thead>\n",
       "    <tr style=\"text-align: right;\">\n",
       "      <th></th>\n",
       "      <th>CDU</th>\n",
       "      <th>SPD</th>\n",
       "      <th>Grüne</th>\n",
       "      <th>LINKE</th>\n",
       "      <th>FDP</th>\n",
       "      <th>AfD</th>\n",
       "      <th>Sonstige</th>\n",
       "      <th>Datum</th>\n",
       "      <th>Befragte</th>\n",
       "      <th>Zeitraum</th>\n",
       "    </tr>\n",
       "  </thead>\n",
       "  <tbody>\n",
       "    <tr>\n",
       "      <th>0</th>\n",
       "      <td>39</td>\n",
       "      <td>25</td>\n",
       "      <td>7</td>\n",
       "      <td>9</td>\n",
       "      <td>7</td>\n",
       "      <td>5</td>\n",
       "      <td>8</td>\n",
       "      <td>17.06.2017</td>\n",
       "      <td>2.054</td>\n",
       "      <td>08.06.–13.06.</td>\n",
       "    </tr>\n",
       "    <tr>\n",
       "      <th>1</th>\n",
       "      <td>39</td>\n",
       "      <td>25</td>\n",
       "      <td>8</td>\n",
       "      <td>9</td>\n",
       "      <td>7</td>\n",
       "      <td>4</td>\n",
       "      <td>8</td>\n",
       "      <td>10.06.2017</td>\n",
       "      <td>1.398</td>\n",
       "      <td>01.06.–07.06.</td>\n",
       "    </tr>\n",
       "    <tr>\n",
       "      <th>2</th>\n",
       "      <td>38</td>\n",
       "      <td>27</td>\n",
       "      <td>7</td>\n",
       "      <td>8</td>\n",
       "      <td>7</td>\n",
       "      <td>5</td>\n",
       "      <td>8</td>\n",
       "      <td>03.06.2017</td>\n",
       "      <td>1.838</td>\n",
       "      <td>24.05.–31.05.</td>\n",
       "    </tr>\n",
       "    <tr>\n",
       "      <th>3</th>\n",
       "      <td>38</td>\n",
       "      <td>25</td>\n",
       "      <td>8</td>\n",
       "      <td>8</td>\n",
       "      <td>8</td>\n",
       "      <td>5</td>\n",
       "      <td>8</td>\n",
       "      <td>27.05.2017</td>\n",
       "      <td>1.703</td>\n",
       "      <td>18.05.–23.05.</td>\n",
       "    </tr>\n",
       "    <tr>\n",
       "      <th>4</th>\n",
       "      <td>38</td>\n",
       "      <td>26</td>\n",
       "      <td>7</td>\n",
       "      <td>9</td>\n",
       "      <td>7</td>\n",
       "      <td>5</td>\n",
       "      <td>8</td>\n",
       "      <td>20.05.2017</td>\n",
       "      <td>2.413</td>\n",
       "      <td>11.05.–17.05.</td>\n",
       "    </tr>\n",
       "  </tbody>\n",
       "</table>\n",
       "</div>"
      ],
      "text/plain": [
       "  CDU SPD Grüne LINKE FDP AfD Sonstige       Datum Befragte       Zeitraum\n",
       "0  39  25     7     9   7   5        8  17.06.2017    2.054  08.06.–13.06.\n",
       "1  39  25     8     9   7   4        8  10.06.2017    1.398  01.06.–07.06.\n",
       "2  38  27     7     8   7   5        8  03.06.2017    1.838  24.05.–31.05.\n",
       "3  38  25     8     8   8   5        8  27.05.2017    1.703  18.05.–23.05.\n",
       "4  38  26     7     9   7   5        8  20.05.2017    2.413  11.05.–17.05."
      ]
     },
     "execution_count": 638,
     "metadata": {},
     "output_type": "execute_result"
    }
   ],
   "source": [
    "df.head()"
   ]
  },
  {
   "cell_type": "code",
   "execution_count": 639,
   "metadata": {
    "collapsed": true
   },
   "outputs": [],
   "source": [
    "%matplotlib inline"
   ]
  },
  {
   "cell_type": "code",
   "execution_count": 640,
   "metadata": {},
   "outputs": [
    {
     "data": {
      "text/plain": [
       "inf"
      ]
     },
     "execution_count": 640,
     "metadata": {},
     "output_type": "execute_result"
    }
   ],
   "source": [
    "df['Grüne'].mean() # inf means that we need to convert it"
   ]
  },
  {
   "cell_type": "code",
   "execution_count": 615,
   "metadata": {
    "collapsed": true
   },
   "outputs": [],
   "source": [
    "#How much percent does the Green Party receive on average?"
   ]
  },
  {
   "cell_type": "code",
   "execution_count": 616,
   "metadata": {},
   "outputs": [
    {
     "data": {
      "text/plain": [
       "9.9365079365079367"
      ]
     },
     "execution_count": 616,
     "metadata": {},
     "output_type": "execute_result"
    }
   ],
   "source": [
    "np.asarray(df['Grüne'], dtype=np.float).mean() # Green Party receives on average 9.9 %"
   ]
  },
  {
   "cell_type": "code",
   "execution_count": 617,
   "metadata": {},
   "outputs": [
    {
     "data": {
      "text/plain": [
       "127    10\n",
       "Name: Grüne, dtype: object"
      ]
     },
     "execution_count": 617,
     "metadata": {},
     "output_type": "execute_result"
    }
   ],
   "source": [
    "df['Grüne'].sort_values().head(1)"
   ]
  },
  {
   "cell_type": "code",
   "execution_count": 652,
   "metadata": {},
   "outputs": [],
   "source": [
    "df['CDU'] = correct['CDU'].astype(float)\n",
    "df['SPD'] = correct['SPD'].astype(float)\n",
    "df['Grüne'] = correct['Grüne'].astype(float)\n",
    "df['FDP'] = correct['FDP'].astype(float)\n",
    "df['LINKE'] = correct['LINKE'].astype(float)\n",
    "df['AfD'] = correct['AfD'].astype(float)\n",
    "df['Sonstige'] = correct['Sonstige'].astype(float)"
   ]
  },
  {
   "cell_type": "code",
   "execution_count": 653,
   "metadata": {
    "collapsed": true
   },
   "outputs": [],
   "source": [
    "#How is the development for all parties?"
   ]
  },
  {
   "cell_type": "code",
   "execution_count": 654,
   "metadata": {
    "scrolled": true
   },
   "outputs": [
    {
     "data": {
      "text/plain": [
       "<matplotlib.axes._subplots.AxesSubplot at 0x10fdaec88>"
      ]
     },
     "execution_count": 654,
     "metadata": {},
     "output_type": "execute_result"
    },
    {
     "data": {
      "image/png": "[encoded data removed]",
      "text/plain": [
       "<matplotlib.figure.Figure at 0x10fdae390>"
      ]
     },
     "metadata": {},
     "output_type": "display_data"
    }
   ],
   "source": [
    "df.plot()"
   ]
  },
  {
   "cell_type": "code",
   "execution_count": 620,
   "metadata": {
    "collapsed": true
   },
   "outputs": [],
   "source": [
    "#How is the development of the survey for CDU?"
   ]
  },
  {
   "cell_type": "code",
   "execution_count": 655,
   "metadata": {},
   "outputs": [
    {
     "data": {
      "text/plain": [
       "<matplotlib.axes._subplots.AxesSubplot at 0x10fe42cc0>"
      ]
     },
     "execution_count": 655,
     "metadata": {},
     "output_type": "execute_result"
    },
    {
     "data": {
      "image/png": "[encoded data removed]",
      "text/plain": [
       "<matplotlib.figure.Figure at 0x10fe3ea90>"
      ]
     },
     "metadata": {},
     "output_type": "display_data"
    }
   ],
   "source": [
    "df.plot(x='Datum', y='CDU')"
   ]
  },
  {
   "cell_type": "code",
   "execution_count": 622,
   "metadata": {
    "collapsed": true
   },
   "outputs": [],
   "source": [
    "#How does the SPD score in 2017 in comparison to 2014?"
   ]
  },
  {
   "cell_type": "code",
   "execution_count": 656,
   "metadata": {},
   "outputs": [
    {
     "name": "stderr",
     "output_type": "stream",
     "text": [
      "/usr/local/lib/python3.6/site-packages/ipykernel_launcher.py:1: FutureWarning: currently extract(expand=None) means expand=False (return Index/Series/DataFrame) but in a future version of pandas this will be changed to expand=True (return DataFrame)\n",
      "  \"\"\"Entry point for launching an IPython kernel.\n"
     ]
    }
   ],
   "source": [
    "df['Year'] = df['Datum'].str.extract('\\d\\d\\.\\d\\d\\.(\\d\\d\\d\\d)')"
   ]
  },
  {
   "cell_type": "code",
   "execution_count": 657,
   "metadata": {},
   "outputs": [
    {
     "data": {
      "text/plain": [
       "CDU         float64\n",
       "SPD         float64\n",
       "Grüne       float64\n",
       "LINKE       float64\n",
       "FDP         float64\n",
       "AfD         float64\n",
       "Sonstige    float64\n",
       "Datum        object\n",
       "Befragte     object\n",
       "Zeitraum     object\n",
       "Year         object\n",
       "dtype: object"
      ]
     },
     "execution_count": 657,
     "metadata": {},
     "output_type": "execute_result"
    }
   ],
   "source": [
    "df.dtypes"
   ]
  },
  {
   "cell_type": "code",
   "execution_count": 658,
   "metadata": {},
   "outputs": [
    {
     "data": {
      "text/plain": [
       "Year\n",
       "2013    25.384615\n",
       "2014    24.900000\n",
       "2015    24.882353\n",
       "2016    22.803922\n",
       "2017    28.458333\n",
       "Name: SPD, dtype: float64"
      ]
     },
     "execution_count": 658,
     "metadata": {},
     "output_type": "execute_result"
    }
   ],
   "source": [
    "df.groupby('Year')['SPD'].mean()"
   ]
  },
  {
   "cell_type": "code",
   "execution_count": 659,
   "metadata": {},
   "outputs": [
    {
     "data": {
      "text/plain": [
       "<matplotlib.axes._subplots.AxesSubplot at 0x10ff6c9e8>"
      ]
     },
     "execution_count": 659,
     "metadata": {},
     "output_type": "execute_result"
    },
    {
     "data": {
      "image/png": "[encoded data removed]",
      "text/plain": [
       "<matplotlib.figure.Figure at 0x10ff46da0>"
      ]
     },
     "metadata": {},
     "output_type": "display_data"
    }
   ],
   "source": [
    "df.plot(x='Year', y='SPD')"
   ]
  },
  {
   "cell_type": "code",
   "execution_count": 662,
   "metadata": {},
   "outputs": [
    {
     "data": {
      "text/plain": [
       "35.416666666666664"
      ]
     },
     "execution_count": 662,
     "metadata": {},
     "output_type": "execute_result"
    }
   ],
   "source": [
    "df['CDU'][df['Year'] == '2017'].mean()"
   ]
  },
  {
   "cell_type": "code",
   "execution_count": 664,
   "metadata": {},
   "outputs": [
    {
     "data": {
      "text/plain": [
       "28.458333333333332"
      ]
     },
     "execution_count": 664,
     "metadata": {},
     "output_type": "execute_result"
    }
   ],
   "source": [
    "df['SPD'][df['Year'] == '2017'].mean()"
   ]
  },
  {
   "cell_type": "code",
   "execution_count": 663,
   "metadata": {},
   "outputs": [
    {
     "data": {
      "text/plain": [
       "24.899999999999999"
      ]
     },
     "execution_count": 663,
     "metadata": {},
     "output_type": "execute_result"
    }
   ],
   "source": [
    "df['SPD'][df['Year'] == '2014'].mean()"
   ]
  }
 ],
 "metadata": {
  "kernelspec": {
   "display_name": "Python 3",
   "language": "python",
   "name": "python3"
  },
  "language_info": {
   "codemirror_mode": {
    "name": "ipython",
    "version": 3
   },
   "file_extension": ".py",
   "mimetype": "text/x-python",
   "name": "python",
   "nbconvert_exporter": "python",
   "pygments_lexer": "ipython3",
   "version": "3.6.1"
  }
 },
 "nbformat": 4,
 "nbformat_minor": 2
}
