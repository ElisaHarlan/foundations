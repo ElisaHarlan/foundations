{
 "cells": [
  {
   "cell_type": "markdown",
   "metadata": {},
   "source": [
    "## homework 4: part two: investigating lists and dictionaries using functions\n",
    "\n",
    "In this assignment I will ask you to pick five relatively short texts (poems, paragraphs, short essays, song lyrics, whatever interests you). The main thing is to make sure that each text is around 10 - 20 lines or sentences long. Below, I have selected five poems by Wallace Stevens. In each cell I have made a variable that contains each poem, and then I pass that poem through a function called `text_to_dict` that makes a dictionary for each poem. The dictionary contains the title of the poem, the full text as one string, and a list that contains each line of the poem. The function will also make lists of sentences instead of lines if you want to investigate a prose text (sentence by sentence) instead of a poem (line by line).\n",
    "\n",
    "There are two parts of this assignment. \n",
    "\n",
    "**Part 1**, which should be easy, is to replace the poems with texts of your own choice--and choose to split them by lines or sentences. \n",
    "\n",
    "**Part 2** is to write functions that and investigate your texts. If you want to focus on the functions first, you can go straight to Part 2 and use the pomes I have chosen. You can then go back and enter your own texts--your functions should work no matter what text you've chosen.\n"
   ]
  },
  {
   "cell_type": "code",
   "execution_count": 1,
   "metadata": {
    "collapsed": true
   },
   "outputs": [],
   "source": [
    "#Run this cell toImport regular expressions\n",
    "#And to initialize the all texts list that will contain all of your dictionaries of text\n",
    "import re\n",
    "all_texts = []"
   ]
  },
  {
   "cell_type": "markdown",
   "metadata": {},
   "source": [
    "** understanding the text_to_dict function**\n",
    "\n",
    "You don't have to completely understand this function to use it, but you do need to understand its parameters. It takes three parameters:\n",
    "* `title` is a string you need to write inside function's parameters\n",
    "* `text` is the variable that holds the entire text\n",
    "* `poem` True/False parameter --if it is true it will split your text by line (`\\n`) \n",
    " \tIf it is false it will split your text by sentence ('[.?!])\n",
    "\n",
    "If you look at the function you will see that it builds a dictionary with the following fields:\n",
    "* `title` is the title of the text\n",
    "* `text_as_string` is the full text as a string\n",
    "* `lines` is a list of lines or sentences\n",
    "\n",
    "It returns a dictionary with those fields."
   ]
  },
  {
   "cell_type": "code",
   "execution_count": 2,
   "metadata": {
    "collapsed": true
   },
   "outputs": [],
   "source": [
    "def text_to_dict(title,text,poem):\n",
    "    dict_of_this_text = {}\n",
    "    dict_of_this_text['title'] = title\n",
    "    dict_of_this_text['text_as_string'] = text\n",
    "    if poem:\n",
    "        text_to_list = text.strip().split('\\n')\n",
    "    else:\n",
    "        text_to_list = re.split(r\"[.?!]\",text)\n",
    "    dict_of_this_text['lines'] = text_to_list\n",
    "    return dict_of_this_text"
   ]
  },
  {
   "cell_type": "markdown",
   "metadata": {},
   "source": [
    "## Part One\n",
    "\n",
    "The next five cells are exactly the same. They define five different texts, and then they pass each text through the `text_to_dict` function. And then they add the resulting dictionary to the all_texts list. \n",
    "\n",
    "In the five cells below enter your five selected texts.\n",
    "\n",
    "**You should do no coding at any point** until the very last cell before part two."
   ]
  },
  {
   "cell_type": "code",
   "execution_count": 3,
   "metadata": {
    "collapsed": true
   },
   "outputs": [],
   "source": [
    "#To change the text, just put a new text between the quotation mark\n",
    "text0 = '''\n",
    "Cruelty has a human heart,\n",
    "And Jealousy a human face;\n",
    "Terror the human form divine,\n",
    "And Secresy the human dress.\n",
    "The human dress is forged iron,\n",
    "The human form a fiery forge,\n",
    "The human face a furnace sealed,\n",
    "The human heart its hungry gorge. \n",
    "'''\n",
    "#Remember: you need to type the title into the first parameter\n",
    "#If you want to split by line choose True for the third parameter\n",
    "#If you want to split by sentence, choose False\n",
    "transform_it = text_to_dict(\"A Divine Image\",text0,True)\n",
    "all_texts.append(transform_it)"
   ]
  },
  {
   "cell_type": "code",
   "execution_count": 4,
   "metadata": {
    "collapsed": true
   },
   "outputs": [],
   "source": [
    "text1 = '''\n",
    "I dreamt a dream! What can it mean?\n",
    "And that I was a maiden Queen\n",
    "Guarded by an Angel mild:\n",
    "Witless woe was ne'er beguiled!\n",
    "And I wept both night and day,\n",
    "And he wiped my tears away;\n",
    "And I wept both day and night,\n",
    "And hid from him my heart's delight.\n",
    "So he took his wings, and fled;\n",
    "Then the morn blushed rosy red.\n",
    "I dried my tears, and armed my fears\n",
    "With ten-thousand shields and spears.\n",
    "Soon my Angel came again;\n",
    "I was armed, he came in vain;\n",
    "For the time of youth was fled,\n",
    "And grey hairs were on my head. \n",
    "'''\n",
    "transform_it = text_to_dict(\"The Angel\",text1,True)\n",
    "all_texts.append(transform_it)"
   ]
  },
  {
   "cell_type": "code",
   "execution_count": 5,
   "metadata": {
    "collapsed": true
   },
   "outputs": [],
   "source": [
    "text2 = '''\n",
    "I was angry with my friend:\n",
    "I told my wrath, my wrath did end.\n",
    "I was angry with my foe:\n",
    "I told it not, my wrath did grow.\n",
    "And I watered it in fears,\n",
    "Night and morning with my tears; \n",
    "And I sunned it with smiles,\n",
    "And with soft deceitful wiles.\n",
    "And it grew both day and night,\n",
    "Till it bore an apple bright.\n",
    "And my foe beheld it shine.\n",
    "And he knew that it was mine,\n",
    "And into my garden stole\n",
    "When the night had veiled the pole; \n",
    "In the morning glad I see\n",
    "My foe outstretched beneath the tree.\n",
    "'''\n",
    "transform_it = text_to_dict(\"A Poison Tree\",text2,True)\n",
    "all_texts.append(transform_it)"
   ]
  },
  {
   "cell_type": "code",
   "execution_count": 6,
   "metadata": {},
   "outputs": [
    {
     "data": {
      "text/plain": [
       "'The Angel'"
      ]
     },
     "execution_count": 6,
     "metadata": {},
     "output_type": "execute_result"
    }
   ],
   "source": [
    "all_texts[1]['title']"
   ]
  },
  {
   "cell_type": "code",
   "execution_count": 7,
   "metadata": {
    "collapsed": true
   },
   "outputs": [],
   "source": [
    "text3 = '''\n",
    "Come hither, my Sparrows,\n",
    "My little arrows.\n",
    "If a tear or a smile\n",
    "Will a man beguile,\n",
    "If an amorous delay\n",
    "Clouds a sunshiny day,\n",
    "If the step of a foot\n",
    "Smites the heart to its root,\n",
    "'Tis the marriage-ring…\n",
    "Makes each fairy a king.'\n",
    "So a Fairy sung.\n",
    "From the leaves I sprung;\n",
    "He leap'd from the spray\n",
    "To flee away;\n",
    "But in my hat caught,\n",
    "He soon shall be taught.\n",
    "Let him laugh, let him cry,\n",
    "He's my Butterfly;\n",
    "For I've pull'd out the sting\n",
    "Of the marriage-ring. \n",
    "'''\n",
    "transform_it = text_to_dict(\"The Fairy\",text3,True)\n",
    "all_texts.append(transform_it)"
   ]
  },
  {
   "cell_type": "code",
   "execution_count": 8,
   "metadata": {
    "collapsed": true
   },
   "outputs": [],
   "source": [
    "text4 = '''\n",
    "There is a Smile of Love \n",
    "And there is a Smile of Deceit \n",
    "And there is a Smile of Smiles\n",
    "In which these two Smiles meet \n",
    "And there is a Frown of Hate \n",
    "And there is a Frown of disdain \n",
    "And there is a Frown of Frowns\n",
    "Which you strive to forget in vain \n",
    "For it sticks in the Hearts deep Core \n",
    "And it sticks in the deep Back bone \n",
    "And no Smile that ever was smild \n",
    "But only one Smile alone\n",
    "That betwixt the Cradle & Grave\n",
    "It only once Smild can be \n",
    "But when it once is Smild \n",
    "Theres an end to all Misery \n",
    "'''\n",
    "transform_it = text_to_dict(\"The Smile\",text4,True)\n",
    "all_texts.append(transform_it)"
   ]
  },
  {
   "cell_type": "markdown",
   "metadata": {},
   "source": [
    "Run the two cells below to confirm that first, you only have five texts in the all_texts list, and next, look at the all_texts list to see the dictionary inside it. "
   ]
  },
  {
   "cell_type": "code",
   "execution_count": 9,
   "metadata": {},
   "outputs": [
    {
     "data": {
      "text/plain": [
       "5"
      ]
     },
     "execution_count": 9,
     "metadata": {},
     "output_type": "execute_result"
    }
   ],
   "source": [
    "len(all_texts)"
   ]
  },
  {
   "cell_type": "code",
   "execution_count": 10,
   "metadata": {},
   "outputs": [
    {
     "data": {
      "text/plain": [
       "dict_keys(['title', 'text_as_string', 'lines'])"
      ]
     },
     "execution_count": 10,
     "metadata": {},
     "output_type": "execute_result"
    }
   ],
   "source": [
    "all_texts[0].keys()"
   ]
  },
  {
   "cell_type": "code",
   "execution_count": 11,
   "metadata": {},
   "outputs": [
    {
     "data": {
      "text/plain": [
       "[{'lines': ['Cruelty has a human heart,',\n",
       "   'And Jealousy a human face;',\n",
       "   'Terror the human form divine,',\n",
       "   'And Secresy the human dress.',\n",
       "   'The human dress is forged iron,',\n",
       "   'The human form a fiery forge,',\n",
       "   'The human face a furnace sealed,',\n",
       "   'The human heart its hungry gorge.'],\n",
       "  'text_as_string': '\\nCruelty has a human heart,\\nAnd Jealousy a human face;\\nTerror the human form divine,\\nAnd Secresy the human dress.\\nThe human dress is forged iron,\\nThe human form a fiery forge,\\nThe human face a furnace sealed,\\nThe human heart its hungry gorge. \\n',\n",
       "  'title': 'A Divine Image'},\n",
       " {'lines': ['I dreamt a dream! What can it mean?',\n",
       "   'And that I was a maiden Queen',\n",
       "   'Guarded by an Angel mild:',\n",
       "   \"Witless woe was ne'er beguiled!\",\n",
       "   'And I wept both night and day,',\n",
       "   'And he wiped my tears away;',\n",
       "   'And I wept both day and night,',\n",
       "   \"And hid from him my heart's delight.\",\n",
       "   'So he took his wings, and fled;',\n",
       "   'Then the morn blushed rosy red.',\n",
       "   'I dried my tears, and armed my fears',\n",
       "   'With ten-thousand shields and spears.',\n",
       "   'Soon my Angel came again;',\n",
       "   'I was armed, he came in vain;',\n",
       "   'For the time of youth was fled,',\n",
       "   'And grey hairs were on my head.'],\n",
       "  'text_as_string': \"\\nI dreamt a dream! What can it mean?\\nAnd that I was a maiden Queen\\nGuarded by an Angel mild:\\nWitless woe was ne'er beguiled!\\nAnd I wept both night and day,\\nAnd he wiped my tears away;\\nAnd I wept both day and night,\\nAnd hid from him my heart's delight.\\nSo he took his wings, and fled;\\nThen the morn blushed rosy red.\\nI dried my tears, and armed my fears\\nWith ten-thousand shields and spears.\\nSoon my Angel came again;\\nI was armed, he came in vain;\\nFor the time of youth was fled,\\nAnd grey hairs were on my head. \\n\",\n",
       "  'title': 'The Angel'},\n",
       " {'lines': ['I was angry with my friend:',\n",
       "   'I told my wrath, my wrath did end.',\n",
       "   'I was angry with my foe:',\n",
       "   'I told it not, my wrath did grow.',\n",
       "   'And I watered it in fears,',\n",
       "   'Night and morning with my tears; ',\n",
       "   'And I sunned it with smiles,',\n",
       "   'And with soft deceitful wiles.',\n",
       "   'And it grew both day and night,',\n",
       "   'Till it bore an apple bright.',\n",
       "   'And my foe beheld it shine.',\n",
       "   'And he knew that it was mine,',\n",
       "   'And into my garden stole',\n",
       "   'When the night had veiled the pole; ',\n",
       "   'In the morning glad I see',\n",
       "   'My foe outstretched beneath the tree.'],\n",
       "  'text_as_string': '\\nI was angry with my friend:\\nI told my wrath, my wrath did end.\\nI was angry with my foe:\\nI told it not, my wrath did grow.\\nAnd I watered it in fears,\\nNight and morning with my tears; \\nAnd I sunned it with smiles,\\nAnd with soft deceitful wiles.\\nAnd it grew both day and night,\\nTill it bore an apple bright.\\nAnd my foe beheld it shine.\\nAnd he knew that it was mine,\\nAnd into my garden stole\\nWhen the night had veiled the pole; \\nIn the morning glad I see\\nMy foe outstretched beneath the tree.\\n',\n",
       "  'title': 'A Poison Tree'},\n",
       " {'lines': ['Come hither, my Sparrows,',\n",
       "   'My little arrows.',\n",
       "   'If a tear or a smile',\n",
       "   'Will a man beguile,',\n",
       "   'If an amorous delay',\n",
       "   'Clouds a sunshiny day,',\n",
       "   'If the step of a foot',\n",
       "   'Smites the heart to its root,',\n",
       "   \"'Tis the marriage-ring…\",\n",
       "   \"Makes each fairy a king.'\",\n",
       "   'So a Fairy sung.',\n",
       "   'From the leaves I sprung;',\n",
       "   \"He leap'd from the spray\",\n",
       "   'To flee away;',\n",
       "   'But in my hat caught,',\n",
       "   'He soon shall be taught.',\n",
       "   'Let him laugh, let him cry,',\n",
       "   \"He's my Butterfly;\",\n",
       "   \"For I've pull'd out the sting\",\n",
       "   'Of the marriage-ring.'],\n",
       "  'text_as_string': \"\\nCome hither, my Sparrows,\\nMy little arrows.\\nIf a tear or a smile\\nWill a man beguile,\\nIf an amorous delay\\nClouds a sunshiny day,\\nIf the step of a foot\\nSmites the heart to its root,\\n'Tis the marriage-ring…\\nMakes each fairy a king.'\\nSo a Fairy sung.\\nFrom the leaves I sprung;\\nHe leap'd from the spray\\nTo flee away;\\nBut in my hat caught,\\nHe soon shall be taught.\\nLet him laugh, let him cry,\\nHe's my Butterfly;\\nFor I've pull'd out the sting\\nOf the marriage-ring. \\n\",\n",
       "  'title': 'The Fairy'},\n",
       " {'lines': ['There is a Smile of Love ',\n",
       "   'And there is a Smile of Deceit ',\n",
       "   'And there is a Smile of Smiles',\n",
       "   'In which these two Smiles meet ',\n",
       "   'And there is a Frown of Hate ',\n",
       "   'And there is a Frown of disdain ',\n",
       "   'And there is a Frown of Frowns',\n",
       "   'Which you strive to forget in vain ',\n",
       "   'For it sticks in the Hearts deep Core ',\n",
       "   'And it sticks in the deep Back bone ',\n",
       "   'And no Smile that ever was smild ',\n",
       "   'But only one Smile alone',\n",
       "   'That betwixt the Cradle & Grave',\n",
       "   'It only once Smild can be ',\n",
       "   'But when it once is Smild ',\n",
       "   'Theres an end to all Misery'],\n",
       "  'text_as_string': '\\nThere is a Smile of Love \\nAnd there is a Smile of Deceit \\nAnd there is a Smile of Smiles\\nIn which these two Smiles meet \\nAnd there is a Frown of Hate \\nAnd there is a Frown of disdain \\nAnd there is a Frown of Frowns\\nWhich you strive to forget in vain \\nFor it sticks in the Hearts deep Core \\nAnd it sticks in the deep Back bone \\nAnd no Smile that ever was smild \\nBut only one Smile alone\\nThat betwixt the Cradle & Grave\\nIt only once Smild can be \\nBut when it once is Smild \\nTheres an end to all Misery \\n',\n",
       "  'title': 'The Smile'}]"
      ]
     },
     "execution_count": 11,
     "metadata": {},
     "output_type": "execute_result"
    }
   ],
   "source": [
    "all_texts"
   ]
  },
  {
   "cell_type": "markdown",
   "metadata": {},
   "source": [
    "In the cell below, loop through all_texts and print out the title of each text. (This is the only code you need to write for Part One.)"
   ]
  },
  {
   "cell_type": "code",
   "execution_count": 12,
   "metadata": {},
   "outputs": [
    {
     "name": "stdout",
     "output_type": "stream",
     "text": [
      "A Divine Image\n",
      "-----\n",
      "The Angel\n",
      "-----\n",
      "A Poison Tree\n",
      "-----\n",
      "The Fairy\n",
      "-----\n",
      "The Smile\n",
      "-----\n"
     ]
    }
   ],
   "source": [
    "for poems in all_texts:\n",
    "    print(poems['title'])\n",
    "    print('-----')"
   ]
  },
  {
   "cell_type": "markdown",
   "metadata": {},
   "source": [
    "## Part Two:  searching within lists and dictionaries\n",
    "In this part, we will be searching through each text and printing out a desired result. The searches, including loops and printing should all be defined in the function. The second cell should just have to function call that executes the function. I have written an example function and call for the first search. For each function that you write you should copy the original function and modify it so what does what I ask for.\n",
    "\n",
    "For the first five functions, there are no parameters passed to the functions--the calls will just execute the function. Go step-by-step and take your time."
   ]
  },
  {
   "cell_type": "code",
   "execution_count": 13,
   "metadata": {
    "collapsed": true
   },
   "outputs": [],
   "source": [
    "def get_lengths():\n",
    "    for text in all_texts:\n",
    "        print(text['title'])\n",
    "        print(len(text['text_as_string']))\n",
    "        print(\"------------\")"
   ]
  },
  {
   "cell_type": "code",
   "execution_count": 14,
   "metadata": {},
   "outputs": [
    {
     "name": "stdout",
     "output_type": "stream",
     "text": [
      "A Divine Image\n",
      "244\n",
      "------------\n",
      "The Angel\n",
      "512\n",
      "------------\n",
      "A Poison Tree\n",
      "490\n",
      "------------\n",
      "The Fairy\n",
      "460\n",
      "------------\n",
      "The Smile\n",
      "502\n",
      "------------\n"
     ]
    }
   ],
   "source": [
    "get_lengths()"
   ]
  },
  {
   "cell_type": "markdown",
   "metadata": {},
   "source": [
    "Question 1\n",
    "Now write a function that gets the **line count for each poem** (or sentence count for each piece of prose). This function is going to be very similar to the last one. Instead of accessing the whole text via text['text_as_string'] which is a string, you need to access the list of lines/sentences and get the length of that list. Everything else should be the same."
   ]
  },
  {
   "cell_type": "code",
   "execution_count": 15,
   "metadata": {
    "collapsed": true
   },
   "outputs": [],
   "source": [
    "def get_line_count():\n",
    "    for text in all_texts:\n",
    "        print('The poem has', len(text['lines']), 'lines')"
   ]
  },
  {
   "cell_type": "code",
   "execution_count": 16,
   "metadata": {},
   "outputs": [
    {
     "name": "stdout",
     "output_type": "stream",
     "text": [
      "The poem has 8 lines\n",
      "The poem has 16 lines\n",
      "The poem has 16 lines\n",
      "The poem has 20 lines\n",
      "The poem has 16 lines\n"
     ]
    }
   ],
   "source": [
    "get_line_count()"
   ]
  },
  {
   "cell_type": "markdown",
   "metadata": {},
   "source": [
    "Question 2\n",
    "Now write a function that prints out a **random line or sentence from each text**. Again, this function will look much the same as the last ones, but instead of getting numbers you need to get actual lines. I have included the necessary import and an example of how to get random integers. Basically, for each text you need to get one element from the list of lines/ sentences with a random number between 0 and the length of the list."
   ]
  },
  {
   "cell_type": "code",
   "execution_count": 17,
   "metadata": {
    "collapsed": true
   },
   "outputs": [],
   "source": [
    "#Write your function here name it show_random_lines()\n",
    "#This should be inside the inner loop \n",
    "#so you get a fresh random number for each text\n",
    "#And it should not be from 0 to 9, but 0 to what?\n",
    "#Keep in mind that the range (0,9) give you any number \n",
    "#from 0 to 9 including both 0 and 9."
   ]
  },
  {
   "cell_type": "code",
   "execution_count": 18,
   "metadata": {
    "collapsed": true
   },
   "outputs": [],
   "source": [
    "from random import randint\n",
    "def show_random_lines():\n",
    "    for text in all_texts:\n",
    "        random_num = randint(1,8) \n",
    "        print(random_num)\n",
    "        print('--')\n",
    "        print(text['lines'][random_num])\n",
    "        print('-------------------------')"
   ]
  },
  {
   "cell_type": "code",
   "execution_count": 19,
   "metadata": {},
   "outputs": [
    {
     "name": "stdout",
     "output_type": "stream",
     "text": [
      "4\n",
      "--\n",
      "The human dress is forged iron,\n",
      "-------------------------\n",
      "1\n",
      "--\n",
      "And that I was a maiden Queen\n",
      "-------------------------\n",
      "2\n",
      "--\n",
      "I was angry with my foe:\n",
      "-------------------------\n",
      "4\n",
      "--\n",
      "If an amorous delay\n",
      "-------------------------\n",
      "7\n",
      "--\n",
      "Which you strive to forget in vain \n",
      "-------------------------\n"
     ]
    }
   ],
   "source": [
    "show_random_lines()"
   ]
  },
  {
   "cell_type": "markdown",
   "metadata": {},
   "source": [
    "Question 3\n",
    "This is a little bit different--instead of printing out something from each text, I want you to **print the entire text of the longest text**. Remember in the first function, I printed out the length of each text. Well, you need to test for the longest text as you look through and when you're done looping through print out the one that is longest.\n",
    "\n",
    "**Major hints!**: To do this you will need two **tracking variables** set before the loop runs: A numerical one that tracks the longest length (the number), and string variable remembers the actual text that has that length.\n",
    "\n",
    "Like this: longest_length = 0 and longest_text = \"\"\n",
    "\n",
    "When you loop through you need to test if each text was longer than the last one, and if it is longer--you update longest_length and longest_text to reflect the highest length, and the actual text. When the loop is over you then print out that longest_text string."
   ]
  },
  {
   "cell_type": "code",
   "execution_count": 20,
   "metadata": {
    "collapsed": true
   },
   "outputs": [],
   "source": [
    "def longest_text():\n",
    "    count = 0\n",
    "    for text in all_texts:\n",
    "        if len(text['text_as_string']) > count:\n",
    "            count = 0 + len(text['text_as_string'])\n",
    "    print(text['text_as_string'])"
   ]
  },
  {
   "cell_type": "code",
   "execution_count": 21,
   "metadata": {},
   "outputs": [
    {
     "name": "stdout",
     "output_type": "stream",
     "text": [
      "\n",
      "There is a Smile of Love \n",
      "And there is a Smile of Deceit \n",
      "And there is a Smile of Smiles\n",
      "In which these two Smiles meet \n",
      "And there is a Frown of Hate \n",
      "And there is a Frown of disdain \n",
      "And there is a Frown of Frowns\n",
      "Which you strive to forget in vain \n",
      "For it sticks in the Hearts deep Core \n",
      "And it sticks in the deep Back bone \n",
      "And no Smile that ever was smild \n",
      "But only one Smile alone\n",
      "That betwixt the Cradle & Grave\n",
      "It only once Smild can be \n",
      "But when it once is Smild \n",
      "Theres an end to all Misery \n",
      "\n"
     ]
    }
   ],
   "source": [
    "longest_text()"
   ]
  },
  {
   "cell_type": "markdown",
   "metadata": {},
   "source": [
    "Question 4\n",
    "This is kind of a combination of the first two functions--write a function that gets the **average line/sentence length for each text**."
   ]
  },
  {
   "cell_type": "code",
   "execution_count": 22,
   "metadata": {
    "collapsed": true
   },
   "outputs": [],
   "source": [
    "import statistics \n",
    "def average_line_length():\n",
    "    for text in all_texts:\n",
    "        average = len(text['text_as_string']) / len(text['lines'])\n",
    "        print(average, \"characters is the average length of lines for this poem \")"
   ]
  },
  {
   "cell_type": "code",
   "execution_count": 23,
   "metadata": {},
   "outputs": [
    {
     "name": "stdout",
     "output_type": "stream",
     "text": [
      "30.5 characters is the average length of lines for this poem \n",
      "32.0 characters is the average length of lines for this poem \n",
      "30.625 characters is the average length of lines for this poem \n",
      "23.0 characters is the average length of lines for this poem \n",
      "31.375 characters is the average length of lines for this poem \n"
     ]
    }
   ],
   "source": [
    "average_line_length()"
   ]
  },
  {
   "cell_type": "markdown",
   "metadata": {},
   "source": [
    "Question 5\n",
    "**Print the longest line/sentence in each text**. \n",
    "This is similar to question 3--but your two tracking variables (longest_length and longest_line) need to be placed right before the inside loop--and then you print the lines each time the inside loop ends."
   ]
  },
  {
   "cell_type": "code",
   "execution_count": 24,
   "metadata": {
    "collapsed": true
   },
   "outputs": [],
   "source": [
    "def longest_line_in_each():\n",
    "    for text in all_texts:\n",
    "        poem_string = text['lines']\n",
    "        length = 0\n",
    "        for char in poem_string:\n",
    "            if len(char) > length:\n",
    "                length = (len(char)) + 0\n",
    "                longest_length = char\n",
    "        print(longest_length)"
   ]
  },
  {
   "cell_type": "code",
   "execution_count": 25,
   "metadata": {},
   "outputs": [
    {
     "name": "stdout",
     "output_type": "stream",
     "text": [
      "The human heart its hungry gorge.\n",
      "With ten-thousand shields and spears.\n",
      "My foe outstretched beneath the tree.\n",
      "Smites the heart to its root,\n",
      "For it sticks in the Hearts deep Core \n"
     ]
    }
   ],
   "source": [
    "longest_line_in_each()"
   ]
  },
  {
   "cell_type": "markdown",
   "metadata": {},
   "source": [
    "Question 6\n",
    "**Print the shortest single line/sentence out of all of the texts that is greater than zero**\n",
    "This is the tricky-ish: You need to place the tracking variables outside the loop (like question 4, but the loop through all of the lines, test for the shortest one (greater than 0)."
   ]
  },
  {
   "cell_type": "code",
   "execution_count": 26,
   "metadata": {
    "collapsed": true
   },
   "outputs": [],
   "source": [
    "#Write your function here"
   ]
  },
  {
   "cell_type": "code",
   "execution_count": 27,
   "metadata": {
    "collapsed": true
   },
   "outputs": [],
   "source": [
    "#shortest_of_all_lines()"
   ]
  },
  {
   "cell_type": "markdown",
   "metadata": {},
   "source": [
    "## searching with regular expressions\n",
    "In the functions below you will search all the texts using regular expressions. The first few of these functions should not be too challenging--you just need to adjust the regular expression inside the function. At points it gets a little more complex as you have to control the looping through the lists and dictionaries."
   ]
  },
  {
   "cell_type": "code",
   "execution_count": 28,
   "metadata": {
    "collapsed": true
   },
   "outputs": [],
   "source": [
    "def get_this_word(word):\n",
    "    my_regex = r\"\\b\" + word + r\"\\b\"\n",
    "    for text in all_texts:\n",
    "        result = [line for line in text['lines'] if re.search(my_regex, line, re.IGNORECASE)]\n",
    "        if len(result) > 0:\n",
    "            print(text['title'])\n",
    "            [print(line) for line in result]\n",
    "            print(\"------------\")\n",
    "            "
   ]
  },
  {
   "cell_type": "code",
   "execution_count": 29,
   "metadata": {},
   "outputs": [
    {
     "name": "stdout",
     "output_type": "stream",
     "text": [
      "A Divine Image\n",
      "And Jealousy a human face;\n",
      "The human face a furnace sealed,\n",
      "------------\n"
     ]
    }
   ],
   "source": [
    "get_this_word('face')"
   ]
  },
  {
   "cell_type": "markdown",
   "metadata": {},
   "source": [
    "Question 7\n",
    "Print out the lines that start with the word entered.  You just need to adjust the regular expression here."
   ]
  },
  {
   "cell_type": "code",
   "execution_count": 30,
   "metadata": {
    "collapsed": true
   },
   "outputs": [],
   "source": [
    "def line_starts_with(word):\n",
    "    my_regex = r\"^\" + word + r\"\\b\"\n",
    "    for text in all_texts:\n",
    "        result = [line for line in text['lines'] if re.search(my_regex, line, re.IGNORECASE)]\n",
    "        if len(result) > 0:\n",
    "            print(text['title'])\n",
    "            [print(line) for line in result]\n",
    "            print(\"------------\")   "
   ]
  },
  {
   "cell_type": "code",
   "execution_count": 31,
   "metadata": {},
   "outputs": [
    {
     "name": "stdout",
     "output_type": "stream",
     "text": [
      "A Divine Image\n",
      "And Jealousy a human face;\n",
      "And Secresy the human dress.\n",
      "------------\n",
      "The Angel\n",
      "And that I was a maiden Queen\n",
      "And I wept both night and day,\n",
      "And he wiped my tears away;\n",
      "And I wept both day and night,\n",
      "And hid from him my heart's delight.\n",
      "And grey hairs were on my head.\n",
      "------------\n",
      "A Poison Tree\n",
      "And I watered it in fears,\n",
      "And I sunned it with smiles,\n",
      "And with soft deceitful wiles.\n",
      "And it grew both day and night,\n",
      "And my foe beheld it shine.\n",
      "And he knew that it was mine,\n",
      "And into my garden stole\n",
      "------------\n",
      "The Smile\n",
      "And there is a Smile of Deceit \n",
      "And there is a Smile of Smiles\n",
      "And there is a Frown of Hate \n",
      "And there is a Frown of disdain \n",
      "And there is a Frown of Frowns\n",
      "And it sticks in the deep Back bone \n",
      "And no Smile that ever was smild \n",
      "------------\n"
     ]
    }
   ],
   "source": [
    "line_starts_with('And')"
   ]
  },
  {
   "cell_type": "markdown",
   "metadata": {},
   "source": [
    "Question 8\n",
    "Print out the lines that end with the word entered.  You just need to adjust the regular expression here."
   ]
  },
  {
   "cell_type": "code",
   "execution_count": 32,
   "metadata": {
    "collapsed": true
   },
   "outputs": [],
   "source": [
    "def line_ends_with(word):\n",
    "    my_regex = r\"\\b\" + word + r\"\\W+$\"\n",
    "    for text in all_texts:\n",
    "        result = [line for line in text['lines'] if re.search(my_regex, line, re.IGNORECASE)]\n",
    "        if len(result) > 0:\n",
    "            print(text['title'])\n",
    "            [print(line) for line in result]\n",
    "            print(\"------------\")   "
   ]
  },
  {
   "cell_type": "code",
   "execution_count": 33,
   "metadata": {},
   "outputs": [
    {
     "name": "stdout",
     "output_type": "stream",
     "text": [
      "The Smile\n",
      "And there is a Frown of Hate \n",
      "------------\n"
     ]
    }
   ],
   "source": [
    "line_ends_with('Hate')"
   ]
  },
  {
   "cell_type": "markdown",
   "metadata": {},
   "source": [
    "Question 9\n",
    "Print out **how many times the word was found in each text.** In this case, instead of the list comprehension, you want to run a re.findall() on the string of the text (not the list) and then count the number of elements in the list of results.\n",
    "\n",
    "Hint: use the original function at the beginning of this section, and make the proper adjustments to the variable \"result\""
   ]
  },
  {
   "cell_type": "code",
   "execution_count": 34,
   "metadata": {
    "collapsed": true
   },
   "outputs": [],
   "source": [
    "def how_many_times(word):\n",
    "    my_regex = r\"\\b\" + word + r\"\\W+\\b\"\n",
    "    for text in all_texts:\n",
    "        result = re.findall(my_regex, text['text_as_string'])\n",
    "        print(len(result), \"times - the - in the line\")\n",
    "        print(\"------------\")  "
   ]
  },
  {
   "cell_type": "code",
   "execution_count": 35,
   "metadata": {},
   "outputs": [
    {
     "name": "stdout",
     "output_type": "stream",
     "text": [
      "2 times - the - in the line\n",
      "------------\n",
      "2 times - the - in the line\n",
      "------------\n",
      "4 times - the - in the line\n",
      "------------\n",
      "7 times - the - in the line\n",
      "------------\n",
      "3 times - the - in the line\n",
      "------------\n"
     ]
    }
   ],
   "source": [
    "how_many_times('the')"
   ]
  },
  {
   "cell_type": "markdown",
   "metadata": {},
   "source": [
    "Question 10\n",
    "Print out **the text that has the highest occurrence of the word** you searched for. This is similar to the last function, but here you need tracking variables like you had in Question 3.\n"
   ]
  },
  {
   "cell_type": "code",
   "execution_count": 36,
   "metadata": {
    "collapsed": true
   },
   "outputs": [],
   "source": [
    "def text_with_most_occurance_of(word):\n",
    "    my_regex = r\"\\b\" + word + r\"\\W+\\b\"\n",
    "    count = 0\n",
    "    for text in all_texts:\n",
    "        result = re.findall(my_regex, text['text_as_string'])\n",
    "        if (len(result)) > count:\n",
    "            count = len(result)            \n",
    "            occur = text['text_as_string']\n",
    "    print(occur)"
   ]
  },
  {
   "cell_type": "code",
   "execution_count": 37,
   "metadata": {},
   "outputs": [
    {
     "name": "stdout",
     "output_type": "stream",
     "text": [
      "\n",
      "Cruelty has a human heart,\n",
      "And Jealousy a human face;\n",
      "Terror the human form divine,\n",
      "And Secresy the human dress.\n",
      "The human dress is forged iron,\n",
      "The human form a fiery forge,\n",
      "The human face a furnace sealed,\n",
      "The human heart its hungry gorge. \n",
      "\n"
     ]
    }
   ],
   "source": [
    "text_with_most_occurance_of('human')"
   ]
  },
  {
   "cell_type": "markdown",
   "metadata": {},
   "source": [
    "Question 11\n",
    "Print out **lines containing words of the length asked**. We are sort of back to basics here, you just need to modify the regular expression of the first function (get_this_word(word)) so that it can take a number parameter for the length of characters in a word."
   ]
  },
  {
   "cell_type": "code",
   "execution_count": null,
   "metadata": {
    "collapsed": true
   },
   "outputs": [],
   "source": [
    "#Write your function here"
   ]
  },
  {
   "cell_type": "code",
   "execution_count": null,
   "metadata": {
    "collapsed": true
   },
   "outputs": [],
   "source": [
    "lines_with_words_this_length('10')"
   ]
  },
  {
   "cell_type": "markdown",
   "metadata": {
    "collapsed": true
   },
   "source": [
    "**Final question:** in this cell, describe two functions that you would like to write, not ones that you're able to write, but ones you think would be useful or interesting or fun."
   ]
  },
  {
   "cell_type": "code",
   "execution_count": null,
   "metadata": {
    "collapsed": true
   },
   "outputs": [],
   "source": [
    "# 1 - A function that searches for the highest occurence of the word and at the same time searching for the word that comes after\n",
    "# 2 - A function that analyzes the true meaning of the searched word that is embedded in its context :)"
   ]
  }
 ],
 "metadata": {
  "kernelspec": {
   "display_name": "Python 3",
   "language": "python",
   "name": "python3"
  },
  "language_info": {
   "codemirror_mode": {
    "name": "ipython",
    "version": 3
   },
   "file_extension": ".py",
   "mimetype": "text/x-python",
   "name": "python",
   "nbconvert_exporter": "python",
   "pygments_lexer": "ipython3",
   "version": "3.6.1"
  }
 },
 "nbformat": 4,
 "nbformat_minor": 2
}
