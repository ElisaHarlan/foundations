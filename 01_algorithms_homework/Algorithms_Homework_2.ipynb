{
 "cells": [
  {
   "cell_type": "markdown",
   "metadata": {},
   "source": [
    "# Algorithms Homework - 2 - Harlan"
   ]
  },
  {
   "cell_type": "markdown",
   "metadata": {},
   "source": [
    "## Scraping the New York Times"
   ]
  },
  {
   "cell_type": "code",
   "execution_count": 13,
   "metadata": {
    "collapsed": true
   },
   "outputs": [],
   "source": [
    "import pandas as pd\n",
    "from bs4 import BeautifulSoup\n",
    "import requests\n",
    "import time"
   ]
  },
  {
   "cell_type": "code",
   "execution_count": 16,
   "metadata": {},
   "outputs": [],
   "source": [
    "import requests\n",
    "from bs4 import BeautifulSoup\n",
    "import pandas as pd\n",
    "response = requests.get(\"https://www.nytimes.com/\")\n",
    "doc = BeautifulSoup(response.text, 'html.parser')\n",
    "new_headline = doc.find_all(class_='story-heading')[0].string\n",
    "f = open('headline.txt','r')\n",
    "old_headline = f.read()\n",
    "f.close()\n",
    "if new_headline != old_headline:\n",
    "    #print (\"not match\")\n",
    "    f = open(\"headline.txt\",'w')\n",
    "    f.write(headline)\n",
    "    f.close()\n",
    "    response = requests.post(\n",
    "    \"https://api.mailgun.net/v3/sandbox5c33b2aacc1c441f9531c89ae3de376b.mailgun.org\",\n",
    "    auth=(\"api\", \"c8f0e5d6455b9acbbabaef195941bbb1\"),\n",
    "    data={\"from\": \"elisa.harlan@aol.com\",\n",
    "          \"to\": [\"elisa.harlan@aol.com\"],\n",
    "          \"subject\": \"NYT Headline\",\n",
    "          \"text\": \"NEW HEADLINE ALERT: \" + new_headline })\n",
    "    #print(response.status_code)\n",
    "    #print(response.text)"
   ]
  }
 ],
 "metadata": {
  "kernelspec": {
   "display_name": "Python 3",
   "language": "python",
   "name": "python3"
  },
  "language_info": {
   "codemirror_mode": {
    "name": "ipython",
    "version": 3
   },
   "file_extension": ".py",
   "mimetype": "text/x-python",
   "name": "python",
   "nbconvert_exporter": "python",
   "pygments_lexer": "ipython3",
   "version": "3.6.1"
  }
 },
 "nbformat": 4,
 "nbformat_minor": 2
}
