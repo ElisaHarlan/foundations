{
 "cells": [
  {
   "cell_type": "markdown",
   "metadata": {},
   "source": [
    "# Algorithms Homework 1 - Harlan"
   ]
  },
  {
   "cell_type": "markdown",
   "metadata": {},
   "source": [
    "## Scraping the BBC"
   ]
  },
  {
   "cell_type": "code",
   "execution_count": 1,
   "metadata": {
    "collapsed": true
   },
   "outputs": [],
   "source": [
    "import requests\n",
    "from bs4 import BeautifulSoup\n",
    "import pandas as pd\n",
    "import time"
   ]
  },
  {
   "cell_type": "code",
   "execution_count": 2,
   "metadata": {
    "collapsed": true
   },
   "outputs": [],
   "source": [
    "response = requests.get(\"http://www.bbc.com/news/world\")\n",
    "doc = BeautifulSoup(response.text, 'html.parser')"
   ]
  },
  {
   "cell_type": "code",
   "execution_count": 3,
   "metadata": {
    "collapsed": true
   },
   "outputs": [],
   "source": [
    "headlines = doc.find_all('span', class_=\"title-link__title-text\")"
   ]
  },
  {
   "cell_type": "code",
   "execution_count": 4,
   "metadata": {
    "collapsed": true
   },
   "outputs": [],
   "source": [
    "table1= doc.find(class_=\"column--primary\")\n",
    "info = table1.find_all(class_=\"buzzard-item\")\n",
    "box1 = []\n",
    "for case in info:\n",
    "    current = {}\n",
    "    current['headline']= case.find(\"span\", class_= \"title-link__title-text\").text\n",
    "    current['summary']= case.find(class_=\"buzzard__summary\").text\n",
    "    current['link']= case.find_all(class_=\"title-link\")[0]['href']\n",
    "box1.append(current)"
   ]
  },
  {
   "cell_type": "code",
   "execution_count": 5,
   "metadata": {
    "collapsed": true
   },
   "outputs": [],
   "source": [
    "table2= doc.find(class_=\"pigeon\")\n",
    "info2=table2.find_all(class_=\"pigeon__column pigeon__column--a\")\n",
    "    \n",
    "box2 = []\n",
    "for case in info2:\n",
    "    current = {}\n",
    "    current['headline']= case.find_all(\"span\", class_= \"title-link__title-text\")[0].text\n",
    "    current['summary']= case.find_all(class_=\"pigeon-item__summary\")[0].text\n",
    "    current['link']= case.find_all(class_=\"title-link\")[0]['href']\n",
    "    box2.append(current)"
   ]
  },
  {
   "cell_type": "code",
   "execution_count": 6,
   "metadata": {
    "collapsed": true
   },
   "outputs": [],
   "source": [
    "table3= doc.find(class_=\"pigeon\")\n",
    "info3 =table3.find_all(class_=\"pigeon__column pigeon__column--b\")\n",
    "box3 = []\n",
    "for case in info3:\n",
    "    headlines= case.find_all(\"span\", class_= \"title-link__title-text\")\n",
    "    links = case.find_all(class_=\"title-link\")\n",
    "    for every,anything in zip(headlines,links):\n",
    "        dictionary = {}       \n",
    "        dictionary['headline'] = every.text\n",
    "        dictionary['link'] = anything['href']\n",
    "        box3.append(dictionary)"
   ]
  },
  {
   "cell_type": "code",
   "execution_count": 7,
   "metadata": {
    "collapsed": true
   },
   "outputs": [],
   "source": [
    "table4= doc.find(class_=\"distinct-component-group container-macaw\")\n",
    "info4 =table4.find_all(class_=\"macaw-item faux-block-link\")\n",
    "box4 = []\n",
    "for case in info4[0:4]:\n",
    "    headlines= case.find_all(\"span\", class_= \"title-link__title-text\")\n",
    "    links = case.find_all(class_=\"title-link\")\n",
    "    for every,anything in zip(headlines,links):\n",
    "        dictionary = {}       \n",
    "        dictionary['headline'] = every.text\n",
    "        dictionary['link'] = anything['href']\n",
    "        box4.append(dictionary)"
   ]
  },
  {
   "cell_type": "code",
   "execution_count": 8,
   "metadata": {
    "collapsed": true
   },
   "outputs": [],
   "source": [
    "df1 = pd.DataFrame(box1)"
   ]
  },
  {
   "cell_type": "code",
   "execution_count": 9,
   "metadata": {
    "collapsed": true
   },
   "outputs": [],
   "source": [
    "df2 = pd.DataFrame(box2)"
   ]
  },
  {
   "cell_type": "code",
   "execution_count": 10,
   "metadata": {
    "collapsed": true
   },
   "outputs": [],
   "source": [
    "df3 = pd.DataFrame(box3)"
   ]
  },
  {
   "cell_type": "code",
   "execution_count": 11,
   "metadata": {
    "collapsed": true
   },
   "outputs": [],
   "source": [
    "df4 = pd.DataFrame(box4)"
   ]
  },
  {
   "cell_type": "code",
   "execution_count": 12,
   "metadata": {
    "collapsed": true
   },
   "outputs": [],
   "source": [
    "BBC_Data = pd.concat([df1, df2, df3, df4], ignore_index = True)"
   ]
  },
  {
   "cell_type": "code",
   "execution_count": 13,
   "metadata": {
    "collapsed": true
   },
   "outputs": [],
   "source": [
    "#BBC_Data.to_csv('BBC_Dataframe.csv', index= False)"
   ]
  },
  {
   "cell_type": "code",
   "execution_count": 14,
   "metadata": {
    "collapsed": true
   },
   "outputs": [],
   "source": [
    "datestring = time.strftime(\"%Y-%m-%d-%H-%M\")\n",
    "filename = \"BBC_Data\" + datestring + \".csv\"\n",
    "BBC_Data.to_csv(filename, index=False)"
   ]
  }
 ],
 "metadata": {
  "kernelspec": {
   "display_name": "Python 3",
   "language": "python",
   "name": "python3"
  },
  "language_info": {
   "codemirror_mode": {
    "name": "ipython",
    "version": 3
   },
   "file_extension": ".py",
   "mimetype": "text/x-python",
   "name": "python",
   "nbconvert_exporter": "python",
   "pygments_lexer": "ipython3",
   "version": "3.6.1"
  }
 },
 "nbformat": 4,
 "nbformat_minor": 2
}
